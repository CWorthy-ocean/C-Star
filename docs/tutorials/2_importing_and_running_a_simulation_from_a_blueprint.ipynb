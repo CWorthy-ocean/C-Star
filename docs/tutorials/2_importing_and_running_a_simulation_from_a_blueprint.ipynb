{
 "cells": [
  {
   "cell_type": "markdown",
   "id": "b61e35b0",
   "metadata": {},
   "source": [
    "> [!Warning] \n",
    "> **This project is still in an early phase of development.**\n",
    ">\n",
    "> The [python API](../api.html) is not yet stable, and some aspects of the schema for the [blueprint](../terminology.html#term-blueprint) will likely evolve. \n",
    "> Therefore whilst you are welcome to try out using the package, we cannot yet guarantee backwards compatibility. \n",
    "We expect to reach a more stable version in Q1 2025.\n",
    ">\n",
    "> To see which systems C-Star has been tested on so far, see [Supported Systems](../machines.html)."
   ]
  },
  {
   "cell_type": "markdown",
   "id": "09c2ee2f-1313-4d2a-bad4-41d98ea7e2da",
   "metadata": {},
   "source": [
    "# Importing & running a `Simulation` from a blueprint\n",
    "\n",
    "\n",
    "## Contents\n",
    "1. [Introduction](#1.-Introduction)\n",
    "2. [Importing the Simulation](#2.-Importing-the-Simulation)\n",
    "3. [Setting up the Simulation](#3.-Setting-up-the-Simulation)\n",
    "4. [Compiling the Simulation and performing pre-processing](#4.-Compiling-the-Simulation-and-performing-pre-processing)\n",
    "5. [Running the Simulation](#5.-Running-the-Simulation)\n",
    "6. [Post-processing](#6.-Post\\-processing)\n",
    "7. [A quick look at the output](#7.-A-quick-look-at-the-output)\n",
    "8. [Summary](#8.-Summary)\n",
    "\n",
    "## 1. Introduction \n",
    "[(return to top)](#Contents)\n",
    "\n",
    "On this page, we will import and execute a ROMS-MARBL [Simulation](../terminology.html#term-Simulation) (constructed and exported on [the previous page](../tutorials/1_building_a_simulation_and_exporting_it_as_a_blueprint.html)) using C-Star. In particular, we will:\n",
    "\n",
    "- Create a Simulation from a pre-prepared [blueprint](../terminology.html#term-blueprint) (`ROMSSimulation.from_blueprint()`). See  for more information on blueprints and how to create them.\n",
    "- Set up the simulation locally (`ROMSSimulation.setup()`)\n",
    "- Compile any necessary code associated with the simulation (`ROMSSimulation.build()`)\n",
    "- Complete any pre-processing steps associated with the simulation (`ROMSSimulation.pre_run()`)\n",
    "- Run the case with a small time step for a couple of simulation (`ROMSSimulation.run()`)\n",
    "- Execute any post-processing steps associated with the simulation (`ROMSSimulation.post_run()`)"
   ]
  },
  {
   "cell_type": "markdown",
   "id": "030d1b46-c7cf-43a9-908f-33f9858cecdf",
   "metadata": {},
   "source": [
    "## 2. Importing the `Simulation` \n",
    "[(return to top)](#Contents)\n",
    "\n",
    "We can construct a `ROMSSimulation` from a blueprint using the `ROMSSimulation.from_blueprint` method. The case we'll be looking at in this example is a January 2012 simulation of ocean physics and biogeochemistry around the Welsh coast, small enough to run on a laptop."
   ]
  },
  {
   "cell_type": "code",
   "execution_count": 1,
   "id": "dcfdd8c2-ddf5-4738-9481-39280634d1f1",
   "metadata": {
    "editable": true,
    "slideshow": {
     "slide_type": ""
    },
    "tags": []
   },
   "outputs": [],
   "source": [
    "from cstar.roms import ROMSSimulation\n",
    "\n",
    "example_simulation_1 = ROMSSimulation.from_blueprint(blueprint  = \"roms_marbl_example_simulation.yaml\", # this can be a local path or URL to your blueprint \n",
    "                                           directory  = \"../../examples/roms_marbl_example_case\", # where you would like to setup and run the simulation\n",
    "                                           start_date = \"2012-01-01 12:00:00\", # The dates between which you would like to run the Simulation\n",
    "                                           end_date   = \"2012-01-03 12:00:00\")\n"
   ]
  },
  {
   "cell_type": "markdown",
   "id": "6e0e19e0-dfb0-4e6d-92a5-1d1229e704f6",
   "metadata": {},
   "source": [
    "The arguments are:\n",
    "- `blueprint`: the local path or URL to your blueprint file\n",
    "- `directory` : where you would like C-Star to assemble and run your `Case`\n",
    "- `start_` and `end_date` : the dates you would like to run the simulation. An error will be raised if these dates fall outside the valid date range supported by the blueprint.\n",
    "\n",
    "As a reminder, here's an overview of the `Simulation` we just created from our blueprint. For a complete deconstruction of the `Simulation`, see the [the previous page](../tutorials/1_building_a_simulation_and_exporting_it_as_a_blueprint.html):"
   ]
  },
  {
   "cell_type": "code",
   "execution_count": 2,
   "id": "05fa6474-acb6-43ea-863f-1de4e751a8af",
   "metadata": {
    "tags": []
   },
   "outputs": [
    {
     "name": "stdout",
     "output_type": "stream",
     "text": [
      "ROMSSimulation\n",
      "--------------\n",
      "Name: roms_marbl_example_cstar_simulation\n",
      "Directory: /Users/dafyddstephenson/Code/my_c_star/examples/roms_marbl_example_case\n",
      "Start date: 2012-01-01 12:00:00\n",
      "End date: 2012-01-03 12:00:00\n",
      "Valid start date: 2012-01-01 12:00:00\n",
      "Valid end date: 2012-01-31 12:00:00\n",
      "\n",
      "Discretization: ROMSDiscretization(time_step = 60, n_procs_x = 3, n_procs_y = 3)\n",
      "\n",
      "Code:\n",
      "Codebase: ROMSExternalCodeBase instance (query using ROMSSimulation.codebase)\n",
      "Runtime code: AdditionalCode instance with 4 files (query using ROMSSimulation.runtime_code)\n",
      "Compile-time code: AdditionalCode instance with 10 files (query using ROMSSimulation.compile_time_code)\n",
      "MARBL Codebase: MARBLExternalCodeBase instance (query using ROMSSimulation.marbl_codebase)\n",
      "\n",
      "Input Datasets:\n",
      "Model grid: <ROMSModelGrid instance>\n",
      "Initial conditions: <ROMSInitialConditions instance>\n",
      "Tidal forcing: <ROMSTidalForcing instance>\n",
      "River forcing: <ROMSRiverForcing instance>\n",
      "Surface forcing: <list of 2 ROMSSurfaceForcing instances>\n",
      "Boundary forcing: <list of 2 ROMSBoundaryForcing instances>\n",
      "Is setup: False\n"
     ]
    }
   ],
   "source": [
    "print(example_simulation_1)"
   ]
  },
  {
   "cell_type": "code",
   "execution_count": 3,
   "id": "3348e8c2-f0cd-4300-bf5e-a18d619e7fd0",
   "metadata": {},
   "outputs": [
    {
     "name": "stdout",
     "output_type": "stream",
     "text": [
      "/Users/dafyddstephenson/Code/my_c_star/examples/roms_marbl_example_case\n",
      "└── ROMS\n",
      "    ├── input_datasets\n",
      "    │   ├── roms_grd.nc\n",
      "    │   ├── roms_ini.nc\n",
      "    │   ├── roms_tides.nc\n",
      "    │   ├── roms_riv_frc.nc\n",
      "    │   ├── roms_bry.nc\n",
      "    │   ├── roms_bry_bgc.nc\n",
      "    │   ├── roms_frc.nc\n",
      "    │   └── roms_frc_bgc.nc\n",
      "    ├── runtime_code\n",
      "    │   ├── roms.in_TEMPLATE\n",
      "    │   ├── marbl_in\n",
      "    │   ├── marbl_tracer_output_list\n",
      "    │   └── marbl_diagnostic_output_list\n",
      "    └── compile_time_code\n",
      "        ├── bgc.opt\n",
      "        ├── bulk_frc.opt\n",
      "        ├── cppdefs.opt\n",
      "        ├── diagnostics.opt\n",
      "        ├── ocean_vars.opt\n",
      "        ├── param.opt\n",
      "        ├── tracers.opt\n",
      "        ├── river_frc.opt\n",
      "        ├── Makefile\n",
      "        └── Make.depend\n",
      "\n"
     ]
    }
   ],
   "source": [
    "print(example_simulation_1.tree())"
   ]
  },
  {
   "cell_type": "markdown",
   "id": "117984e8-2ec7-4891-93cb-1e59335e1053",
   "metadata": {
    "tags": []
   },
   "source": [
    "<div class=\"alert alert-info\">\n",
    "\n",
    "Note\n",
    "\n",
    "Nothing we have seen above represents anything local on our machine (yet). Each object simply describes where various files may be found, and the `ROMSSimulation.tree()` representation shows us where these files will be assembled once we set everything up. To turn that into something concrete we can work with, we call `ROMSSimulation.setup()`.\n",
    "\n",
    "</div>"
   ]
  },
  {
   "cell_type": "markdown",
   "id": "43545bd9-8cdb-442e-9b79-333e540364e7",
   "metadata": {},
   "source": [
    "## 3. Setting up the `Simulation`\n",
    "[(return to top)](#Contents)\n",
    "\n",
    "Next we call `ROMSSimulation.setup()`. This will:\n",
    "\n",
    "- Fetch and compile any external codebases (ROMS and MARBL)\n",
    "- Fetch any remote data associated with this case\n",
    "- Construct any ROMS netCDF files from yaml files using `roms-tools` \n",
    "\n",
    "We will be prompted before installing the base models, so some input is required here:"
   ]
  },
  {
   "cell_type": "code",
   "execution_count": 4,
   "id": "a9280f90-fec9-429b-b28d-da7976fea3da",
   "metadata": {
    "tags": []
   },
   "outputs": [
    {
     "name": "stdout",
     "output_type": "stream",
     "text": [
      "[INFO] 🛠️  Configuring ROMSSimulation\n",
      "[INFO] 🔧 Setting up ROMSExternalCodeBase...\n",
      "#######################################################\n",
      "C-STAR: ROMS_ROOT not found in current cstar_sysmgr.environment. \n",
      "if this is your first time running C-Star with an instance of ROMSExternalCodeBase, you will need to set it up.\n",
      "It is recommended that you install this external codebase in \n",
      "/Users/dafyddstephenson/Code/my_c_star/cstar/externals/ucla-roms\n",
      "This will also modify your `~/.cstar.env` file.\n",
      "#######################################################\n"
     ]
    },
    {
     "name": "stdin",
     "output_type": "stream",
     "text": [
      "Would you like to do this now? ('y', 'n', or 'custom' to install at a custom path)\n",
      " y\n"
     ]
    },
    {
     "name": "stdout",
     "output_type": "stream",
     "text": [
      "[INFO] Updating environment in C-Star configuration file /Users/dafyddstephenson/.cstar.env\n",
      "[INFO] 🔧 Setting up MARBLExternalCodeBase...\n",
      "#######################################################\n",
      "C-STAR: MARBL_ROOT not found in current cstar_sysmgr.environment. \n",
      "if this is your first time running C-Star with an instance of MARBLExternalCodeBase, you will need to set it up.\n",
      "It is recommended that you install this external codebase in \n",
      "/Users/dafyddstephenson/Code/my_c_star/cstar/externals/MARBL\n",
      "This will also modify your `~/.cstar.env` file.\n",
      "#######################################################\n"
     ]
    },
    {
     "name": "stdin",
     "output_type": "stream",
     "text": [
      "Would you like to do this now? ('y', 'n', or 'custom' to install at a custom path)\n",
      " y\n"
     ]
    },
    {
     "name": "stdout",
     "output_type": "stream",
     "text": [
      "[INFO] Updating environment in C-Star configuration file /Users/dafyddstephenson/.cstar.env\n",
      "[INFO] 📦 Fetching compile-time code...\n",
      "[INFO] • Copying bgc.opt to /Users/dafyddstephenson/Code/my_c_star/examples/roms_marbl_example_case/ROMS/compile_time_code\n",
      "[INFO] • Copying bulk_frc.opt to /Users/dafyddstephenson/Code/my_c_star/examples/roms_marbl_example_case/ROMS/compile_time_code\n",
      "[INFO] • Copying cppdefs.opt to /Users/dafyddstephenson/Code/my_c_star/examples/roms_marbl_example_case/ROMS/compile_time_code\n",
      "[INFO] • Copying diagnostics.opt to /Users/dafyddstephenson/Code/my_c_star/examples/roms_marbl_example_case/ROMS/compile_time_code\n",
      "[INFO] • Copying ocean_vars.opt to /Users/dafyddstephenson/Code/my_c_star/examples/roms_marbl_example_case/ROMS/compile_time_code\n",
      "[INFO] • Copying param.opt to /Users/dafyddstephenson/Code/my_c_star/examples/roms_marbl_example_case/ROMS/compile_time_code\n",
      "[INFO] • Copying tracers.opt to /Users/dafyddstephenson/Code/my_c_star/examples/roms_marbl_example_case/ROMS/compile_time_code\n",
      "[INFO] • Copying river_frc.opt to /Users/dafyddstephenson/Code/my_c_star/examples/roms_marbl_example_case/ROMS/compile_time_code\n",
      "[INFO] • Copying Makefile to /Users/dafyddstephenson/Code/my_c_star/examples/roms_marbl_example_case/ROMS/compile_time_code\n",
      "[INFO] • Copying Make.depend to /Users/dafyddstephenson/Code/my_c_star/examples/roms_marbl_example_case/ROMS/compile_time_code\n",
      "[INFO] ✅ All files copied successfully\n",
      "[INFO] 📦 Fetching runtime code... \n",
      "[INFO] • Copying roms.in_TEMPLATE to /Users/dafyddstephenson/Code/my_c_star/examples/roms_marbl_example_case/ROMS/runtime_code\n",
      "[INFO] Copying template file /Users/dafyddstephenson/Code/my_c_star/examples/roms_marbl_example_case/ROMS/runtime_code/roms.in_TEMPLATE to editable version /Users/dafyddstephenson/Code/my_c_star/examples/roms_marbl_example_case/ROMS/runtime_code/roms.in\n",
      "[INFO] • Copying marbl_in to /Users/dafyddstephenson/Code/my_c_star/examples/roms_marbl_example_case/ROMS/runtime_code\n",
      "[INFO] • Copying marbl_tracer_output_list to /Users/dafyddstephenson/Code/my_c_star/examples/roms_marbl_example_case/ROMS/runtime_code\n",
      "[INFO] • Copying marbl_diagnostic_output_list to /Users/dafyddstephenson/Code/my_c_star/examples/roms_marbl_example_case/ROMS/runtime_code\n",
      "[INFO] ✅ All files copied successfully\n",
      "[INFO] 📦 Fetching input datasets...\n"
     ]
    },
    {
     "name": "stderr",
     "output_type": "stream",
     "text": [
      "Downloading file 'roms_grd.nc' from 'https://github.com/CWorthy-ocean/cstar_blueprint_roms_marbl_example/raw/netcdf_inputs/input_datasets_netcdf/roms_grd.nc' to '/Users/dafyddstephenson/Code/my_c_star/examples/roms_marbl_example_case/ROMS/input_datasets'.\n",
      "Downloading file 'roms_ini.nc' from 'https://github.com/CWorthy-ocean/cstar_blueprint_roms_marbl_example/raw/netcdf_inputs/input_datasets_netcdf/roms_ini.nc' to '/Users/dafyddstephenson/Code/my_c_star/examples/roms_marbl_example_case/ROMS/input_datasets'.\n",
      "Downloading file 'roms_tides.nc' from 'https://github.com/CWorthy-ocean/cstar_blueprint_roms_marbl_example/raw/netcdf_inputs/input_datasets_netcdf/roms_tides.nc' to '/Users/dafyddstephenson/Code/my_c_star/examples/roms_marbl_example_case/ROMS/input_datasets'.\n",
      "Downloading file 'roms_riv_frc.nc' from 'https://github.com/CWorthy-ocean/cstar_blueprint_roms_marbl_example/raw/netcdf_inputs/input_datasets_netcdf/roms_riv_frc.nc' to '/Users/dafyddstephenson/Code/my_c_star/examples/roms_marbl_example_case/ROMS/input_datasets'.\n",
      "Downloading file 'roms_bry.nc' from 'https://github.com/CWorthy-ocean/cstar_blueprint_roms_marbl_example/raw/netcdf_inputs/input_datasets_netcdf/roms_bry.nc' to '/Users/dafyddstephenson/Code/my_c_star/examples/roms_marbl_example_case/ROMS/input_datasets'.\n",
      "Downloading file 'roms_bry_bgc.nc' from 'https://github.com/CWorthy-ocean/cstar_blueprint_roms_marbl_example/raw/netcdf_inputs/input_datasets_netcdf/roms_bry_bgc.nc' to '/Users/dafyddstephenson/Code/my_c_star/examples/roms_marbl_example_case/ROMS/input_datasets'.\n",
      "Downloading file 'roms_frc.nc' from 'https://github.com/CWorthy-ocean/cstar_blueprint_roms_marbl_example/raw/netcdf_inputs/input_datasets_netcdf/roms_frc.nc' to '/Users/dafyddstephenson/Code/my_c_star/examples/roms_marbl_example_case/ROMS/input_datasets'.\n",
      "Downloading file 'roms_frc_bgc.nc' from 'https://github.com/CWorthy-ocean/cstar_blueprint_roms_marbl_example/raw/netcdf_inputs/input_datasets_netcdf/roms_frc_bgc.nc' to '/Users/dafyddstephenson/Code/my_c_star/examples/roms_marbl_example_case/ROMS/input_datasets'.\n"
     ]
    }
   ],
   "source": [
    "example_simulation_1.setup()"
   ]
  },
  {
   "cell_type": "markdown",
   "id": "ee973fda-d889-48f1-9400-6ebc27f3337e",
   "metadata": {},
   "source": [
    "## 4. Compiling the `Simulation` and performing pre-processing\n",
    "[(return to top)](#Contents)\n",
    "\n",
    "We have now assembled all the data we need to run this `Simulation` in one place. Lastly, we need to compile the additional code we've obtained and run some pre-processing steps on the input data:"
   ]
  },
  {
   "cell_type": "code",
   "execution_count": 5,
   "id": "50d7a445-378d-4ecb-9322-d0e181eeec90",
   "metadata": {
    "tags": []
   },
   "outputs": [],
   "source": [
    "#The Case.build() method compiles the code:\n",
    "example_simulation_1.build()\n"
   ]
  },
  {
   "cell_type": "code",
   "execution_count": 6,
   "id": "5283a931-a32c-4b3c-8934-f2f5a4097809",
   "metadata": {
    "tags": []
   },
   "outputs": [
    {
     "name": "stdout",
     "output_type": "stream",
     "text": [
      "[INFO] Partitioning /Users/dafyddstephenson/Code/my_c_star/examples/roms_marbl_example_case/ROMS/input_datasets/roms_grd.nc into (3,3)\n",
      "[INFO] Partitioning /Users/dafyddstephenson/Code/my_c_star/examples/roms_marbl_example_case/ROMS/input_datasets/roms_ini.nc into (3,3)\n",
      "[INFO] Partitioning /Users/dafyddstephenson/Code/my_c_star/examples/roms_marbl_example_case/ROMS/input_datasets/roms_tides.nc into (3,3)\n",
      "[INFO] Partitioning /Users/dafyddstephenson/Code/my_c_star/examples/roms_marbl_example_case/ROMS/input_datasets/roms_riv_frc.nc into (3,3)\n",
      "[INFO] Partitioning /Users/dafyddstephenson/Code/my_c_star/examples/roms_marbl_example_case/ROMS/input_datasets/roms_bry.nc into (3,3)\n",
      "[INFO] Partitioning /Users/dafyddstephenson/Code/my_c_star/examples/roms_marbl_example_case/ROMS/input_datasets/roms_bry_bgc.nc into (3,3)\n",
      "[INFO] Partitioning /Users/dafyddstephenson/Code/my_c_star/examples/roms_marbl_example_case/ROMS/input_datasets/roms_frc.nc into (3,3)\n",
      "[INFO] Partitioning /Users/dafyddstephenson/Code/my_c_star/examples/roms_marbl_example_case/ROMS/input_datasets/roms_frc_bgc.nc into (3,3)\n"
     ]
    }
   ],
   "source": [
    "# The Case.pre_run() method performs pre-processing:\n",
    "example_simulation_1.pre_run()"
   ]
  },
  {
   "cell_type": "markdown",
   "id": "bf15b20b-0070-4e18-9cd2-3997e7691da0",
   "metadata": {},
   "source": [
    "## 5. Running the `Simulation`\n",
    "\n",
    "[(return to top)](#Contents)"
   ]
  },
  {
   "cell_type": "code",
   "execution_count": 7,
   "id": "31d9f08e-481d-415f-9605-1c46164c5e49",
   "metadata": {
    "tags": []
   },
   "outputs": [],
   "source": [
    "simulation_run = example_simulation_1.run()"
   ]
  },
  {
   "cell_type": "markdown",
   "id": "a085ad46-d809-4fbf-94a0-09d7cead9e47",
   "metadata": {},
   "source": [
    "<div class=\"alert alert-info\">\n",
    "\n",
    "Note\n",
    "\n",
    "Here we call `ROMSSimulation.run()` without arguments under the assumption we are running this (small) simulation locally, on a personal computer.\n",
    "\n",
    "- For more information on local process runs, see this [how-to guide](../howto_guides/4_running_on_personal_computers.html).\n",
    "- For information on running on a supported supercomputing system, see [the corresponding doc page](../howto_guides/5_handling_jobs_on_hpc_systems.ipynb).\n",
    "\n",
    "</div>\n",
    "\n",
    "We can track the status of the submitted job using [LocalProcess.status](../generated/cstar.execution.local_process.LocalProcess.html#cstar.execution.local_process.LocalProcess.status). It will change from:"
   ]
  },
  {
   "cell_type": "code",
   "execution_count": 8,
   "id": "737060e4-ef85-4c73-b63f-5865a522e71c",
   "metadata": {
    "tags": []
   },
   "outputs": [
    {
     "data": {
      "text/plain": [
       "<ExecutionStatus.RUNNING: 3>"
      ]
     },
     "execution_count": 8,
     "metadata": {},
     "output_type": "execute_result"
    }
   ],
   "source": [
    "simulation_run.status"
   ]
  },
  {
   "cell_type": "markdown",
   "id": "9f886e0f-f0b2-4773-a01e-7522d704e745",
   "metadata": {},
   "source": [
    "(while executing) to:"
   ]
  },
  {
   "cell_type": "code",
   "execution_count": 9,
   "id": "4037688e-68b2-4334-b92e-2c492d3128b5",
   "metadata": {
    "tags": []
   },
   "outputs": [
    {
     "data": {
      "text/plain": [
       "<ExecutionStatus.COMPLETED: 4>"
      ]
     },
     "execution_count": 9,
     "metadata": {},
     "output_type": "execute_result"
    }
   ],
   "source": [
    "simulation_run.status"
   ]
  },
  {
   "cell_type": "markdown",
   "id": "d0ba9ca5-37d2-4db8-bbce-9ab5cf31147b",
   "metadata": {
    "tags": []
   },
   "source": [
    "(when finished). \n",
    "\n",
    "## 6. Post-processing\n",
    "\n",
    "[(return to top)](#Contents)\n",
    "\n",
    "Once the run is complete, we can carry out any post-processing steps.\n",
    "When ROMS runs on multiple CPUs in parallel, it produces one output file per CPU. To work with the output, we thus need to join these files together. This is handled with the `post_run()` method:"
   ]
  },
  {
   "cell_type": "code",
   "execution_count": 10,
   "id": "9de44981-6e2d-4b9c-ab9d-64fe12a73d65",
   "metadata": {
    "editable": true,
    "slideshow": {
     "slide_type": ""
    },
    "tags": []
   },
   "outputs": [
    {
     "name": "stdout",
     "output_type": "stream",
     "text": [
      "[INFO] Joining netCDF files ROMS_MARBL_rst.20120103120000.*.nc...\n",
      "[INFO] Joining netCDF files ROMS_MARBL_his.20120101120000.*.nc...\n",
      "[INFO] Joining netCDF files ROMS_MARBL_bgc_dia.20120101120000.*.nc...\n",
      "[INFO] Joining netCDF files ROMS_MARBL_bgc.20120101120000.*.nc...\n",
      "[INFO] Joining netCDF files ROMS_MARBL_rst.20120102120000.*.nc...\n"
     ]
    }
   ],
   "source": [
    "example_simulation_1.post_run()"
   ]
  },
  {
   "cell_type": "markdown",
   "id": "b3d096f8-0b19-4a00-a9dc-1222a54abdd3",
   "metadata": {},
   "source": [
    "## 7. A quick look at the output\n",
    "\n",
    "[(return to top)](#Contents)\n",
    "\n",
    "In the above post-processing step, we can see that the ROMS run produced several \"restart\" files (`ROMS_MARBL_rst.*`) that can be used by ROMS to restart the run.\n",
    "On the [next page](../tutorials/3_restarting_and_continuing_a_simulation.html), we will use C-Star to restart and continue our Case, and C-Star will find and use these files to do so.\n",
    "\n",
    "For now, let's produce a plot comparing the initial condition we started with with the final restart file (which will serve as the initial condition on the [next page](../tutorials/3_restarting_and_continuing_a_simulation.html)).\n",
    "\n",
    "C-Star doesn't currently support plots of model data, so we will have to manually produce these using the model files. Don't worry too much about understanding the model's naming conventions in this code cell (C-Star will usually take care of these things for you) - this is just a visual demonstration!"
   ]
  },
  {
   "cell_type": "code",
   "execution_count": 11,
   "id": "1b06bc82-ee3c-4320-b94f-3bded6d15c73",
   "metadata": {},
   "outputs": [],
   "source": [
    "%matplotlib inline"
   ]
  },
  {
   "cell_type": "code",
   "execution_count": 12,
   "id": "0eeb0d73-1120-4216-b5be-2e909662d853",
   "metadata": {
    "editable": true,
    "slideshow": {
     "slide_type": ""
    },
    "tags": []
   },
   "outputs": [
    {
     "name": "stderr",
     "output_type": "stream",
     "text": [
      "/var/folders/1s/xjsjyqrj2rdft8014664qczc0000gn/T/ipykernel_64746/2152813927.py:8: FutureWarning: In a future version of xarray decode_timedelta will default to False rather than None. To silence this warning, set decode_timedelta to True, False, or a 'CFTimedeltaCoder' instance.\n",
      "  ini_ds = xr.open_dataset(example_simulation_1.directory / 'ROMS/input_datasets/roms_ini.nc') # Our initial condition file\n",
      "/var/folders/1s/xjsjyqrj2rdft8014664qczc0000gn/T/ipykernel_64746/2152813927.py:34: UserWarning: FigureCanvasAgg is non-interactive, and thus cannot be shown\n",
      "  fig.show()\n"
     ]
    },
    {
     "data": {
      "image/png": "[encoded data removed]",
      "text/plain": [
       "<Figure size 1500x900 with 3 Axes>"
      ]
     },
     "metadata": {},
     "output_type": "display_data"
    }
   ],
   "source": [
    "import numpy as np\n",
    "import xarray as xr\n",
    "import matplotlib.pyplot as plt\n",
    "import cartopy.crs as ccrs\n",
    "import cartopy.feature as cfeature\n",
    "\n",
    "grd_ds = xr.open_dataset(example_simulation_1.directory / 'ROMS/input_datasets/roms_grd.nc') # Our ROMS grid file for lat and lon data\n",
    "ini_ds = xr.open_dataset(example_simulation_1.directory / 'ROMS/input_datasets/roms_ini.nc') # Our initial condition file\n",
    "rst_ds = xr.open_dataset(example_simulation_1.directory / 'output/ROMS_MARBL_rst.20120103120000.nc') # Our restart file\n",
    "\n",
    "var=\"temp\"\n",
    "ini_data = ini_ds[var].where(grd_ds.mask_rho).isel(s_rho=-1, ocean_time=0)\n",
    "rst_data = rst_ds[var].where(grd_ds.mask_rho).isel(s_rho=-1, time=0)\n",
    "\n",
    "# Create figure and axes\n",
    "fig, ax = plt.subplots(1,2, subplot_kw={'projection': ccrs.PlateCarree()}, figsize=(15, 9))\n",
    "\n",
    "# Plot the data\n",
    "cmap=plt.get_cmap('Spectral_r')\n",
    "cmap.set_bad('gray')\n",
    "vmin = min(ini_data.where(grd_ds.mask_rho).min(), rst_data.where(grd_ds.mask_rho).min())\n",
    "vmax = max(ini_data.where(grd_ds.mask_rho).max(), rst_data.where(grd_ds.mask_rho).max())\n",
    "kwargs = {\"cmap\": cmap, \"vmin\": vmin, \"vmax\": vmax}\n",
    "p0=ax[0].pcolormesh(grd_ds.lon_rho, grd_ds.lat_rho, ini_data, transform=ccrs.PlateCarree(), **kwargs)\n",
    "p1=ax[1].pcolormesh(grd_ds.lon_rho, grd_ds.lat_rho, rst_data, transform=ccrs.PlateCarree(), **kwargs)\n",
    "\n",
    "# Add coastlines and land mask \n",
    "[a.add_feature(cfeature.COASTLINE, linewidth=1) for a in ax]\n",
    "\n",
    "# Add a colorbar\n",
    "ax[0].set_title(\"Initial condition file\")\n",
    "ax[1].set_title(\"Restart file\")\n",
    "plt.colorbar(p1, ax=ax, orientation='horizontal', pad=0.05,label=\"Sea surface temperature (°C)\")\n",
    "fig.show()\n",
    "grd_ds.close()\n"
   ]
  },
  {
   "cell_type": "markdown",
   "id": "ebec595d-085e-4f9b-8204-6a3924b68eb9",
   "metadata": {
    "editable": true,
    "slideshow": {
     "slide_type": ""
    },
    "tags": []
   },
   "source": [
    "## 8. Summary\n",
    "[return to top](#Contents)\n",
    "\n",
    "On this page we:\n",
    "\n",
    "- created a C-Star `Simulation` from a \"blueprint\" file\n",
    "- Ran the case for 2 days from 2012-01-01 to 2012-01-03 with a 1 minute time-step\n",
    "- Produced a basic plot to verify the output\n",
    "\n",
    "On the [next page](../tutorials/3_restarting_and_continuing_a_simulation.html) we will \"restart\" the `Simulation`, running it with a larger time-step for the remainder of January 2012."
   ]
  }
 ],
 "metadata": {
  "kernelspec": {
   "display_name": "Python 3 (ipykernel)",
   "language": "python",
   "name": "python3"
  },
  "language_info": {
   "codemirror_mode": {
    "name": "ipython",
    "version": 3
   },
   "file_extension": ".py",
   "mimetype": "text/x-python",
   "name": "python",
   "nbconvert_exporter": "python",
   "pygments_lexer": "ipython3",
   "version": "3.13.2"
  }
 },
 "nbformat": 4,
 "nbformat_minor": 5
}
