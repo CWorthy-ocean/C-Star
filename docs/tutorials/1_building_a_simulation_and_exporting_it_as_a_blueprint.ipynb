{
 "cells": [
  {
   "cell_type": "markdown",
   "id": "1eca3124",
   "metadata": {
    "editable": true,
    "slideshow": {
     "slide_type": ""
    },
    "tags": []
   },
   "source": [
    "> [!Warning] \n",
    "> **This project is still in an early phase of development.**\n",
    ">\n",
    "> The [python API](../api.html) is not yet stable, and some aspects of the schema for the [blueprint](../terminology.html#term-blueprint) will likely evolve. \n",
    "> Therefore whilst you are welcome to try out using the package, we cannot yet guarantee backwards compatibility. \n",
    "We expect to reach a more stable version in 2025.\n",
    ">\n",
    "> To see which systems C-Star has been tested on so far, see [Supported Systems](../machines.html)."
   ]
  },
  {
   "cell_type": "markdown",
   "id": "b29d6e47-5fbc-44ea-b5a8-35bbd8a2a596",
   "metadata": {},
   "source": [
    "# Building a `Simulation` and exporting it as a blueprint\n",
    "\n",
    "## Contents\n",
    "1. [Introduction](#1.-Introduction)\n",
    "2. [Building the components of the ROMSSimulation](#2.-Building-the-Simulation)\n",
    "    - [Constructing the AdditionalCode instances](#2i.-Constructing-the-AdditionalCode-instances)\n",
    "    - [Constructing the InputDataset instances](#2ii.-Constructing-the-InputDataset-instances)\n",
    "    - [Constructing the Discretization instance](#2iii.-Constructing-the-Discretization-instance)\n",
    "    - [Creating the ROMSSimulation instance](#2iv.-Creating-the-ROMSSimulation-instance)\n",
    "3. [Exporting the ROMSSimulation to a blueprint](#3.-Exporting-the-ROMSSimulation-to-a-blueprint)\n",
    "\n",
    "## 1. Introduction\n",
    "\n",
    "[(return to top)](#Contents)\n",
    "\n",
    "The \"Simulation\" is the primary object of C-Star, and contains all the information needed to run a particular simulation. Once prepared, Simulations can be stored in [\"blueprints\"](../terminology.html#term-blueprint),  - `.yaml` files telling C-Star what goes into each Simulation and where to find it. These blueprints can then be shared with other parties interested in reproducing the simulation described by the Simulation.\n",
    "\n",
    "In this guide, we will create a ROMS-MARBL C-Star Simulation ([ROMS](http://research.atmos.ucla.edu/cesr/ROMS_page.html) for ocean physics modeling, [MARBL](https://eesm.science.energy.gov/projects/marine-biogeochemistry-library-marbl) for biogeochemistry) and export it to a blueprint. On the [the next page](../tutorials/2_importing_and_running_a_simulation_from_a_blueprint.html) we will look at how to _run_ the simulation, starting from a blueprint.\n",
    "\n",
    "### The structure of the Simulation:\n",
    "<!-- [Here](../terminology.html#structure-of-c-star-simulation) you can get a general overview of a C-Star simulation.  -->\n",
    "For our `roms_marbl_example` [case](https://github.com/CWorthy-ocean/cstar_blueprint_roms_marbl_example), the simulation structure breaks down like this:  \n",
    "```\n",
    "ROMSSimulation\n",
    "├── codebase (ROMSExternalCodeBase)\n",
    "├── marbl_codebase (MARBLExternalCodeBase)\n",
    "├── runtime_code (AdditionalCode)\n",
    "├── compile_time_code (AdditionalCode)\n",
    "├── model_grid (ROMSInputDataset)\n",
    "├── initial_conditions (ROMSInputDataset)\n",
    "├── tidal_forcing (ROMSInputDataset)\n",
    "├── surface_forcing (list of ROMSInputDatasets)\n",
    "├── boundary_forcing (list of ROMSInputDatasets)\n",
    "└── discretization (ROMSDiscretization)\n",
    "\n",
    "```\n",
    "These are all the elements needed to create a unique, reproducible ROMS-MARBL simulation. You will notice that the `ExternalCodeBase`, `InputDataset`, and `Discretization` objects here are specific to the object they describe (e.g. `ROMSBaseModel`). This is because there may be some unique attributes or operations associated with the `ROMSExternalCodeBase` object describing ROMS that may be different to that describing MARBL, which has its own subclass `MARBLExternalCodeBase`.\n",
    "\n",
    "To build this Simulation from the bottom up, we'll need to assemble any code and input datasets.\n",
    "\n",
    "## 2. Building the components of the `ROMSSimulation`\n",
    "\n",
    "[(return to top)](#Contents)\n",
    "\n",
    "### 2i. Constructing the AdditionalCode instances\n",
    "\n",
    "[(return to top)](#Contents)\n",
    "\n",
    "`AdditionalCode` objects hold collections of related code, either in a local directory or remote repository. To construct an `AdditionalCode` object, we provide a `location` argument pointing to one of the two.\n",
    "\n",
    "As we are using additional code hosted in a remote repository for this example, we also need:\n",
    "\n",
    "- a `subdir` (subdirectory relative to the repository top level in which to find the code) \n",
    "- a `checkout_target` argument (branch, tag, or commit hash)\n",
    "\n",
    "We also need to provide a list of filenames corresponding to our `AdditionalCode`.\n",
    "\n",
    "For our `ROMSSimulation`, we will build two `AdditionalCode` instances: one used by ROMS at runtime, one used at compile-time. First, the runtime `AdditionalCode`:"
   ]
  },
  {
   "cell_type": "code",
   "execution_count": 1,
   "id": "c256a2ce-1742-4747-a515-f845073a49a4",
   "metadata": {},
   "outputs": [
    {
     "name": "stdout",
     "output_type": "stream",
     "text": [
      "AdditionalCode\n",
      "--------------\n",
      "Location: https://github.com/CWorthy-ocean/cstar_blueprint_roms_marbl_example.git\n",
      "Subdirectory: roms_runtime_code\n",
      "Checkout target: main\n",
      "Working path: None\n",
      "Exists locally: False (get with AdditionalCode.get())\n",
      "Files:\n",
      "    roms.in_TEMPLATE      (roms.in will be used by C-Star based on this template)\n",
      "    marbl_in\n",
      "    marbl_tracer_output_list\n",
      "    marbl_diagnostic_output_list\n"
     ]
    }
   ],
   "source": [
    "from cstar.base import AdditionalCode\n",
    "roms_runtime_code = AdditionalCode(\n",
    "    location = \"https://github.com/CWorthy-ocean/cstar_blueprint_roms_marbl_example.git\",\n",
    "    subdir = \"roms_runtime_code\",\n",
    "    checkout_target = \"main\",\n",
    "    files = [\n",
    "        \"roms.in_TEMPLATE\",\n",
    "        \"marbl_in\",\n",
    "        \"marbl_tracer_output_list\",\n",
    "        \"marbl_diagnostic_output_list\"\n",
    "    ]\n",
    ")\n",
    "print(roms_runtime_code)"
   ]
  },
  {
   "cell_type": "markdown",
   "id": "5d8d9d7a-0650-44d2-95a7-f4c1544ce164",
   "metadata": {},
   "source": [
    "<div class=\"alert alert-info\">\n",
    "\n",
    "Note\n",
    "\n",
    "For `roms_runtime_code`, in the first entry under `files`, the namelist file we begin with is a template. C-Star recognises the `_TEMPLATE` suffix and works with a local copy (in this case `roms.in`) that it will modify and use to run ROMS with user choices such as run length)\n",
    "</div>"
   ]
  },
  {
   "cell_type": "markdown",
   "id": "0bd42d49-6ef1-47c4-b43e-963013a7cbd0",
   "metadata": {},
   "source": [
    "Next, the compile-time `AdditionalCode` (such as ROMS' `.opt` files, which are used to set parameters):"
   ]
  },
  {
   "cell_type": "code",
   "execution_count": 2,
   "id": "360fdd39-0012-4add-b2cb-73dee1c17511",
   "metadata": {},
   "outputs": [
    {
     "name": "stdout",
     "output_type": "stream",
     "text": [
      "AdditionalCode\n",
      "--------------\n",
      "Location: https://github.com/CWorthy-ocean/cstar_blueprint_roms_marbl_example.git\n",
      "Subdirectory: roms_compile_time_code\n",
      "Checkout target: main\n",
      "Working path: None\n",
      "Exists locally: False (get with AdditionalCode.get())\n",
      "Files:\n",
      "    bgc.opt\n",
      "    bulk_frc.opt\n",
      "    cppdefs.opt\n",
      "    diagnostics.opt\n",
      "    ocean_vars.opt\n",
      "    param.opt\n",
      "    tracers.opt\n",
      "    river_frc.opt\n",
      "    Makefile\n",
      "    Make.depend\n"
     ]
    }
   ],
   "source": [
    "roms_compile_time_code = AdditionalCode(\n",
    "    location = \"https://github.com/CWorthy-ocean/cstar_blueprint_roms_marbl_example.git\",\n",
    "    subdir = \"roms_compile_time_code\",\n",
    "    checkout_target = \"main\",\n",
    "    files = [\n",
    "        \"bgc.opt\",\n",
    "         \"bulk_frc.opt\",\n",
    "         \"cppdefs.opt\",\n",
    "         \"diagnostics.opt\",\n",
    "         \"ocean_vars.opt\",\n",
    "         \"param.opt\",\n",
    "         \"tracers.opt\",\n",
    "         \"river_frc.opt\",\n",
    "         \"Makefile\",\n",
    "         \"Make.depend\",\n",
    "    ]\n",
    ")\n",
    "\n",
    "print(roms_compile_time_code)"
   ]
  },
  {
   "cell_type": "markdown",
   "id": "227cc322-0f4d-465f-855f-7729bd43236a",
   "metadata": {},
   "source": [
    "---\n",
    "### 2ii. Constructing the InputDataset instances\n",
    "\n",
    "[(return to top)](#Contents)\n",
    "\n",
    "In addition to the additional code, we need different types of input dataset, each with a specialized subclass of the [InputDataset class](../generated/cstar.base.InputDataset.html).\n",
    "\n",
    "- a grid file supplying information about the domain to ROMS ([ROMSModelGrid](../generated/cstar.roms.ROMSModelGrid.html))\n",
    "- An initial condition file from which to start the run ([ROMSInitialConditions](../generated/cstar.roms.ROMSInitialConditions.html))\n",
    "- boundary forcing files providing information at the edge of the domain ([ROMSBoundaryConditions](../generated/cstar.roms.ROMSInitialConditions.html))\n",
    "- surface forcing files providing information at the upper boundary ([ROMSSurfaceForcing](../generated/cstar.roms.ROMSSurfaceForcing.html))\n",
    "- tidal forcing files providing information on tidal constituents ([ROMSTidalForcing](../generated/cstar.roms.ROMSTidalForcing.html))\n"
   ]
  },
  {
   "cell_type": "markdown",
   "id": "7a481385-f6d6-4d6c-9181-5a93060787e9",
   "metadata": {},
   "source": [
    "<div class=\"alert alert-info\">\n",
    "\n",
    "Note\n",
    "\n",
    "In this tutorial we will be working with pre-prepared input data in netCDF format, for simplicity. To learn how to prepare this data yourself, see [the roms-tools python package documentation](https://roms-tools.readthedocs.io/en/latest/). For more information on `InputDataset`s in general, including supported formats, see [this page](../howto_guides/2_working_with_inputdatasets.html).\n",
    "\n",
    "</div>"
   ]
  },
  {
   "cell_type": "markdown",
   "id": "fef1c79a-3cc1-4a19-a451-18c11654fc4e",
   "metadata": {},
   "source": [
    "<div class=\"alert alert-info\">\n",
    "\n",
    "Note\n",
    "\n",
    "In the following, the `location` attribute can either be a **local path** or a **URL**. As it is a URL pointing to a binary file, the `file_hash` (a 256 bit checksum) must also be provided to verify the download.\n",
    "\n",
    "</div>"
   ]
  },
  {
   "cell_type": "code",
   "execution_count": 3,
   "id": "4f20a4bc-28cb-46a5-9a29-0b33515be140",
   "metadata": {},
   "outputs": [],
   "source": [
    "from cstar.roms import ROMSModelGrid, ROMSInitialConditions, ROMSTidalForcing, ROMSBoundaryForcing, ROMSSurfaceForcing, ROMSRiverForcing\n",
    "netcdf_dataset_location = \"https://github.com/CWorthy-ocean/cstar_blueprint_roms_marbl_example/raw/netcdf_inputs/input_datasets_netcdf/\"\n",
    "\n",
    "# Boundary\n",
    "roms_phys_boundary_forcing = ROMSBoundaryForcing(\n",
    "    location=netcdf_dataset_location + \"roms_bry.nc\",\n",
    "    file_hash=\"3b51a46b1bd50d8a0e7c7f96c7b153c9d2c7fb26a8e9d97ce957d43210944909\",\n",
    ")\n",
    "roms_bgc_boundary_forcing = ROMSBoundaryForcing(\n",
    "    location = netcdf_dataset_location+\"roms_bry_bgc.nc\",\n",
    "    file_hash = \"366af33acf309c7644fab8f7bd5385c99123634c82d5c15f09d2033ec7103a6e\",\n",
    ")\n",
    "\n",
    "# Surface\n",
    "roms_phys_surface_forcing = ROMSSurfaceForcing(\n",
    "    location=netcdf_dataset_location + \"roms_frc.nc\",\n",
    "    file_hash=\"b9d1884c5175c8e690ad372d0585583ccaa04baa35bb1e8f3c0d2f2b37666829\",\n",
    ")\n",
    "roms_bgc_surface_forcing = ROMSSurfaceForcing(\n",
    "    location=netcdf_dataset_location + \"roms_frc_bgc.nc\",\n",
    "    file_hash=\"f78fce51e2178adcd128ea8d92bf091a450e4245dcb023027faae8e2d3963e72\",\n",
    ")\n",
    "\n",
    "#Grid\n",
    "roms_model_grid = ROMSModelGrid(\n",
    "    location=netcdf_dataset_location + \"roms_grd.nc\",\n",
    "    file_hash=\"41397c80fd00536dc414f6b8039b08fbe5d9f234aec66c3fc9b5a8e13353502a\",\n",
    ")\n",
    "\n",
    "# Initial conditions\n",
    "roms_initial_conditions = ROMSInitialConditions(\n",
    "    location=netcdf_dataset_location + \"roms_ini.nc\",\n",
    "    file_hash=\"c8eda3bab223d8f247055da5afe6a69234833733c75cba7dc6b5a85b06263d52\",\n",
    ")\n",
    "\n",
    "# Tides\n",
    "roms_tidal_forcing = ROMSTidalForcing(\n",
    "    location=netcdf_dataset_location + \"roms_tides.nc\",\n",
    "    file_hash=\"9466a6cacf33f3b3cbfaa87044c70cc8ef12e963f42ce3e72e30b564541afef1\",\n",
    ")\n",
    "\n",
    "# Rivers\n",
    "roms_river_forcing = ROMSRiverForcing(\n",
    "    location=netcdf_dataset_location + \"roms_riv_frc.nc\",\n",
    "    file_hash=\"43f99a44ef85d648c1e940172400f031bf6c41cd283883938543b7ca8b39a800\",\n",
    ")\n",
    "\n"
   ]
  },
  {
   "cell_type": "markdown",
   "id": "fc2615c6-054b-46e4-9287-9bbd5fab5bd6",
   "metadata": {},
   "source": [
    "We can query each input dataset to get pertinent information about its state, e.g.:"
   ]
  },
  {
   "cell_type": "code",
   "execution_count": 4,
   "id": "680420f2-2105-4907-ae4a-3e78e11ed336",
   "metadata": {},
   "outputs": [
    {
     "name": "stdout",
     "output_type": "stream",
     "text": [
      "-------------------\n",
      "ROMSBoundaryForcing\n",
      "-------------------\n",
      "Source location: https://github.com/CWorthy-ocean/cstar_blueprint_roms_marbl_example/raw/netcdf_inputs/input_datasets_netcdf/roms_bry.nc\n",
      "Source file hash: 3b51a46b1bd50d8a0e7c7f96c7b153c9d2c7fb26a8e9d97ce957d43210944909\n",
      "Working path: None ( does not yet exist. Call InputDataset.get() )\n"
     ]
    }
   ],
   "source": [
    "print(roms_phys_boundary_forcing)"
   ]
  },
  {
   "cell_type": "markdown",
   "id": "694a5dca-6352-4658-ac2a-9371c4ba8989",
   "metadata": {},
   "source": [
    "### 2iii. Constructing the Discretization instance\n",
    "\n",
    "[(return to top)](#Contents)\n",
    "\n",
    "Lastly, we need to tell C-Star how we will be discretizing our components. MARBL piggybacks off the discretization of its host model, so we only need to create a `ROMSDiscretization` object. This contains:\n",
    "\n",
    "- the time step (`time_step` , in seconds)\n",
    "- the number of processors following x and y for running in parallel (`n_procs_x`, `n_procs_y`)"
   ]
  },
  {
   "cell_type": "code",
   "execution_count": 5,
   "id": "bd717504-7e5a-4217-8b0c-d689664f04a9",
   "metadata": {},
   "outputs": [
    {
     "name": "stdout",
     "output_type": "stream",
     "text": [
      "ROMSDiscretization\n",
      "------------------\n",
      "time_step: 60s\n",
      "n_procs_x: 3 (Number of x-direction processors)\n",
      "n_procs_y: 3 (Number of y-direction processors)\n"
     ]
    }
   ],
   "source": [
    "from cstar.roms import ROMSDiscretization\n",
    "\n",
    "roms_discretization = ROMSDiscretization(time_step = 60,\n",
    "                                         n_procs_x = 3,\n",
    "                                         n_procs_y = 3)\n",
    "print(roms_discretization)"
   ]
  },
  {
   "cell_type": "markdown",
   "id": "d7d9714b-3a41-426c-8466-c20ffad7de9e",
   "metadata": {},
   "source": [
    "### 2iv. Creating the ROMSSimulation instance\n",
    "\n",
    "[(return to top)](#Contents)\n",
    "\n",
    "We now have everything we need to create the `ROMSSimulation` object describing our experiment. To put it together, we should provide the objects we constructed above, and some additional information:\n",
    "- A `name` for the simulation\n",
    "- A `directory` in which to curate input files and code, and ultimately run the simulation\n",
    "- A `valid_start_date` and `valid_end_date`, defining the date range in which the simulation is valid.\n",
    "\n",
    "We do not intend to run this simulation yet, but typically we would also provide a `start_date` and `end_date`, within the valid date range, associated with our desired simulation period. As this information is not exported to our blueprint, we do not include it.\n",
    "\n",
    "<div class=\"alert alert-info\">\n",
    "\n",
    "**Note**\n",
    "    \n",
    "\n",
    "The \"valid\" date range specified by `valid_start_date` and `valid_end_date` corresponds to the range of dates in which this `ROMSSimulation` **can** be run, rather than the date range for which it **will** be run. This can be due to scientific validation of a certain period, or just availability of input data (as in this example, where we only have forcing data for January 2012).\n",
    "\n",
    "A Case should typically also be initialized with `start_date` and `end_date`, which are unique to the `Case` instance, and specify the dates for which the `Case` **will** be run.\n",
    "    \n",
    "As we are building this `Case` to export, not run, we ignore the `start_date` and `end_date` parameters for now, as they are not exported. C-Star will automatically set them to the maximum valid range.\n",
    "    \n",
    "</div>"
   ]
  },
  {
   "cell_type": "code",
   "execution_count": 6,
   "id": "30955e95-7c36-4d0d-a2a4-fc30ef1fc91e",
   "metadata": {},
   "outputs": [
    {
     "name": "stderr",
     "output_type": "stream",
     "text": [
      "[WARNING] start_date not provided. Defaulting to 2012-01-01 12:00:00.\n",
      "[WARNING] end_date not provided. Defaulting to 2012-01-31 12:00:00.\n",
      "[WARNING] Creating ROMSSimulation instance without a specified ExternalCodeBase, default codebase will be used:\n",
      "          • Source location: https://github.com/CESR-lab/ucla-roms.git\n",
      "          • Checkout target: main\n",
      "\n",
      "[WARNING] Creating MARBLSimulation instance without a specified MARBLExternalCodeBase, default codebase will be used:\n",
      "          • Source location: https://github.com/marbl-ecosys/MARBL.git\n",
      "          • Checkout target: marbl0.45.0\n",
      "\n"
     ]
    },
    {
     "name": "stdout",
     "output_type": "stream",
     "text": [
      "ROMSSimulation\n",
      "--------------\n",
      "Name: roms_marbl_example_cstar_simulation\n",
      "Directory: /Users/dafyddstephenson/Code/my_c_star/examples/roms_marbl_example_case\n",
      "Start date: 2012-01-01 12:00:00\n",
      "End date: 2012-01-31 12:00:00\n",
      "Valid start date: 2012-01-01 12:00:00\n",
      "Valid end date: 2012-01-31 12:00:00\n",
      "\n",
      "Discretization: ROMSDiscretization(time_step = 60, n_procs_x = 3, n_procs_y = 3)\n",
      "\n",
      "Code:\n",
      "Codebase: ROMSExternalCodeBase instance (query using ROMSSimulation.codebase)\n",
      "Runtime code: AdditionalCode instance with 4 files (query using ROMSSimulation.runtime_code)\n",
      "Compile-time code: AdditionalCode instance with 10 files (query using ROMSSimulation.compile_time_code)\n",
      "MARBL Codebase: MARBLExternalCodeBase instance (query using ROMSSimulation.marbl_codebase)\n",
      "\n",
      "Input Datasets:\n",
      "Model grid: <ROMSModelGrid instance>\n",
      "Initial conditions: <ROMSInitialConditions instance>\n",
      "Tidal forcing: <ROMSTidalForcing instance>\n",
      "River forcing: <ROMSRiverForcing instance>\n",
      "Surface forcing: <list of 2 ROMSSurfaceForcing instances>\n",
      "Boundary forcing: <list of 2 ROMSBoundaryForcing instances>\n",
      "Is setup: False\n"
     ]
    }
   ],
   "source": [
    "from cstar.roms import ROMSSimulation\n",
    "roms_simulation = ROMSSimulation(\n",
    "    # Instantiation parameters:\n",
    "    name='roms_marbl_example_cstar_simulation',\n",
    "    directory = \"../../examples/roms_marbl_example_case\",\n",
    "    valid_start_date = \"20120101 12:00:00\",\n",
    "    valid_end_date = \"20120131 12:00:00\",\n",
    "    # Constructs from above:\n",
    "    runtime_code = roms_runtime_code,\n",
    "    compile_time_code = roms_compile_time_code,\n",
    "    discretization = roms_discretization,\n",
    "    model_grid = roms_model_grid,\n",
    "    initial_conditions = roms_initial_conditions,\n",
    "    tidal_forcing = roms_tidal_forcing,\n",
    "    river_forcing = roms_river_forcing,\n",
    "    boundary_forcing = [roms_phys_boundary_forcing,roms_bgc_boundary_forcing],\n",
    "    surface_forcing = [roms_phys_surface_forcing, roms_bgc_surface_forcing]\n",
    ")\n",
    "print(roms_simulation)"
   ]
  },
  {
   "cell_type": "markdown",
   "id": "69a2786c-a07f-488a-a33d-cba30cfd3d0d",
   "metadata": {},
   "source": [
    "<div class=\"alert alert-info\">\n",
    "\n",
    "**Note**\n",
    "    \n",
    "In addition to the warnings about the missing `start_date` and `end_date` covered in the above note, we see that we have not provided \"External code bases\" for ROMS and MARBL, and that defaults will be used. Should an advanced user wish to use a specific release of ROMS or MARBL, or a different source repository such as a fork, they can also provide `codebase` and `marbl_codebase` arguments to `ROMSSimulation` at initialization, specifying these preferences.\n",
    "\n",
    "See the [page for working with ExternalCodeBases](../howto_guides/3_working_with_externalcodebases.html) for further information\n",
    "    \n",
    "</div>"
   ]
  },
  {
   "cell_type": "markdown",
   "id": "907a3317-154f-4da3-9854-e428291dc7db",
   "metadata": {},
   "source": [
    "### Visualizing the Simulation:\n",
    "We can see how the simulation directory will look once the case is set up using `Simulation.tree()`:"
   ]
  },
  {
   "cell_type": "code",
   "execution_count": 7,
   "id": "80f5664b-2403-4582-88a1-a85c3bb4a369",
   "metadata": {},
   "outputs": [
    {
     "name": "stdout",
     "output_type": "stream",
     "text": [
      "/Users/dafyddstephenson/Code/my_c_star/examples/roms_marbl_example_case\n",
      "└── ROMS\n",
      "    ├── input_datasets\n",
      "    │   ├── roms_grd.nc\n",
      "    │   ├── roms_ini.nc\n",
      "    │   ├── roms_tides.nc\n",
      "    │   ├── roms_riv_frc.nc\n",
      "    │   ├── roms_bry.nc\n",
      "    │   ├── roms_bry_bgc.nc\n",
      "    │   ├── roms_frc.nc\n",
      "    │   └── roms_frc_bgc.nc\n",
      "    ├── runtime_code\n",
      "    │   ├── roms.in_TEMPLATE\n",
      "    │   ├── marbl_in\n",
      "    │   ├── marbl_tracer_output_list\n",
      "    │   └── marbl_diagnostic_output_list\n",
      "    └── compile_time_code\n",
      "        ├── bgc.opt\n",
      "        ├── bulk_frc.opt\n",
      "        ├── cppdefs.opt\n",
      "        ├── diagnostics.opt\n",
      "        ├── ocean_vars.opt\n",
      "        ├── param.opt\n",
      "        ├── tracers.opt\n",
      "        ├── river_frc.opt\n",
      "        ├── Makefile\n",
      "        └── Make.depend\n",
      "\n"
     ]
    }
   ],
   "source": [
    "print(roms_simulation.tree())"
   ]
  },
  {
   "cell_type": "markdown",
   "id": "a3129ac9-3d6b-4742-9ee7-86e5deec12f8",
   "metadata": {},
   "source": [
    "## 3. Exporting the ROMSSimulation to a blueprint\n",
    "\n",
    "[(return to top)](#Contents)\n",
    "\n",
    "We can save all the information associated with this case to a YAML file using `ROMSSimulation.to_blueprint(filename)`.\n",
    "On the [next page](../tutorials/2_importing_and_running_a_simulation_from_a_blueprint.html) we will import and run a `ROMSSimulation` using a blueprint."
   ]
  },
  {
   "cell_type": "code",
   "execution_count": 8,
   "id": "868f69f3-9f34-4105-942d-1926c15f96e5",
   "metadata": {},
   "outputs": [],
   "source": [
    "roms_simulation.to_blueprint(\"roms_marbl_example_simulation.yaml\")"
   ]
  },
  {
   "cell_type": "markdown",
   "id": "af84041f-0ff9-4cb6-a39b-f7f33a16d0a5",
   "metadata": {},
   "source": [
    "Let's take a look at the `blueprint` file. We will see it contains all the information we provided above:"
   ]
  },
  {
   "cell_type": "code",
   "execution_count": 9,
   "id": "4af4a516-aeae-4a4f-90bc-bf2bf62f584e",
   "metadata": {},
   "outputs": [
    {
     "name": "stdout",
     "output_type": "stream",
     "text": [
      "name: roms_marbl_example_cstar_simulation\n",
      "valid_start_date: 2012-01-01 12:00:00\n",
      "valid_end_date: 2012-01-31 12:00:00\n",
      "codebase:\n",
      "  source_repo: https://github.com/CESR-lab/ucla-roms.git\n",
      "  checkout_target: main\n",
      "discretization:\n",
      "  time_step: 60\n",
      "  n_procs_x: 3\n",
      "  n_procs_y: 3\n",
      "runtime_code:\n",
      "  location: https://github.com/CWorthy-ocean/cstar_blueprint_roms_marbl_example.git\n",
      "  subdir: roms_runtime_code\n",
      "  checkout_target: main\n",
      "  files:\n",
      "  - roms.in_TEMPLATE\n",
      "  - marbl_in\n",
      "  - marbl_tracer_output_list\n",
      "  - marbl_diagnostic_output_list\n",
      "compile_time_code:\n",
      "  location: https://github.com/CWorthy-ocean/cstar_blueprint_roms_marbl_example.git\n",
      "  subdir: roms_compile_time_code\n",
      "  checkout_target: main\n",
      "  files:\n",
      "  - bgc.opt\n",
      "  - bulk_frc.opt\n",
      "  - cppdefs.opt\n",
      "  - diagnostics.opt\n",
      "  - ocean_vars.opt\n",
      "  - param.opt\n",
      "  - tracers.opt\n",
      "  - river_frc.opt\n",
      "  - Makefile\n",
      "  - Make.depend\n",
      "marbl_codebase:\n",
      "  source_repo: https://github.com/marbl-ecosys/MARBL.git\n",
      "  checkout_target: marbl0.45.0\n",
      "model_grid:\n",
      "  location: https://github.com/CWorthy-ocean/cstar_blueprint_roms_marbl_example/raw/netcdf_inputs/input_datasets_netcdf/roms_grd.nc\n",
      "  file_hash: 41397c80fd00536dc414f6b8039b08fbe5d9f234aec66c3fc9b5a8e13353502a\n",
      "initial_conditions:\n",
      "  location: https://github.com/CWorthy-ocean/cstar_blueprint_roms_marbl_example/raw/netcdf_inputs/input_datasets_netcdf/roms_ini.nc\n",
      "  file_hash: c8eda3bab223d8f247055da5afe6a69234833733c75cba7dc6b5a85b06263d52\n",
      "tidal_forcing:\n",
      "  location: https://github.com/CWorthy-ocean/cstar_blueprint_roms_marbl_example/raw/netcdf_inputs/input_datasets_netcdf/roms_tides.nc\n",
      "  file_hash: 9466a6cacf33f3b3cbfaa87044c70cc8ef12e963f42ce3e72e30b564541afef1\n",
      "river_forcing:\n",
      "  location: https://github.com/CWorthy-ocean/cstar_blueprint_roms_marbl_example/raw/netcdf_inputs/input_datasets_netcdf/roms_riv_frc.nc\n",
      "  file_hash: 43f99a44ef85d648c1e940172400f031bf6c41cd283883938543b7ca8b39a800\n",
      "surface_forcing:\n",
      "- location: https://github.com/CWorthy-ocean/cstar_blueprint_roms_marbl_example/raw/netcdf_inputs/input_datasets_netcdf/roms_frc.nc\n",
      "  file_hash: b9d1884c5175c8e690ad372d0585583ccaa04baa35bb1e8f3c0d2f2b37666829\n",
      "- location: https://github.com/CWorthy-ocean/cstar_blueprint_roms_marbl_example/raw/netcdf_inputs/input_datasets_netcdf/roms_frc_bgc.nc\n",
      "  file_hash: f78fce51e2178adcd128ea8d92bf091a450e4245dcb023027faae8e2d3963e72\n",
      "boundary_forcing:\n",
      "- location: https://github.com/CWorthy-ocean/cstar_blueprint_roms_marbl_example/raw/netcdf_inputs/input_datasets_netcdf/roms_bry.nc\n",
      "  file_hash: 3b51a46b1bd50d8a0e7c7f96c7b153c9d2c7fb26a8e9d97ce957d43210944909\n",
      "- location: https://github.com/CWorthy-ocean/cstar_blueprint_roms_marbl_example/raw/netcdf_inputs/input_datasets_netcdf/roms_bry_bgc.nc\n",
      "  file_hash: 366af33acf309c7644fab8f7bd5385c99123634c82d5c15f09d2033ec7103a6e\n",
      "\n"
     ]
    }
   ],
   "source": [
    "from pathlib import Path\n",
    "print(Path(\"roms_marbl_example_simulation.yaml\").read_text())"
   ]
  }
 ],
 "metadata": {
  "kernelspec": {
   "display_name": "Python 3 (ipykernel)",
   "language": "python",
   "name": "python3"
  },
  "language_info": {
   "codemirror_mode": {
    "name": "ipython",
    "version": 3
   },
   "file_extension": ".py",
   "mimetype": "text/x-python",
   "name": "python",
   "nbconvert_exporter": "python",
   "pygments_lexer": "ipython3",
   "version": "3.13.2"
  }
 },
 "nbformat": 4,
 "nbformat_minor": 5
}
