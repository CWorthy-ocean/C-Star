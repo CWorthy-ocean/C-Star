{
 "cells": [
  {
   "cell_type": "markdown",
   "id": "26f488b6-4390-45ab-b802-486d1251ce79",
   "metadata": {},
   "source": [
    "> [!Warning] \n",
    "> **This project is still in an early phase of development.**\n",
    ">\n",
    "> The [python API](../api.html) is not yet stable, and some aspects of the schema for the [blueprint](../terminology.html#term-blueprint) will likely evolve. \n",
    "> Therefore whilst you are welcome to try out using the package, we cannot yet guarantee backwards compatibility. \n",
    "We expect to reach a more stable version in Q1 2025.\n",
    ">\n",
    "> To see which systems C-Star has been tested on so far, see [Supported Systems](../machines.html)."
   ]
  },
  {
   "cell_type": "markdown",
   "id": "1e95aed7-a14e-426b-98fa-3a1c56e90b78",
   "metadata": {},
   "source": [
    "# Working with the `AdditionalCode` class\n",
    "\n",
    "## Contents\n",
    "1. [Introduction](#1.-Introduction)\n",
    "2. [Working with local code](#2.-Working-with-local-code)\n",
    "3. [Working with remote code](#3.-Working-with-remote-code)\n",
    "\n",
    "## 1. Introduction\n",
    "[(return to top)](#Contents)\n",
    "\n",
    "`AdditionalCode` instances hold collections of related code, either in a local directory or remote repository. In this guide we will explore the structure and methods of the `AdditionalCode` class.\n",
    "\n",
    "## 2. Working with local code\n",
    "[(return to top)](#Contents)\n",
    "\n",
    "If the code you intend to work with already exists on your local system, instantiating an `AdditionalCode` instance is straightforward: provide a path to a directory containing the code, and a list of files:"
   ]
  },
  {
   "cell_type": "code",
   "execution_count": 9,
   "id": "d9db998f-5303-4bee-b17a-6615942c5596",
   "metadata": {},
   "outputs": [
    {
     "name": "stdout",
     "output_type": "stream",
     "text": [
      "AdditionalCode\n",
      "--------------\n",
      "Location: ~/Code/my_ucla_roms/Examples/Rivers_real/\n",
      "Subdirectory: \n",
      "Working path: None\n",
      "Exists locally: False (get with AdditionalCode.get())\n",
      "Files:\n",
      "    cppdefs.opt\n",
      "    flux_frc.opt\n",
      "    ocean_vars.opt\n",
      "    param.opt\n",
      "    river_frc.opt\n"
     ]
    }
   ],
   "source": [
    "from cstar.base import AdditionalCode\n",
    "\n",
    "compile_time_code = AdditionalCode(location = \"~/Code/my_ucla_roms/Examples/Rivers_real/\", \n",
    "                                   files=[\"cppdefs.opt\",\n",
    "                                          \"flux_frc.opt\",\n",
    "                                          \"ocean_vars.opt\",\n",
    "                                          \"param.opt\",\n",
    "                                          \"river_frc.opt\"])\n",
    "print(compile_time_code)"
   ]
  },
  {
   "cell_type": "markdown",
   "id": "bda0b0af-acdd-4761-8ccf-28b7c016df4e",
   "metadata": {},
   "source": [
    "<div class=\"alert alert-info\">\n",
    "\n",
    "**Note**\n",
    "\n",
    "We see that \"Exists locally\" is `False`, in this context referring to the existence of a local copy that C-Star can work with. C-Star will not attempt to tamper with the original source of any files, and instead works with local copies. A local copy that C-Star can work with can be established using `AdditionalCode.get()`\n",
    "</div>\n",
    "\n",
    "### Fetching a working copy of the code with `AdditionalCode.get()`:"
   ]
  },
  {
   "cell_type": "code",
   "execution_count": 4,
   "id": "9cfb0349-2b97-4fa5-9cbe-31ded6c35123",
   "metadata": {},
   "outputs": [
    {
     "name": "stdout",
     "output_type": "stream",
     "text": [
      "copying cppdefs.opt to /Users/dafyddstephenson/Code/my_c_star/examples/additional_code_example\n",
      "copying flux_frc.opt to /Users/dafyddstephenson/Code/my_c_star/examples/additional_code_example\n",
      "copying ocean_vars.opt to /Users/dafyddstephenson/Code/my_c_star/examples/additional_code_example\n",
      "copying param.opt to /Users/dafyddstephenson/Code/my_c_star/examples/additional_code_example\n",
      "copying river_frc.opt to /Users/dafyddstephenson/Code/my_c_star/examples/additional_code_example\n"
     ]
    }
   ],
   "source": [
    "compile_time_code.get(local_dir = \"~/Code/my_c_star/examples/additional_code_example\")"
   ]
  },
  {
   "cell_type": "code",
   "execution_count": 5,
   "id": "8ce15a65-f1d2-467b-aafb-81fb0e7f038f",
   "metadata": {},
   "outputs": [
    {
     "name": "stdout",
     "output_type": "stream",
     "text": [
      "AdditionalCode\n",
      "--------------\n",
      "Location: ~/Code/my_ucla_roms/Examples/Rivers_real/\n",
      "subdirectory: \n",
      "Working path: /Users/dafyddstephenson/Code/my_c_star/examples/additional_code_example\n",
      "Exists locally: True\n",
      "Files:\n",
      "    cppdefs.opt\n",
      "    flux_frc.opt\n",
      "    ocean_vars.opt\n",
      "    param.opt\n",
      "    river_frc.opt\n"
     ]
    }
   ],
   "source": [
    "print(compile_time_code)"
   ]
  },
  {
   "cell_type": "markdown",
   "id": "c30364e8-b02a-414a-9810-b45893250278",
   "metadata": {},
   "source": [
    "... We now see that we have a source location, as before, and a working copy, at the `Working path`. `Exists locally` is now also `True`.\n",
    "\n",
    "## 3. Working with remote code\n",
    "[(return to top)](#Contents)\n",
    "\n",
    "C-Star can also work with code that is stored in a remote repository, using git. The process of creating an `AdditionalCode` instance in this case involves a couple of additional parameters:\n",
    "- `checkout_target`: the specific point in the history of the repository to work worth. This can be either a branch, tag, or commit hash. \n",
    "- `subdir`: the subdirectory of the repository containing the files\n",
    "\n",
    "Let's create the same `AdditionalCode` as above, but with a remote source this time:"
   ]
  },
  {
   "cell_type": "code",
   "execution_count": 10,
   "id": "6f983ecc-e830-4253-a73a-31e33eb22b8f",
   "metadata": {},
   "outputs": [
    {
     "name": "stdout",
     "output_type": "stream",
     "text": [
      "AdditionalCode\n",
      "--------------\n",
      "Location: https://github.com/CESR-lab/ucla-roms.git\n",
      "Subdirectory: Examples/Rivers_real\n",
      "Checkout target: main\n",
      "Working path: None\n",
      "Exists locally: False (get with AdditionalCode.get())\n",
      "Files:\n",
      "    cppdefs.opt\n",
      "    flux_frc.opt\n",
      "    ocean_vars.opt\n",
      "    param.opt\n",
      "    river_frc.opt\n"
     ]
    }
   ],
   "source": [
    "compile_time_code = AdditionalCode(location = \"https://github.com/CESR-lab/ucla-roms.git\", \n",
    "                                   files=[\"cppdefs.opt\",\n",
    "                                          \"flux_frc.opt\",\n",
    "                                          \"ocean_vars.opt\",\n",
    "                                          \"param.opt\",\n",
    "                                          \"river_frc.opt\"],\n",
    "                                          subdir = \"Examples/Rivers_real\",\n",
    "                                          checkout_target = \"main\")\n",
    "print(compile_time_code)"
   ]
  },
  {
   "cell_type": "markdown",
   "id": "65b1fbea-28a5-4705-8981-9081090fe47b",
   "metadata": {},
   "source": [
    "### Fetching a working copy of the code with `AdditionalCode.get()`. \n",
    "\n",
    "For a remote repository, C-Star clones the repository to a temporary directory, then copies the desired files to the local target directory:"
   ]
  },
  {
   "cell_type": "code",
   "execution_count": 12,
   "id": "d41d722f-ed03-4b13-8351-ac3df005f1c3",
   "metadata": {},
   "outputs": [
    {
     "name": "stdout",
     "output_type": "stream",
     "text": [
      "Cloned repository https://github.com/CESR-lab/ucla-roms.git to /var/folders/1s/xjsjyqrj2rdft8014664qczc0000gn/T/tmpk54kf29f\n",
      "Checked out main in git repository /var/folders/1s/xjsjyqrj2rdft8014664qczc0000gn/T/tmpk54kf29f\n",
      "copying cppdefs.opt to /Users/dafyddstephenson/Code/my_c_star/examples/additional_code_example\n",
      "copying flux_frc.opt to /Users/dafyddstephenson/Code/my_c_star/examples/additional_code_example\n",
      "copying ocean_vars.opt to /Users/dafyddstephenson/Code/my_c_star/examples/additional_code_example\n",
      "copying param.opt to /Users/dafyddstephenson/Code/my_c_star/examples/additional_code_example\n",
      "copying river_frc.opt to /Users/dafyddstephenson/Code/my_c_star/examples/additional_code_example\n"
     ]
    }
   ],
   "source": [
    "compile_time_code.get(local_dir = \"~/Code/my_c_star/examples/additional_code_example\")"
   ]
  },
  {
   "cell_type": "code",
   "execution_count": 13,
   "id": "d5c09bba-c513-44e1-b170-28b55022ae09",
   "metadata": {},
   "outputs": [
    {
     "name": "stdout",
     "output_type": "stream",
     "text": [
      "AdditionalCode\n",
      "--------------\n",
      "Location: https://github.com/CESR-lab/ucla-roms.git\n",
      "Subdirectory: Examples/Rivers_real\n",
      "Checkout target: main\n",
      "Working path: /Users/dafyddstephenson/Code/my_c_star/examples/additional_code_example\n",
      "Exists locally: True\n",
      "Files:\n",
      "    cppdefs.opt\n",
      "    flux_frc.opt\n",
      "    ocean_vars.opt\n",
      "    param.opt\n",
      "    river_frc.opt\n"
     ]
    }
   ],
   "source": [
    "print(compile_time_code)"
   ]
  }
 ],
 "metadata": {
  "kernelspec": {
   "display_name": "Python 3 (ipykernel)",
   "language": "python",
   "name": "python3"
  },
  "language_info": {
   "codemirror_mode": {
    "name": "ipython",
    "version": 3
   },
   "file_extension": ".py",
   "mimetype": "text/x-python",
   "name": "python",
   "nbconvert_exporter": "python",
   "pygments_lexer": "ipython3",
   "version": "3.13.1"
  }
 },
 "nbformat": 4,
 "nbformat_minor": 5
}
