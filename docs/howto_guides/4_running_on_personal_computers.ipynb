{
 "cells": [
  {
   "cell_type": "markdown",
   "id": "970997a3-caeb-42b8-923d-9b86f8c4d94c",
   "metadata": {},
   "source": [
    "> [!Warning] \n",
    "> **This project is still in an early phase of development.**\n",
    ">\n",
    "> The [python API](https://c-star.readthedocs.io/en/latest/api.html) is not yet stable, and some aspects of the schema for the [blueprint](https://c-star.readthedocs.io/en/latest/terminology.html#term-blueprint) will likely evolve. \n",
    "> Therefore whilst you are welcome to try out using the package, we cannot yet guarantee backwards compatibility. \n",
    "We expect to reach a more stable version in Q1 2025.\n",
    ">\n",
    "> To see which systems C-Star has been tested on so far, see [Supported Systems](https://c-star.readthedocs.io/en/latest/machines.html)."
   ]
  },
  {
   "cell_type": "markdown",
   "id": "53ab3d32-9292-44b6-a1f5-fa331b654307",
   "metadata": {},
   "source": [
    "# Tracking runs executed locally\n",
    "\n",
    "## Contents\n",
    "1. [Introduction](#1.-Introduction)\n",
    "2. [Importing and setting up an example Simulation to run locally](#2.-Importing-and-setting-up-an-example-Simulation-to-run-locally)\n",
    "3. [Running and tracking the Simulation](#3.-Running-and-tracking-the-Simulation)\n",
    "   - [Beginning the run](#3i.-Beginning-the-run)\n",
    "   - [Checking the status](#3ii.-Checking-the-status)\n",
    "   - [Viewing the output file path](#3iii.-Viewing-the-output-file-path)\n",
    "   - [Receiving live updates from the output file](#3iv.-Receiving-live-updates-from-the-output-file)\n",
    "4. [Cancelling a run](#4.-Cancelling-a-run)\n",
    "5. [Summary](#5.-Summary)\n",
    "\n",
    "## 1. Introduction\n",
    "\n",
    "[(return to top)](#Contents)\n",
    "\n",
    "On this page, we will look at how to monitor processes created by C-Star where execution is handled locally in more detail.\n",
    "If you are running C-Star on a supported HPC system with a job scheduler, see [the next page](howto_guides/5_handling_jobs_on_hpc_systems.html). There are many features in common between jobs run locally and those submitted to a job scheduler, but the former is more simple."
   ]
  },
  {
   "cell_type": "markdown",
   "id": "6f1d2be9-accc-4af6-849d-37d7f0257603",
   "metadata": {
    "tags": []
   },
   "source": [
    "## 2. Importing and setting up an example Simulation to run locally\n",
    "\n",
    "[(return to top)](#Contents)\n",
    "\n",
    "We will import and set up the example simulation from our [tutorial](2_importing_and_running_a_simulation_from_a_blueprint.html)"
   ]
  },
  {
   "cell_type": "code",
   "execution_count": 1,
   "id": "a301fe04-638c-4312-8068-cd4b26249c5f",
   "metadata": {},
   "outputs": [],
   "source": [
    "from cstar.roms import ROMSSimulation\n",
    "\n",
    "example_simulation_1 = ROMSSimulation.from_blueprint(blueprint  = \"roms_marbl_example_simulation.yaml\",\n",
    "                                                     directory   = \"../../examples/example_case\", \n",
    "                                                     start_date = \"2012-01-03 12:00:00\", \n",
    "                                                     end_date   = \"2012-01-06 12:00:00\")"
   ]
  },
  {
   "cell_type": "markdown",
   "id": "36a4e106-d605-4494-909a-b1c2cbc17eca",
   "metadata": {},
   "source": [
    "\n",
    "We can now set up and run the Case as in the [previous example](2_importing_and_running_a_case_from_a_blueprint.html), assigning the `LocalProcess` instance returned by `Case.run()` to a variable we can keep track of."
   ]
  },
  {
   "cell_type": "code",
   "execution_count": null,
   "id": "82cb820a-0353-4146-9e01-2e425a615fa2",
   "metadata": {},
   "outputs": [],
   "source": [
    "example_simulation_1.setup()\n",
    "example_simulation_1.build()\n",
    "example_simulation_1.pre_run()"
   ]
  },
  {
   "cell_type": "markdown",
   "id": "f7d82aa4-daa0-4d9c-8dc7-2cccff38cc11",
   "metadata": {},
   "source": [
    "## 3. Running and tracking the Simulation\n",
    "\n",
    "[(return to top)](#Contents)\n",
    "\n",
    "### 3i. Beginning the run\n",
    "We can start the simulation using the `run()` command, which creates a `LocalProcess` instance that we can assign to a variable for tracking:"
   ]
  },
  {
   "cell_type": "code",
   "execution_count": 3,
   "id": "071b0e23-1f7f-402d-a2b5-1ae2fae90317",
   "metadata": {},
   "outputs": [],
   "source": [
    "cstar_task = example_simulation_1.run()"
   ]
  },
  {
   "cell_type": "markdown",
   "id": "68cf73c3-916f-4007-a9cb-c2e6761fb67c",
   "metadata": {},
   "source": [
    "### 3ii. Checking the status\n",
    "We can check the run status using the `status` property. Possible values for a local run are:\n",
    "\n",
    "- `UNSUBMITTED`: the run has not yet started\n",
    "- `RUNNING`: the run is underway\n",
    "- `COMPLETED`: the run finished successfully\n",
    "- `CANCELLED`: the run was cancelled by the user\n",
    "- `FAILED`: the run finished unsuccessfully\n",
    "- `UNKNOWN`: the status cannot be determined"
   ]
  },
  {
   "cell_type": "code",
   "execution_count": 5,
   "id": "41630183-ecde-4dc2-bfba-41a1457ede1a",
   "metadata": {},
   "outputs": [
    {
     "data": {
      "text/plain": [
       "<ExecutionStatus.RUNNING: 3>"
      ]
     },
     "execution_count": 5,
     "metadata": {},
     "output_type": "execute_result"
    }
   ],
   "source": [
    "cstar_task.status"
   ]
  },
  {
   "cell_type": "markdown",
   "id": "ccbadc5b-a007-4753-bde3-f8c05e7a06e6",
   "metadata": {},
   "source": [
    "### 3iii. Viewing the output file path\n",
    "The output file contains the standard output and error streams returned by the run"
   ]
  },
  {
   "cell_type": "code",
   "execution_count": 4,
   "id": "216bbc79-f578-44d2-867b-7da38b252778",
   "metadata": {},
   "outputs": [
    {
     "data": {
      "text/plain": [
       "PosixPath('/Users/dafyddstephenson/Code/my_c_star/examples/example_case/output/cstar_process_20250226_164333.out')"
      ]
     },
     "execution_count": 4,
     "metadata": {},
     "output_type": "execute_result"
    }
   ],
   "source": [
    "cstar_task.output_file"
   ]
  },
  {
   "cell_type": "markdown",
   "id": "b05c1c44-2d6f-45f3-84fc-4ac071456d6e",
   "metadata": {
    "tags": []
   },
   "source": [
    "### 3iv. Receiving live updates from the output file\n",
    "While the process is running, we can stream any new lines written to the output file using the `updates()` method. This method receives a `seconds` parameter, and will provide live updates for the number of seconds provided by the user (default 10). If the user specifies `seconds=0`, updates will be provided indefinitely until either the updates are stopped with a keyboard interruption (typically via `Ctrl-c`) or the process ends."
   ]
  },
  {
   "cell_type": "code",
   "execution_count": 6,
   "id": "0a79a7cc-9281-4bd8-ad4e-ecb32e17a1c0",
   "metadata": {},
   "outputs": [
    {
     "name": "stdout",
     "output_type": "stream",
     "text": [
      " doing BGC with MARBL\n",
      "    178 4383.6236 5.43672836971-03 4.7399327746-03  0.004904627074  0.004406983834      9     21   10\n",
      " doing BGC with MARBL\n",
      "    179 4383.6243 5.44159508705-03 4.7450422598-03  0.004902813572  0.004403747233      9     21   10\n",
      " doing BGC with MARBL\n",
      "    180 4383.6250 5.44647134929-03 4.7501518216-03  0.004898929472  0.004400149960      9     21   10\n",
      "         set_frc :: swrad            input time (days) =   4383.67     rec =  17\n",
      "         set_frc :: lwrad            input time (days) =   4383.67     rec =  17\n",
      "         set_frc :: uwnd             input time (days) =   4383.67     rec =  17\n",
      "         set_frc :: vwnd             input time (days) =   4383.67     rec =  17\n",
      "         set_frc :: Tair             input time (days) =   4383.67     rec =  17\n",
      "         set_frc :: qair             input time (days) =   4383.67     rec =  17\n",
      "         set_frc :: rain             input time (days) =   4383.67     rec =  17\n",
      " doing BGC with MARBL\n",
      "    181 4383.6256 5.45137674887-03 4.7552908850-03  0.004893217090  0.004396241272      9     21   10\n",
      " doing BGC with MARBL\n",
      "    182 4383.6263 5.45631021892-03 4.7604711833-03  0.004886086009  0.004392112093      9     21   10\n",
      " doing BGC with MARBL\n",
      "    183 4383.6270 5.46128809243-03 4.7657029328-03  0.004878006036  0.004387832312      9     21   10\n",
      " doing BGC with MARBL\n",
      "    184 4383.6277 5.46630242446-03 4.7709901774-03  0.004869522322  0.004383481534      9     21   10\n",
      " doing BGC with MARBL\n",
      "    185 4383.6284 5.47135185022-03 4.7763320021-03  0.004861174216  0.004379136766      9     21   10\n",
      " doing BGC with MARBL\n",
      "    186 4383.6291 5.47639650643-03 4.7817198658-03  0.004853435070  0.004374865930      9     21   10\n",
      " doing BGC with MARBL\n",
      "    187 4383.6298 5.48146105846-03 4.7871335336-03  0.004846670453  0.004370721122      9     21   10\n",
      " doing BGC with MARBL\n",
      "    188 4383.6305 5.48651387659-03 4.7925480153-03  0.004841110448  0.004366734137      9     21   10\n",
      " doing BGC with MARBL\n",
      "    189 4383.6312 5.49155093807-03 4.7979307758-03  0.004836838905  0.004362914770      9     21   10\n",
      " doing BGC with MARBL\n",
      "    190 4383.6319 5.49651942851-03 4.8032438151-03  0.004833799837  0.004359252957      9     21   10\n",
      " doing BGC with MARBL\n",
      "    191 4383.6326 5.50139324131-03 4.8084559066-03  0.004831822189  0.004355727831      9     21   10\n",
      " doing BGC with MARBL\n",
      "    192 4383.6333 5.50614767370-03 4.8135482159-03  0.004830635938  0.004352296911      9     21   10\n",
      " doing BGC with MARBL\n",
      "    193 4383.6340 5.51073886787-03 4.8185094100-03  0.004829912834  0.004348905249      9     21   10\n",
      " doing BGC with MARBL\n",
      "    194 4383.6347 5.51517590543-03 4.8233465870-03  0.004829311552  0.004345497117      9     21   10\n",
      " doing BGC with MARBL\n",
      "    195 4383.6354 5.51949130388-03 4.8280841548-03  0.004828622917  0.004342129807      9     21   10\n"
     ]
    }
   ],
   "source": [
    "cstar_task.updates(seconds=0.5)"
   ]
  },
  {
   "cell_type": "markdown",
   "id": "86c42fba-256a-4950-b324-b58413c598e1",
   "metadata": {},
   "source": [
    "### 4. Cancelling a run\n",
    "\n",
    "[(return to top)](#Contents)\n",
    "\n",
    "We can cancel the job using the `cancel` method:"
   ]
  },
  {
   "cell_type": "code",
   "execution_count": 7,
   "id": "428f25ea-43d8-4462-9b80-d912552aa403",
   "metadata": {},
   "outputs": [],
   "source": [
    "cstar_task.cancel()"
   ]
  },
  {
   "cell_type": "code",
   "execution_count": 8,
   "id": "10926495-2da3-4a20-b663-d238d6d96a43",
   "metadata": {},
   "outputs": [
    {
     "data": {
      "text/plain": [
       "<ExecutionStatus.CANCELLED: 5>"
      ]
     },
     "execution_count": 8,
     "metadata": {},
     "output_type": "execute_result"
    }
   ],
   "source": [
    "cstar_task.status"
   ]
  },
  {
   "cell_type": "markdown",
   "id": "d10bef60-3fed-4ee5-aca6-9de283380515",
   "metadata": {},
   "source": [
    "## 5. Summary\n",
    "\n",
    "[(return to top)](#Contents)\n",
    "\n",
    "In this guide, we set up and ran the example `Simulation` that we built in [another tutorial](LINK-TODO), with a particular focus on the `LocalProcess` instance associated with the run. We looked at tracking the run's status and output files, and cancelling the run."
   ]
  }
 ],
 "metadata": {
  "kernelspec": {
   "display_name": "NERSC Python",
   "language": "python",
   "name": "python3"
  },
  "language_info": {
   "codemirror_mode": {
    "name": "ipython",
    "version": 3
   },
   "file_extension": ".py",
   "mimetype": "text/x-python",
   "name": "python",
   "nbconvert_exporter": "python",
   "pygments_lexer": "ipython3",
   "version": "3.11.7"
  }
 },
 "nbformat": 4,
 "nbformat_minor": 5
}
