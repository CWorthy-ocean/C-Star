{
 "cells": [
  {
   "cell_type": "markdown",
   "id": "970997a3-caeb-42b8-923d-9b86f8c4d94c",
   "metadata": {},
   "source": [
    "> [!Warning] \n",
    "> **This project is still in an early phase of development.**\n",
    ">\n",
    "> The [python API](../api.html) is not yet stable, and some aspects of the schema for the [blueprint](../terminology.html#term-blueprint) will likely evolve. \n",
    "> Therefore whilst you are welcome to try out using the package, we cannot yet guarantee backwards compatibility. \n",
    "We expect to reach a more stable version in Q1 2025.\n",
    ">\n",
    "> To see which systems C-Star has been tested on so far, see [Supported Systems](../machines.html)."
   ]
  },
  {
   "cell_type": "markdown",
   "id": "53ab3d32-9292-44b6-a1f5-fa331b654307",
   "metadata": {},
   "source": [
    "# Tracking runs executed locally\n",
    "\n",
    "## Contents\n",
    "1. [Introduction](#1.-Introduction)\n",
    "2. [Importing and setting up an example Simulation to run locally](#2.-Importing-and-setting-up-an-example-Simulation-to-run-locally)\n",
    "3. [Running and tracking the Simulation](#3.-Running-and-tracking-the-Simulation)\n",
    "   - [Beginning the run](#3i.-Beginning-the-run)\n",
    "   - [Checking the status](#3ii.-Checking-the-status)\n",
    "   - [Viewing the output file path](#3iii.-Viewing-the-output-file-path)\n",
    "   - [Receiving live updates from the output file](#3iv.-Receiving-live-updates-from-the-output-file)\n",
    "4. [Cancelling a run](#4.-Cancelling-a-run)\n",
    "5. [Summary](#5.-Summary)\n",
    "\n",
    "## 1. Introduction\n",
    "\n",
    "[(return to top)](#Contents)\n",
    "\n",
    "On this page, we will look at how to monitor processes created by C-Star where execution is handled locally in more detail.\n",
    "If you are running C-Star on a supported HPC system with a job scheduler, see [the next page](./5_handling_jobs_on_hpc_systems.html). There are many features in common between jobs run locally and those submitted to a job scheduler, but the former is more simple."
   ]
  },
  {
   "cell_type": "markdown",
   "id": "6f1d2be9-accc-4af6-849d-37d7f0257603",
   "metadata": {
    "tags": []
   },
   "source": [
    "## 2. Importing and setting up an example Simulation to run locally\n",
    "\n",
    "[(return to top)](#Contents)\n",
    "\n",
    "We will import and set up the example simulation from our [tutorial](../tutorials/2_importing_and_running_a_simulation_from_a_blueprint.html)"
   ]
  },
  {
   "cell_type": "code",
   "execution_count": 1,
   "id": "a301fe04-638c-4312-8068-cd4b26249c5f",
   "metadata": {},
   "outputs": [],
   "source": [
    "from cstar.roms import ROMSSimulation\n",
    "\n",
    "example_simulation_1 = ROMSSimulation.from_blueprint(blueprint  = \"../tutorials/roms_marbl_example_simulation.yaml\",\n",
    "                                                     directory   = \"../../examples/example_case\", \n",
    "                                                     start_date = \"2012-01-03 12:00:00\", \n",
    "                                                     end_date   = \"2012-01-06 12:00:00\")"
   ]
  },
  {
   "cell_type": "markdown",
   "id": "36a4e106-d605-4494-909a-b1c2cbc17eca",
   "metadata": {},
   "source": [
    "\n",
    "We can now set up and run the Simulation as in the [tutorial](../tutorials/2_importing_and_running_a_simulation_from_a_blueprint.html), assigning the `LocalProcess` instance returned by `Simulation.run()` to a variable we can keep track of."
   ]
  },
  {
   "cell_type": "code",
   "execution_count": null,
   "id": "82cb820a-0353-4146-9e01-2e425a615fa2",
   "metadata": {},
   "outputs": [],
   "source": [
    "example_simulation_1.setup()\n",
    "example_simulation_1.build()\n",
    "example_simulation_1.pre_run()\n",
    "# Cell output cleared for brevity"
   ]
  },
  {
   "cell_type": "markdown",
   "id": "f7d82aa4-daa0-4d9c-8dc7-2cccff38cc11",
   "metadata": {},
   "source": [
    "## 3. Running and tracking the Simulation\n",
    "\n",
    "[(return to top)](#Contents)\n",
    "\n",
    "### 3i. Beginning the run\n",
    "We can start the simulation using the `run()` command, which creates a `LocalProcess` instance that we can assign to a variable for tracking:"
   ]
  },
  {
   "cell_type": "code",
   "execution_count": 3,
   "id": "071b0e23-1f7f-402d-a2b5-1ae2fae90317",
   "metadata": {},
   "outputs": [],
   "source": [
    "cstar_task = example_simulation_1.run()"
   ]
  },
  {
   "cell_type": "markdown",
   "id": "68cf73c3-916f-4007-a9cb-c2e6761fb67c",
   "metadata": {},
   "source": [
    "### 3ii. Checking the status\n",
    "We can check the run status using the `status` property. Possible values for a local run are:\n",
    "\n",
    "- `UNSUBMITTED`: the run has not yet started\n",
    "- `RUNNING`: the run is underway\n",
    "- `COMPLETED`: the run finished successfully\n",
    "- `CANCELLED`: the run was cancelled by the user\n",
    "- `FAILED`: the run finished unsuccessfully\n",
    "- `UNKNOWN`: the status cannot be determined"
   ]
  },
  {
   "cell_type": "code",
   "execution_count": 4,
   "id": "41630183-ecde-4dc2-bfba-41a1457ede1a",
   "metadata": {},
   "outputs": [
    {
     "data": {
      "text/plain": [
       "<ExecutionStatus.RUNNING: 3>"
      ]
     },
     "execution_count": 4,
     "metadata": {},
     "output_type": "execute_result"
    }
   ],
   "source": [
    "cstar_task.status"
   ]
  },
  {
   "cell_type": "markdown",
   "id": "ccbadc5b-a007-4753-bde3-f8c05e7a06e6",
   "metadata": {},
   "source": [
    "### 3iii. Viewing the output file path\n",
    "The output file contains the standard output and error streams returned by the run"
   ]
  },
  {
   "cell_type": "code",
   "execution_count": 5,
   "id": "216bbc79-f578-44d2-867b-7da38b252778",
   "metadata": {},
   "outputs": [
    {
     "data": {
      "text/plain": [
       "PosixPath('/Users/dafyddstephenson/Code/my_c_star/examples/example_case/output/cstar_process_20250428_153231.out')"
      ]
     },
     "execution_count": 5,
     "metadata": {},
     "output_type": "execute_result"
    }
   ],
   "source": [
    "cstar_task.output_file"
   ]
  },
  {
   "cell_type": "markdown",
   "id": "b05c1c44-2d6f-45f3-84fc-4ac071456d6e",
   "metadata": {
    "tags": []
   },
   "source": [
    "### 3iv. Receiving live updates from the output file\n",
    "While the process is running, we can stream any new lines written to the output file using the `updates()` method. This method receives a `seconds` parameter, and will provide live updates for the number of seconds provided by the user (default 10). If the user specifies `seconds=0`, updates will be provided indefinitely until either the updates are stopped with a keyboard interruption (typically via `Ctrl-c`) or the process ends."
   ]
  },
  {
   "cell_type": "code",
   "execution_count": 6,
   "id": "0a79a7cc-9281-4bd8-ad4e-ecb32e17a1c0",
   "metadata": {},
   "outputs": [
    {
     "name": "stdout",
     "output_type": "stream",
     "text": [
      "[INFO]  doing BGC with MARBL\n",
      "\n",
      "[INFO]     207 4383.6437 5.56657654288-03 4.8813609378-03  0.004795433031  0.004294010343      9     21   10\n",
      "\n",
      "[INFO]  doing BGC with MARBL\n",
      "\n",
      "[INFO]     208 4383.6444 5.57008061171-03 4.8853947441-03  0.004795468914  0.004289735790      9     21   10\n",
      "\n",
      "[INFO]  doing BGC with MARBL\n",
      "\n",
      "[INFO]     209 4383.6451 5.57349072286-03 4.8893689968-03  0.004796358802  0.004285428296      9     21   10\n",
      "\n",
      "[INFO]  doing BGC with MARBL\n",
      "\n",
      "[INFO]     210 4383.6458 5.57687254643-03 4.8933149533-03  0.004797979475  0.004281175962      9     21   10\n",
      "\n",
      "[INFO]  doing BGC with MARBL\n",
      "\n",
      "[INFO]     211 4383.6465 5.58024026485-03 4.8972639551-03  0.004800026957  0.004276959422      9     21   10\n",
      "\n",
      "[INFO]  doing BGC with MARBL\n",
      "\n",
      "[INFO]     212 4383.6472 5.58362453883-03 4.9012471214-03  0.004802119583  0.004272742086      9     21   10\n",
      "\n",
      "[INFO]  doing BGC with MARBL\n",
      "\n",
      "[INFO]     213 4383.6479 5.58703114089-03 4.9052801682-03  0.004803821320  0.004268465051      9     21   10\n",
      "\n",
      "[INFO]  doing BGC with MARBL\n",
      "\n",
      "[INFO]     214 4383.6486 5.59045325751-03 4.9093625130-03  0.004804690025  0.004264061629      9     21   10\n",
      "\n",
      "[INFO]  doing BGC with MARBL\n",
      "\n",
      "[INFO]     215 4383.6493 5.59390604880-03 4.9134798374-03  0.004804333260  0.004259478094      9     21   10\n",
      "\n",
      "[INFO]  doing BGC with MARBL\n",
      "\n",
      "[INFO]     216 4383.6500 5.59737601841-03 4.9176068214-03  0.004802438823  0.004254670282      9     21   10\n",
      "\n",
      "[INFO]  doing BGC with MARBL\n",
      "\n",
      "[INFO]     217 4383.6506 5.60082596830-03 4.9217189412-03  0.004798807856  0.004249610124      9     21   10\n",
      "\n",
      "[INFO]  doing BGC with MARBL\n",
      "\n",
      "[INFO]     218 4383.6513 5.60421597753-03 4.9257967139-03  0.004793373868  0.004244286834      9     21   10\n",
      "\n",
      "[INFO]  doing BGC with MARBL\n",
      "\n",
      "[INFO]     219 4383.6520 5.60756946908-03 4.9298296478-03  0.004786201255  0.004238699187      9     21   10\n",
      "\n",
      "[INFO]  doing BGC with MARBL\n",
      "\n",
      "[INFO]     220 4383.6527 5.61088235467-03 4.9338215265-03  0.004777540838  0.004232915875      9     21   10\n",
      "\n",
      "[INFO]  doing BGC with MARBL\n",
      "\n",
      "[INFO]     221 4383.6534 5.61419815952-03 4.9377906744-03  0.004767687678  0.004226950334      9     21   10\n",
      "\n",
      "[INFO]  doing BGC with MARBL\n",
      "\n",
      "[INFO]     222 4383.6541 5.61755195217-03 4.9417660703-03  0.004757046704  0.004220851708      9     21   10\n",
      "\n",
      "[INFO]  doing BGC with MARBL\n",
      "\n",
      "[INFO]     223 4383.6548 5.62094445980-03 4.9457813637-03  0.004746079199  0.004214682976      9     21   10\n",
      "\n",
      "[INFO]  doing BGC with MARBL\n",
      "\n"
     ]
    }
   ],
   "source": [
    "cstar_task.updates(seconds=0.5)"
   ]
  },
  {
   "cell_type": "markdown",
   "id": "86c42fba-256a-4950-b324-b58413c598e1",
   "metadata": {},
   "source": [
    "### 4. Cancelling a run\n",
    "\n",
    "[(return to top)](#Contents)\n",
    "\n",
    "We can cancel the job using the `cancel` method:"
   ]
  },
  {
   "cell_type": "code",
   "execution_count": 7,
   "id": "428f25ea-43d8-4462-9b80-d912552aa403",
   "metadata": {},
   "outputs": [],
   "source": [
    "cstar_task.cancel()"
   ]
  },
  {
   "cell_type": "code",
   "execution_count": 8,
   "id": "10926495-2da3-4a20-b663-d238d6d96a43",
   "metadata": {},
   "outputs": [
    {
     "data": {
      "text/plain": [
       "<ExecutionStatus.CANCELLED: 5>"
      ]
     },
     "execution_count": 8,
     "metadata": {},
     "output_type": "execute_result"
    }
   ],
   "source": [
    "cstar_task.status"
   ]
  },
  {
   "cell_type": "markdown",
   "id": "d10bef60-3fed-4ee5-aca6-9de283380515",
   "metadata": {},
   "source": [
    "## 5. Summary\n",
    "\n",
    "[(return to top)](#Contents)\n",
    "\n",
    "In this guide, we set up and ran the example `Simulation` that we built in [another tutorial](../tutorials/2_importing_and_running_a_simulation_from_a_blueprint.html), with a particular focus on the `LocalProcess` instance associated with the run. We looked at tracking the run's status and output files, and cancelling the run."
   ]
  }
 ],
 "metadata": {
  "kernelspec": {
   "display_name": "Python 3 (ipykernel)",
   "language": "python",
   "name": "python3"
  },
  "language_info": {
   "codemirror_mode": {
    "name": "ipython",
    "version": 3
   },
   "file_extension": ".py",
   "mimetype": "text/x-python",
   "name": "python",
   "nbconvert_exporter": "python",
   "pygments_lexer": "ipython3",
   "version": "3.13.2"
  }
 },
 "nbformat": 4,
 "nbformat_minor": 5
}
