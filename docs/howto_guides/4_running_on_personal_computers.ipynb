{
 "cells": [
  {
   "cell_type": "markdown",
   "id": "970997a3-caeb-42b8-923d-9b86f8c4d94c",
   "metadata": {},
   "source": [
    "> [!Warning] \n",
    "> **This project is still in an early phase of development.**\n",
    ">\n",
    "> The [python API](https://c-star.readthedocs.io/en/latest/api.html) is not yet stable, and some aspects of the schema for the [blueprint](https://c-star.readthedocs.io/en/latest/terminology.html#term-blueprint) will likely evolve. \n",
    "> Therefore whilst you are welcome to try out using the package, we cannot yet guarantee backwards compatibility. \n",
    "We expect to reach a more stable version in Q1 2025.\n",
    ">\n",
    "> To see which systems C-Star has been tested on so far, see [Supported Systems](https://c-star.readthedocs.io/en/latest/machines.html)."
   ]
  },
  {
   "cell_type": "markdown",
   "id": "53ab3d32-9292-44b6-a1f5-fa331b654307",
   "metadata": {},
   "source": [
    "# Tracking runs executed locally\n",
    "On this page, we will look at how to monitor processes created by C-Star where execution is handled locally in more detail.\n",
    "If you are running C-Star on a supported HPC system with a job scheduler, see [the previous page](5_handling_jobs_on_hpc_systems.html). There are many features in common between jobs run locally and those submitted to a job scheduler, but the former is more simple.\n",
    "\n",
    "- Checking the status of a task created by C-Star\n",
    "- Receiving live updates from a task created by C-Star\n",
    "- Cancelling a task created by C-Star"
   ]
  },
  {
   "cell_type": "markdown",
   "id": "6f1d2be9-accc-4af6-849d-37d7f0257603",
   "metadata": {
    "tags": []
   },
   "source": [
    "## Importing an example Case and running it locally:\n",
    "We will import and set up an example case similarly to the [previous example](2_importing_and_running_a_case_from_a_blueprint.html)"
   ]
  },
  {
   "cell_type": "code",
   "execution_count": 1,
   "id": "a301fe04-638c-4312-8068-cd4b26249c5f",
   "metadata": {},
   "outputs": [],
   "source": [
    "import cstar\n",
    "\n",
    "example_case_1 = cstar.Case.from_blueprint(blueprint  = \"../examples/cstar_blueprint_roms_marbl_example.yaml\",\n",
    "                                           caseroot   = \"../examples/example_case\", \n",
    "                                           start_date = \"2012-01-03 12:00:00\", \n",
    "                                           end_date   = \"2012-01-06 12:00:00\")"
   ]
  },
  {
   "cell_type": "markdown",
   "id": "36a4e106-d605-4494-909a-b1c2cbc17eca",
   "metadata": {},
   "source": [
    "## Starting a run locally\n",
    "We can now set up and run the Case as in the [previous example](2_importing_and_running_a_case_from_a_blueprint.html), assigning the `LocalProcess` instance returned by `Case.run()` to a variable we can keep track of."
   ]
  },
  {
   "cell_type": "code",
   "execution_count": null,
   "id": "82cb820a-0353-4146-9e01-2e425a615fa2",
   "metadata": {},
   "outputs": [],
   "source": [
    "example_case_1.setup()\n",
    "example_case_1.build()\n",
    "example_case_1.pre_run()"
   ]
  },
  {
   "cell_type": "code",
   "execution_count": 3,
   "id": "071b0e23-1f7f-402d-a2b5-1ae2fae90317",
   "metadata": {},
   "outputs": [
    {
     "name": "stdout",
     "output_type": "stream",
     "text": [
      "\n",
      "Running ROMS... \n"
     ]
    }
   ],
   "source": [
    "cstar_task = example_case_1.run()"
   ]
  },
  {
   "cell_type": "markdown",
   "id": "c0aa814e-d5ef-4f0b-834b-c67d0f47a574",
   "metadata": {},
   "source": [
    "## Tracking the local run\n"
   ]
  },
  {
   "cell_type": "markdown",
   "id": "30c673bb-9490-4feb-aeda-b434dcf1c687",
   "metadata": {},
   "source": [
    "### Viewing the output file path\n",
    "The output file contains the standard output and error streams returned by the run"
   ]
  },
  {
   "cell_type": "code",
   "execution_count": 4,
   "id": "216bbc79-f578-44d2-867b-7da38b252778",
   "metadata": {},
   "outputs": [
    {
     "data": {
      "text/plain": [
       "PosixPath('/Users/dafyddstephenson/Code/my_c_star/examples/example_case/output/cstar_process_20241224_143121.out')"
      ]
     },
     "execution_count": 4,
     "metadata": {},
     "output_type": "execute_result"
    }
   ],
   "source": [
    "cstar_task.output_file"
   ]
  },
  {
   "cell_type": "markdown",
   "id": "68cf73c3-916f-4007-a9cb-c2e6761fb67c",
   "metadata": {},
   "source": [
    "### Checking the status\n",
    "We can check the run status using the `status` property. Possible values for a local run are:\n",
    "\n",
    "- `UNSUBMITTED`: the run has not yet started\n",
    "- `RUNNING`: the run is underway\n",
    "- `COMPLETED`: the run finished successfully\n",
    "- `CANCELLED`: the run was cancelled by the user\n",
    "- `FAILED`: the run finished unsuccessfully\n",
    "- `UNKNOWN`: the status cannot be determined"
   ]
  },
  {
   "cell_type": "code",
   "execution_count": 5,
   "id": "41630183-ecde-4dc2-bfba-41a1457ede1a",
   "metadata": {},
   "outputs": [
    {
     "data": {
      "text/plain": [
       "<ExecutionStatus.RUNNING: 3>"
      ]
     },
     "execution_count": 5,
     "metadata": {},
     "output_type": "execute_result"
    }
   ],
   "source": [
    "cstar_task.status"
   ]
  },
  {
   "cell_type": "markdown",
   "id": "b05c1c44-2d6f-45f3-84fc-4ac071456d6e",
   "metadata": {
    "tags": []
   },
   "source": [
    "### Receiving live updates from a local run\n",
    "While the process is running, we can stream any new lines written to the output file using the `updates()` method. This method receives a `seconds` parameter, and will provide live updates for the number of seconds provided by the user (default 10). If the user specifies `seconds=0`, updates will be provided indefinitely until either the updates are stopped with a keyboard interruption (typically via `Ctrl-c`) or the process ends."
   ]
  },
  {
   "cell_type": "code",
   "execution_count": 6,
   "id": "0a79a7cc-9281-4bd8-ad4e-ecb32e17a1c0",
   "metadata": {},
   "outputs": [
    {
     "name": "stdout",
     "output_type": "stream",
     "text": [
      "   2485 4385.8583 1.25835920793-02 1.0622096536-02  0.136952686070  0.136247868683      8     18   61\n",
      " doing BGC with MARBL\n",
      "   2486 4385.8625 1.26418727730-02 1.0677227692-02  0.138613564557  0.137943291663      8     18   61\n",
      " doing BGC with MARBL\n",
      "   2487 4385.8666 1.27018558957-02 1.0734782520-02  0.140313602622  0.139684982328      8     18   61\n",
      " doing BGC with MARBL\n",
      "   2488 4385.8708 1.27644276510-02 1.0795296451-02  0.142053378702  0.141473963532      8     18   61\n",
      " doing BGC with MARBL\n",
      "   2489 4385.8750 1.28303755595-02 1.0859155735-02  0.143837624076  0.143314536573      8     18   61\n",
      "         set_frc :: swrad            input time (days) =   4385.92     rec =  71\n",
      "         set_frc :: lwrad            input time (days) =   4385.92     rec =  71\n",
      "         set_frc :: uwnd             input time (days) =   4385.92     rec =  71\n",
      "         set_frc :: vwnd             input time (days) =   4385.92     rec =  71\n",
      "         set_frc :: Tair             input time (days) =   4385.92     rec =  71\n",
      "         set_frc :: qair             input time (days) =   4385.92     rec =  71\n",
      "         set_frc :: rain             input time (days) =   4385.92     rec =  71\n",
      " doing BGC with MARBL\n",
      "   2490 4385.8791 1.29004414329-02 1.0926810649-02  0.145608490301  0.145146964406      8     18   61\n",
      " doing BGC with MARBL\n",
      "   2491 4385.8833 1.29708365192-02 1.0995773324-02  0.147131668685  0.146735361928      8     18   61\n",
      " doing BGC with MARBL\n",
      "   2492 4385.8875 1.30377943412-02 1.1063338488-02  0.148424019270  0.148095085576      8     18   61\n",
      " doing BGC with MARBL\n",
      "   2493 4385.8916 1.31023753611-02 1.1129874381-02  0.149523096643  0.149264579908      8     18   61\n",
      " doing BGC with MARBL\n",
      "   2494 4385.8958 1.31652198586-02 1.1195599618-02  0.150478728824  0.150294630798      8     18   61\n",
      " doing BGC with MARBL\n",
      "   2495 4385.9000 1.32268445879-02 1.1260610230-02  0.151333910835  0.151257155828      8     18   62\n",
      " doing BGC with MARBL\n",
      "   2496 4385.9041 1.32876049836-02 1.1325071888-02  0.152128252273  0.152128252273      8     18   62\n",
      " doing BGC with MARBL\n",
      "   2497 4385.9083 1.33478670990-02 1.1389121584-02  0.152959268208  0.152959268208      8     18   62\n",
      " doing BGC with MARBL\n",
      "   2498 4385.9125 1.34078950450-02 1.1452897611-02  0.153768111972  0.153768111972      8     18   62\n",
      " doing BGC with MARBL\n",
      "   2499 4385.9166 1.34680167142-02 1.1516533838-02  0.154567678966  0.154567678966      8     18   62\n",
      "         set_frc :: swrad            input time (days) =   4385.96     rec =  72\n",
      "         set_frc :: lwrad            input time (days) =   4385.96     rec =  72\n",
      "         set_frc :: uwnd             input time (days) =   4385.96     rec =  72\n",
      "         set_frc :: vwnd             input time (days) =   4385.96     rec =  72\n",
      "         set_frc :: Tair             input time (days) =   4385.96     rec =  72\n",
      "         set_frc :: qair             input time (days) =   4385.96     rec =  72\n",
      "         set_frc :: rain             input time (days) =   4385.96     rec =  72\n",
      " doing BGC with MARBL\n",
      "   2500 4385.9208 1.35283165709-02 1.1580129351-02  0.155325624258  0.155221612013      8     18   61\n",
      " doing BGC with MARBL\n",
      "   2501 4385.9250 1.35828230769-02 1.1640319995-02  0.155700653053  0.155481340173      8     18   61\n",
      " doing BGC with MARBL\n",
      "   2502 4385.9291 1.36263388869-02 1.1693975898-02  0.155662438206  0.155322944376      8     18   61\n",
      " doing BGC with MARBL\n",
      "   2503 4385.9333 1.36600374443-02 1.1741283660-02  0.155263267688  0.154803506067      8     18   61\n",
      " doing BGC with MARBL\n",
      "   2504 4385.9375 1.36849625828-02 1.1782576915-02  0.154577909123  0.154000079067      8     18   61\n",
      " doing BGC with MARBL\n",
      "   2505 4385.9416 1.37020578756-02 1.1818261666-02  0.153670271592  0.152976916292      8     18   61\n",
      " doing BGC with MARBL\n",
      "   2506 4385.9458 1.37121832607-02 1.1848783946-02  0.152590160501  0.151783861959      8     18   61\n",
      " doing BGC with MARBL\n",
      "   2507 4385.9500 1.37161351454-02 1.1874569011-02  0.151374986137  0.150458733231      8     18   61\n",
      " doing BGC with MARBL\n",
      "   2508 4385.9541 1.37144734308-02 1.1896005050-02  0.150053002374  0.149030644412      8     18   61\n",
      " doing BGC with MARBL\n",
      "   2509 4385.9583 1.37078436551-02 1.1913471360-02  0.148646075415  0.147522693372      8     18   61\n",
      "         set_frc :: swrad            input time (days) =   4386.00     rec =  73\n",
      "         set_frc :: lwrad            input time (days) =   4386.00     rec =  73\n",
      "         set_frc :: uwnd             input time (days) =   4386.00     rec =  73\n",
      "         set_frc :: vwnd             input time (days) =   4386.00     rec =  73\n",
      "         set_frc :: Tair             input time (days) =   4386.00     rec =  73\n",
      "         set_frc :: qair             input time (days) =   4386.00     rec =  73\n",
      "         set_frc :: rain             input time (days) =   4386.00     rec =  73\n",
      " doing BGC with MARBL\n",
      "   2510 4385.9625 1.36966772006-02 1.1927277505-02  0.147160964026  0.145942604721      8     18   61\n",
      " doing BGC with MARBL\n",
      "   2511 4385.9666 1.36809635410-02 1.1937393429-02  0.145575738835  0.144268441761      8     18   61\n",
      " doing BGC with MARBL\n",
      "   2512 4385.9708 1.36607130946-02 1.1943812910-02  0.143911766375  0.142521457819      8     18   61\n",
      " doing BGC with MARBL\n",
      "   2513 4385.9750 1.36363893415-02 1.1946799844-02  0.142189803708  0.140721996579      8     18   61\n",
      " doing BGC with MARBL\n",
      "   2514 4385.9791 1.36084937336-02 1.1946561437-02  0.140429539964  0.138961591747      8     18   62\n",
      " doing BGC with MARBL\n",
      "   2515 4385.9833 1.35771853114-02 1.1943254440-02  0.138650105839  0.137111897393      8     18   62\n",
      " doing BGC with MARBL\n",
      "   2516 4385.9875 1.35429113517-02 1.1937106844-02  0.136856769268  0.135251514662      8     18   62\n",
      " doing BGC with MARBL\n",
      "   2517 4385.9916 1.35060264336-02 1.1928413681-02  0.135055284864  0.133386889470      8     18   62\n",
      " doing BGC with MARBL\n",
      "   2518 4385.9958 1.34667019800-02 1.1917333838-02  0.133250058213  0.131523540883      8     18   62\n",
      " doing BGC with MARBL\n",
      "   2519 4386.0000 1.34251380663-02 1.1903898010-02  0.131446412425  0.129667318138      8     18   62\n",
      "       ocean_vars :: wrote history, tdays =   4386.0000  step =   2519 rec =   3\n",
      "       wrt_bgc_tracers :: history , trc =  PO4                                       \n",
      "       wrt_bgc_tracers :: history , trc =  NO3                                       \n",
      "       wrt_bgc_tracers :: history , trc =  SiO3                                      \n",
      "       wrt_bgc_tracers :: history , trc =  NH4                                       \n",
      "       wrt_bgc_tracers :: history , trc =  Fe                                        \n",
      "       wrt_bgc_tracers :: history , trc =  Lig                                       \n",
      "       wrt_bgc_tracers :: history , trc =  O2                                        \n",
      "       wrt_bgc_tracers :: history , trc =  DIC                                       \n",
      "       wrt_bgc_tracers :: history , trc =  DIC_ALT_CO2                               \n",
      "       wrt_bgc_tracers :: history , trc =  ALK                                       \n",
      "       wrt_bgc_tracers :: history , trc =  ALK_ALT_CO2                               \n",
      "       wrt_bgc_tracers :: history , trc =  DOC                                       \n",
      "       wrt_bgc_tracers :: history , trc =  DON                                       \n",
      "       wrt_bgc_tracers :: history , trc =  DOP                                       \n",
      "       wrt_bgc_tracers :: history , trc =  DOPr                                      \n",
      "       wrt_bgc_tracers :: history , trc =  DONr                                      \n",
      "       wrt_bgc_tracers :: history , trc =  DOCr                                      \n",
      "       wrt_bgc_tracers :: history , trc =  zooC                                      \n",
      "       wrt_bgc_tracers :: history , trc =  spChl                                     \n",
      "       wrt_bgc_tracers :: history , trc =  spC                                       \n",
      "       wrt_bgc_tracers :: history , trc =  spP                                       \n",
      "       wrt_bgc_tracers :: history , trc =  spFe                                      \n",
      "       wrt_bgc_tracers :: history , trc =  spCaCO3                                   \n",
      "       wrt_bgc_tracers :: history , trc =  diatChl                                   \n",
      "       wrt_bgc_tracers :: history , trc =  diatC                                     \n",
      "       wrt_bgc_tracers :: history , trc =  diatP                                     \n",
      "       wrt_bgc_tracers :: history , trc =  diatFe                                    \n",
      "       wrt_bgc_tracers :: history , trc =  diatSi                                    \n",
      "       wrt_bgc_tracers :: history , trc =  diazChl                                   \n",
      "       wrt_bgc_tracers :: history , trc =  diazC                                     \n",
      "       wrt_bgc_tracers :: history , trc =  diazP                                     \n",
      "       wrt_bgc_tracers :: history , trc =  diazFe                                    \n",
      "       bgc :: wrote history, tdays =   4386.0000  step =   2518 rec =   3\n",
      "       bgc diag :: wrote history, tdays =   4386.0000  step =   2519 rec =   3\n",
      "         set_frc :: zeta_east        input time (days) =   4387.00     rec =   5\n",
      "         set_frc :: zeta_west        input time (days) =   4387.00     rec =   5\n",
      "         set_frc :: zeta_south       input time (days) =   4387.00     rec =   5\n",
      "         set_frc :: zeta_north       input time (days) =   4387.00     rec =   5\n",
      "         set_frc :: swrad            input time (days) =   4386.04     rec =  74\n",
      "         set_frc :: lwrad            input time (days) =   4386.04     rec =  74\n",
      "         set_frc :: uwnd             input time (days) =   4386.04     rec =  74\n",
      "         set_frc :: vwnd             input time (days) =   4386.04     rec =  74\n",
      "         set_frc :: Tair             input time (days) =   4386.04     rec =  74\n",
      "         set_frc :: qair             input time (days) =   4386.04     rec =  74\n",
      "         set_frc :: rain             input time (days) =   4386.04     rec =  74\n",
      " doing BGC with MARBL\n",
      "   2520 4386.0041 1.33813167950-02 1.1888112769-02  0.129656274071  0.127829968916      8     18   62\n",
      " doing BGC with MARBL\n",
      "   2521 4386.0083 1.33372723425-02 1.1871329181-02  0.127909737805  0.126040534783      8     18   62\n",
      " doing BGC with MARBL\n",
      "   2522 4386.0125 1.32937687605-02 1.1853843466-02  0.126215169511  0.124305538389      8     18   62\n",
      " doing BGC with MARBL\n",
      "   2523 4386.0166 1.32504548141-02 1.1835566947-02  0.124575269680  0.122625412446      8     18   62\n",
      " doing BGC with MARBL\n",
      "   2524 4386.0208 1.32071760708-02 1.1816443813-02  0.122986966618  0.120995584727      8     18   62\n"
     ]
    }
   ],
   "source": [
    "cstar_task.updates(seconds=2)"
   ]
  },
  {
   "cell_type": "markdown",
   "id": "86c42fba-256a-4950-b324-b58413c598e1",
   "metadata": {},
   "source": [
    "### Cancelling a job\n",
    "We can cancel the job using the `cancel` method:"
   ]
  },
  {
   "cell_type": "code",
   "execution_count": 7,
   "id": "428f25ea-43d8-4462-9b80-d912552aa403",
   "metadata": {},
   "outputs": [],
   "source": [
    "cstar_task.cancel()"
   ]
  },
  {
   "cell_type": "code",
   "execution_count": 8,
   "id": "10926495-2da3-4a20-b663-d238d6d96a43",
   "metadata": {},
   "outputs": [
    {
     "data": {
      "text/plain": [
       "<ExecutionStatus.CANCELLED: 5>"
      ]
     },
     "execution_count": 8,
     "metadata": {},
     "output_type": "execute_result"
    }
   ],
   "source": [
    "cstar_task.status"
   ]
  }
 ],
 "metadata": {
  "kernelspec": {
   "display_name": "Python 3 (ipykernel)",
   "language": "python",
   "name": "python3"
  },
  "language_info": {
   "codemirror_mode": {
    "name": "ipython",
    "version": 3
   },
   "file_extension": ".py",
   "mimetype": "text/x-python",
   "name": "python",
   "nbconvert_exporter": "python",
   "pygments_lexer": "ipython3",
   "version": "3.13.1"
  }
 },
 "nbformat": 4,
 "nbformat_minor": 5
}
