{
 "cells": [
  {
   "cell_type": "markdown",
   "id": "590e43ad-bacd-46ea-950a-ebd35b0d9eba",
   "metadata": {},
   "source": [
    "# Working with the `InputDataset` class\n",
    "\n",
    "## Contents\n",
    "1. [Introduction](#1.-Introduction)\n",
    "2. [InputDataset subclasses and their instantiation](#2.-InputDataset-subclasses-and-their-instantiation)\n",
    "3. [Working with different sources](#3.-Working-with-different-sources)\n",
    "   - [Working with local, prepared (netCDF) sources](#3i.-Working-with-local,-prepared-netCDF-sources)\n",
    "   - [Working with remote, prepared (netCDF) sources](#3ii.-Working-with-remote-prepared-netCDF-sources)\n",
    "   - [Working with unprepared (yaml) sources](#3iii.-Working-with-unprepared-yaml-sources)\n",
    "4. [Partitioning input datasets for use with ROMS](#4.-Partitioning-input-datasets-for-use-with-ROMS)\n",
    "5. [Summary](#5.-Summary)\n",
    "\n",
    "## 1. Introduction\n",
    "In C-Star, the `InputDataset` holds information on, and offers methods relevant to, files containing numerical data required by a simulation (such as initial conditions). This can be compared with [the `AdditionalCode` class](LINK-TODO), which is related to text-based files needed by a simulation (such as lists of custom settings).\n",
    "\n",
    "The `InputDataset` class is an abstract class, and can not be instantiated directly. Instead, the relevant subclass should be used.\n",
    "\n",
    "## 2. InputDataset subclasses and their instantiation\n",
    "C-Star currently supports the ROMS ocean model, for which there are five `InputDataset` subclasses:\n",
    "```\n",
    "InputDataset\n",
    " └── ROMSInputDataset\n",
    "     ├── ROMSModelGrid\n",
    "     ├── ROMSInitialConditions\n",
    "     ├── ROMSTidalForcing\n",
    "     ├── ROMSBoundaryForcing\n",
    "     └── ROMSSurfaceForcing\n",
    "```\n",
    "As mentioned above, the `InputDataset` and `ROMSInputDataset` are abstract base classes, so one of these five subclasses must be instantiated.\n",
    "\n",
    "The parameters required to create an `InputDataset` instance vary depending on the source. Let's consider each in turn:\n",
    "\n",
    "## 3. Working with different sources\n",
    "### 3i. Working with local, prepared (netCDF) sources\n",
    "In the simplest case, the input dataset already exists, in a ROMS-compatible (netCDF) format, on the local filesystem. In this case, we only need to provide the `location` parameter, with a path to the file:"
   ]
  },
  {
   "cell_type": "code",
   "execution_count": 1,
   "id": "8c858dfe-e0db-4dc4-87d7-b0a3416cf329",
   "metadata": {},
   "outputs": [
    {
     "name": "stdout",
     "output_type": "stream",
     "text": [
      "-------------\n",
      "ROMSModelGrid\n",
      "-------------\n",
      "Source location: ~/Code/my_ucla_roms/Examples/input_data/sample_grd_riv.nc\n",
      "Working path: None ( does not yet exist. Call InputDataset.get() )\n"
     ]
    }
   ],
   "source": [
    "from cstar.roms import ROMSModelGrid\n",
    "my_grid = ROMSModelGrid(location=\"~/Code/my_ucla_roms/Examples/input_data/sample_grd_riv.nc\")\n",
    "print(my_grid)"
   ]
  },
  {
   "cell_type": "markdown",
   "id": "0f01cf32-2aff-4e26-8873-4ccad7571166",
   "metadata": {},
   "source": [
    "### Creating a working version with `InputDataset.get()`:\n",
    "<div class=\"alert alert-info\">\n",
    "\n",
    "**Note**\n",
    "    \n",
    "Most users will not need to use the `get()` method: if your `InputDataset` is part of a `ROMSSimulation` instance, then C-Star will call `get()` automatically as part of any `ROMSSimulation.setup()` call.\n",
    "\n",
    "</div>\n",
    "In the above example, we see that `Working path` is `None` and that we should call `InputDataset.get()` to change this. In the case of a local `netCDF` file, whose contents cannot be tampered with by C-Star, calling `get()` creates a symbolic link in the working directory to the source file:\n",
    "\n"
   ]
  },
  {
   "cell_type": "code",
   "execution_count": 2,
   "id": "315cbb80-2111-4c2a-bb53-65152416cdfb",
   "metadata": {},
   "outputs": [],
   "source": [
    "my_grid.get(local_dir = \"~/Code/my_c_star/examples/input_dataset_example\")"
   ]
  },
  {
   "cell_type": "code",
   "execution_count": 3,
   "id": "c0ebe25e-1425-4359-b52b-311af81d9f00",
   "metadata": {},
   "outputs": [
    {
     "name": "stdout",
     "output_type": "stream",
     "text": [
      "-------------\n",
      "ROMSModelGrid\n",
      "-------------\n",
      "Source location: ~/Code/my_ucla_roms/Examples/input_data/sample_grd_riv.nc\n",
      "Working path: /Users/dafyddstephenson/Code/my_c_star/examples/input_dataset_example/sample_grd_riv.nc (exists)\n",
      "Local hash: {PosixPath('/Users/dafyddstephenson/Code/my_c_star/examples/input_dataset_example/sample_grd_riv.nc'): '8e2f1ca3135ac7f5696d3eaec79b035a1bae15c8a34e751a7f9d925787ab3f6e'}\n"
     ]
    }
   ],
   "source": [
    "print(my_grid)"
   ]
  },
  {
   "cell_type": "markdown",
   "id": "f6120b77-7df8-44a2-bf04-d8dc8bc66a4d",
   "metadata": {},
   "source": [
    "After calling `get()` we see that there is now additional information associated with this `InputDataset` - the source location, as before, but also the `Working path` (in this case a symbolic link to the source location) and a `Local hash`: a checksum of the file in question to protect against changes or tampering with the file."
   ]
  },
  {
   "cell_type": "markdown",
   "id": "e3430ece-231e-4fed-91bd-7393fb91a2b7",
   "metadata": {},
   "source": [
    "### 3ii. Working with remote, prepared (netCDF) sources\n",
    "In this case, as above, the input dataset already exists, in a ROMS-compatible (netCDF) format, but this time is stored at a remote location. Now, the `location` parameter will be a URL, and we also need to provide a value for the `file_hash` parameter. \n",
    "\n",
    "<div class=\"alert alert-info\">\n",
    "\n",
    "**Note**\n",
    "    \n",
    "The `file_hash` parameter is a unique string summary of the entire file, that is used for security with remote binary files (such as netCDF) to verify that any downloads by C-Star correspond exactly to the expected data. C-Star uses a 256-bit shasum for hashes.\n",
    "\n",
    "If you do not know the file hash, it is advisable that you ask the creator of the file to check their local copy. \n",
    "\n",
    "</div>"
   ]
  },
  {
   "cell_type": "code",
   "execution_count": 4,
   "id": "93acbca5-fe0d-43bb-8c2c-53d90ca8e230",
   "metadata": {},
   "outputs": [
    {
     "name": "stdout",
     "output_type": "stream",
     "text": [
      "-------------\n",
      "ROMSModelGrid\n",
      "-------------\n",
      "Source location: https://github.com/dafyddstephenson/ucla_roms_examples_input_data/raw/main/sample_grd_riv.nc\n",
      "Source file hash: 8e2f1ca3135ac7f5696d3eaec79b035a1bae15c8a34e751a7f9d925787ab3f6e\n",
      "Working path: None ( does not yet exist. Call InputDataset.get() )\n"
     ]
    }
   ],
   "source": [
    "from cstar.roms import ROMSModelGrid\n",
    "my_grid = ROMSModelGrid(location=\"https://github.com/dafyddstephenson/ucla_roms_examples_input_data/raw/main/sample_grd_riv.nc\",\n",
    "                       file_hash=\"8e2f1ca3135ac7f5696d3eaec79b035a1bae15c8a34e751a7f9d925787ab3f6e\")\n",
    "print(my_grid)"
   ]
  },
  {
   "cell_type": "markdown",
   "id": "13dbf224-5e35-4722-bc03-bbeb78bc90f8",
   "metadata": {},
   "source": [
    "### Creating a local copy with `InputDataset.get()`:\n",
    "<div class=\"alert alert-info\">\n",
    "\n",
    "**Note**\n",
    "    \n",
    "Most users will not need to use the `get()` method: if your `InputDataset` is part of a `ROMSSimulation` instance, then C-Star will call `get()` automatically as part of any `ROMSSimulation.setup()` call.\n",
    "\n",
    "</div>\n",
    "As before, we see that `Working path` is `None` and that we should call `InputDataset.get()` to change this. In the case of a _remote_ `netCDF` file, calling `get()` downloads a copy of the source file to the working directory:"
   ]
  },
  {
   "cell_type": "code",
   "execution_count": 5,
   "id": "f1dbfc11-11f0-4d01-8ea9-e1fcfdb3a027",
   "metadata": {},
   "outputs": [
    {
     "name": "stderr",
     "output_type": "stream",
     "text": [
      "Downloading file 'sample_grd_riv.nc' from 'https://github.com/dafyddstephenson/ucla_roms_examples_input_data/raw/main/sample_grd_riv.nc' to '/Users/dafyddstephenson/Code/my_c_star/examples/input_dataset_example'.\n"
     ]
    }
   ],
   "source": [
    "my_grid.get(local_dir = \"~/Code/my_c_star/examples/input_dataset_example\")"
   ]
  },
  {
   "cell_type": "code",
   "execution_count": 6,
   "id": "97f7f98b-a6d7-4294-a442-1115a9568420",
   "metadata": {},
   "outputs": [
    {
     "name": "stdout",
     "output_type": "stream",
     "text": [
      "-------------\n",
      "ROMSModelGrid\n",
      "-------------\n",
      "Source location: https://github.com/dafyddstephenson/ucla_roms_examples_input_data/raw/main/sample_grd_riv.nc\n",
      "Source file hash: 8e2f1ca3135ac7f5696d3eaec79b035a1bae15c8a34e751a7f9d925787ab3f6e\n",
      "Working path: /Users/dafyddstephenson/Code/my_c_star/examples/input_dataset_example/sample_grd_riv.nc (exists)\n",
      "Local hash: {PosixPath('/Users/dafyddstephenson/Code/my_c_star/examples/input_dataset_example/sample_grd_riv.nc'): '8e2f1ca3135ac7f5696d3eaec79b035a1bae15c8a34e751a7f9d925787ab3f6e'}\n"
     ]
    }
   ],
   "source": [
    "print(my_grid)"
   ]
  },
  {
   "cell_type": "markdown",
   "id": "6c52f4b0-594f-436a-8e47-acfc29ba35d9",
   "metadata": {},
   "source": [
    "### 3iii. Working with unprepared (yaml) sources\n",
    "C-Star also supports creating input datasets from plaintext instructions in `.yaml` format, by interfacing with the `roms-tools` python package. `netCDF` files are typically very large (often `TB` in total for a meaningful simulation) whereas `yaml` files are only a few `kB`, making them easier to work with when preparing or obtaining a remotely hosted simulation. However, `yaml` files necessitate generating the corresponding `netCDF` locally, a process that can have a large memory footprint and additionally [requires an available copy of any datasets that `roms-tools` requires.](https://roms-tools.readthedocs.io/en/latest/datasets.html). For more information on creating datasets to export in `yaml` format, see [the `roms-tools` documentation](https://roms-tools.readthedocs.io/en/latest/). \n",
    "\n",
    "As we are working with plain text (rather than binary files as in the examples above) we don't need to verify remote downloads, and so the process for using local or remote files is the same: we simply provide the `location` parameter, either a URL or local path.\n",
    "\n",
    "As we are creating the dataset from scratch, depending on the type of dataset, we also need some additional information. In particular, the `start_date` and `end_date` parameters allow C-Star to tell `roms-tools` the dates between which the dataset is required (if any - the grid is time-invariant, for instance)."
   ]
  },
  {
   "cell_type": "code",
   "execution_count": 7,
   "id": "5050b236-bd91-400f-8c68-966fc6f6a273",
   "metadata": {},
   "outputs": [
    {
     "name": "stdout",
     "output_type": "stream",
     "text": [
      "------------------\n",
      "ROMSSurfaceForcing\n",
      "------------------\n",
      "Source location: ~/Code/my_c_star/blueprints/cstar_blueprint_roms_marbl_example/input_datasets_yaml/roms_frc.yaml\n",
      "start_date: 2012-01-01 12:00:00\n",
      "end_date: 2012-01-04 12:00:00\n",
      "Working path: None ( does not yet exist. Call InputDataset.get() )\n"
     ]
    }
   ],
   "source": [
    "from cstar.roms import ROMSSurfaceForcing\n",
    "my_surface_forcing = ROMSSurfaceForcing(\n",
    "    location=\"~/Code/my_c_star/blueprints/cstar_blueprint_roms_marbl_example/input_datasets_yaml/roms_frc.yaml\",\n",
    "    start_date=\"2012-01-01 12:00:00\",\n",
    "    end_date = \"2012-01-04 12:00:00\"\n",
    ")\n",
    "\n",
    "print(my_surface_forcing)"
   ]
  },
  {
   "cell_type": "markdown",
   "id": "6cc0ed0d-0909-4cf9-b3ee-80e032d176fb",
   "metadata": {},
   "source": [
    "### Creating a prepared copy with `InputDataset.get()`:\n",
    "<div class=\"alert alert-info\">\n",
    "\n",
    "**Note**\n",
    "    \n",
    "Most users will not need to use the `get()` method: if your `InputDataset` is part of a `ROMSSimulation` instance, then C-Star will call `get()` automatically as part of any `ROMSSimulation.setup()` call.\n",
    "\n",
    "</div>"
   ]
  },
  {
   "cell_type": "code",
   "execution_count": 8,
   "id": "631529f0-244c-46d3-95ba-b7b88922e66c",
   "metadata": {},
   "outputs": [
    {
     "name": "stderr",
     "output_type": "stream",
     "text": [
      "INFO - Data will be interpolated onto fine grid.\n",
      "/Users/dafyddstephenson/miniconda3/envs/cstar_env/lib/python3.13/site-packages/roms_tools/utils.py:142: FutureWarning: In a future version of xarray decode_timedelta will default to False rather than None. To silence this warning, set decode_timedelta to True, False, or a 'CFTimedeltaCoder' instance.\n",
      "  ds = xr.open_mfdataset(\n",
      "INFO - Writing the following NetCDF files:\n",
      "/Users/dafyddstephenson/Code/my_c_star/examples/input_dataset_example/roms_frc_201201.nc\n"
     ]
    },
    {
     "name": "stdout",
     "output_type": "stream",
     "text": [
      "Saving roms-tools dataset created from ~/Code/my_c_star/blueprints/cstar_blueprint_roms_marbl_example/input_datasets_yaml/roms_frc.yaml...\n",
      "[########################################] | 100% Completed | 2.98 sms\n"
     ]
    }
   ],
   "source": [
    "my_surface_forcing.get(local_dir=\"~/Code/my_c_star/examples/input_dataset_example/\")"
   ]
  },
  {
   "cell_type": "markdown",
   "id": "da6449fa-885c-49e9-9f58-4ddb94071b3e",
   "metadata": {},
   "source": [
    "## 4. Partitioning input datasets for use with ROMS with `InputDataset.partition()`\n",
    "\n",
    "<div class=\"alert alert-info\">\n",
    "\n",
    "**Note**\n",
    "    \n",
    "Most users will not need to use the `partition()` method: if your `InputDataset` is part of a `ROMSSimulation` instance, then C-Star will call `partition()` automatically as part of any `ROMSSimulation.pre_run()` call.\n",
    "\n",
    "</div>\n",
    "\n",
    "ROMS requires that input datasets are \"partitioned\" - i.e., split into several smaller files such that each processor in a parallel run works with a subset of the entire domain. To perform this action, call `InputDataset.partition()`. \n",
    "\n",
    "The `np_xi` and `np_eta` parameters of this method correspond to the number of processors in the `xi` and `eta` directions (roughly corresponding to East-West and North-South, depending on grid rotation):"
   ]
  },
  {
   "cell_type": "code",
   "execution_count": 11,
   "id": "acec39e0-8b3f-4f16-9d49-06b72352fad9",
   "metadata": {},
   "outputs": [
    {
     "name": "stdout",
     "output_type": "stream",
     "text": [
      "Partitioning /Users/dafyddstephenson/Code/my_c_star/examples/input_dataset_example/roms_frc_201201.nc into (3,3)\n"
     ]
    },
    {
     "name": "stderr",
     "output_type": "stream",
     "text": [
      "/Users/dafyddstephenson/miniconda3/envs/cstar_env/lib/python3.13/site-packages/roms_tools/tiling/partition.py:322: FutureWarning: In a future version of xarray decode_timedelta will default to False rather than None. To silence this warning, set decode_timedelta to True, False, or a 'CFTimedeltaCoder' instance.\n",
      "  ds = xr.open_dataset(filepath.with_suffix(\".nc\"))\n",
      "/Users/dafyddstephenson/miniconda3/envs/cstar_env/lib/python3.13/site-packages/roms_tools/tiling/partition.py:322: SerializationWarning: Can't decode floating point timedelta to 's' without precision loss, decoding to 'ns' instead. To silence this warning use time_unit='ns' in call to decoding function.\n",
      "  ds = xr.open_dataset(filepath.with_suffix(\".nc\"))\n"
     ]
    }
   ],
   "source": [
    "my_surface_forcing.partition(np_xi=3,np_eta=3)"
   ]
  },
  {
   "cell_type": "markdown",
   "id": "851dc400-62c7-42f0-9f31-73133bc9fe6c",
   "metadata": {},
   "source": [
    "... We can see that the method executed successfully as C-Star is now additionally tracking the `Partitioned files` :"
   ]
  },
  {
   "cell_type": "code",
   "execution_count": 12,
   "id": "335fb90e-1a7f-40c5-b4fa-8eca0fae1900",
   "metadata": {},
   "outputs": [
    {
     "name": "stdout",
     "output_type": "stream",
     "text": [
      "------------------\n",
      "ROMSSurfaceForcing\n",
      "------------------\n",
      "Source location: ~/Code/my_c_star/blueprints/cstar_blueprint_roms_marbl_example/input_datasets_yaml/roms_frc.yaml\n",
      "start_date: 2012-01-01 12:00:00\n",
      "end_date: 2012-01-04 12:00:00\n",
      "Working path: /Users/dafyddstephenson/Code/my_c_star/examples/input_dataset_example/roms_frc_201201.nc (exists)\n",
      "Local hash: {PosixPath('/Users/dafyddstephenson/Code/my_c_star/examples/input_dataset_example/roms_frc_201201.nc'): '9cb484309c1ca9d5c0e185a3f50f59e7ee837dd1b183014093f7027f8235a60b'}\n",
      "Partitioned files: ['/Users/dafyddstephenson/Code/my_c_star/examples/input_dataset_example/PARTITIONED/roms_frc_201201.0.nc',\n",
      "                    '/Users/dafyddstephenson/Code/my_c_star/examples/input_dataset_example/PARTITIONED/roms_frc_201201.1.nc',\n",
      "                       ...\n",
      "                    '/Users/dafyddstephenson/Code/my_c_star/examples/input_dataset_example/PARTITIONED/roms_frc_201201.8.nc'] <9 items>\n"
     ]
    }
   ],
   "source": [
    "print(my_surface_forcing)"
   ]
  },
  {
   "cell_type": "markdown",
   "id": "49f0adf5-4a99-447a-b336-9bcc9df2da84",
   "metadata": {},
   "source": [
    "## 5. Summary\n",
    "In this guide, we have considered:\n",
    "- The different subclasses of `ROMSInputDataset`\n",
    "- How to instantiate these different subclasses when input datasets have different sources\n",
    "\n",
    "And optionally, for users working outside of the context of a `ROMSSimulation`:\n",
    "- How to create a working copy/path to a prepared, locally available copy of the dataset\n",
    "- How to partition the dataset such that it is ROMS-ready"
   ]
  }
 ],
 "metadata": {
  "kernelspec": {
   "display_name": "Python 3 (ipykernel)",
   "language": "python",
   "name": "python3"
  },
  "language_info": {
   "codemirror_mode": {
    "name": "ipython",
    "version": 3
   },
   "file_extension": ".py",
   "mimetype": "text/x-python",
   "name": "python",
   "nbconvert_exporter": "python",
   "pygments_lexer": "ipython3",
   "version": "3.13.1"
  }
 },
 "nbformat": 4,
 "nbformat_minor": 5
}
