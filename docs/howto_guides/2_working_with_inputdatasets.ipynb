{
 "cells": [
  {
   "cell_type": "markdown",
   "id": "590e43ad-bacd-46ea-950a-ebd35b0d9eba",
   "metadata": {},
   "source": [
    "# Working with the `InputDataset` class\n",
    "\n",
    "## Contents\n",
    "1. [Introduction](#1.-Introduction)\n",
    "2. [InputDataset subclasses and their instantiation](#2.-InputDataset-subclasses-and-their-instantiation)\n",
    "3. [Working with different sources](#3.-Working-with-different-sources)\n",
    "   - [Working with local, prepared (netCDF) sources](#3i.-Working-with-local,-prepared-netCDF-sources)\n",
    "   - [Working with remote, prepared (netCDF) sources](#3ii.-Working-with-remote-prepared-netCDF-sources)\n",
    "   - [Working with unprepared (yaml) sources](#3iii.-Working-with-unprepared-yaml-sources)\n",
    "\n",
    "## 1. Introduction\n",
    "In C-Star, the `InputDataset` holds information on, and offers methods relevant to, files containing numerical data required by a simulation (such as initial conditions). This can be compared with [the `AdditionalCode` class](LINK-TODO), which is related to text-based files needed by a simulation (such as lists of custom settings).\n",
    "\n",
    "The `InputDataset` class is an abstract class, and can not be instantiated directly. Instead, the relevant subclass should be used.\n",
    "\n",
    "## 2. InputDataset subclasses and their instantiation\n",
    "C-Star currently supports the ROMS ocean model, for which there are five `InputDataset` subclasses:\n",
    "```\n",
    "InputDataset\n",
    " └── ROMSInputDataset\n",
    "     ├── ROMSModelGrid\n",
    "     ├── ROMSInitialConditions\n",
    "     ├── ROMSTidalForcing\n",
    "     ├── ROMSBoundaryForcing\n",
    "     └── ROMSSurfaceForcing\n",
    "```\n",
    "As mentioned above, the `InputDataset` and `ROMSInputDataset` are abstract base classes, so one of these five subclasses must be instantiated.\n",
    "\n",
    "The parameters required to create an `InputDataset` instance vary depending on the source. Let's consider each in turn:\n",
    "\n",
    "## 3. Working with different sources\n",
    "### 3i. Working with local, prepared (netCDF) sources\n",
    "In the simplest case, the input dataset already exists, in a ROMS-compatible (netCDF) format, on the local filesystem. In this case, we only need to provide the `location` parameter, with a path to the file:"
   ]
  },
  {
   "cell_type": "code",
   "execution_count": 1,
   "id": "8c858dfe-e0db-4dc4-87d7-b0a3416cf329",
   "metadata": {},
   "outputs": [
    {
     "name": "stdout",
     "output_type": "stream",
     "text": [
      "-------------\n",
      "ROMSModelGrid\n",
      "-------------\n",
      "Source location: ~/Code/my_ucla_roms/Examples/input_data/sample_grd_riv.nc\n",
      "Working path: None ( does not yet exist. Call InputDataset.get() )\n"
     ]
    }
   ],
   "source": [
    "from cstar.roms import ROMSModelGrid\n",
    "my_grid = ROMSModelGrid(location=\"~/Code/my_ucla_roms/Examples/input_data/sample_grd_riv.nc\")\n",
    "print(my_grid)"
   ]
  },
  {
   "cell_type": "markdown",
   "id": "0f01cf32-2aff-4e26-8873-4ccad7571166",
   "metadata": {},
   "source": [
    "### Creating a working version with `InputDataset.get()`:\n",
    "In the above example, we see that `Working path` is `None` and that we should call `InputDataset.get()` to change this. In the case of a local `netCDF` file, whose contents cannot be tampered with by C-Star, calling `get()` creates a symbolic link in the working directory to the source file:"
   ]
  },
  {
   "cell_type": "code",
   "execution_count": 2,
   "id": "315cbb80-2111-4c2a-bb53-65152416cdfb",
   "metadata": {},
   "outputs": [],
   "source": [
    "my_grid.get(local_dir = \"~/Code/my_c_star/examples/input_dataset_example\")"
   ]
  },
  {
   "cell_type": "code",
   "execution_count": 3,
   "id": "c0ebe25e-1425-4359-b52b-311af81d9f00",
   "metadata": {},
   "outputs": [
    {
     "name": "stdout",
     "output_type": "stream",
     "text": [
      "-------------\n",
      "ROMSModelGrid\n",
      "-------------\n",
      "Source location: ~/Code/my_ucla_roms/Examples/input_data/sample_grd_riv.nc\n",
      "Working path: /Users/dafyddstephenson/Code/my_c_star/examples/input_dataset_example/sample_grd_riv.nc (exists)\n",
      "Local hash: {PosixPath('/Users/dafyddstephenson/Code/my_c_star/examples/input_dataset_example/sample_grd_riv.nc'): '8e2f1ca3135ac7f5696d3eaec79b035a1bae15c8a34e751a7f9d925787ab3f6e'}\n"
     ]
    }
   ],
   "source": [
    "print(my_grid)"
   ]
  },
  {
   "cell_type": "markdown",
   "id": "f6120b77-7df8-44a2-bf04-d8dc8bc66a4d",
   "metadata": {},
   "source": [
    "After calling `get()` we see that there is now additional information associated with this `InputDataset` - the source location, as before, but also the `Working path` (in this case a symbolic link to the source location) and a `Local hash`: a checksum of the file in question to protect against changes or tampering with the file."
   ]
  },
  {
   "cell_type": "markdown",
   "id": "e3430ece-231e-4fed-91bd-7393fb91a2b7",
   "metadata": {},
   "source": [
    "### 3ii. Working with remote, prepared (netCDF) sources\n",
    "In this case, as above, the input dataset already exists, in a ROMS-compatible (netCDF) format, but this time is stored at a remote location. Now, the `location` parameter will be a URL, and we also need to provide a value for the `file_hash` parameter. \n",
    "\n",
    "<div class=\"alert alert-info\">\n",
    "\n",
    "**Note**\n",
    "    \n",
    "The `file_hash` parameter is a unique string summary of the entire file, that is used for security with remote binary files (such as netCDF) to verify that any downloads by C-Star correspond exactly to the expected data. C-Star uses a 256-bit shasum for hashes.\n",
    "\n",
    "If you do not know the file hash, it is advisable that you ask the creator of the file to check their local copy. \n",
    "\n",
    "</div>"
   ]
  },
  {
   "cell_type": "code",
   "execution_count": 4,
   "id": "93acbca5-fe0d-43bb-8c2c-53d90ca8e230",
   "metadata": {},
   "outputs": [
    {
     "name": "stdout",
     "output_type": "stream",
     "text": [
      "-------------\n",
      "ROMSModelGrid\n",
      "-------------\n",
      "Source location: https://github.com/dafyddstephenson/ucla_roms_examples_input_data/raw/main/sample_grd_riv.nc\n",
      "Source file hash: 8e2f1ca3135ac7f5696d3eaec79b035a1bae15c8a34e751a7f9d925787ab3f6e\n",
      "Working path: None ( does not yet exist. Call InputDataset.get() )\n"
     ]
    }
   ],
   "source": [
    "from cstar.roms import ROMSModelGrid\n",
    "my_grid = ROMSModelGrid(location=\"https://github.com/dafyddstephenson/ucla_roms_examples_input_data/raw/main/sample_grd_riv.nc\",\n",
    "                       file_hash=\"8e2f1ca3135ac7f5696d3eaec79b035a1bae15c8a34e751a7f9d925787ab3f6e\")\n",
    "print(my_grid)"
   ]
  },
  {
   "cell_type": "markdown",
   "id": "13dbf224-5e35-4722-bc03-bbeb78bc90f8",
   "metadata": {},
   "source": [
    "### Creating a local copy with `InputDataset.get()`:\n",
    "As before, we see that `Working path` is `None` and that we should call `InputDataset.get()` to change this. In the case of a _remote_ `netCDF` file, calling `get()` downloads a copy of the source file to the working directory:"
   ]
  },
  {
   "cell_type": "code",
   "execution_count": 5,
   "id": "f1dbfc11-11f0-4d01-8ea9-e1fcfdb3a027",
   "metadata": {},
   "outputs": [],
   "source": [
    "my_grid.get(local_dir = \"~/Code/my_c_star/examples/input_dataset_example\")"
   ]
  },
  {
   "cell_type": "code",
   "execution_count": 6,
   "id": "97f7f98b-a6d7-4294-a442-1115a9568420",
   "metadata": {},
   "outputs": [
    {
     "name": "stdout",
     "output_type": "stream",
     "text": [
      "-------------\n",
      "ROMSModelGrid\n",
      "-------------\n",
      "Source location: https://github.com/dafyddstephenson/ucla_roms_examples_input_data/raw/main/sample_grd_riv.nc\n",
      "Source file hash: 8e2f1ca3135ac7f5696d3eaec79b035a1bae15c8a34e751a7f9d925787ab3f6e\n",
      "Working path: /Users/dafyddstephenson/Code/my_c_star/examples/input_dataset_example/sample_grd_riv.nc (exists)\n",
      "Local hash: {PosixPath('/Users/dafyddstephenson/Code/my_c_star/examples/input_dataset_example/sample_grd_riv.nc'): '8e2f1ca3135ac7f5696d3eaec79b035a1bae15c8a34e751a7f9d925787ab3f6e'}\n"
     ]
    }
   ],
   "source": [
    "print(my_grid)"
   ]
  },
  {
   "cell_type": "markdown",
   "id": "6c52f4b0-594f-436a-8e47-acfc29ba35d9",
   "metadata": {},
   "source": [
    "### 3iii. Working with unprepared (yaml) sources\n",
    "C-Star also supports creating input datasets from plaintext instructions in `.yaml` format, by interfacing with the `roms-tools` python package. For more information on creating datasets to export in this format, see [the `roms-tools` documentation](https://roms-tools.readthedocs.io/en/latest/). \n",
    "\n",
    "As we are working with plain text (rather than binary files as in the examples above) we don't need to verify remote downloads, and so the process for using local or remote files is the same: we simply provide the `location` parameter, either a URL or local path.\n",
    "\n",
    "As we are creating the dataset from scratch, depending on the type of dataset, we also need some additional information. In particular, the `start_date` and `end_date` parameters allow C-Star to tell `roms-tools` the dates between which the dataset is required (if any - the grid is time-invariant, for instance)."
   ]
  },
  {
   "cell_type": "code",
   "execution_count": 7,
   "id": "5050b236-bd91-400f-8c68-966fc6f6a273",
   "metadata": {},
   "outputs": [
    {
     "name": "stdout",
     "output_type": "stream",
     "text": [
      "------------------\n",
      "ROMSSurfaceForcing\n",
      "------------------\n",
      "Source location: ~/Code/my_c_star/blueprints/cstar_blueprint_roms_marbl_example/input_datasets_yaml/roms_frc.yaml\n",
      "start_date: 2012-01-01 12:00:00\n",
      "end_date: 2012-01-02 12:00:00\n",
      "Working path: None ( does not yet exist. Call InputDataset.get() )\n"
     ]
    }
   ],
   "source": [
    "from cstar.roms import ROMSSurfaceForcing\n",
    "my_surface_forcing = ROMSSurfaceForcing(\n",
    "    location=\"~/Code/my_c_star/blueprints/cstar_blueprint_roms_marbl_example/input_datasets_yaml/roms_frc.yaml\",\n",
    "    start_date=\"2012-01-01 12:00:00\",\n",
    "    end_date = \"2012-01-02 12:00:00\"\n",
    ")\n",
    "\n",
    "print(my_surface_forcing)"
   ]
  },
  {
   "cell_type": "markdown",
   "id": "6cc0ed0d-0909-4cf9-b3ee-80e032d176fb",
   "metadata": {},
   "source": [
    "### Creating a prepared copy with `InputDataset.get()`:"
   ]
  },
  {
   "cell_type": "code",
   "execution_count": null,
   "id": "631529f0-244c-46d3-95ba-b7b88922e66c",
   "metadata": {},
   "outputs": [
    {
     "name": "stderr",
     "output_type": "stream",
     "text": [
      "INFO - Data will be interpolated onto fine grid.\n",
      "/Users/dafyddstephenson/miniconda3/envs/cstar_env/lib/python3.13/site-packages/roms_tools/utils.py:142: FutureWarning: In a future version of xarray decode_timedelta will default to False rather than None. To silence this warning, set decode_timedelta to True, False, or a 'CFTimedeltaCoder' instance.\n",
      "  ds = xr.open_mfdataset(\n",
      "INFO - Writing the following NetCDF files:\n",
      "/Users/dafyddstephenson/Code/my_c_star/examples/input_dataset_example/roms_frc_201201.nc\n"
     ]
    },
    {
     "name": "stdout",
     "output_type": "stream",
     "text": [
      "Saving roms-tools dataset created from ~/Code/my_c_star/blueprints/cstar_blueprint_roms_marbl_example/input_datasets_yaml/roms_frc.yaml...\n",
      "[###                                     ] | 8% Completed | 4hr 53mss"
     ]
    }
   ],
   "source": [
    "my_surface_forcing.get(local_dir = \"~/Code/my_c_star/examples/input_dataset_example\")"
   ]
  },
  {
   "cell_type": "markdown",
   "id": "8090f268-8300-489b-b8e9-f7c727bc38ef",
   "metadata": {},
   "source": [
    "The other, optional parameters are:\n",
    "- `file_hash` (`str`): This is the 256-bit checksum associated with the file found at `location`. More information can be found [below](#Remote-vs-local-input-datasets)\n",
    "-  `start_date` (`str` or `datetime`): For spatiotemporal datasets, this is the earliest date associated with the dataset. More information can be found [below](#Prepared-vs-unprepared-datasets)\n",
    "-  `end_date` (`str` or `datetime`): For spatiotemporal datasets, this is the latest date associated with the dataset. More information can be found [below](#Prepared-vs-unprepared-datasets)"
   ]
  },
  {
   "cell_type": "markdown",
   "id": "46635c17-f1d1-4cf3-8beb-ab2ff63f21f7",
   "metadata": {},
   "source": [
    "## Prepared vs unprepared input datasets\n",
    "C-Star users have two options for the source of an `InputDataset`:\n",
    "- `netCDF` files, which are already prepared and ready to be provided directly to the model.\n",
    "- `yaml` files, which contain plaintext instructions to _create_ a `netCDF` file using the `roms-tools` package.\n",
    "\n",
    "`netCDF` files are typically very large (often `TB` in total for a meaningful simulation) whereas `yaml` files are only a few `kB`, making them easier to work with when preparing or obtaining a remotely hosted simulation. However, `yaml` files necessitate generating the corresponding `netCDF` locally, a process that can have a large memory footprint and additionally [requires an available copy of any datasets that `roms-tools` requires.](https://roms-tools.readthedocs.io/en/latest/datasets.html)\n",
    "\n",
    "Instantiating the `InputDataset` is the same in either case - the `location` simply points to a file in the chosen format. If the user points to a `yaml` file and also provides a `start_date` or `end_date`, the corresponding entries in the `yaml` file will be updated to these values such that the final produced dataset is defined on the correct date range. If the user points to a `netCDF` file, this is not possible - the `start_date` and `end_date` are simply used for internal checks within C-Star."
   ]
  },
  {
   "cell_type": "markdown",
   "id": "da8a3492-d18c-4771-83cb-50b8d702250a",
   "metadata": {},
   "source": [
    "## Remote vs local input datasets\n",
    "C-Star users further have the choice between working with source files accessible to C-Star locally, or remote files (that must be downloaded). Instantiation is the same in both cases for `yaml` files, which can be read directly from a remote source. \n",
    "\n",
    "When the source is a remote netCDF file, the `file_hash` parameter must be specified. This is for security purposes - if the provided hash does not match that of the downloaded file, the file will be deleted and C-Star will raise an error containing the expected and received file hashes.\n",
    "\n",
    "You can calculate the hash of a local file using `cstar.base.utils.get_sha256_hash`, for instance if you were planning to upload the file to a remote location and [create/share a blueprint](LINK-TODO) that uses it. It is not possible in general to calculate the file hash of a remote file without first downloading it.\n"
   ]
  },
  {
   "cell_type": "markdown",
   "id": "161182f1-4185-4462-b7e8-c8534f038f94",
   "metadata": {},
   "source": [
    "## Fetching `InputDatasets` via `InputDataset.get()` or `Case.setup()`\n",
    "`InputDataset` instances in C-Star at first point to their source location, as described above. When `InputDataset.get()` is called, a local, model-ready version of the dataset is established, tracked separately under the `working_path` attribute.\n",
    "\n",
    "The realization of the local version depends on the source:\n",
    "- for local or remote `yaml` files, the file is loaded into memory, modified as necessary, and passed to `roms-tools` to generate a netCDF file at the local location\n",
    "- for remote netCDF files, the file is downloaded and stored at the local location\n",
    "- or local netCDF files, a symbolic link to the source file is created at the local location to minimize storage demand\n",
    "\n",
    "When calling `Case.setup()` on a `Case` with one or more `InputDataset`s, `InputDataset.get()` is called on each, fetching them to the caseroot.\n",
    "\n",
    "### `yaml` example:"
   ]
  },
  {
   "cell_type": "code",
   "execution_count": 1,
   "id": "9a7dc1e7-6a6b-4fb5-aac5-375d6cb97bef",
   "metadata": {},
   "outputs": [
    {
     "name": "stdout",
     "output_type": "stream",
     "text": [
      "------------------\n",
      "ROMSSurfaceForcing\n",
      "------------------\n",
      "Source location: /Users/dafyddstephenson/Code/my_c_star/blueprints/cstar_blueprint_roms_marbl_example/input_datasets_yaml/roms_frc.yaml\n",
      "start_date: 2012-01-15 12:00:00\n",
      "end_date: 2012-01-16 12:00:00\n",
      "Working path: None ( does not yet exist. Call InputDataset.get() )\n"
     ]
    }
   ],
   "source": [
    "from cstar.roms import ROMSSurfaceForcing\n",
    "my_forcing = ROMSSurfaceForcing(\n",
    "    location=\"/Users/dafyddstephenson/Code/my_c_star/blueprints/cstar_blueprint_roms_marbl_example/input_datasets_yaml/roms_frc.yaml\",\n",
    "    start_date=\"2012-01-15 12:00:00\",\n",
    "    end_date=\"2012-01-16 12:00:00\"\n",
    "    )\n",
    "print(my_forcing)"
   ]
  },
  {
   "cell_type": "code",
   "execution_count": 2,
   "id": "69203892-1ecb-424c-bd9d-69a949476b17",
   "metadata": {},
   "outputs": [
    {
     "name": "stderr",
     "output_type": "stream",
     "text": [
      "WARNING - Current roms-tools version (2.3.0) does not match the version in the YAML header (2.2.1).\n",
      "/Users/dafyddstephenson/miniconda3/envs/cstar_env/lib/python3.12/site-packages/roms_tools/utils.py:474: FutureWarning: In a future version of xarray decode_timedelta will default to False rather than None. To silence this warning, set decode_timedelta to True, False, or a 'CFTimedeltaCoder' instance.\n",
      "  ds = xr.open_mfdataset(\n"
     ]
    },
    {
     "name": "stdout",
     "output_type": "stream",
     "text": [
      "---\n",
      "roms_tools_version: 2.2.1\n",
      "---\n",
      "Grid:\n",
      "  N: 20\n",
      "  center_lat: 52.4\n",
      "  center_lon: -4.1\n",
      "  hc: 300.0\n",
      "  hmin: 5.0\n",
      "  nx: 30\n",
      "  ny: 30\n",
      "  rot: 0\n",
      "  size_x: 240\n",
      "  size_y: 240\n",
      "  theta_b: 2.0\n",
      "  theta_s: 5.0\n",
      "  topography_source:\n",
      "    name: ETOPO5\n",
      "SurfaceForcing:\n",
      "  correct_radiation: true\n",
      "  end_time: null\n",
      "  model_reference_date: '2000-01-01T00:00:00'\n",
      "  source:\n",
      "    climatology: false\n",
      "    name: ERA5\n",
      "    path: /Users/dafyddstephenson/code/roms_tools_datasets/ERA5_2012-01.nc\n",
      "  start_time: null\n",
      "  type: physics\n",
      "  use_coarse_grid: false\n",
      "Saving roms-tools dataset created from /Users/dafyddstephenson/Code/my_c_star/blueprints/cstar_blueprint_roms_marbl_example/input_datasets_yaml/roms_frc.yaml...\n",
      "[########################################] | 100% Completed | 28.70 s\n"
     ]
    }
   ],
   "source": [
    "my_forcing.get(\"/Users/dafyddstephenson/Downloads\")"
   ]
  }
 ],
 "metadata": {
  "kernelspec": {
   "display_name": "Python 3 (ipykernel)",
   "language": "python",
   "name": "python3"
  },
  "language_info": {
   "codemirror_mode": {
    "name": "ipython",
    "version": 3
   },
   "file_extension": ".py",
   "mimetype": "text/x-python",
   "name": "python",
   "nbconvert_exporter": "python",
   "pygments_lexer": "ipython3",
   "version": "3.13.1"
  }
 },
 "nbformat": 4,
 "nbformat_minor": 5
}
