{
 "cells": [
  {
   "cell_type": "markdown",
   "id": "7ac160eb-bd25-4ed3-af11-bc20536b2a80",
   "metadata": {},
   "source": [
    "# Working with the `ExternalCodeBase` class\n",
    "\n",
    "## Contents\n",
    "1. [Introduction](#1.-Introduction)\n",
    "2. [Default codebase instances](#2.-Default-codebase-instances)\n",
    "3. [Custom codebase instances](#3.-Custom-codebase-instances)\n",
    "4. [Installing external codebases](#4.-Installing-external-codebases)\n",
    "\n",
    "## 1. Introduction\n",
    "Advanced users may wish to control the specific version of external codebases to C-Star like model source code that is not specific to a particular simulation. Currently C-Star supports two external codebases: the regional ocean circulation model [ROMS](https://research.atmos.ucla.edu/cesr/ROMS_page.html) and the ocean biogeochemistry library [MARBL](https://marbl.readthedocs.io/en/latest/). \n",
    "These codebases respectively correspond to two subclasses of the `ExternalCodeBase` class in C-Star, `ROMSExternalCodeBase` and `MARBLExternalCodeBase`.\n",
    "\n",
    "## 2. Default codebase instances\n",
    "When creating a `ROMSSimulation` instance without providing information about these codebases, C-Star reverts to defaults. We can see these defaults by instantiating the `ExternalCodeBase` subclasses without any parameters:"
   ]
  },
  {
   "cell_type": "code",
   "execution_count": 1,
   "id": "f52a6b4c-92ca-4177-9469-154c20456f40",
   "metadata": {},
   "outputs": [
    {
     "name": "stdout",
     "output_type": "stream",
     "text": [
      "ROMSExternalCodeBase\n",
      "--------------------\n",
      "source_repo : https://github.com/CESR-lab/ucla-roms.git (default)\n",
      "checkout_target : main (corresponding to hash 2b0c2508647763b3edaee4c0b2bdfdcde385740e) (default)\n",
      "local_config_status: 2 (Environment variable ROMS_ROOT is present, points to the correct repository remote, but is checked out at the wrong hash)\n"
     ]
    }
   ],
   "source": [
    "from cstar.roms import ROMSExternalCodeBase\n",
    "roms_codebase = ROMSExternalCodeBase()\n",
    "print(roms_codebase)"
   ]
  },
  {
   "cell_type": "markdown",
   "id": "b5619565-f693-40b9-a8cc-80691929b237",
   "metadata": {},
   "source": [
    "This tells us three things about our default ROMS codebase:\n",
    "- The source code is maintained by CESR (a lab at UCLA) on GitHub\n",
    "- C-Star will use the latest code on the `main` branch of this repository\n",
    "- The codebase has not been installed and configured locally"
   ]
  },
  {
   "cell_type": "code",
   "execution_count": 2,
   "id": "f39172e5-e8f6-45cf-8f61-907e94bc36c9",
   "metadata": {},
   "outputs": [
    {
     "name": "stdout",
     "output_type": "stream",
     "text": [
      "MARBLExternalCodeBase\n",
      "---------------------\n",
      "source_repo : https://github.com/marbl-ecosys/MARBL.git (default)\n",
      "checkout_target : marbl0.45.0 (corresponding to hash 6e6b2f7c32ac5427e6cf46de4222973b8bcaa3d9) (default)\n",
      "local_config_status: 0 (Environment variable MARBL_ROOT is present, points to the correct repository remote, and is checked out at the correct hash)\n"
     ]
    }
   ],
   "source": [
    "from cstar.marbl import MARBLExternalCodeBase\n",
    "marbl_codebase = MARBLExternalCodeBase()\n",
    "print(marbl_codebase)"
   ]
  },
  {
   "cell_type": "markdown",
   "id": "cbcfa163-76d1-4e7b-b29e-6671baccf689",
   "metadata": {},
   "source": [
    "This tells us three things about our default MARBL codebase:\n",
    "- The source code is maintained by the `marbl-ecosys` group on GitHub \n",
    "- C-Star will use the specific release `0.45`\n",
    "- The codebase has not been installed and configured locally"
   ]
  },
  {
   "cell_type": "markdown",
   "id": "340a36dd-4a51-410b-82d1-cd05cfa93806",
   "metadata": {},
   "source": [
    "## 3. Custom codebase instances\n",
    "As noted above, advanced users may wish to deviate from these defaults, which can be done quite simply when creating the instance by supplying the parameters `source_repo` (The location of a git repository) and `checkout_target` (a target in that repository's history). \n",
    "\n",
    "As an example, let's use a _fork_ of ROMS, checked out to a specific commit hash:"
   ]
  },
  {
   "cell_type": "code",
   "execution_count": 3,
   "id": "0e6cb1e3-a68f-4a14-8e6f-fdc7b085fddd",
   "metadata": {},
   "outputs": [
    {
     "name": "stdout",
     "output_type": "stream",
     "text": [
      "ROMSExternalCodeBase\n",
      "--------------------\n",
      "source_repo : https://github.com/dafyddstephenson/ucla-roms\n",
      "checkout_target : f71c4e29ff45043bc6ef564da98a16366f9cd19b\n",
      "local_config_status: 1 (Environment variable ROMS_ROOT is present but does not point to the correct repository remote [unresolvable])\n"
     ]
    }
   ],
   "source": [
    "my_roms_codebase = ROMSExternalCodeBase(source_repo=\"https://github.com/dafyddstephenson/ucla-roms\", \n",
    "                                        checkout_target=\"f71c4e29ff45043bc6ef564da98a16366f9cd19b\")\n",
    "print(my_roms_codebase)"
   ]
  },
  {
   "cell_type": "markdown",
   "id": "b35753c3-f3a6-4021-a171-bcc3b815391d",
   "metadata": {},
   "source": [
    "## 4. Installing external codebases\n",
    "<div class=\"alert alert-info\">\n",
    "\n",
    "**Note**\n",
    "    \n",
    "Most users will not need to use the `get()` method or manually install codebases: if your `ExternalCodeBase` is part of a `ROMSSimulation` instance, then C-Star will call `get()` automatically as part of any `ROMSSimulation.setup()` call.\n",
    "\n",
    "</div>\n",
    "\n",
    "Should you wish to install the codebase you have created, you can use the `get()` method. This will typically modify your `~/.cstar.env` file, which is read by C-Star each time you use it to configure your environment and persist codebase installs between sessions:"
   ]
  },
  {
   "cell_type": "code",
   "execution_count": 4,
   "id": "6d448341-49a4-4eb3-a8f8-5ccc6e65d121",
   "metadata": {},
   "outputs": [
    {
     "name": "stdout",
     "output_type": "stream",
     "text": [
      "[INFO] Updating environment in C-Star configuration file /Users/dafyddstephenson/.cstar.env\n"
     ]
    }
   ],
   "source": [
    "my_roms_codebase.get(target=\"~/Code/my_c_star/examples/external_codebase_example/ucla_roms\")"
   ]
  },
  {
   "cell_type": "code",
   "execution_count": 5,
   "id": "fcb29929-fac6-4368-9e5c-e0ea5623d911",
   "metadata": {},
   "outputs": [
    {
     "name": "stdout",
     "output_type": "stream",
     "text": [
      "ROMSExternalCodeBase\n",
      "--------------------\n",
      "source_repo : https://github.com/dafyddstephenson/ucla-roms\n",
      "checkout_target : f71c4e29ff45043bc6ef564da98a16366f9cd19b\n",
      "local_config_status: 0 (Environment variable ROMS_ROOT is present, points to the correct repository remote, and is checked out at the correct hash)\n"
     ]
    }
   ],
   "source": [
    "print(my_roms_codebase)"
   ]
  },
  {
   "cell_type": "markdown",
   "id": "00102132-353e-4076-a681-ff9de23eab25",
   "metadata": {},
   "source": [
    "... We now see the `local_config_status` has updated to reflect the installation of ROMS."
   ]
  }
 ],
 "metadata": {
  "kernelspec": {
   "display_name": "Python 3 (ipykernel)",
   "language": "python",
   "name": "python3"
  },
  "language_info": {
   "codemirror_mode": {
    "name": "ipython",
    "version": 3
   },
   "file_extension": ".py",
   "mimetype": "text/x-python",
   "name": "python",
   "nbconvert_exporter": "python",
   "pygments_lexer": "ipython3",
   "version": "3.13.2"
  }
 },
 "nbformat": 4,
 "nbformat_minor": 5
}
