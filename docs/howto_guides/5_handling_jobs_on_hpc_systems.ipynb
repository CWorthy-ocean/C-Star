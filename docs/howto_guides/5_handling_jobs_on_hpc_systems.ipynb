{
 "cells": [
  {
   "cell_type": "markdown",
   "id": "970997a3-caeb-42b8-923d-9b86f8c4d94c",
   "metadata": {},
   "source": [
    "> [!Warning] \n",
    "> **This project is still in an early phase of development.**\n",
    ">\n",
    "> The [python API](../api.html) is not yet stable, and some aspects of the schema for the [blueprint](../terminology.html#term-blueprint) will likely evolve. \n",
    "> Therefore whilst you are welcome to try out using the package, we cannot yet guarantee backwards compatibility. \n",
    "We expect to reach a more stable version in Q1 2025.\n",
    ">\n",
    "> To see which systems C-Star has been tested on so far, see [Supported Systems](../machines.html)."
   ]
  },
  {
   "cell_type": "markdown",
   "id": "53ab3d32-9292-44b6-a1f5-fa331b654307",
   "metadata": {},
   "source": [
    "# Tracking runs executed as jobs on HPC systems\n",
    "\n",
    "## Contents\n",
    "1. [Introduction](#1.-Introduction)\n",
    "2. [Importing an example Simulation and running it on HPC with a job scheduler](#2.-Importing-an-example-Simulation-and-running-it-on-HPC-with-a-job-scheduler)\n",
    "   - [A quick look at the system's scheduler](#2i.-A-quick-look-at-the-system's-scheduler)\n",
    "   - [Submitting a job to the scheduler queue](#2ii.-Submitting-a-job-to-the-scheduler-queue)\n",
    "3. [Tracking the submitted job](#3.-Tracking-the-submitted-job)\n",
    "   - [Viewing the submitted script](#3i.-Viewing-the-submitted-script)\n",
    "   - [Checking the job ID](#3ii.-Checking-the-job-ID)\n",
    "   - [Checking the status](#3iii.-Checking-the-status)\n",
    "   - [Viewing the output file path](#3iv.-Viewing-the-output-file-path)\n",
    "   - [Receiving live updates from the output file](#3v.-Receiving-live-updates-from-the-output-file)\n",
    "5. [Cancelling a job](#4.-Cancelling-a-job)\n",
    "7. [Summary](#5.-Summary)\n",
    "\n",
    "## 1. Introduction\n",
    "\n",
    "[(return to top)](#Contents)\n",
    "\n",
    "On this page, we will look at how to use C-Star on supported HPC systems with job schedulers, including:\n",
    "\n",
    "- Submitting a job to a scheduler queue\n",
    "- Checking the id of a job submitted to the queue\n",
    "- Checking the status of a job submitted to the queue\n",
    "- Receiving live updates from a job submitted to the queue\n",
    "- Cancelling a job submitted to the queue\n",
    "\n"
   ]
  },
  {
   "cell_type": "markdown",
   "id": "6f1d2be9-accc-4af6-849d-37d7f0257603",
   "metadata": {
    "tags": []
   },
   "source": [
    "## 2. Importing an example Simulation and running it on HPC with a job scheduler\n",
    "We will import and set up the same simulation as our [tutorial](../tutorials/2_importing_and_running_a_simulation_from_a_blueprint.html) on importing and running Simulations."
   ]
  },
  {
   "cell_type": "code",
   "execution_count": 1,
   "id": "1caec1e1-8cf5-4988-8d78-72280ecaf293",
   "metadata": {},
   "outputs": [],
   "source": [
    "from cstar.roms import ROMSSimulation\n",
    "\n",
    "example_simulation_1 = ROMSSimulation.from_blueprint(blueprint  = \"https://raw.githubusercontent.com/CWorthy-ocean/cstar_blueprint_roms_marbl_example/netcdf_inputs/cstar_blueprint_example_with_netcdf_inputs.yaml\",\n",
    "                                                     directory  = \"../../examples/example_case/\", \n",
    "                                                     start_date = \"2012-01-03 12:00:00\", \n",
    "                                                     end_date   = \"2012-01-06 12:00:00\")"
   ]
  },
  {
   "cell_type": "markdown",
   "id": "8455ad7d-ae6b-4ab2-91c7-be576dc87d1c",
   "metadata": {},
   "source": [
    "## 2i. A quick look at the system's scheduler"
   ]
  },
  {
   "cell_type": "markdown",
   "id": "179d7226-ee3b-4caa-9c87-33a4a7a7c561",
   "metadata": {},
   "source": [
    "Before running the case, let's take a look at this system's (i.e. NERSC Perlmutter's) scheduler. We can do this via the global variable `cstar_sysmgr`, using its `scheduler` property:"
   ]
  },
  {
   "cell_type": "code",
   "execution_count": 2,
   "id": "0563b510-8932-4203-9bb3-9533cffe95c2",
   "metadata": {
    "tags": []
   },
   "outputs": [
    {
     "name": "stdout",
     "output_type": "stream",
     "text": [
      "SlurmScheduler\n",
      "--------------\n",
      "primary_queue: regular\n",
      "queues:\n",
      "- regular\n",
      "- shared\n",
      "- debug\n",
      "other_scheduler_directives: {'-C': 'cpu'}\n",
      "global max cpus per node: 256\n",
      "global max mem per node: 503.02734375GB\n",
      "documentation: https://docs.nersc.gov/systems/perlmutter/architecture/\n"
     ]
    }
   ],
   "source": [
    "from cstar.system.manager import cstar_sysmgr\n",
    "print(cstar_sysmgr.scheduler)"
   ]
  },
  {
   "cell_type": "markdown",
   "id": "99bba5dc-1e56-4b4b-9e45-4ce05435c405",
   "metadata": {},
   "source": [
    "From here we can see some global properties of the current system's scheduler, including its queues and a link to its official documentation.\n",
    "\n",
    "We can query a queue to see its time limit before submitting a job to it:"
   ]
  },
  {
   "cell_type": "code",
   "execution_count": 3,
   "id": "d6d2dacb-0025-458d-bbfc-a10068c56f6e",
   "metadata": {
    "tags": []
   },
   "outputs": [
    {
     "name": "stdout",
     "output_type": "stream",
     "text": [
      "SlurmQOS:\n",
      "--------\n",
      "name: shared\n",
      "max_walltime: 48:00:00\n",
      "\n"
     ]
    }
   ],
   "source": [
    "print(cstar_sysmgr.scheduler.get_queue(\"shared\"))"
   ]
  },
  {
   "cell_type": "markdown",
   "id": "36a4e106-d605-4494-909a-b1c2cbc17eca",
   "metadata": {},
   "source": [
    "## 2ii. Submitting a job to the scheduler queue\n",
    "We can now set up and run the job [as in the corresponding tutorial](../tutorials/2_importing_and_running_a_simulation_from_a_blueprint.html), assigning the `SlurmJob` instance returned by `ROMSSimulation.run()` to a variable we can keep track of."
   ]
  },
  {
   "cell_type": "code",
   "execution_count": 4,
   "id": "82cb820a-0353-4146-9e01-2e425a615fa2",
   "metadata": {},
   "outputs": [
    {
     "name": "stdout",
     "output_type": "stream",
     "text": [
      "Configuring ROMSSimulation\n",
      "--------------------------\n",
      "Setting up ROMSExternalCodeBase...\n",
      "#######################################################\n",
      "C-STAR: ROMS_ROOT not found in current cstar_sysmgr.environment. \n",
      "if this is your first time running C-Star with an instance of ROMSExternalCodeBase, you will need to set it up.\n",
      "It is recommended that you install this external codebase in \n",
      "/global/cfs/cdirs/m4746/Users/dafydd/my_c_star/cstar/externals/ucla-roms\n",
      "This will also modify your `~/.cstar.env` file.\n",
      "#######################################################\n"
     ]
    },
    {
     "name": "stdin",
     "output_type": "stream",
     "text": [
      "Would you like to do this now? ('y', 'n', or 'custom' to install at a custom path)\n",
      " y\n"
     ]
    },
    {
     "name": "stdout",
     "output_type": "stream",
     "text": [
      "Cloned repository https://github.com/CESR-lab/ucla-roms.git to /global/cfs/cdirs/m4746/Users/dafydd/my_c_star/cstar/externals/ucla-roms\n",
      "Checked out main in git repository /global/cfs/cdirs/m4746/Users/dafydd/my_c_star/cstar/externals/ucla-roms\n",
      "Updating environment in C-Star configuration file ~/.cstar.env\n",
      "Updating environment in C-Star configuration file /global/homes/d/dafydd/.cstar.env\n",
      "Compiling UCLA ROMS' NHMG library...\n",
      "Compiling Tools-Roms package for UCLA ROMS...\n",
      "UCLA-ROMS is installed at /global/cfs/cdirs/m4746/Users/dafydd/my_c_star/cstar/externals/ucla-roms\n",
      "Setting up MARBLExternalCodeBase...\n",
      "#######################################################\n",
      "C-STAR: MARBL_ROOT not found in current cstar_sysmgr.environment. \n",
      "if this is your first time running C-Star with an instance of MARBLExternalCodeBase, you will need to set it up.\n",
      "It is recommended that you install this external codebase in \n",
      "/global/cfs/cdirs/m4746/Users/dafydd/my_c_star/cstar/externals/MARBL\n",
      "This will also modify your `~/.cstar.env` file.\n",
      "#######################################################\n"
     ]
    },
    {
     "name": "stdin",
     "output_type": "stream",
     "text": [
      "Would you like to do this now? ('y', 'n', or 'custom' to install at a custom path)\n",
      " y\n"
     ]
    },
    {
     "name": "stdout",
     "output_type": "stream",
     "text": [
      "Cloned repository https://github.com/marbl-ecosys/MARBL.git to /global/cfs/cdirs/m4746/Users/dafydd/my_c_star/cstar/externals/MARBL\n",
      "Checked out marbl0.45.0 in git repository /global/cfs/cdirs/m4746/Users/dafydd/my_c_star/cstar/externals/MARBL\n",
      "Updating environment in C-Star configuration file ~/.cstar.env\n",
      "Compiling MARBL...\n",
      "MARBL successfully installed at /global/cfs/cdirs/m4746/Users/dafydd/my_c_star/cstar/externals/MARBL\n",
      "\n",
      "Fetching compile-time code code...\n",
      "----------------------------------\n",
      "Cloned repository https://github.com/CWorthy-ocean/cstar_blueprint_roms_marbl_example.git to /tmp/tmp4c2nlmcu\n",
      "Checked out main in git repository /tmp/tmp4c2nlmcu\n",
      "copying bgc.opt to /global/cfs/cdirs/m4746/Users/dafydd/my_c_star/examples/example_case/ROMS/compile_time_code\n",
      "copying bulk_frc.opt to /global/cfs/cdirs/m4746/Users/dafydd/my_c_star/examples/example_case/ROMS/compile_time_code\n",
      "copying cppdefs.opt to /global/cfs/cdirs/m4746/Users/dafydd/my_c_star/examples/example_case/ROMS/compile_time_code\n",
      "copying diagnostics.opt to /global/cfs/cdirs/m4746/Users/dafydd/my_c_star/examples/example_case/ROMS/compile_time_code\n",
      "copying ocean_vars.opt to /global/cfs/cdirs/m4746/Users/dafydd/my_c_star/examples/example_case/ROMS/compile_time_code\n",
      "copying param.opt to /global/cfs/cdirs/m4746/Users/dafydd/my_c_star/examples/example_case/ROMS/compile_time_code\n",
      "copying tracers.opt to /global/cfs/cdirs/m4746/Users/dafydd/my_c_star/examples/example_case/ROMS/compile_time_code\n",
      "copying Makefile to /global/cfs/cdirs/m4746/Users/dafydd/my_c_star/examples/example_case/ROMS/compile_time_code\n",
      "copying Make.depend to /global/cfs/cdirs/m4746/Users/dafydd/my_c_star/examples/example_case/ROMS/compile_time_code\n",
      "\n",
      "Fetching runtime code... \n",
      "----------------------\n",
      "Cloned repository https://github.com/CWorthy-ocean/cstar_blueprint_roms_marbl_example.git to /tmp/tmpv97wu2za\n",
      "Checked out main in git repository /tmp/tmpv97wu2za\n",
      "copying roms.in_TEMPLATE to /global/cfs/cdirs/m4746/Users/dafydd/my_c_star/examples/example_case/ROMS/runtime_code\n",
      "copying template file /global/cfs/cdirs/m4746/Users/dafydd/my_c_star/examples/example_case/ROMS/runtime_code/roms.in_TEMPLATE to editable version /global/cfs/cdirs/m4746/Users/dafydd/my_c_star/examples/example_case/ROMS/runtime_code/roms.in\n",
      "copying marbl_in to /global/cfs/cdirs/m4746/Users/dafydd/my_c_star/examples/example_case/ROMS/runtime_code\n",
      "copying marbl_tracer_output_list to /global/cfs/cdirs/m4746/Users/dafydd/my_c_star/examples/example_case/ROMS/runtime_code\n",
      "copying marbl_diagnostic_output_list to /global/cfs/cdirs/m4746/Users/dafydd/my_c_star/examples/example_case/ROMS/runtime_code\n",
      "\n",
      "Fetching input datasets...\n",
      "--------------------------\n"
     ]
    },
    {
     "name": "stderr",
     "output_type": "stream",
     "text": [
      "Downloading file 'roms_grd.nc' from 'https://github.com/CWorthy-ocean/cstar_blueprint_roms_marbl_example/raw/netcdf_inputs/input_datasets_netcdf/roms_grd.nc' to '/global/cfs/cdirs/m4746/Users/dafydd/my_c_star/examples/example_case/ROMS/input_datasets'.\n",
      "Downloading file 'roms_ini.nc' from 'https://github.com/CWorthy-ocean/cstar_blueprint_roms_marbl_example/raw/netcdf_inputs/input_datasets_netcdf/roms_ini.nc' to '/global/cfs/cdirs/m4746/Users/dafydd/my_c_star/examples/example_case/ROMS/input_datasets'.\n",
      "Downloading file 'roms_tides.nc' from 'https://github.com/CWorthy-ocean/cstar_blueprint_roms_marbl_example/raw/netcdf_inputs/input_datasets_netcdf/roms_tides.nc' to '/global/cfs/cdirs/m4746/Users/dafydd/my_c_star/examples/example_case/ROMS/input_datasets'.\n",
      "Downloading file 'roms_bry.nc' from 'https://github.com/CWorthy-ocean/cstar_blueprint_roms_marbl_example/raw/netcdf_inputs/input_datasets_netcdf/roms_bry.nc' to '/global/cfs/cdirs/m4746/Users/dafydd/my_c_star/examples/example_case/ROMS/input_datasets'.\n",
      "Downloading file 'roms_bry_bgc.nc' from 'https://github.com/CWorthy-ocean/cstar_blueprint_roms_marbl_example/raw/netcdf_inputs/input_datasets_netcdf/roms_bry_bgc.nc' to '/global/cfs/cdirs/m4746/Users/dafydd/my_c_star/examples/example_case/ROMS/input_datasets'.\n",
      "Downloading file 'roms_frc.nc' from 'https://github.com/CWorthy-ocean/cstar_blueprint_roms_marbl_example/raw/netcdf_inputs/input_datasets_netcdf/roms_frc.nc' to '/global/cfs/cdirs/m4746/Users/dafydd/my_c_star/examples/example_case/ROMS/input_datasets'.\n",
      "Downloading file 'roms_frc_bgc.nc' from 'https://github.com/CWorthy-ocean/cstar_blueprint_roms_marbl_example/raw/netcdf_inputs/input_datasets_netcdf/roms_frc_bgc.nc' to '/global/cfs/cdirs/m4746/Users/dafydd/my_c_star/examples/example_case/ROMS/input_datasets'.\n"
     ]
    },
    {
     "name": "stdout",
     "output_type": "stream",
     "text": [
      "Compiling UCLA-ROMS configuration...\n",
      "UCLA-ROMS compiled at /global/cfs/cdirs/m4746/Users/dafydd/my_c_star/examples/example_case/ROMS/compile_time_code\n",
      "Partitioning /global/cfs/cdirs/m4746/Users/dafydd/my_c_star/examples/example_case/ROMS/input_datasets/roms_grd.nc into (3,3)\n",
      "Partitioning /global/cfs/cdirs/m4746/Users/dafydd/my_c_star/examples/example_case/ROMS/input_datasets/roms_ini.nc into (3,3)\n",
      "Partitioning /global/cfs/cdirs/m4746/Users/dafydd/my_c_star/examples/example_case/ROMS/input_datasets/roms_tides.nc into (3,3)\n",
      "Partitioning /global/cfs/cdirs/m4746/Users/dafydd/my_c_star/examples/example_case/ROMS/input_datasets/roms_bry.nc into (3,3)\n",
      "Partitioning /global/cfs/cdirs/m4746/Users/dafydd/my_c_star/examples/example_case/ROMS/input_datasets/roms_bry_bgc.nc into (3,3)\n",
      "Partitioning /global/cfs/cdirs/m4746/Users/dafydd/my_c_star/examples/example_case/ROMS/input_datasets/roms_frc.nc into (3,3)\n",
      "Partitioning /global/cfs/cdirs/m4746/Users/dafydd/my_c_star/examples/example_case/ROMS/input_datasets/roms_frc_bgc.nc into (3,3)\n"
     ]
    }
   ],
   "source": [
    "example_simulation_1.setup()\n",
    "example_simulation_1.build()\n",
    "example_simulation_1.pre_run()\n",
    "\n",
    "hpc_job = example_simulation_1.run(account_key=\"m4746\", walltime=\"00:10:00\", queue_name=\"shared\")"
   ]
  },
  {
   "cell_type": "markdown",
   "id": "c0aa814e-d5ef-4f0b-834b-c67d0f47a574",
   "metadata": {},
   "source": [
    "## 3. Tracking the submitted job\n",
    "### 3i. Viewing the submitted script\n",
    "We can see the script that was submitted to the scheduler using the `script` property:"
   ]
  },
  {
   "cell_type": "code",
   "execution_count": 5,
   "id": "f99e3515-2c1a-4b8c-89b4-985aea931be1",
   "metadata": {},
   "outputs": [
    {
     "name": "stdout",
     "output_type": "stream",
     "text": [
      "#!/bin/bash\n",
      "#SBATCH --job-name=cstar_job_20250226_164342\n",
      "#SBATCH --output=/global/cfs/cdirs/m4746/Users/dafydd/my_c_star/examples/example_case/output/cstar_job_20250226_164342.out\n",
      "#SBATCH --qos=shared\n",
      "#SBATCH --ntasks=9\n",
      "#SBATCH --account=m4746\n",
      "#SBATCH --export=ALL\n",
      "#SBATCH --mail-type=ALL\n",
      "#SBATCH --time=00:10:00\n",
      "#SBATCH -C cpu\n",
      "\n",
      "srun -n 9 /global/cfs/cdirs/m4746/Users/dafydd/my_c_star/examples/example_case/ROMS/compile_time_code/roms /global/cfs/cdirs/m4746/Users/dafydd/my_c_star/examples/example_case/ROMS/runtime_code/roms.in\n"
     ]
    }
   ],
   "source": [
    "print(hpc_job.script)"
   ]
  },
  {
   "cell_type": "markdown",
   "id": "a8fbc4b1-4b21-499d-b31f-848fd0fad85e",
   "metadata": {},
   "source": [
    "We can see where the script is saved using the `script_path` property:"
   ]
  },
  {
   "cell_type": "code",
   "execution_count": 6,
   "id": "12824aab-af63-4343-9314-99572ab0a44c",
   "metadata": {},
   "outputs": [
    {
     "data": {
      "text/plain": [
       "PosixPath('/global/cfs/cdirs/m4746/Users/dafydd/my_c_star/docs/howto_guides/cstar_job_20250226_164342.sh')"
      ]
     },
     "execution_count": 6,
     "metadata": {},
     "output_type": "execute_result"
    }
   ],
   "source": [
    "hpc_job.script_path"
   ]
  },
  {
   "cell_type": "markdown",
   "id": "c4d8ea28-95c4-4368-8773-1d5fef659e60",
   "metadata": {},
   "source": [
    "We can see the output file where the job's output will be written using the `output_file` property:"
   ]
  },
  {
   "cell_type": "markdown",
   "id": "ff44e058-66e3-40de-a77c-380d2107e87a",
   "metadata": {},
   "source": [
    "### 3ii. Checking the job ID\n",
    "We can check the scheduler-assigned job ID using the `id` property:"
   ]
  },
  {
   "cell_type": "code",
   "execution_count": 7,
   "id": "699300f3-efc9-44d9-ac91-efcf01e6947c",
   "metadata": {},
   "outputs": [
    {
     "data": {
      "text/plain": [
       "36284834"
      ]
     },
     "execution_count": 7,
     "metadata": {},
     "output_type": "execute_result"
    }
   ],
   "source": [
    "hpc_job.id"
   ]
  },
  {
   "cell_type": "markdown",
   "id": "68cf73c3-916f-4007-a9cb-c2e6761fb67c",
   "metadata": {},
   "source": [
    "### 3iii. Checking the status\n",
    "We can check the job status using the `status` property. Possible values are:\n",
    "\n",
    "- `UNSUBMITTED`: the job is not yet submitted to the scheduler\n",
    "- `PENDING`: the job is in the queue\n",
    "- `RUNNING`: the job is underway\n",
    "- `COMPLETED`: the job is finished\n",
    "- `CANCELLED`: the job was cancelled by the user\n",
    "- `FAILED`: the job finished unsuccessfully\n",
    "- `HELD`: the job is being held in the queue\n",
    "- `ENDING`: the job is in the process of finishing\n",
    "- `UNKNOWN`: the job status cannot be determined"
   ]
  },
  {
   "cell_type": "code",
   "execution_count": 9,
   "id": "41630183-ecde-4dc2-bfba-41a1457ede1a",
   "metadata": {},
   "outputs": [
    {
     "data": {
      "text/plain": [
       "<ExecutionStatus.RUNNING: 3>"
      ]
     },
     "execution_count": 9,
     "metadata": {},
     "output_type": "execute_result"
    }
   ],
   "source": [
    "hpc_job.status"
   ]
  },
  {
   "cell_type": "markdown",
   "id": "8bb363e8-45fb-4a5f-b983-3440cbc7fa77",
   "metadata": {},
   "source": [
    "### 3iv. Viewing the output file path\n",
    "The output file contains the standard output and error streams returned by the job"
   ]
  },
  {
   "cell_type": "code",
   "execution_count": 8,
   "id": "216bbc79-f578-44d2-867b-7da38b252778",
   "metadata": {},
   "outputs": [
    {
     "data": {
      "text/plain": [
       "PosixPath('/global/cfs/cdirs/m4746/Users/dafydd/my_c_star/examples/alpha_example/example_case/output/cstar_job_20241217_040743.out')"
      ]
     },
     "execution_count": 8,
     "metadata": {},
     "output_type": "execute_result"
    }
   ],
   "source": [
    "hpc_job.output_file"
   ]
  },
  {
   "cell_type": "markdown",
   "id": "b05c1c44-2d6f-45f3-84fc-4ac071456d6e",
   "metadata": {
    "tags": []
   },
   "source": [
    "### 3v. Receiving live updates from the output file\n",
    "While the job is running, we can stream any new lines written to the output file using the `updates()` method. This method receives a `seconds` parameter, and will provide live updates for the number of seconds provided by the user (default 10). If the user specifies `seconds=0`, updates will be provided indefinitely until stopped with a keyboard interruption (typically via `Ctrl-c`)"
   ]
  },
  {
   "cell_type": "code",
   "execution_count": 10,
   "id": "0a79a7cc-9281-4bd8-ad4e-ecb32e17a1c0",
   "metadata": {},
   "outputs": [
    {
     "name": "stdout",
     "output_type": "stream",
     "text": [
      " doing BGC with MARBL\n",
      "     73 4383.5506 5.12349924213-03 4.4860296698-03  0.005048004060  0.004185154992     11     27   12\n",
      " doing BGC with MARBL\n",
      "     74 4383.5513 5.12251601734-03 4.4832235674-03  0.005017372766  0.004176282261     11     27   12\n",
      " doing BGC with MARBL\n",
      "     75 4383.5520 5.12157658667-03 4.4804579761-03  0.004989313894  0.004166898153     11     27   12\n",
      " doing BGC with MARBL\n",
      "     76 4383.5527 5.12072658584-03 4.4777445740-03  0.004964180878  0.004157188270     11     27   12\n",
      " doing BGC with MARBL\n",
      "     77 4383.5534 5.11981172189-03 4.4751024064-03  0.004952864963  0.003930362089     12     26   12\n"
     ]
    }
   ],
   "source": [
    "hpc_job.updates(seconds=0.5)"
   ]
  },
  {
   "cell_type": "markdown",
   "id": "86c42fba-256a-4950-b324-b58413c598e1",
   "metadata": {},
   "source": [
    "## 4. Cancelling a job\n",
    "We can cancel the job using the `cancel` method:"
   ]
  },
  {
   "cell_type": "code",
   "execution_count": 11,
   "id": "428f25ea-43d8-4462-9b80-d912552aa403",
   "metadata": {},
   "outputs": [
    {
     "name": "stdout",
     "output_type": "stream",
     "text": [
      "Job 36284834 cancelled\n"
     ]
    }
   ],
   "source": [
    "hpc_job.cancel()"
   ]
  },
  {
   "cell_type": "code",
   "execution_count": 12,
   "id": "10926495-2da3-4a20-b663-d238d6d96a43",
   "metadata": {},
   "outputs": [
    {
     "data": {
      "text/plain": [
       "<ExecutionStatus.CANCELLED: 5>"
      ]
     },
     "execution_count": 12,
     "metadata": {},
     "output_type": "execute_result"
    }
   ],
   "source": [
    "hpc_job.status"
   ]
  },
  {
   "cell_type": "markdown",
   "id": "5420b349-9143-492e-b026-f5fa7f849754",
   "metadata": {},
   "source": [
    "## 5. Summary\n",
    "\n",
    "[(return to top)](#Contents)\n",
    "\n",
    "In this guide, we set up and ran the example `Simulation` that we built in [another tutorial](../tutorials/2_importing_and_running_a_simulation_from_a_blueprint.html), with a particular focus on the `SchedulerJob` instance associated with the run. We looked at tracking the run's status and output files, and cancelling the run."
   ]
  }
 ],
 "metadata": {
  "kernelspec": {
   "display_name": "Python 3 (ipykernel)",
   "language": "python",
   "name": "python3"
  },
  "language_info": {
   "codemirror_mode": {
    "name": "ipython",
    "version": 3
   },
   "file_extension": ".py",
   "mimetype": "text/x-python",
   "name": "python",
   "nbconvert_exporter": "python",
   "pygments_lexer": "ipython3",
   "version": "3.13.1"
  }
 },
 "nbformat": 4,
 "nbformat_minor": 5
}
