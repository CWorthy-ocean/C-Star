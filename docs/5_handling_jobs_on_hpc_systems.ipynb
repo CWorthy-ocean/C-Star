{
 "cells": [
  {
   "cell_type": "markdown",
   "id": "970997a3-caeb-42b8-923d-9b86f8c4d94c",
   "metadata": {},
   "source": [
    "> [!Warning] \n",
    "> **This project is still in an early phase of development.**\n",
    ">\n",
    "> The [python API](https://c-star.readthedocs.io/en/latest/api.html) is not yet stable, and some aspects of the schema for the [blueprint](https://c-star.readthedocs.io/en/latest/terminology.html#term-blueprint) will likely evolve. \n",
    "> Therefore whilst you are welcome to try out using the package, we cannot yet guarantee backwards compatibility. \n",
    "We expect to reach a more stable version in Q1 2025.\n",
    ">\n",
    "> To see which systems C-Star has been tested on so far, see [Supported Systems](https://c-star.readthedocs.io/en/latest/machines.html)."
   ]
  },
  {
   "cell_type": "markdown",
   "id": "53ab3d32-9292-44b6-a1f5-fa331b654307",
   "metadata": {},
   "source": [
    "# Handling jobs on HPC systems\n",
    "On this page, we will look at how to use C-Star on supported HPC systems with job schedulers, including:\n",
    "\n",
    "- Submitting a job to a scheduler queue\n",
    "- Checking the id of a job submitted to the queue\n",
    "- Checking the status of a job submitted to the queue\n",
    "- Receiving live updates from a job submitted to the queue\n",
    "- Cancelling a job submitted to the queue"
   ]
  },
  {
   "cell_type": "markdown",
   "id": "6f1d2be9-accc-4af6-849d-37d7f0257603",
   "metadata": {
    "tags": []
   },
   "source": [
    "## Importing an example Case and running it on HPC with a job scheduler:\n",
    "We will import and set up the case from the [previous example](2_importing_and_running_a_case_from_a_blueprint.html)"
   ]
  },
  {
   "cell_type": "code",
   "execution_count": 2,
   "id": "a301fe04-638c-4312-8068-cd4b26249c5f",
   "metadata": {},
   "outputs": [],
   "source": [
    "import cstar\n",
    "\n",
    "example_case_1 = cstar.Case.from_blueprint(blueprint  = \"../examples/alpha_example/cstar_blueprint_alpha_example.yaml\",\n",
    "                                           caseroot   = \"../examples/alpha_example/example_case\", \n",
    "                                           start_date = \"2012-01-01 12:00:00\", \n",
    "                                           end_date   = \"2012-01-03 12:00:00\")"
   ]
  },
  {
   "cell_type": "markdown",
   "id": "8455ad7d-ae6b-4ab2-91c7-be576dc87d1c",
   "metadata": {},
   "source": [
    "## A quick look at the system's scheduler"
   ]
  },
  {
   "cell_type": "markdown",
   "id": "179d7226-ee3b-4caa-9c87-33a4a7a7c561",
   "metadata": {},
   "source": [
    "Before running the case, let's take a look at this system's (i.e. NERSC Perlmutter's) scheduler. We can do this via the global variable `cstar_sysmgr`, using its `scheduler` property:"
   ]
  },
  {
   "cell_type": "code",
   "execution_count": 3,
   "id": "0563b510-8932-4203-9bb3-9533cffe95c2",
   "metadata": {
    "tags": []
   },
   "outputs": [
    {
     "name": "stdout",
     "output_type": "stream",
     "text": [
      "SlurmScheduler\n",
      "--------------\n",
      "primary_queue: regular\n",
      "queues:\n",
      "- regular\n",
      "- shared\n",
      "- debug\n",
      "other_scheduler_directives: {'-C': 'cpu'}\n",
      "global max cpus per node: 256\n",
      "global max mem per node: 1007.12890625GB\n",
      "documentation: https://docs.nersc.gov/systems/perlmutter/architecture/\n"
     ]
    }
   ],
   "source": [
    "from cstar.system.manager import cstar_sysmgr\n",
    "print(cstar_sysmgr.scheduler)"
   ]
  },
  {
   "cell_type": "markdown",
   "id": "99bba5dc-1e56-4b4b-9e45-4ce05435c405",
   "metadata": {},
   "source": [
    "From here we can see some global properties of the current system's scheduler, including its queues and a link to its official documentation.\n",
    "\n",
    "We can query a queue to see its time limit before submitting a job to it:"
   ]
  },
  {
   "cell_type": "code",
   "execution_count": 4,
   "id": "d6d2dacb-0025-458d-bbfc-a10068c56f6e",
   "metadata": {
    "tags": []
   },
   "outputs": [
    {
     "name": "stdout",
     "output_type": "stream",
     "text": [
      "SlurmQOS:\n",
      "--------\n",
      "name: shared\n",
      "max_walltime: 48:00:00\n",
      "\n"
     ]
    }
   ],
   "source": [
    "print(cstar_sysmgr.scheduler.get_queue(\"shared\"))"
   ]
  },
  {
   "cell_type": "markdown",
   "id": "36a4e106-d605-4494-909a-b1c2cbc17eca",
   "metadata": {},
   "source": [
    "## Submitting a job to the scheduler queue\n",
    "We can now set up and run the job as in the [previous example](2_importing_and_running_a_case_from_a_blueprint.html), assigning the `SlurmJob` instance returned by `Case.run()` to a variable we can keep track of."
   ]
  },
  {
   "cell_type": "code",
   "execution_count": null,
   "id": "82cb820a-0353-4146-9e01-2e425a615fa2",
   "metadata": {},
   "outputs": [],
   "source": [
    "example_case_1.setup()\n",
    "example_case_1.build()\n",
    "example_case_1.pre_run()\n",
    "\n",
    "hpc_job = example_case_1.run(account_key=\"m4746\", walltime=\"00:10:00\", queue=\"shared\")"
   ]
  },
  {
   "cell_type": "markdown",
   "id": "c0aa814e-d5ef-4f0b-834b-c67d0f47a574",
   "metadata": {},
   "source": [
    "## Tracking the submitted job\n",
    "### Viewing the submitted script\n",
    "We can see the script that was submitted to the scheduler using the `script` property:"
   ]
  },
  {
   "cell_type": "code",
   "execution_count": 6,
   "id": "f99e3515-2c1a-4b8c-89b4-985aea931be1",
   "metadata": {},
   "outputs": [
    {
     "name": "stdout",
     "output_type": "stream",
     "text": [
      "#!/bin/bash\n",
      "#SBATCH --job-name=cstar_job_20241217_040743\n",
      "#SBATCH --output=/global/cfs/cdirs/m4746/Users/dafydd/my_c_star/examples/alpha_example/example_case/output/cstar_job_20241217_040743.out\n",
      "#SBATCH --qos=shared\n",
      "#SBATCH --ntasks=9\n",
      "#SBATCH --account=m4746\n",
      "#SBATCH --export=ALL\n",
      "#SBATCH --mail-type=ALL\n",
      "#SBATCH --time=00:10:00\n",
      "#SBATCH -C cpu\n",
      "\n",
      "srun -n 9 /global/cfs/cdirs/m4746/Users/dafydd/my_c_star/examples/alpha_example/example_case/additional_source_code/ROMS/roms /global/cfs/cdirs/m4746/Users/dafydd/my_c_star/examples/alpha_example/example_case/namelists/ROMS/roms.in\n"
     ]
    }
   ],
   "source": [
    "print(hpc_job.script)"
   ]
  },
  {
   "cell_type": "markdown",
   "id": "a8fbc4b1-4b21-499d-b31f-848fd0fad85e",
   "metadata": {},
   "source": [
    "We can see where the script is saved using the `script_path` property:"
   ]
  },
  {
   "cell_type": "code",
   "execution_count": 7,
   "id": "12824aab-af63-4343-9314-99572ab0a44c",
   "metadata": {},
   "outputs": [
    {
     "data": {
      "text/plain": [
       "PosixPath('/global/cfs/cdirs/m4746/Users/dafydd/my_c_star/docs/cstar_job_20241217_040743.sh')"
      ]
     },
     "execution_count": 7,
     "metadata": {},
     "output_type": "execute_result"
    }
   ],
   "source": [
    "hpc_job.script_path"
   ]
  },
  {
   "cell_type": "markdown",
   "id": "c4d8ea28-95c4-4368-8773-1d5fef659e60",
   "metadata": {},
   "source": [
    "We can see the output file where the job's output will be written using the `output_file` property:"
   ]
  },
  {
   "cell_type": "markdown",
   "id": "30c673bb-9490-4feb-aeda-b434dcf1c687",
   "metadata": {},
   "source": [
    "### Viewing the output file path\n",
    "The output file contains the standard output and error streams returned by the job"
   ]
  },
  {
   "cell_type": "code",
   "execution_count": 8,
   "id": "216bbc79-f578-44d2-867b-7da38b252778",
   "metadata": {},
   "outputs": [
    {
     "data": {
      "text/plain": [
       "PosixPath('/global/cfs/cdirs/m4746/Users/dafydd/my_c_star/examples/alpha_example/example_case/output/cstar_job_20241217_040743.out')"
      ]
     },
     "execution_count": 8,
     "metadata": {},
     "output_type": "execute_result"
    }
   ],
   "source": [
    "hpc_job.output_file"
   ]
  },
  {
   "cell_type": "markdown",
   "id": "ff44e058-66e3-40de-a77c-380d2107e87a",
   "metadata": {},
   "source": [
    "### Checking the job ID\n",
    "We can check the scheduler-assigned job ID using the `id` property:"
   ]
  },
  {
   "cell_type": "code",
   "execution_count": 9,
   "id": "699300f3-efc9-44d9-ac91-efcf01e6947c",
   "metadata": {},
   "outputs": [
    {
     "data": {
      "text/plain": [
       "34020872"
      ]
     },
     "execution_count": 9,
     "metadata": {},
     "output_type": "execute_result"
    }
   ],
   "source": [
    "hpc_job.id"
   ]
  },
  {
   "cell_type": "markdown",
   "id": "68cf73c3-916f-4007-a9cb-c2e6761fb67c",
   "metadata": {},
   "source": [
    "### Checking the status\n",
    "We can check the job status using the `status` property. Possible values are:\n",
    "\n",
    "- `UNSUBMITTED`: the job is not yet submitted to the scheduler\n",
    "- `PENDING`: the job is in the queue\n",
    "- `RUNNING`: the job is underway\n",
    "- `COMPLETED`: the job is finished\n",
    "- `CANCELLED`: the job was cancelled by the user\n",
    "- `FAILED`: the job finished unsuccessfully\n",
    "- `HELD`: the job is being held in the queue\n",
    "- `ENDING`: the job is in the process of finishing\n",
    "- `UNKNOWN`: the job status cannot be determined"
   ]
  },
  {
   "cell_type": "code",
   "execution_count": 15,
   "id": "41630183-ecde-4dc2-bfba-41a1457ede1a",
   "metadata": {},
   "outputs": [
    {
     "data": {
      "text/plain": [
       "<JobStatus.RUNNING: 3>"
      ]
     },
     "execution_count": 15,
     "metadata": {},
     "output_type": "execute_result"
    }
   ],
   "source": [
    "hpc_job.status"
   ]
  },
  {
   "cell_type": "markdown",
   "id": "b05c1c44-2d6f-45f3-84fc-4ac071456d6e",
   "metadata": {
    "tags": []
   },
   "source": [
    "### Receiving live updates from a job submitted to the queue\n",
    "While the job is running, we can stream any new lines written to the output file using the `updates()` method. This method receives a `seconds` parameter, and will provide live updates for the number of seconds provided by the user (default 10). If the user specifies `seconds=0`, updates will be provided indefinitely until stopped with a keyboard interruption (typically via `Ctrl-c`)"
   ]
  },
  {
   "cell_type": "code",
   "execution_count": 16,
   "id": "0a79a7cc-9281-4bd8-ad4e-ecb32e17a1c0",
   "metadata": {},
   "outputs": [
    {
     "name": "stdout",
     "output_type": "stream",
     "text": [
      "     10 4383.5069 5.02261364210-03 4.6229272130-03  0.006169338248  0.004148496602     12     30   10\n",
      " doing BGC with MARBL\n",
      "     11 4383.5076 5.02524104236-03 4.6174088782-03  0.006089739153  0.004130219590     12     30   10\n",
      " doing BGC with MARBL\n",
      "     12 4383.5083 5.02943938880-03 4.6138698068-03  0.006006833682  0.004103156765     12     30   10\n",
      " doing BGC with MARBL\n",
      "     13 4383.5090 5.03496502648-03 4.6120087550-03  0.005923808501  0.003714023558     12     30   11\n",
      " doing BGC with MARBL\n",
      "     14 4383.5097 5.04151895536-03 4.6114496961-03  0.005847022951  0.003678689848     12     30   11\n",
      " doing BGC with MARBL\n",
      "     15 4383.5104 5.04862756371-03 4.6117434009-03  0.005773042437  0.003638573100     12     30   11\n",
      " doing BGC with MARBL\n",
      "     16 4383.5111 5.05595116522-03 4.6124263070-03  0.005702953333  0.003595429362     12     30   11\n",
      " doing BGC with MARBL\n",
      "     17 4383.5118 5.06309274221-03 4.6130131036-03  0.005638502215  0.003550950282     12     30   11\n",
      " doing BGC with MARBL\n",
      "     18 4383.5125 5.06959132966-03 4.6130833264-03  0.005583429571  0.003507329093     12     30   11\n",
      " doing BGC with MARBL\n",
      "     19 4383.5131 5.07510377038-03 4.6122796880-03  0.005535907925  0.003463602129     12     30   11\n",
      " doing BGC with MARBL\n",
      "     20 4383.5138 5.07939117258-03 4.6104008531-03  0.005495365811  0.003418919736     12     30   11\n",
      " doing BGC with MARBL\n",
      "     21 4383.5145 5.08241190232-03 4.6074109415-03  0.005463606247  0.003376470383     12     30   11\n",
      " doing BGC with MARBL\n",
      "     22 4383.5152 5.08421432473-03 4.6033812626-03  0.005438920440  0.003336663771     12     30   11\n",
      " doing BGC with MARBL\n",
      "     23 4383.5159 5.08505311920-03 4.5985279888-03  0.005420965645  0.003300089877     12     30   11\n",
      " doing BGC with MARBL\n",
      "     24 4383.5166 5.08514745102-03 4.5930884207-03  0.005408976689  0.003266343501     12     30   11\n",
      " doing BGC with MARBL\n",
      "     25 4383.5173 5.08474134868-03 4.5872798345-03  0.005403407746  0.003236316433     12     30   11\n",
      " doing BGC with MARBL\n",
      "     26 4383.5180 5.08406709546-03 4.5813429546-03  0.005403324645  0.003210184754     12     30   11\n",
      " doing BGC with MARBL\n",
      "     27 4383.5187 5.08327406196-03 4.5754402459-03  0.005408462226  0.003188687853     12     30   11\n",
      " doing BGC with MARBL\n",
      "     28 4383.5194 5.08247656136-03 4.5696617906-03  0.005417417134  0.003171455803     12     30   11\n",
      " doing BGC with MARBL\n",
      "     29 4383.5201 5.08177138406-03 4.5640813430-03  0.005426598925  0.003157193079     12     30   11\n",
      " doing BGC with MARBL\n",
      "     30 4383.5208 5.08115897932-03 4.5587140917-03  0.005431311605  0.003143666973     12     30   11\n",
      " doing BGC with MARBL\n",
      "     31 4383.5215 5.08058205322-03 4.5535294541-03  0.005436831371  0.003132733577     12     30   11\n",
      " doing BGC with MARBL\n",
      "     32 4383.5222 5.08001323106-03 4.5484735270-03  0.005440327852  0.003123828212     12     30   11\n",
      " doing BGC with MARBL\n",
      "     33 4383.5229 5.07945755224-03 4.5435121377-03  0.005443562867  0.003117519556     12     30   11\n",
      " doing BGC with MARBL\n",
      "     34 4383.5236 5.07888183707-03 4.5386175008-03  0.005447228308  0.003114019532     12     30   11\n",
      " doing BGC with MARBL\n",
      "     35 4383.5243 5.07825543688-03 4.5337593293-03  0.005451714973  0.003465394919     12     30   10\n",
      " doing BGC with MARBL\n",
      "     36 4383.5250 5.07748639684-03 4.5288561355-03  0.005456365460  0.003469406127     12     30   10\n",
      " doing BGC with MARBL\n",
      "     37 4383.5256 5.07654970166-03 4.5238442056-03  0.005459715851  0.003476045244     12     30   10\n",
      " doing BGC with MARBL\n",
      "     38 4383.5263 5.07543641339-03 4.5187119392-03  0.005460668036  0.003484083796     12     30   10\n",
      " doing BGC with MARBL\n",
      "     39 4383.5270 5.07409804128-03 4.5134114466-03  0.005458903226  0.003492782123     12     30   10\n",
      " doing BGC with MARBL\n",
      "     40 4383.5277 5.07256233061-03 4.5079487884-03  0.005454305011  0.003501486335     12     30   10\n",
      " doing BGC with MARBL\n",
      "     41 4383.5284 5.07078046269-03 4.5023471883-03  0.005446964599  0.003509736612     12     30   10\n",
      " doing BGC with MARBL\n",
      "     42 4383.5291 5.06874800881-03 4.4966008827-03  0.005437082036  0.003517158392     12     30   10\n",
      " doing BGC with MARBL\n",
      "     43 4383.5298 5.06649826753-03 4.4907067247-03  0.005424944619  0.003523442698     12     30   10\n",
      " doing BGC with MARBL\n",
      "     44 4383.5305 5.06405806560-03 4.4846893450-03  0.005410909970  0.003528348013     12     30   10\n",
      " doing BGC with MARBL\n",
      "     45 4383.5312 5.06145651996-03 4.4785727951-03  0.005395271747  0.003531640909     12     30   10\n",
      " doing BGC with MARBL\n",
      "     46 4383.5319 5.05871367111-03 4.4724030097-03  0.005378515283  0.003533236953     12     30   10\n",
      " doing BGC with MARBL\n",
      "     47 4383.5326 5.05595436692-03 4.4662849276-03  0.005360880213  0.003533041859     12     30   10\n",
      " doing BGC with MARBL\n",
      "     48 4383.5333 5.05324450517-03 4.4603282805-03  0.005342895965  0.003531249704     12     30   10\n",
      " doing BGC with MARBL\n",
      "     49 4383.5340 5.05071111632-03 4.4546429259-03  0.005324139015  0.003526259865     12     30   10\n",
      " doing BGC with MARBL\n",
      "     50 4383.5347 5.04845895401-03 4.4493170227-03  0.005300752173  0.003514119591     12     30   10\n",
      " doing BGC with MARBL\n",
      "     51 4383.5354 5.04652671875-03 4.4443731714-03  0.005274678099  0.003496853307     12     30   10\n",
      " doing BGC with MARBL\n",
      "     52 4383.5361 5.04491012800-03 4.4397796774-03  0.005242684247  0.003471852535     12     30   10\n",
      " doing BGC with MARBL\n",
      "     53 4383.5368 5.04351969198-03 4.4354556651-03  0.005206611315  0.003442055025     12     30   10\n",
      " doing BGC with MARBL\n",
      "     54 4383.5375 5.04221922373-03 4.4312822687-03  0.005174617604  0.003413419300     12     30   10\n",
      " doing BGC with MARBL\n",
      "     55 4383.5381 5.04088940325-03 4.4271367051-03  0.005148899971  0.003387768680     12     30   10\n",
      " doing BGC with MARBL\n",
      "     56 4383.5388 5.03943028331-03 4.4229242062-03  0.005128202091  0.003364859339     12     30   10\n",
      " doing BGC with MARBL\n",
      "     57 4383.5395 5.03777388917-03 4.4185710745-03  0.005111576966  0.003344262206     12     30   10\n",
      " doing BGC with MARBL\n",
      "     58 4383.5402 5.03591306513-03 4.4140430458-03  0.005098392336  0.003325782750     12     30   10\n",
      " doing BGC with MARBL\n",
      "     59 4383.5409 5.03385491847-03 4.4093544022-03  0.005088117015  0.003309327949     12     30   10\n",
      " doing BGC with MARBL\n",
      "     60 4383.5416 5.03159410986-03 4.4045099777-03  0.005080258002  0.003294848306     12     30   10\n",
      "         set_frc :: swrad            input time (days) =   4383.58     rec =   3\n",
      "         set_frc :: lwrad            input time (days) =   4383.58     rec =   3\n",
      "         set_frc :: uwnd             input time (days) =   4383.58     rec =   3\n",
      "         set_frc :: vwnd             input time (days) =   4383.58     rec =   3\n",
      "         set_frc :: Tair             input time (days) =   4383.58     rec =   3\n",
      "         set_frc :: qair             input time (days) =   4383.58     rec =   3\n",
      "         set_frc :: rain             input time (days) =   4383.58     rec =   3\n",
      " doing BGC with MARBL\n",
      "     61 4383.5423 5.02917896913-03 4.3995528031-03  0.005074338894  0.003282306664     12     30   10\n",
      " doing BGC with MARBL\n",
      "     62 4383.5430 5.02667974100-03 4.3945725580-03  0.005069899413  0.003271665558     12     30   10\n",
      " doing BGC with MARBL\n",
      "     63 4383.5437 5.02424262170-03 4.3897047810-03  0.005066477008  0.003262852121     12     30   10\n",
      " doing BGC with MARBL\n",
      "     64 4383.5444 5.02203093743-03 4.3851082335-03  0.005063684471  0.003255825060     12     30   10\n",
      " doing BGC with MARBL\n",
      "     65 4383.5451 5.02017084669-03 4.3809302140-03  0.005061301669  0.003250655514     12     30   10\n",
      " doing BGC with MARBL\n",
      "     66 4383.5458 5.01880304767-03 4.3772810783-03  0.005058940478  0.003247184074     12     30   10\n",
      " doing BGC with MARBL\n",
      "     67 4383.5465 5.01797266587-03 4.3742028491-03  0.005056229215  0.003245195295     12     30   10\n",
      " doing BGC with MARBL\n",
      "     68 4383.5472 5.01768572779-03 4.3716870370-03  0.005052794714  0.003244397638     12     30   10\n",
      " doing BGC with MARBL\n",
      "     69 4383.5479 5.01786944304-03 4.3696758971-03  0.005048331239  0.003244491549     12     30   10\n",
      " doing BGC with MARBL\n",
      "     70 4383.5486 5.01841031507-03 4.3680557704-03  0.005042619894  0.003245191177     12     30   10\n",
      " doing BGC with MARBL\n",
      "     71 4383.5493 5.01918307557-03 4.3666978586-03  0.005035531690  0.003246232681     12     30   10\n",
      " doing BGC with MARBL\n",
      "     72 4383.5500 5.02004967063-03 4.3654745518-03  0.005027023551  0.003247378143     12     30   10\n",
      " doing BGC with MARBL\n",
      "     73 4383.5506 5.02088764610-03 4.3642726116-03  0.005017130781  0.003248418174     12     30   10\n",
      " doing BGC with MARBL\n",
      "     74 4383.5513 5.02166074192-03 4.3630282706-03  0.005005946853  0.003249163623     12     30   10\n",
      " doing BGC with MARBL\n",
      "     75 4383.5520 5.02233106765-03 4.3617201309-03  0.004993623313  0.003249458719     12     30   10\n",
      " doing BGC with MARBL\n",
      "     76 4383.5527 5.02287825440-03 4.3603397563-03  0.004980351188  0.003249176365     12     30   10\n",
      " doing BGC with MARBL\n",
      "     77 4383.5534 5.02333223527-03 4.3588964844-03  0.004966352789  0.003248223864     12     30   10\n",
      " doing BGC with MARBL\n",
      "     78 4383.5541 5.02370366206-03 4.3574298915-03  0.004951871445  0.003246545987     12     30   10\n",
      " doing BGC with MARBL\n",
      "     79 4383.5548 5.02408820978-03 4.3560047303-03  0.004937158998  0.003244124643     12     30   10\n",
      " doing BGC with MARBL\n",
      "     80 4383.5555 5.02456617331-03 4.3546821333-03  0.004922464130  0.003240977659     12     30   10\n",
      " doing BGC with MARBL\n",
      "     81 4383.5562 5.02520054802-03 4.3535307991-03  0.004908020444  0.003237155227     12     30   10\n",
      " doing BGC with MARBL\n",
      "     82 4383.5569 5.02606308140-03 4.3526170236-03  0.004920262847  0.003925290569     10     22   12\n",
      " doing BGC with MARBL\n",
      "     83 4383.5576 5.02716298913-03 4.3519598036-03  0.004945456384  0.003935034719     10     22   12\n",
      " doing BGC with MARBL\n",
      "     84 4383.5583 5.02849069513-03 4.3515338081-03  0.004969487151  0.003943870907     10     22   12\n",
      " doing BGC with MARBL\n",
      "     85 4383.5590 5.03000500883-03 4.3513137225-03  0.004998029239  0.003919375984     10     22   11\n",
      " doing BGC with MARBL\n",
      "     86 4383.5597 5.03160737057-03 4.3512684057-03  0.005042841477  0.003926002927     10     22   11\n",
      " doing BGC with MARBL\n",
      "     87 4383.5604 5.03326125453-03 4.3513171543-03  0.005080873787  0.003931401448     10     22   11\n",
      " doing BGC with MARBL\n",
      "     88 4383.5611 5.03488973461-03 4.3513799987-03  0.005110781543  0.003935610638     10     22   11\n",
      " doing BGC with MARBL\n",
      "     89 4383.5618 5.03641661712-03 4.3513739418-03  0.005131648619  0.003938744986     10     22   11\n",
      " doing BGC with MARBL\n",
      "     90 4383.5625 5.03773911167-03 4.3512104266-03  0.005142982108  0.003940974810     10     22   11\n",
      " doing BGC with MARBL\n",
      "     91 4383.5631 5.03881332321-03 4.3508533307-03  0.005144694219  0.003942498007     10     22   11\n",
      " doing BGC with MARBL\n",
      "     92 4383.5638 5.03965779292-03 4.3503186916-03  0.005137167603  0.003943564931     10     22   11\n",
      " doing BGC with MARBL\n",
      "     93 4383.5645 5.04037354742-03 4.3496732895-03  0.005121181783  0.003944412017     10     22   11\n",
      " doing BGC with MARBL\n",
      "     94 4383.5652 5.04103322824-03 4.3489946868-03  0.005097901950  0.003945271998     10     22   11\n",
      " doing BGC with MARBL\n",
      "     95 4383.5659 5.04176269110-03 4.3483701975-03  0.005068820332  0.003946361569     10     22   11\n",
      " doing BGC with MARBL\n",
      "     96 4383.5666 5.04261874186-03 4.3478859842-03  0.005036422433  0.003982220215     10     22   12\n",
      " doing BGC with MARBL\n",
      "     97 4383.5673 5.04360526365-03 4.3475725141-03  0.005029696002  0.003984037775     10     22   12\n",
      " doing BGC with MARBL\n",
      "     98 4383.5680 5.04479723570-03 4.3474711146-03  0.005024080037  0.003986496873     10     22   12\n",
      " doing BGC with MARBL\n",
      "     99 4383.5687 5.04622284454-03 4.3476265603-03  0.005020057711  0.003989622612     10     22   12\n",
      " doing BGC with MARBL\n",
      "    100 4383.5694 5.04791949187-03 4.3480523931-03  0.005018199190  0.003993436763     10     22   12\n",
      " doing BGC with MARBL\n",
      "    101 4383.5701 5.04989313748-03 4.3487614337-03  0.005018986288  0.003997959559     10     22   12\n",
      " doing BGC with MARBL\n",
      "    102 4383.5708 5.05209580135-03 4.3497256945-03  0.005022746853  0.004003116813     10     22   12\n",
      " doing BGC with MARBL\n",
      "    103 4383.5715 5.05448094163-03 4.3508946640-03  0.005029644375  0.004009011964     10     22   12\n",
      " doing BGC with MARBL\n",
      "    104 4383.5722 5.05700814864-03 4.3522280029-03  0.005039902120  0.004015544679     10     22   12\n",
      " doing BGC with MARBL\n",
      "    105 4383.5729 5.05963334089-03 4.3536884544-03  0.005053025813  0.004022401190     10     22   12\n",
      " doing BGC with MARBL\n",
      "    106 4383.5736 5.06232128718-03 4.3552387805-03  0.005068910216  0.004029815135     10     22   12\n",
      " doing BGC with MARBL\n",
      "    107 4383.5743 5.06503835907-03 4.3568364024-03  0.005086612606  0.004037391498     10     22   12\n",
      " doing BGC with MARBL\n",
      "    108 4383.5750 5.06776219475-03 4.3584432513-03  0.005105594943  0.004044949072     10     22   12\n",
      " doing BGC with MARBL\n",
      "    109 4383.5756 5.07043725620-03 4.3600180500-03  0.005125223848  0.004052346232     10     22   12\n",
      " doing BGC with MARBL\n",
      "    110 4383.5763 5.07302904638-03 4.3615300749-03  0.005144767172  0.004059418361     10     22   12\n",
      " doing BGC with MARBL\n",
      "    111 4383.5770 5.07550563381-03 4.3629506458-03  0.005163469965  0.004066005313     10     22   12\n",
      " doing BGC with MARBL\n",
      "    112 4383.5777 5.07783562138-03 4.3642450241-03  0.005180582118  0.004071943947     10     22   12\n",
      " doing BGC with MARBL\n",
      "    113 4383.5784 5.07999165582-03 4.3653950929-03  0.005195353711  0.004077103759     10     22   12\n",
      " doing BGC with MARBL\n",
      "    114 4383.5791 5.08197094782-03 4.3663934738-03  0.005207300454  0.004081348419     10     22   12\n",
      " doing BGC with MARBL\n",
      "    115 4383.5798 5.08374430241-03 4.3672275186-03  0.005215795386  0.004084615620     10     22   12\n",
      " doing BGC with MARBL\n",
      "    116 4383.5805 5.08533559397-03 4.3679017839-03  0.005240303887  0.004063453162     10     22   11\n",
      " doing BGC with MARBL\n",
      "    117 4383.5812 5.08680236109-03 4.3684507932-03  0.005271667321  0.004064518319     10     22   11\n",
      " doing BGC with MARBL\n",
      "    118 4383.5819 5.08818777071-03 4.3689203198-03  0.005296821075  0.004064382321     10     22   11\n",
      " doing BGC with MARBL\n",
      "    119 4383.5826 5.08953254362-03 4.3693746877-03  0.005315232486  0.004063248184     10     22   11\n",
      " doing BGC with MARBL\n",
      "    120 4383.5833 5.09094869516-03 4.3699086679-03  0.005326539906  0.004061263704     10     22   11\n",
      "         set_frc :: swrad            input time (days) =   4383.62     rec =   4\n",
      "         set_frc :: lwrad            input time (days) =   4383.62     rec =   4\n",
      "         set_frc :: uwnd             input time (days) =   4383.62     rec =   4\n",
      "         set_frc :: vwnd             input time (days) =   4383.62     rec =   4\n",
      "         set_frc :: Tair             input time (days) =   4383.62     rec =   4\n",
      "         set_frc :: qair             input time (days) =   4383.62     rec =   4\n",
      "         set_frc :: rain             input time (days) =   4383.62     rec =   4\n",
      " doing BGC with MARBL\n",
      "    121 4383.5840 5.09256150825-03 4.3706353667-03  0.005330649821  0.004058574974     10     22   11\n",
      " doing BGC with MARBL\n",
      "    122 4383.5847 5.09446678236-03 4.3716783356-03  0.005327707150  0.004055272930     10     22   11\n",
      " doing BGC with MARBL\n",
      "    123 4383.5854 5.09675810336-03 4.3731427861-03  0.005317232272  0.004050872609     10     22   11\n",
      " doing BGC with MARBL\n",
      "    124 4383.5861 5.09950338073-03 4.3750991310-03  0.005302229452  0.004047289242     10     22   11\n",
      " doing BGC with MARBL\n",
      "    125 4383.5868 5.10268902484-03 4.3775694533-03  0.005281274315  0.004042864213     10     22   11\n",
      " doing BGC with MARBL\n",
      "    126 4383.5875 5.10629258324-03 4.3805200168-03  0.005255934363  0.004037954951     10     22   11\n",
      " doing BGC with MARBL\n",
      "    127 4383.5881 5.11023589864-03 4.3838717990-03  0.005228448271  0.004032291797     10     22   11\n",
      " doing BGC with MARBL\n",
      "    128 4383.5888 5.11440151448-03 4.3875225999-03  0.005200417957  0.004026360598     10     22   11\n",
      " doing BGC with MARBL\n",
      "    129 4383.5895 5.11874524241-03 4.3913791856-03  0.005173425404  0.004020443876     10     22   11\n",
      " doing BGC with MARBL\n",
      "    130 4383.5902 5.12321825438-03 4.3953584206-03  0.005147925183  0.004013625292     10     22   11\n",
      " doing BGC with MARBL\n",
      "    131 4383.5909 5.12776051192-03 4.3993935657-03  0.005125546057  0.004006263527     10     22   11\n",
      " doing BGC with MARBL\n",
      "    132 4383.5916 5.13229440895-03 4.4034380247-03  0.005108451135  0.003999468879     10     22   11\n",
      " doing BGC with MARBL\n"
     ]
    }
   ],
   "source": [
    "hpc_job.updates(seconds=5)"
   ]
  },
  {
   "cell_type": "markdown",
   "id": "86c42fba-256a-4950-b324-b58413c598e1",
   "metadata": {},
   "source": [
    "### Cancelling a job\n",
    "We can cancel the job using the `cancel` method:"
   ]
  },
  {
   "cell_type": "code",
   "execution_count": 17,
   "id": "428f25ea-43d8-4462-9b80-d912552aa403",
   "metadata": {},
   "outputs": [
    {
     "name": "stdout",
     "output_type": "stream",
     "text": [
      "Job 34020872 cancelled\n"
     ]
    }
   ],
   "source": [
    "hpc_job.cancel()"
   ]
  },
  {
   "cell_type": "code",
   "execution_count": 18,
   "id": "10926495-2da3-4a20-b663-d238d6d96a43",
   "metadata": {},
   "outputs": [
    {
     "data": {
      "text/plain": [
       "<JobStatus.CANCELLED: 5>"
      ]
     },
     "execution_count": 18,
     "metadata": {},
     "output_type": "execute_result"
    }
   ],
   "source": [
    "hpc_job.status"
   ]
  }
 ],
 "metadata": {
  "kernelspec": {
   "display_name": "Python 3 (ipykernel)",
   "language": "python",
   "name": "python3"
  },
  "language_info": {
   "codemirror_mode": {
    "name": "ipython",
    "version": 3
   },
   "file_extension": ".py",
   "mimetype": "text/x-python",
   "name": "python",
   "nbconvert_exporter": "python",
   "pygments_lexer": "ipython3",
   "version": "3.10.13"
  }
 },
 "nbformat": 4,
 "nbformat_minor": 5
}
