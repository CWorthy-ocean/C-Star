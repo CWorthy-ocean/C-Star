{
 "cells": [
  {
   "cell_type": "code",
   "execution_count": 6,
   "id": "200f7f17-1956-4050-a4c8-a0209a34c723",
   "metadata": {
    "tags": []
   },
   "outputs": [
    {
     "data": {
      "text/html": [
       "<style>.jp-Cell.jp-CodeCell .jp-OutputArea:has(.jp-OutputArea-output) {background-color: #f9f9f9;border: 1px solid #ddd;padding: 10px;border-radius: 5px;margin: 5px 0;}</style><style>.jp-InputPrompt {display:none !important;}</style>"
      ],
      "text/plain": [
       "<IPython.core.display.HTML object>"
      ]
     },
     "metadata": {},
     "output_type": "display_data"
    }
   ],
   "source": [
    "%load_ext autoreload\n",
    "%autoreload 2\n",
    "\n",
    "from IPython.display import display, HTML, Javascript\n",
    "display(HTML('''<style>.jp-Cell.jp-CodeCell .jp-OutputArea:has(.jp-OutputArea-output) {background-color: #f9f9f9;border: 1px solid #ddd;padding: 10px;border-radius: 5px;margin: 5px 0;}</style><style>.jp-InputPrompt {display:none !important;}</style>'''))"
   ]
  },
  {
   "cell_type": "markdown",
   "id": "b29d6e47-5fbc-44ea-b5a8-35bbd8a2a596",
   "metadata": {},
   "source": [
    "# Building & exporting a `Case`\n",
    "In this notebook, we will create a ROMS-MARBL [C-Star `Case`](https://c-star.readthedocs.io/en/latest/terminology.html#term-Case), by:\n",
    "- Creating ROMS and MARBL [`BaseModel` objects](https://c-star.readthedocs.io/en/latest/terminology.html#term-BaseModel)\n",
    "- Creating [`AdditionalCode` objects](https://c-star.readthedocs.io/en/latest/terminology.html#term-AdditionalCode) to represent namelist and additional source code files for ROMS\n",
    "- Create [`InputDataset` ojects](https://c-star.readthedocs.io/en/latest/terminology.html#term-InputDataset) to tell C-Star where to find spatiotemporal data needed to run ROMS-MARBL\n",
    "- Create a [`Dicretization` object](https://c-star.readthedocs.io/en/latest/terminology.html#term-Discretization) to tell C-Star how to partition the simulation (processor distribution and timestep)\n",
    "- Bring these various objects together to make a [`ROMSComponent` object](https://c-star.readthedocs.io/en/latest/terminology.html#term-ROMSComponent) and a [`MARBLComponent` object](https://c-star.readthedocs.io/en/latest/terminology.html#term-MARBLComponent)\n",
    "- Create a `Case` consisting of these two [`Component`s]((https://c-star.readthedocs.io/en/latest/terminology.html#term-Component)\n",
    "- Export this `Case` to a [`blueprint` file](https://c-star.readthedocs.io/en/latest/terminology.html#term-blueprint) to be used in [the next notebook](https://c-star.readthedocs.io/en/latest/cstar_example_notebook.html)"
   ]
  },
  {
   "cell_type": "code",
   "execution_count": 2,
   "id": "f1d2251a-8687-4feb-bafc-5e1d82460af3",
   "metadata": {
    "tags": []
   },
   "outputs": [
    {
     "name": "stderr",
     "output_type": "stream",
     "text": [
      "Unloading the cpe module is insufficient to restore the system defaults.\n",
      "Please run 'source\n",
      "/opt/cray/pe/cpe/23.12/restore_lmod_system_defaults.[csh|sh]'. \n",
      "Running \"module reset\". Resetting modules to system default. The following $MODULEPATH directories have been removed: /opt/cray/pe/lmod/modulefiles/mpi/gnu/12.0/ofi/1.0/cray-mpich/8.0\n",
      "\n",
      "\n",
      "Lmod is automatically replacing \"gpu/1.0\" with \"cpu/1.0\".\n",
      "\n",
      "\n",
      "Note: the module \"gpu\" cannot be unloaded because it was not loaded.\n",
      "\n",
      "\n",
      "\n",
      "\n"
     ]
    }
   ],
   "source": [
    "import os\n",
    "import cstar"
   ]
  },
  {
   "cell_type": "markdown",
   "id": "83ca73fd-d65d-40ca-8466-5bbf02a46feb",
   "metadata": {},
   "source": [
    "## The structure of the Case:\n",
    "[Here](https://c-star.readthedocs.io/en/latest/terminology.html#structure-of-c-star-case) you can get a general overview of a C-Star case. For our `roms_marbl_example`, the case structure breaks down like this:  \n",
    "```\n",
    "Case\n",
    "├── MARBLComponent\n",
    "│   └── base_model (MARBLBaseModel)\n",
    "└── ROMSComponent\n",
    "    ├── base_model (ROMSBaseModel)\n",
    "    ├── namelists (AdditionalCode)\n",
    "    ├── additional_source_code (AdditionalCode)\n",
    "    ├── model_grid (ROMSInputDataset)\n",
    "    ├── initial_conditions (ROMSInputDataset)\n",
    "    ├── tidal_forcing (ROMSInputDataset)\n",
    "    ├── surface_forcing (list of ROMSInputDatasets)\n",
    "    ├── boundary_forcing (list of ROMSInputDatasets)\n",
    "    └── discretization (ROMSDiscretization)\n",
    "\n",
    "```\n",
    "These are all the elements needed to create a unique, reproducible ROMS-MARBL simulation. You will notice that the `Component`, `BaseModel`, `InputDataset`, and `Discretization` objects here are specific to the object they describe (e.g. `ROMSBaseModel`). This is because there may be some unique attributes or operations associated with the `BaseModel` object describing ROMS that may be different to that describing MARBL, which has its own subclass `MARBLBaseModel`.\n",
    "\n",
    "To build this case from the bottom up, we'll need to first build `BaseModel` objects for ROMS and MARBL\n",
    "\n",
    "## Constructing the BaseModel objects\n",
    "To initialize a [`BaseModel` object](https://c-star.readthedocs.io/en/latest/generated/cstar.base.BaseModel.html), we need:\n",
    "- a `source_repo` (repository URL containing the base model source code) \n",
    "- a `checkout_target` (a point in the repository history we'd like to jump to). \n",
    "\n",
    "For ROMS we'll use the latest commit hash. For MARBL we'll use v0.45, around which the ROMS-MARBL driver was built:"
   ]
  },
  {
   "cell_type": "code",
   "execution_count": 2,
   "id": "c19986ee-6f21-41df-b0bb-8604ba25fdb9",
   "metadata": {
    "tags": []
   },
   "outputs": [
    {
     "ename": "ModuleNotFoundError",
     "evalue": "No module named 'cstar'",
     "output_type": "error",
     "traceback": [
      "\u001b[0;31m---------------------------------------------------------------------------\u001b[0m",
      "\u001b[0;31mModuleNotFoundError\u001b[0m                       Traceback (most recent call last)",
      "Cell \u001b[0;32mIn[2], line 1\u001b[0m\n\u001b[0;32m----> 1\u001b[0m \u001b[38;5;28;01mfrom\u001b[39;00m \u001b[38;5;21;01mcstar\u001b[39;00m\u001b[38;5;21;01m.\u001b[39;00m\u001b[38;5;21;01mroms\u001b[39;00m \u001b[38;5;28;01mimport\u001b[39;00m ROMSBaseModel\n\u001b[1;32m      2\u001b[0m \u001b[38;5;28;01mfrom\u001b[39;00m \u001b[38;5;21;01mcstar\u001b[39;00m\u001b[38;5;21;01m.\u001b[39;00m\u001b[38;5;21;01mmarbl\u001b[39;00m \u001b[38;5;28;01mimport\u001b[39;00m MARBLBaseModel\n",
      "\u001b[0;31mModuleNotFoundError\u001b[0m: No module named 'cstar'"
     ]
    }
   ],
   "source": [
    "from cstar.roms import ROMSBaseModel\n",
    "from cstar.marbl import MARBLBaseModel"
   ]
  },
  {
   "cell_type": "code",
   "execution_count": 1,
   "id": "fe00d6d5-c203-4174-b02d-52fb5d8d8ce4",
   "metadata": {
    "tags": []
   },
   "outputs": [
    {
     "ename": "NameError",
     "evalue": "name 'ROMSBaseModel' is not defined",
     "output_type": "error",
     "traceback": [
      "\u001b[0;31m---------------------------------------------------------------------------\u001b[0m",
      "\u001b[0;31mNameError\u001b[0m                                 Traceback (most recent call last)",
      "Cell \u001b[0;32mIn[1], line 1\u001b[0m\n\u001b[0;32m----> 1\u001b[0m roms_base_model \u001b[38;5;241m=\u001b[39m \u001b[43mROMSBaseModel\u001b[49m(\n\u001b[1;32m      2\u001b[0m     source_repo\u001b[38;5;241m=\u001b[39m\u001b[38;5;124m'\u001b[39m\u001b[38;5;124mhttps://github.com/CESR-lab/ucla-roms.git\u001b[39m\u001b[38;5;124m'\u001b[39m,\n\u001b[1;32m      3\u001b[0m     checkout_target\u001b[38;5;241m=\u001b[39m\u001b[38;5;124m'\u001b[39m\u001b[38;5;124mmain\u001b[39m\u001b[38;5;124m'\u001b[39m,\n\u001b[1;32m      4\u001b[0m )\n\u001b[1;32m      6\u001b[0m marbl_base_model \u001b[38;5;241m=\u001b[39m MARBLBaseModel(\n\u001b[1;32m      7\u001b[0m     source_repo\u001b[38;5;241m=\u001b[39m\u001b[38;5;124m'\u001b[39m\u001b[38;5;124mhttps://github.com/marbl-ecosys/MARBL.git\u001b[39m\u001b[38;5;124m'\u001b[39m,\n\u001b[1;32m      8\u001b[0m     checkout_target\u001b[38;5;241m=\u001b[39m\u001b[38;5;124m'\u001b[39m\u001b[38;5;124mmarbl0.45.0\u001b[39m\u001b[38;5;124m'\u001b[39m,\n\u001b[1;32m      9\u001b[0m )\n",
      "\u001b[0;31mNameError\u001b[0m: name 'ROMSBaseModel' is not defined"
     ]
    }
   ],
   "source": [
    "roms_base_model = ROMSBaseModel(\n",
    "    source_repo='https://github.com/CESR-lab/ucla-roms.git',\n",
    "    checkout_target='main',\n",
    ")\n",
    "\n",
    "marbl_base_model = MARBLBaseModel(\n",
    "    source_repo='https://github.com/marbl-ecosys/MARBL.git',\n",
    "    checkout_target='marbl0.45.0',\n",
    ")"
   ]
  },
  {
   "cell_type": "code",
   "execution_count": 4,
   "id": "28cb3e6d-78c1-45a6-bae8-aea3fac47835",
   "metadata": {},
   "outputs": [
    {
     "name": "stdout",
     "output_type": "stream",
     "text": [
      "ROMSBaseModel\n",
      "-------------\n",
      "source_repo : https://github.com/CESR-lab/ucla-roms.git (default)\n",
      "checkout_target : 246c11fa537145ba5868f2256dfb4964aeb09a25\n",
      "local_config_status: 0 (Environment variable ROMS_ROOT is present, points to the correct repository remote, and is checked out at the correct hash)\n"
     ]
    }
   ],
   "source": [
    "print(roms_base_model)"
   ]
  },
  {
   "cell_type": "code",
   "execution_count": 5,
   "id": "5c681aa1-0cdd-4b6a-b1b4-91bce6bd98ec",
   "metadata": {},
   "outputs": [
    {
     "name": "stdout",
     "output_type": "stream",
     "text": [
      "MARBLBaseModel\n",
      "--------------\n",
      "source_repo : https://github.com/marbl-ecosys/MARBL.git (default)\n",
      "checkout_target : marbl0.45.0 (corresponding to hash 6e6b2f7c32ac5427e6cf46de4222973b8bcaa3d9)\n",
      "local_config_status: 0 (Environment variable MARBL_ROOT is present, points to the correct repository remote, and is checked out at the correct hash)\n"
     ]
    }
   ],
   "source": [
    "print(marbl_base_model)"
   ]
  },
  {
   "cell_type": "markdown",
   "id": "4b4eb43e-1129-4e10-8dbf-c0c7c980c149",
   "metadata": {},
   "source": [
    "## Constructing the AdditionalCode objects\n",
    "\n",
    "To construct an `AdditionalCode` object, we need a `location` pointing to a local or remote directory or repository.\n",
    "In this example, we will use a remote repository, so we also supply a `subdir` (relative to the repository top level) and `checkout_target` argument to initialise the `AdditionalCode` instance.\n",
    "We also need to provide a list of files pointing to our `AdditionalCode`.\n",
    "\n",
    "In this example we are using MARBL and ROMS. As ROMS handles all input and output to MARBL, we only need `AdditionalCode` instances for ROMS: one for run-time files (namelists) and the other for compile-time files (such as ROMS' `.opt` files, which are used to set model parameters)"
   ]
  },
  {
   "cell_type": "code",
   "execution_count": 6,
   "id": "d078a027-e9aa-4a20-b075-d41099101e29",
   "metadata": {},
   "outputs": [],
   "source": [
    "from cstar.base import AdditionalCode"
   ]
  },
  {
   "cell_type": "code",
   "execution_count": 7,
   "id": "8ab3bf2f-0066-457f-a484-697ab5b04637",
   "metadata": {},
   "outputs": [
    {
     "name": "stdout",
     "output_type": "stream",
     "text": [
      "AdditionalCode\n",
      "--------------\n",
      "Location: https://github.com/CWorthy-ocean/cstar_blueprint_roms_marbl_example.git\n",
      "subdirectory: additional_code/ROMS/namelists\n",
      "Working path: None\n",
      "Exists locally: False (get with AdditionalCode.get())\n",
      "Files:\n",
      "    roms.in_TEMPLATE      (roms.in will be used by C-Star based on this template)\n",
      "    marbl_in\n",
      "    marbl_tracer_output_list\n",
      "    marbl_diagnostic_output_list\n"
     ]
    }
   ],
   "source": [
    "roms_namelists = AdditionalCode(\n",
    "    location = \"https://github.com/CWorthy-ocean/cstar_blueprint_roms_marbl_example.git\",\n",
    "    subdir = \"additional_code/ROMS/namelists\",\n",
    "    checkout_target = \"a9762a46a36c09225423305a1aaa59bdeb984074\",\n",
    "    files = [\n",
    "        \"roms.in_TEMPLATE\",\n",
    "        \"marbl_in\",\n",
    "        \"marbl_tracer_output_list\",\n",
    "        \"marbl_diagnostic_output_list\"\n",
    "    ]\n",
    ")\n",
    "print(roms_namelists)"
   ]
  },
  {
   "cell_type": "code",
   "execution_count": 8,
   "id": "360fdd39-0012-4add-b2cb-73dee1c17511",
   "metadata": {},
   "outputs": [
    {
     "name": "stdout",
     "output_type": "stream",
     "text": [
      "AdditionalCode\n",
      "--------------\n",
      "Location: https://github.com/CWorthy-ocean/cstar_blueprint_roms_marbl_example.git\n",
      "subdirectory: additional_code/ROMS/source_mods\n",
      "Working path: None\n",
      "Exists locally: False (get with AdditionalCode.get())\n",
      "Files:\n",
      "    bgc.opt\n",
      "    bulk_frc.opt\n",
      "    cppdefs.opt\n",
      "    diagnostics.opt\n",
      "    ocean_vars.opt\n",
      "    param.opt\n",
      "    tracers.opt\n",
      "    Makefile\n",
      "    Make.depend\n"
     ]
    }
   ],
   "source": [
    "roms_additional_source_code = AdditionalCode(\n",
    "    location = \"https://github.com/CWorthy-ocean/cstar_blueprint_roms_marbl_example.git\",\n",
    "    subdir = \"additional_code/ROMS/source_mods\",\n",
    "    checkout_target = \"a9762a46a36c09225423305a1aaa59bdeb984074\",\n",
    "    files = [\n",
    "        \"bgc.opt\",\n",
    "         \"bulk_frc.opt\",\n",
    "         \"cppdefs.opt\",\n",
    "         \"diagnostics.opt\",\n",
    "         \"ocean_vars.opt\",\n",
    "         \"param.opt\",\n",
    "         \"tracers.opt\",\n",
    "         \"Makefile\",\n",
    "         \"Make.depend\",\n",
    "    ]\n",
    ")\n",
    "\n",
    "print(roms_additional_source_code)"
   ]
  },
  {
   "cell_type": "markdown",
   "id": "227cc322-0f4d-465f-855f-7729bd43236a",
   "metadata": {},
   "source": [
    "---\n",
    "\n",
    "Note that for `roms_namelists`, in the first entry under `files`, the namelist file we begin with is a template. C-Star recognises the `_TEMPLATE` suffix and works with a local copy (in this case `roms.in`) that it will modify and use to run ROMS with user choices such as run length)\n",
    "\n",
    "## Constructing the InputDataset objects\n",
    "To run this case, we need different types of input dataset, each with a specialized subclass of the `InputDataset` class:\n",
    "- a grid file supplying information about the domain to ROMS (`ROMSModelGrid`)\n",
    "- An initial condition file from which to start the run (`ROMSInitialConditions`)\n",
    "- boundary forcing files providing information at the edge of the domain (`ROMSBoundaryConditions`)\n",
    "- surface forcing files providing information at the upper boundary (`ROMSSurfaceForcing`)\n",
    "- tidal forcing files providing information on tidal constituents (`ROMSTidalForcing`)\n",
    "\n",
    "To construct an `InputDataset` object, we need (see `cstar.InputDataset?`):\n",
    "- a `location` : either a path or URL, pointing to this file.\n",
    "- a `file_hash` : as our location is a URL in this example, we also need a [SHA256 checksum](https://en.wikipedia.org/wiki/Checksum) to verify any downloads\n",
    "\n",
    "In our case, all the files associated with our `roms_marbl_example` case are small and [fit in a repository](https://github.com/CWorthy-ocean/input_datasets_roms_marbl_example). "
   ]
  },
  {
   "cell_type": "code",
   "execution_count": 9,
   "id": "4f20a4bc-28cb-46a5-9a29-0b33515be140",
   "metadata": {},
   "outputs": [],
   "source": [
    "from cstar.roms import ROMSModelGrid, ROMSInitialConditions, ROMSTidalForcing, ROMSBoundaryForcing, ROMSSurfaceForcing"
   ]
  },
  {
   "cell_type": "code",
   "execution_count": 10,
   "id": "02c2bf05-15a0-45b5-bd1e-16a0032b5b1e",
   "metadata": {},
   "outputs": [],
   "source": [
    "#Grid\n",
    "roms_model_grid = ROMSModelGrid(\n",
    "    location=\"https://github.com/CWorthy-ocean/input_datasets_roms_marbl_example/raw/main/roms_grd.nc\",\n",
    "    file_hash=\"fd537ef8159fabb18e38495ec8d44e2fa1b7fb615fcb1417dd4c0e1bb5f4e41d\",\n",
    ")\n",
    "# Initial conditions\n",
    "roms_initial_conditions = ROMSInitialConditions(\n",
    "    location=\"https://github.com/CWorthy-ocean/input_datasets_roms_marbl_example/raw/main/MARBL_rst.20120103120000.nc\",\n",
    "    file_hash=\"fc3bbd039256edc89c898efda0eebc5c53773995598d59310bc6d57f454a6ddd\",\n",
    ")\n",
    "# Tides\n",
    "roms_tidal_forcing = ROMSTidalForcing(\n",
    "    location=\"https://github.com/CWorthy-ocean/input_datasets_roms_marbl_example/raw/main/roms_tides.nc\",\n",
    "    file_hash=\"90db174ab174909f9bf27c13fa19995c03f680bcb80e7d012268505b48590338\",\n",
    ")\n",
    "# Boundary\n",
    "roms_phys_boundary_forcing = ROMSBoundaryForcing(\n",
    "    location=\"https://github.com/CWorthy-ocean/input_datasets_roms_marbl_example/raw/main/roms_bry_2012.nc\",\n",
    "    file_hash=\"c3b0e14aae6dd5a0d54703fa04cf95960c1970e732c0a230427bf8b0fbbd8bf1\",\n",
    ")\n",
    "roms_bgc_boundary_forcing = ROMSBoundaryForcing(\n",
    "    location = \"https://github.com/CWorthy-ocean/input_datasets_roms_marbl_example/raw/main/roms_bry_bgc_MARBL.nc\",\n",
    "    file_hash = \"897a8df8ed45841a98b3906f2dd07750decc5c2b50095ba648a855c869c7d3ee\",\n",
    ")\n",
    "# Surface\n",
    "roms_bgc_surface_forcing = ROMSSurfaceForcing(\n",
    "    location=\"https://github.com/CWorthy-ocean/input_datasets_roms_marbl_example/raw/main/roms_frc_bgc.nc\",\n",
    "    file_hash=\"621dd23691d87aa93c5cc582daf6c5f18333ed062ff934777d50b63346c3f84d\",\n",
    ")\n",
    "roms_phys_surface_forcing = ROMSSurfaceForcing(\n",
    "    location=\"https://github.com/CWorthy-ocean/input_datasets_roms_marbl_example/raw/main/roms_frc.201201.nc\",\n",
    "    file_hash=\"923049a9c2ab9ce77fa4a0211585e6848a12e87bf237e7aa310f693c3ac6abfa\",\n",
    ")\n"
   ]
  },
  {
   "cell_type": "markdown",
   "id": "fc2615c6-054b-46e4-9287-9bbd5fab5bd6",
   "metadata": {},
   "source": [
    "We can query each input dataset to get pertinent information about its state, e.g.:"
   ]
  },
  {
   "cell_type": "code",
   "execution_count": 11,
   "id": "680420f2-2105-4907-ae4a-3e78e11ed336",
   "metadata": {},
   "outputs": [
    {
     "name": "stdout",
     "output_type": "stream",
     "text": [
      "-------------------\n",
      "ROMSBoundaryForcing\n",
      "-------------------\n",
      "Source location: https://github.com/CWorthy-ocean/input_datasets_roms_marbl_example/raw/main/roms_bry_2012.nc\n",
      "file_hash: c3b0e14aae6dd5a0d54703fa04cf95960c1970e732c0a230427bf8b0fbbd8bf1\n",
      "Working path: None ( does not yet exist. Call InputDataset.get() )\n"
     ]
    }
   ],
   "source": [
    "print(roms_phys_boundary_forcing)"
   ]
  },
  {
   "cell_type": "markdown",
   "id": "694a5dca-6352-4658-ac2a-9371c4ba8989",
   "metadata": {},
   "source": [
    "## Constructing the Discretization object\n",
    "Lastly, we need to tell C-Star how we will be discretizing our components. MARBL piggybacks off the discretization of its host model, so we only need to create a `ROMSDiscretization` object. This contains:\n",
    "- the time step (`time_step` , in seconds)\n",
    "- the number of processors following x and y for running in parallel (`n_procs_x`, `n_procs_y`)"
   ]
  },
  {
   "cell_type": "code",
   "execution_count": 12,
   "id": "bd717504-7e5a-4217-8b0c-d689664f04a9",
   "metadata": {},
   "outputs": [
    {
     "name": "stdout",
     "output_type": "stream",
     "text": [
      "ROMSDiscretization\n",
      "------------------\n",
      "time_step: 360s\n",
      "n_procs_x: 3 (Number of x-direction processors)\n",
      "n_procs_y: 3 (Number of y-direction processors)\n"
     ]
    }
   ],
   "source": [
    "from cstar.roms import ROMSDiscretization\n",
    "\n",
    "roms_discretization = ROMSDiscretization(time_step = 360,\n",
    "                                         n_procs_x = 3,\n",
    "                                         n_procs_y = 3)\n",
    "print(roms_discretization)"
   ]
  },
  {
   "cell_type": "markdown",
   "id": "d7d9714b-3a41-426c-8466-c20ffad7de9e",
   "metadata": {},
   "source": [
    "## Putting it all together to build ROMS and MARBL components:\n",
    "We now have everything we need to create the `MARBLComponent` and `ROMSComponent` objects that come together to make our Case."
   ]
  },
  {
   "cell_type": "code",
   "execution_count": 13,
   "id": "30955e95-7c36-4d0d-a2a4-fc30ef1fc91e",
   "metadata": {},
   "outputs": [],
   "source": [
    "from cstar.roms import ROMSComponent\n",
    "from cstar.marbl import MARBLComponent"
   ]
  },
  {
   "cell_type": "markdown",
   "id": "f8dc86a0-20a6-42a0-ae7b-1cb97afba110",
   "metadata": {},
   "source": [
    "### MARBL:"
   ]
  },
  {
   "cell_type": "code",
   "execution_count": 14,
   "id": "b3f01b55-9a80-4b18-a74b-59ffea7f2758",
   "metadata": {},
   "outputs": [
    {
     "name": "stdout",
     "output_type": "stream",
     "text": [
      "MARBLComponent\n",
      "--------------\n",
      "base_model: MARBLBaseModel instance (query using Component.base_model)\n"
     ]
    }
   ],
   "source": [
    "marbl_component = MARBLComponent(\n",
    "    base_model = marbl_base_model\n",
    ")\n",
    "print(marbl_component)"
   ]
  },
  {
   "cell_type": "markdown",
   "id": "c33e0ed5-3209-47ab-a866-66e9ee5e098d",
   "metadata": {},
   "source": [
    "### ROMS\n",
    "a ROMSComponent object (see `cstar.ROMSComponent?`) is a little more involved, not just because there are more objects going into it. Because we will be running this ROMS simulation in parallel, we should also supply information about how to distribute the domain among CPUs:"
   ]
  },
  {
   "cell_type": "code",
   "execution_count": 15,
   "id": "1533dbbf-593b-452d-9d72-120c4eb65a2d",
   "metadata": {},
   "outputs": [
    {
     "name": "stdout",
     "output_type": "stream",
     "text": [
      "ROMSComponent\n",
      "-------------\n",
      "base_model: ROMSBaseModel instance (query using Component.base_model)\n",
      "additional_source_code: AdditionalCode instance with 9 files (query using Component.additional_source_code)\n",
      "namelists: AdditionalCode instance with 4 files (query using Component.namelists)\n",
      "model_grid = <ROMSModelGrid instance>\n",
      "initial_conditions = <ROMSInitialConditions instance>\n",
      "tidal_forcing = <ROMSTidalForcing instance>\n",
      "surface_forcing = <list of 2 ROMSSurfaceForcing instances>\n",
      "boundary_forcing = <list of 2 ROMSBoundaryForcing instances>\n",
      "\n",
      "Discretization:\n",
      "ROMSDiscretization\n",
      "------------------\n",
      "time_step: 360s\n",
      "n_procs_x: 3 (Number of x-direction processors)\n",
      "n_procs_y: 3 (Number of y-direction processors)\n"
     ]
    }
   ],
   "source": [
    "roms_component = ROMSComponent(\n",
    "    base_model = roms_base_model,\n",
    "    namelists = roms_namelists,\n",
    "    additional_source_code = roms_additional_source_code,\n",
    "    discretization = roms_discretization,\n",
    "    model_grid = roms_model_grid,\n",
    "    initial_conditions = roms_initial_conditions,\n",
    "    tidal_forcing = roms_tidal_forcing,\n",
    "    boundary_forcing = [roms_phys_boundary_forcing,roms_bgc_boundary_forcing],\n",
    "    surface_forcing = [roms_phys_surface_forcing, roms_bgc_surface_forcing]\n",
    ")\n",
    "print(roms_component)"
   ]
  },
  {
   "cell_type": "markdown",
   "id": "0df5c20f-7851-4ea0-845c-4e3c3fa29f5b",
   "metadata": {},
   "source": [
    "## And finally, we can build the Case object:\n",
    "This is instantiated using a list of components, a name string, and a \"caseroot\" - the local path where the case will be run. Additionally we choose a start date and end date for the run. The values below run the case for one model month, which may take several minutes to run (depending on your machine). **If you'd like to run the case more quickly**, modify `end_date` below:"
   ]
  },
  {
   "cell_type": "code",
   "execution_count": 16,
   "id": "def7ac3e-3de8-4ca9-806d-b5ac385a437c",
   "metadata": {},
   "outputs": [],
   "source": [
    "from cstar import Case"
   ]
  },
  {
   "cell_type": "code",
   "execution_count": 17,
   "id": "1a32ad6f-8701-416f-ae50-598f7650cf5e",
   "metadata": {},
   "outputs": [
    {
     "name": "stdout",
     "output_type": "stream",
     "text": [
      "C-Star Case\n",
      "-----------\n",
      "Name: roms_marbl_example_cstar_case\n",
      "caseroot: /Users/dafyddstephenson/Code/my_c_star/examples/roms_marbl_example_cstar_case\n",
      "start_date: 2012-01-03 12:00:00\n",
      "end_date: 2012-01-31 12:00:00\n",
      "Is setup: False\n",
      "Valid date range:\n",
      "valid_start_date: None\n",
      "valid_end_date: None\n",
      "\n",
      "It is built from the following Components (query using Case.components): \n",
      "   <ROMSComponent instance>\n",
      "   <MARBLComponent instance>\n"
     ]
    },
    {
     "name": "stderr",
     "output_type": "stream",
     "text": [
      "/Users/dafyddstephenson/Code/my_c_star/cstar/case.py:103: RuntimeWarning: Valid start date not provided. Unable to check if simulation dates are out of range. Case objects should be initialized with valid_start_date and valid_end_date attributes.\n",
      "  warnings.warn(\n",
      "/Users/dafyddstephenson/Code/my_c_star/cstar/case.py:119: RuntimeWarning: Valid end date not provided. Unable to check if simulation dates are out of range. Case objects should be initialized with valid_start_date and valid_end_date attributes.\n",
      "  warnings.warn(\n"
     ]
    }
   ],
   "source": [
    "roms_marbl_case = Case(\n",
    "    components=[roms_component, marbl_component],\n",
    "    name='roms_marbl_example_cstar_case',\n",
    "    caseroot=os.getcwd() + '/roms_marbl_example_cstar_case',\n",
    "    start_date='20120103 12:00:00',\n",
    "    end_date='20120131 12:00:00',\n",
    ")\n",
    "print(roms_marbl_case)"
   ]
  },
  {
   "cell_type": "markdown",
   "id": "907a3317-154f-4da3-9854-e428291dc7db",
   "metadata": {},
   "source": [
    "## Visualizing the Case:\n",
    "We can see how the caseroot directory will look once the case is set up using `Case.tree()`:"
   ]
  },
  {
   "cell_type": "code",
   "execution_count": 18,
   "id": "80f5664b-2403-4582-88a1-a85c3bb4a369",
   "metadata": {},
   "outputs": [
    {
     "name": "stdout",
     "output_type": "stream",
     "text": [
      "/Users/dafyddstephenson/Code/my_c_star/examples/roms_marbl_example_cstar_case\n",
      "├── input_datasets\n",
      "│   └── ROMS\n",
      "│       ├── roms_grd.nc\n",
      "│       ├── MARBL_rst.20120103120000.nc\n",
      "│       ├── roms_tides.nc\n",
      "│       ├── roms_bry_2012.nc\n",
      "│       ├── roms_bry_bgc_MARBL.nc\n",
      "│       ├── roms_frc.201201.nc\n",
      "│       └── roms_frc_bgc.nc\n",
      "├── namelists\n",
      "│   └── ROMS\n",
      "│       ├── roms.in_TEMPLATE\n",
      "│       ├── marbl_in\n",
      "│       ├── marbl_tracer_output_list\n",
      "│       └── marbl_diagnostic_output_list\n",
      "└── additional_source_code\n",
      "    └── ROMS\n",
      "        ├── bgc.opt\n",
      "        ├── bulk_frc.opt\n",
      "        ├── cppdefs.opt\n",
      "        ├── diagnostics.opt\n",
      "        ├── ocean_vars.opt\n",
      "        ├── param.opt\n",
      "        ├── tracers.opt\n",
      "        ├── Makefile\n",
      "        └── Make.depend\n",
      "\n"
     ]
    }
   ],
   "source": [
    "roms_marbl_case.tree()"
   ]
  },
  {
   "cell_type": "markdown",
   "id": "811610f6-c589-484f-abbc-afa764f37ba1",
   "metadata": {},
   "source": [
    "## Setting the Case up\n",
    "We can see from querying the `roms_marbl_case` object above (`Is setup: False`) that the case has not yet been set up locally. \n",
    "\n",
    "To set the case up, we run `roms_marbl_case.setup()`, which performs a series of actions:\n",
    "- check the base model has been installed and, if not, ask the user if they would like to:\n",
    "  - download ROMS and compile its dependencies\n",
    "  - download and compile MARBL\n",
    "- retrieve any additional code using `AdditionalCode.get()`\n",
    "- retrieve any input datasets using `InputDataset.get()`\n",
    "\n",
    "When the base models are installed, a file `cstar_local_config.py` will be created (or appended to) defining the user's environment such that these base models are available on your machine next time you import C-Star."
   ]
  },
  {
   "cell_type": "code",
   "execution_count": 19,
   "id": "8074ca7c-e795-468a-8c2f-784837a24dfc",
   "metadata": {
    "scrolled": true
   },
   "outputs": [
    {
     "name": "stdout",
     "output_type": "stream",
     "text": [
      "\n",
      "Setting up ROMSComponent\n",
      "-------------------------\n",
      "Configuring ROMSComponent\n",
      "-------------------------\n",
      "ROMSBaseModel correctly configured. Nothing to be done\n",
      "\n",
      "Fetching additional source code...\n",
      "----------------------------------\n",
      "Cloned repository https://github.com/CWorthy-ocean/cstar_blueprint_roms_marbl_example.git to /var/folders/1s/xjsjyqrj2rdft8014664qczc0000gn/T/tmpjqpchuel\n",
      "Checked out a9762a46a36c09225423305a1aaa59bdeb984074 in git repository /var/folders/1s/xjsjyqrj2rdft8014664qczc0000gn/T/tmpjqpchuel\n",
      "copying bgc.opt to /Users/dafyddstephenson/Code/my_c_star/examples/roms_marbl_example_cstar_case/additional_source_code/ROMS\n",
      "copying bulk_frc.opt to /Users/dafyddstephenson/Code/my_c_star/examples/roms_marbl_example_cstar_case/additional_source_code/ROMS\n",
      "copying cppdefs.opt to /Users/dafyddstephenson/Code/my_c_star/examples/roms_marbl_example_cstar_case/additional_source_code/ROMS\n",
      "copying diagnostics.opt to /Users/dafyddstephenson/Code/my_c_star/examples/roms_marbl_example_cstar_case/additional_source_code/ROMS\n",
      "copying ocean_vars.opt to /Users/dafyddstephenson/Code/my_c_star/examples/roms_marbl_example_cstar_case/additional_source_code/ROMS\n",
      "copying param.opt to /Users/dafyddstephenson/Code/my_c_star/examples/roms_marbl_example_cstar_case/additional_source_code/ROMS\n",
      "copying tracers.opt to /Users/dafyddstephenson/Code/my_c_star/examples/roms_marbl_example_cstar_case/additional_source_code/ROMS\n",
      "copying Makefile to /Users/dafyddstephenson/Code/my_c_star/examples/roms_marbl_example_cstar_case/additional_source_code/ROMS\n",
      "copying Make.depend to /Users/dafyddstephenson/Code/my_c_star/examples/roms_marbl_example_cstar_case/additional_source_code/ROMS\n",
      "\n",
      "Fetching namelists... \n",
      "----------------------\n"
     ]
    },
    {
     "name": "stderr",
     "output_type": "stream",
     "text": [
      "Downloading file 'roms_grd.nc' from 'https://github.com/CWorthy-ocean/input_datasets_roms_marbl_example/raw/main/roms_grd.nc' to '/Users/dafyddstephenson/Code/my_c_star/examples/roms_marbl_example_cstar_case/input_datasets/ROMS'.\n"
     ]
    },
    {
     "name": "stdout",
     "output_type": "stream",
     "text": [
      "Cloned repository https://github.com/CWorthy-ocean/cstar_blueprint_roms_marbl_example.git to /var/folders/1s/xjsjyqrj2rdft8014664qczc0000gn/T/tmpu244_sq0\n",
      "Checked out a9762a46a36c09225423305a1aaa59bdeb984074 in git repository /var/folders/1s/xjsjyqrj2rdft8014664qczc0000gn/T/tmpu244_sq0\n",
      "copying roms.in_TEMPLATE to /Users/dafyddstephenson/Code/my_c_star/examples/roms_marbl_example_cstar_case/namelists/ROMS\n",
      "copying template file /Users/dafyddstephenson/Code/my_c_star/examples/roms_marbl_example_cstar_case/namelists/ROMS/roms.in_TEMPLATE to editable version /Users/dafyddstephenson/Code/my_c_star/examples/roms_marbl_example_cstar_case/namelists/ROMS/roms.in\n",
      "copying marbl_in to /Users/dafyddstephenson/Code/my_c_star/examples/roms_marbl_example_cstar_case/namelists/ROMS\n",
      "copying marbl_tracer_output_list to /Users/dafyddstephenson/Code/my_c_star/examples/roms_marbl_example_cstar_case/namelists/ROMS\n",
      "copying marbl_diagnostic_output_list to /Users/dafyddstephenson/Code/my_c_star/examples/roms_marbl_example_cstar_case/namelists/ROMS\n",
      "\n",
      "Fetching input datasets...\n",
      "--------------------------\n"
     ]
    },
    {
     "name": "stderr",
     "output_type": "stream",
     "text": [
      "Downloading file 'MARBL_rst.20120103120000.nc' from 'https://github.com/CWorthy-ocean/input_datasets_roms_marbl_example/raw/main/MARBL_rst.20120103120000.nc' to '/Users/dafyddstephenson/Code/my_c_star/examples/roms_marbl_example_cstar_case/input_datasets/ROMS'.\n",
      "Downloading file 'roms_tides.nc' from 'https://github.com/CWorthy-ocean/input_datasets_roms_marbl_example/raw/main/roms_tides.nc' to '/Users/dafyddstephenson/Code/my_c_star/examples/roms_marbl_example_cstar_case/input_datasets/ROMS'.\n",
      "Downloading file 'roms_bry_2012.nc' from 'https://github.com/CWorthy-ocean/input_datasets_roms_marbl_example/raw/main/roms_bry_2012.nc' to '/Users/dafyddstephenson/Code/my_c_star/examples/roms_marbl_example_cstar_case/input_datasets/ROMS'.\n",
      "Downloading file 'roms_bry_bgc_MARBL.nc' from 'https://github.com/CWorthy-ocean/input_datasets_roms_marbl_example/raw/main/roms_bry_bgc_MARBL.nc' to '/Users/dafyddstephenson/Code/my_c_star/examples/roms_marbl_example_cstar_case/input_datasets/ROMS'.\n",
      "Downloading file 'roms_frc.201201.nc' from 'https://github.com/CWorthy-ocean/input_datasets_roms_marbl_example/raw/main/roms_frc.201201.nc' to '/Users/dafyddstephenson/Code/my_c_star/examples/roms_marbl_example_cstar_case/input_datasets/ROMS'.\n",
      "Downloading file 'roms_frc_bgc.nc' from 'https://github.com/CWorthy-ocean/input_datasets_roms_marbl_example/raw/main/roms_frc_bgc.nc' to '/Users/dafyddstephenson/Code/my_c_star/examples/roms_marbl_example_cstar_case/input_datasets/ROMS'.\n"
     ]
    },
    {
     "name": "stdout",
     "output_type": "stream",
     "text": [
      "\n",
      "Setting up MARBLComponent\n",
      "--------------------------\n",
      "Configuring MARBLComponent\n",
      "--------------------------\n",
      "MARBLBaseModel correctly configured. Nothing to be done\n"
     ]
    }
   ],
   "source": [
    "roms_marbl_case.setup()"
   ]
  },
  {
   "cell_type": "markdown",
   "id": "a3129ac9-3d6b-4742-9ee7-86e5deec12f8",
   "metadata": {},
   "source": [
    "## Saving the Case to a YAML file\n",
    "We can save all the information associated with this case to a YAML file using `Case.persist(filename)`\n",
    "If we want to run this exact Case again, we can use the `Case.from_blueprint(filename)` method:"
   ]
  },
  {
   "cell_type": "code",
   "execution_count": 20,
   "id": "868f69f3-9f34-4105-942d-1926c15f96e5",
   "metadata": {},
   "outputs": [],
   "source": [
    "roms_marbl_case.persist(roms_marbl_case.caseroot / 'roms_marbl_case.yaml')"
   ]
  },
  {
   "cell_type": "code",
   "execution_count": 21,
   "id": "4af4a516-aeae-4a4f-90bc-bf2bf62f584e",
   "metadata": {},
   "outputs": [
    {
     "name": "stdout",
     "output_type": "stream",
     "text": [
      "registry_attrs:\n",
      "  name: roms_marbl_example_cstar_case\n",
      "components:\n",
      "- component:\n",
      "    component_type: ROMS\n",
      "    base_model:\n",
      "      source_repo: https://github.com/CESR-lab/ucla-roms.git\n",
      "      checkout_target: 246c11fa537145ba5868f2256dfb4964aeb09a25\n",
      "    additional_source_code:\n",
      "      location: https://github.com/CWorthy-ocean/cstar_blueprint_roms_marbl_example.git\n",
      "      subdir: additional_code/ROMS/source_mods\n",
      "      checkout_target: a9762a46a36c09225423305a1aaa59bdeb984074\n",
      "      files:\n",
      "      - bgc.opt\n",
      "      - bulk_frc.opt\n",
      "      - cppdefs.opt\n",
      "      - diagnostics.opt\n",
      "      - ocean_vars.opt\n",
      "      - param.opt\n",
      "      - tracers.opt\n",
      "      - Makefile\n",
      "      - Make.depend\n",
      "    namelists:\n",
      "      location: https://github.com/CWorthy-ocean/cstar_blueprint_roms_marbl_example.git\n",
      "      subdir: additional_code/ROMS/namelists\n",
      "      checkout_target: a9762a46a36c09225423305a1aaa59bdeb984074\n",
      "      files:\n",
      "      - roms.in_TEMPLATE\n",
      "      - marbl_in\n",
      "      - marbl_tracer_output_list\n",
      "      - marbl_diagnostic_output_list\n",
      "    discretization:\n",
      "      time_step: 360\n",
      "      n_procs_x: 3\n",
      "      n_procs_y: 3\n",
      "    model_grid:\n",
      "      location: https://github.com/CWorthy-ocean/input_datasets_roms_marbl_example/raw/main/roms_grd.nc\n",
      "      file_hash: fd537ef8159fabb18e38495ec8d44e2fa1b7fb615fcb1417dd4c0e1bb5f4e41d\n",
      "    initial_conditions:\n",
      "      location: https://github.com/CWorthy-ocean/input_datasets_roms_marbl_example/raw/main/MARBL_rst.20120103120000.nc\n",
      "      file_hash: fc3bbd039256edc89c898efda0eebc5c53773995598d59310bc6d57f454a6ddd\n",
      "    tidal_forcing:\n",
      "      location: https://github.com/CWorthy-ocean/input_datasets_roms_marbl_example/raw/main/roms_tides.nc\n",
      "      file_hash: 90db174ab174909f9bf27c13fa19995c03f680bcb80e7d012268505b48590338\n",
      "    surface_forcing:\n",
      "    - location: https://github.com/CWorthy-ocean/input_datasets_roms_marbl_example/raw/main/roms_frc.201201.nc\n",
      "      file_hash: 923049a9c2ab9ce77fa4a0211585e6848a12e87bf237e7aa310f693c3ac6abfa\n",
      "    - location: https://github.com/CWorthy-ocean/input_datasets_roms_marbl_example/raw/main/roms_frc_bgc.nc\n",
      "      file_hash: 621dd23691d87aa93c5cc582daf6c5f18333ed062ff934777d50b63346c3f84d\n",
      "    boundary_forcing:\n",
      "    - location: https://github.com/CWorthy-ocean/input_datasets_roms_marbl_example/raw/main/roms_bry_2012.nc\n",
      "      file_hash: c3b0e14aae6dd5a0d54703fa04cf95960c1970e732c0a230427bf8b0fbbd8bf1\n",
      "    - location: https://github.com/CWorthy-ocean/input_datasets_roms_marbl_example/raw/main/roms_bry_bgc_MARBL.nc\n",
      "      file_hash: 897a8df8ed45841a98b3906f2dd07750decc5c2b50095ba648a855c869c7d3ee\n",
      "- component:\n",
      "    component_type: MARBL\n",
      "    base_model:\n",
      "      source_repo: https://github.com/marbl-ecosys/MARBL.git\n",
      "      checkout_target: marbl0.45.0\n",
      "\n"
     ]
    }
   ],
   "source": [
    "print((roms_marbl_case.caseroot/\"roms_marbl_case.yaml\").read_text())"
   ]
  }
 ],
 "metadata": {
  "kernelspec": {
   "display_name": "cstar_env",
   "language": "python",
   "name": "cstar_env"
  },
  "language_info": {
   "codemirror_mode": {
    "name": "ipython",
    "version": 3
   },
   "file_extension": ".py",
   "mimetype": "text/x-python",
   "name": "python",
   "nbconvert_exporter": "python",
   "pygments_lexer": "ipython3",
   "version": "3.12.7"
  }
 },
 "nbformat": 4,
 "nbformat_minor": 5
}
