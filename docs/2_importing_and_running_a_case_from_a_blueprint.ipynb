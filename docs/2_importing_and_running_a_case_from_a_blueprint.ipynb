{
 "cells": [
  {
   "cell_type": "markdown",
   "id": "b61e35b0",
   "metadata": {},
   "source": [
    "> [!Warning] \n",
    "> **This project is still in an early phase of development.**\n",
    ">\n",
    "> The [python API](https://c-star.readthedocs.io/en/latest/api.html) is not yet stable, and some aspects of the schema for the [blueprint](https://c-star.readthedocs.io/en/latest/terminology.html#term-blueprint) will likely evolve. \n",
    "> Therefore whilst you are welcome to try out using the package, we cannot yet guarantee backwards compatibility. \n",
    "We expect to reach a more stable version in Q1 2025.\n",
    ">\n",
    "> To see which systems C-Star has been tested on so far, see [Supported Systems](https://c-star.readthedocs.io/en/latest/machines.html)."
   ]
  },
  {
   "cell_type": "markdown",
   "id": "51356c28",
   "metadata": {},
   "source": [
    "> [!Warning]\n",
    "> \n",
    "> This notebook assumes you are running the NERSC Perlmutter HPC machine.\n",
    "> You will need to change some arguments in order to run this notebook verbatim on any other machine."
   ]
  },
  {
   "cell_type": "markdown",
   "id": "09c2ee2f-1313-4d2a-bad4-41d98ea7e2da",
   "metadata": {},
   "source": [
    "# Importing & running a `Case`\n",
    "On this page, we will spin up a ROMS-MARBL run using C-Star. In particular, we will:\n",
    "\n",
    "- Create a [C-Star Case](https://c-star.readthedocs.io/en/latest/terminology.html#term-Case) from a pre-prepared [blueprint](https://c-star.readthedocs.io/en/latest/terminology.html#term-blueprint) (`Case.from_blueprint()`). See [this page](https://c-star.readthedocs.io/en/latest/1_building_a_case_and_exporting_it_as_a_blueprint.html) for instructions on how to assemble a blueprint.\n",
    "- Examine the contents of the Case object we just created\n",
    "- Set up the case locally (`Case.setup()`)\n",
    "- Compile any necessary code associated with the case (`Case.build()`)\n",
    "- Complete any pre-processing steps associated with the case (`Case.pre_run()`)\n",
    "- Run the case with a small time step for a couple of days (`Case.run()`)\n",
    "- Execute any post-processing steps associated with the case (`Case.post_run()`)"
   ]
  },
  {
   "cell_type": "markdown",
   "id": "030d1b46-c7cf-43a9-908f-33f9858cecdf",
   "metadata": {},
   "source": [
    "## Importing the `Case` \n",
    "[The \"Case\"](https://c-star.readthedocs.io/en/latest/generated/cstar.Case.html) is the primary object of C-Star, and contains all the information needed to run a particular simulation. Once prepared, cases can be stored in \"blueprints\" - `.yaml` files telling C-Star what goes into each case and where to find it. We will start from a blueprint that has been prepared in advance.\n",
    "\n",
    "We can construct a `Case` from a blueprint using the `Case.from_blueprint` method. Let's create a `Case` (to be run for a two-day \"spin-up\" period) in this way, and then take a look at it."
   ]
  },
  {
   "cell_type": "code",
   "execution_count": 1,
   "id": "dcfdd8c2-ddf5-4738-9481-39280634d1f1",
   "metadata": {},
   "outputs": [],
   "source": [
    "import cstar\n",
    "\n",
    "example_case_1 = cstar.Case.from_blueprint(blueprint  = \"../examples/alpha_example/cstar_blueprint_alpha_example.yaml\",\n",
    "                                           caseroot   = \"../examples/alpha_example/example_case\", \n",
    "                                           start_date = \"2012-01-01 12:00:00\", \n",
    "                                           end_date   = \"2012-01-03 12:00:00\")"
   ]
  },
  {
   "cell_type": "markdown",
   "id": "7192f68f-acc1-4d80-b502-5fe065adbf14",
   "metadata": {},
   "source": [
    "## Deconstructing the `Case` "
   ]
  },
  {
   "cell_type": "code",
   "execution_count": 2,
   "id": "9156a7f4-e2e1-482e-a8c2-8b4aa92409b4",
   "metadata": {
    "tags": []
   },
   "outputs": [
    {
     "name": "stdout",
     "output_type": "stream",
     "text": [
      "C-Star Case\n",
      "-----------\n",
      "Name: roms_tools_example\n",
      "caseroot: /global/cfs/cdirs/m4746/Users/dafydd/my_c_star/examples/alpha_example/example_case\n",
      "start_date: 2012-01-01 12:00:00\n",
      "end_date: 2012-01-03 12:00:00\n",
      "Is setup: False\n",
      "Valid date range:\n",
      "valid_start_date: 2012-01-01 12:00:00\n",
      "valid_end_date: 2012-12-31 23:00:00\n",
      "This case was instantiated from the blueprint file:\n",
      "   ../examples/alpha_example/cstar_blueprint_alpha_example.yaml\n",
      "\n",
      "It is built from the following Components (query using Case.components): \n",
      "   <MARBLComponent instance>\n",
      "   <ROMSComponent instance>\n"
     ]
    }
   ],
   "source": [
    "print(example_case_1)"
   ]
  },
  {
   "cell_type": "markdown",
   "id": "79435562-c611-49af-a749-d5418bdc4842",
   "metadata": {},
   "source": [
    "We can see in the printout:\n",
    "\n",
    "- the values of the three parameters we provided (`caseroot`, `start_date`, `end_date`)\n",
    "- the valid date range in which we can run this `Case`, as defined in the blueprint file (`valid_start_date`, `valid_end_date`)\n",
    "- the blueprint file from which the `Case` was created\n",
    "- that the `Case` is _not_ setup (yet)\n",
    "- that the `Case` consists of two \"`Component`\"s (ROMS and MARBL)\n",
    "\n",
    "### Looking at the `Component`s of our `Case`  \n",
    "Above we saw that our `Case` consists of two `Component`s. \n",
    "\n",
    "The `Component` object represents is a distinct model combined with any additional code and data needed to run it in a particular configuration. Let's take a look at our two `Component` instances:\n",
    "\n",
    "#### MARBL"
   ]
  },
  {
   "cell_type": "code",
   "execution_count": 3,
   "id": "0854c89c-6980-43dd-9015-10bd0e1d4aeb",
   "metadata": {
    "tags": []
   },
   "outputs": [
    {
     "name": "stdout",
     "output_type": "stream",
     "text": [
      "MARBLComponent\n",
      "--------------\n",
      "base_model: MARBLBaseModel instance (query using Component.base_model)\n"
     ]
    }
   ],
   "source": [
    "marbl_component = example_case_1.components[0]\n",
    "print(marbl_component)"
   ]
  },
  {
   "cell_type": "markdown",
   "id": "7d2039c5-e20d-4415-989f-3f3499a6ced3",
   "metadata": {},
   "source": [
    "The first entry in the `components` list is [MARBL](https://c-star.readthedocs.io/en/latest/generated/cstar.marbl.MARBLComponent.html).\n",
    "\n",
    "Our set-up for MARBL is very simple and requires no additional code or input data, just a `BaseModel`. \n",
    "\n",
    "The `BaseModel` [object](https://c-star.readthedocs.io/en/latest/generated/cstar.base.BaseModel.html) represents the off-the-shelf source code for our `Component`'s model, absent any modifications:"
   ]
  },
  {
   "cell_type": "code",
   "execution_count": 4,
   "id": "6a699b18-a9a1-4ce9-847d-2181fcacdec6",
   "metadata": {
    "tags": []
   },
   "outputs": [
    {
     "name": "stdout",
     "output_type": "stream",
     "text": [
      "MARBLBaseModel\n",
      "--------------\n",
      "source_repo : https://github.com/marbl-ecosys/MARBL.git (default)\n",
      "checkout_target : marbl0.45.0 (corresponding to hash 6e6b2f7c32ac5427e6cf46de4222973b8bcaa3d9)\n",
      "local_config_status: 3 (Environment variable MARBL_ROOT is not present and it is assumed the base model is not installed locally)\n"
     ]
    }
   ],
   "source": [
    "print(marbl_component.base_model)"
   ]
  },
  {
   "cell_type": "markdown",
   "id": "cf251221-0b29-4329-83a4-1c7e262876dd",
   "metadata": {},
   "source": [
    "Here we see that the base model for MARBL:\n",
    "\n",
    "- comes from the \"default\" source repository (that is, the one maintained by the MARBL developers)\n",
    "- Is to be checked out at version 0.45\n",
    "- Is _not_ configured for use on this machine (yet)\n",
    "\n",
    "#### ROMS\n",
    "Our ROMS Component consists of much more than just a base model with no modifications. Let's take a look:"
   ]
  },
  {
   "cell_type": "code",
   "execution_count": 5,
   "id": "f6f5fe12-f2bf-4eed-91a7-28d78b059a5c",
   "metadata": {
    "tags": []
   },
   "outputs": [
    {
     "name": "stdout",
     "output_type": "stream",
     "text": [
      "ROMSComponent\n",
      "-------------\n",
      "base_model: ROMSBaseModel instance (query using Component.base_model)\n",
      "additional_source_code: AdditionalCode instance with 9 files (query using Component.additional_source_code)\n",
      "namelists: AdditionalCode instance with 4 files (query using Component.namelists)\n",
      "model_grid = <ROMSModelGrid instance>\n",
      "initial_conditions = <ROMSInitialConditions instance>\n",
      "tidal_forcing = <ROMSTidalForcing instance>\n",
      "surface_forcing = <list of 2 ROMSSurfaceForcing instances>\n",
      "boundary_forcing = <list of 2 ROMSBoundaryForcing instances>\n",
      "\n",
      "Discretization:\n",
      "ROMSDiscretization\n",
      "------------------\n",
      "time_step: 60s\n",
      "n_procs_x: 3 (Number of x-direction processors)\n",
      "n_procs_y: 3 (Number of y-direction processors)\n"
     ]
    }
   ],
   "source": [
    "roms_component = example_case_1.components[1]\n",
    "print(roms_component)"
   ]
  },
  {
   "cell_type": "markdown",
   "id": "eb933e57-17bb-4403-9b16-1f2c3bac193a",
   "metadata": {},
   "source": [
    "Here we see that we have a base model, as before, but also:\n",
    "\n",
    "- additional source code to be compiled alongside the base model source code\n",
    "- namelist files to define certain settings at runtime\n",
    "- a range of input datasets defining everything from the model grid to the surface forcing. \n",
    "\n",
    "Let's take a look at a few examples, but feel free to explore the other parts of the ROMS `Component` yourself:\n",
    "\n",
    "##### Additional source code\n",
    "\n",
    "This is managed as an [AdditionalCode object](https://c-star.readthedocs.io/en/latest/generated/cstar.base.AdditionalCode.html) in C-Star. We see that in this case our code is kept in a subdirectory of a GitHub repository with 9 files in it."
   ]
  },
  {
   "cell_type": "code",
   "execution_count": 6,
   "id": "df70a77c-58dc-413e-9d8f-76a07c3a135e",
   "metadata": {
    "tags": []
   },
   "outputs": [
    {
     "name": "stdout",
     "output_type": "stream",
     "text": [
      "AdditionalCode\n",
      "--------------\n",
      "Location: https://github.com/CWorthy-ocean/cstar_blueprint_roms_marbl_example.git\n",
      "subdirectory: additional_code/ROMS/source_mods\n",
      "Working path: None\n",
      "Exists locally: False (get with AdditionalCode.get())\n",
      "Files:\n",
      "    bgc.opt\n",
      "    bulk_frc.opt\n",
      "    cppdefs.opt\n",
      "    diagnostics.opt\n",
      "    ocean_vars.opt\n",
      "    param.opt\n",
      "    tracers.opt\n",
      "    Makefile\n",
      "    Make.depend\n"
     ]
    }
   ],
   "source": [
    "print(roms_component.additional_source_code)"
   ]
  },
  {
   "cell_type": "markdown",
   "id": "c0b705e0-91e4-4402-9434-5a0bcaaef2e1",
   "metadata": {},
   "source": [
    "We can see the full list of files using:\n"
   ]
  },
  {
   "cell_type": "code",
   "execution_count": 7,
   "id": "d085f4c9-8051-4245-b64a-1aa6fcf67696",
   "metadata": {
    "tags": []
   },
   "outputs": [
    {
     "name": "stdout",
     "output_type": "stream",
     "text": [
      "['bgc.opt', 'bulk_frc.opt', 'cppdefs.opt', 'diagnostics.opt', 'ocean_vars.opt', 'param.opt', 'tracers.opt', 'Makefile', 'Make.depend']\n"
     ]
    }
   ],
   "source": [
    "print(roms_component.additional_source_code.files)"
   ]
  },
  {
   "cell_type": "markdown",
   "id": "2512fa81-aa67-4c41-8be6-678d84daedf2",
   "metadata": {},
   "source": [
    "##### Input datasets\n",
    "Let's take a look at one of the input datasets:"
   ]
  },
  {
   "cell_type": "code",
   "execution_count": 8,
   "id": "7776fe27-6421-43e1-b787-82c3aea5ff03",
   "metadata": {
    "tags": []
   },
   "outputs": [
    {
     "name": "stdout",
     "output_type": "stream",
     "text": [
      "---------------------\n",
      "ROMSInitialConditions\n",
      "---------------------\n",
      "Source location: https://github.com/CWorthy-ocean/cstar_blueprint_roms_marbl_example/raw/cstar_alpha/roms_tools_yaml_files/roms_ini.yaml\n",
      "file_hash: 2e01f5997e3aa79ba012c814684d6ae373dfef21f45cefc96bd0ffa37ae7d0c9\n",
      "Working path: None ( does not yet exist. Call InputDataset.get() )\n"
     ]
    }
   ],
   "source": [
    "print(roms_component.initial_conditions)"
   ]
  },
  {
   "cell_type": "markdown",
   "id": "15371e44-6c54-4c0c-81ea-79a941251cc1",
   "metadata": {},
   "source": [
    "<div class=\"alert alert-info\">\n",
    "\n",
    "Note\n",
    "\n",
    "1. The `location` attribute can either be a **local path** or a **URL**. If it is set to a URL, the `file_hash` (a 256 bit checksum) must also be provided to verify the download.\n",
    "    \n",
    "2. The file described by location can be either **netCDF** or **yaml** format. When C-Star sees a yaml file instead of a netCDF file for ROMS input data, it assumes the file contains a set of instructions to be passed to the [`roms-tools` package](https://roms-tools.readthedocs.io/en/latest/), which will then generate the netCDF file for us when `InputDataset.get()` is called. This makes it easier to share and save ROMS configurations without the overhead associated with potentially large netCDF files. More information on using `roms-tools` with C-Star can be found on [this page](https://c-star.readthedocs.io/en/latest/4_preparing_roms_input_datasets.html)\n",
    "\n",
    "</div>"
   ]
  },
  {
   "cell_type": "markdown",
   "id": "ca2b0540-1bee-40ca-a2f9-0024bd34daf0",
   "metadata": {
    "tags": []
   },
   "source": [
    "##### Discretization\n",
    "Lastly, the `discretization` attribute consists of essential information for compiling and running the model - the time step and the number of processors to assign in each direction:"
   ]
  },
  {
   "cell_type": "code",
   "execution_count": 9,
   "id": "5972a473-325d-4ca5-8779-4d77abe52461",
   "metadata": {
    "tags": []
   },
   "outputs": [
    {
     "name": "stdout",
     "output_type": "stream",
     "text": [
      "ROMSDiscretization\n",
      "------------------\n",
      "time_step: 60s\n",
      "n_procs_x: 3 (Number of x-direction processors)\n",
      "n_procs_y: 3 (Number of y-direction processors)\n"
     ]
    }
   ],
   "source": [
    "print(roms_component.discretization)"
   ]
  },
  {
   "cell_type": "markdown",
   "id": "6e0e19e0-dfb0-4e6d-92a5-1d1229e704f6",
   "metadata": {},
   "source": [
    "## Visualizing the `Case`:\n",
    "We can visualize everything we've just seen using the `Case.tree()` method, which prints a representation of how this `Case` will look in the `caseroot` once set up:"
   ]
  },
  {
   "cell_type": "code",
   "execution_count": 10,
   "id": "05fa6474-acb6-43ea-863f-1de4e751a8af",
   "metadata": {
    "tags": []
   },
   "outputs": [
    {
     "name": "stdout",
     "output_type": "stream",
     "text": [
      "/global/cfs/cdirs/m4746/Users/dafydd/my_c_star/examples/alpha_example/example_case\n",
      "├── input_datasets\n",
      "│   └── ROMS\n",
      "│       ├── roms_grd.yaml\n",
      "│       ├── roms_ini.yaml\n",
      "│       ├── roms_tides.yaml\n",
      "│       ├── roms_bry.yaml\n",
      "│       ├── roms_bry_bgc.yaml\n",
      "│       ├── roms_frc.yaml\n",
      "│       └── roms_frc_bgc.yaml\n",
      "├── namelists\n",
      "│   └── ROMS\n",
      "│       ├── roms.in_TEMPLATE\n",
      "│       ├── marbl_in\n",
      "│       ├── marbl_tracer_output_list\n",
      "│       └── marbl_diagnostic_output_list\n",
      "└── additional_source_code\n",
      "    └── ROMS\n",
      "        ├── bgc.opt\n",
      "        ├── bulk_frc.opt\n",
      "        ├── cppdefs.opt\n",
      "        ├── diagnostics.opt\n",
      "        ├── ocean_vars.opt\n",
      "        ├── param.opt\n",
      "        ├── tracers.opt\n",
      "        ├── Makefile\n",
      "        └── Make.depend\n",
      "\n"
     ]
    }
   ],
   "source": [
    "example_case_1.tree()"
   ]
  },
  {
   "cell_type": "markdown",
   "id": "117984e8-2ec7-4891-93cb-1e59335e1053",
   "metadata": {
    "tags": []
   },
   "source": [
    "<div class=\"alert alert-info\">\n",
    "\n",
    "Note\n",
    "\n",
    "Nothing we have seen above represents anything local on our machine (yet). each object simply describes where various files may be found, and the `Case.tree()` representation shows us where these files will be assembled once we set everything up. To turn that into something concrete we can work with, we call `Case.setup()`.\n",
    "\n",
    "</div>"
   ]
  },
  {
   "cell_type": "markdown",
   "id": "43545bd9-8cdb-442e-9b79-333e540364e7",
   "metadata": {},
   "source": [
    "## Setting up the `Case` :\n",
    "\n",
    "Next we call `Case.setup()`. This will:\n",
    "\n",
    "- Fetch and compile our base models (ROMS and MARBL)\n",
    "- Fetch any remote data associated with this case\n",
    "- Construct any ROMS netCDF files from yaml files using `roms-tools` \n",
    "\n",
    "We will be prompted before installing the base models, so some input is required here:"
   ]
  },
  {
   "cell_type": "code",
   "execution_count": 11,
   "id": "a9280f90-fec9-429b-b28d-da7976fea3da",
   "metadata": {
    "tags": []
   },
   "outputs": [
    {
     "name": "stdout",
     "output_type": "stream",
     "text": [
      "\n",
      "Setting up MARBLComponent\n",
      "--------------------------\n",
      "Configuring MARBLComponent\n",
      "--------------------------\n",
      "#######################################################\n",
      "C-STAR: MARBL_ROOT not found in current environment. \n",
      "if this is your first time running C-Star with an instance of MARBLBaseModel, you will need to set it up.\n",
      "It is recommended that you install this base model in \n",
      "/global/cfs/cdirs/m4746/Users/dafydd/my_c_star/cstar/externals/MARBL\n",
      "This will also modify your `cstar_local_config.py` file.\n",
      "#######################################################\n"
     ]
    },
    {
     "name": "stdout",
     "output_type": "stream",
     "text": [
      "Would you like to do this now? ('y', 'n', or 'custom' to install at a custom path)\n",
      " y\n"
     ]
    },
    {
     "name": "stdout",
     "output_type": "stream",
     "text": [
      "Cloned repository https://github.com/marbl-ecosys/MARBL.git to /global/cfs/cdirs/m4746/Users/dafydd/my_c_star/cstar/externals/MARBL\n",
      "Checked out marbl0.45.0 in git repository /global/cfs/cdirs/m4746/Users/dafydd/my_c_star/cstar/externals/MARBL\n",
      "Updating environment in C-Star configuration file /global/cfs/cdirs/m4746/Users/dafydd/my_c_star/cstar/cstar_local_config.py\n",
      "Compiling MARBL...\n",
      "MARBL successfully installed at /global/cfs/cdirs/m4746/Users/dafydd/my_c_star/cstar/externals/MARBL\n",
      "\n",
      "Setting up ROMSComponent\n",
      "-------------------------\n",
      "Configuring ROMSComponent\n",
      "-------------------------\n",
      "#######################################################\n",
      "C-STAR: ROMS_ROOT not found in current environment. \n",
      "if this is your first time running C-Star with an instance of ROMSBaseModel, you will need to set it up.\n",
      "It is recommended that you install this base model in \n",
      "/global/cfs/cdirs/m4746/Users/dafydd/my_c_star/cstar/externals/ucla-roms\n",
      "This will also modify your `cstar_local_config.py` file.\n",
      "#######################################################\n"
     ]
    },
    {
     "name": "stdout",
     "output_type": "stream",
     "text": [
      "Would you like to do this now? ('y', 'n', or 'custom' to install at a custom path)\n",
      " y\n"
     ]
    },
    {
     "name": "stdout",
     "output_type": "stream",
     "text": [
      "Cloned repository https://github.com/CESR-lab/ucla-roms.git to /global/cfs/cdirs/m4746/Users/dafydd/my_c_star/cstar/externals/ucla-roms\n",
      "Checked out 594ac425e9dbe663ce48ced0915c0007c6cca843 in git repository /global/cfs/cdirs/m4746/Users/dafydd/my_c_star/cstar/externals/ucla-roms\n",
      "Compiling UCLA ROMS' NHMG library...\n",
      "Compiling Tools-Roms package for UCLA ROMS...\n",
      "UCLA-ROMS is installed at /global/cfs/cdirs/m4746/Users/dafydd/my_c_star/cstar/externals/ucla-roms\n",
      "\n",
      "Fetching additional source code...\n",
      "----------------------------------\n",
      "Cloned repository https://github.com/CWorthy-ocean/cstar_blueprint_roms_marbl_example.git to /tmp/tmpovvnkic6\n",
      "Checked out cstar_alpha in git repository /tmp/tmpovvnkic6\n",
      "copying bgc.opt to /global/cfs/cdirs/m4746/Users/dafydd/my_c_star/examples/alpha_example/example_case/additional_source_code/ROMS\n",
      "copying bulk_frc.opt to /global/cfs/cdirs/m4746/Users/dafydd/my_c_star/examples/alpha_example/example_case/additional_source_code/ROMS\n",
      "copying cppdefs.opt to /global/cfs/cdirs/m4746/Users/dafydd/my_c_star/examples/alpha_example/example_case/additional_source_code/ROMS\n",
      "copying diagnostics.opt to /global/cfs/cdirs/m4746/Users/dafydd/my_c_star/examples/alpha_example/example_case/additional_source_code/ROMS\n",
      "copying ocean_vars.opt to /global/cfs/cdirs/m4746/Users/dafydd/my_c_star/examples/alpha_example/example_case/additional_source_code/ROMS\n",
      "copying param.opt to /global/cfs/cdirs/m4746/Users/dafydd/my_c_star/examples/alpha_example/example_case/additional_source_code/ROMS\n",
      "copying tracers.opt to /global/cfs/cdirs/m4746/Users/dafydd/my_c_star/examples/alpha_example/example_case/additional_source_code/ROMS\n",
      "copying Makefile to /global/cfs/cdirs/m4746/Users/dafydd/my_c_star/examples/alpha_example/example_case/additional_source_code/ROMS\n",
      "copying Make.depend to /global/cfs/cdirs/m4746/Users/dafydd/my_c_star/examples/alpha_example/example_case/additional_source_code/ROMS\n",
      "\n",
      "Fetching namelists... \n",
      "----------------------\n",
      "Cloned repository https://github.com/CWorthy-ocean/cstar_blueprint_roms_marbl_example.git to /tmp/tmp1l5tyiuz\n",
      "Checked out cstar_alpha in git repository /tmp/tmp1l5tyiuz\n"
     ]
    },
    {
     "name": "stderr",
     "output_type": "stream",
     "text": [
      "Downloading file 'roms_grd.yaml' from 'https://github.com/CWorthy-ocean/cstar_blueprint_roms_marbl_example/raw/cstar_alpha/roms_tools_yaml_files/roms_grd.yaml' to '/global/cfs/cdirs/m4746/Users/dafydd/my_c_star/examples/alpha_example/example_case/input_datasets/ROMS'.\n"
     ]
    },
    {
     "name": "stdout",
     "output_type": "stream",
     "text": [
      "copying roms.in_TEMPLATE to /global/cfs/cdirs/m4746/Users/dafydd/my_c_star/examples/alpha_example/example_case/namelists/ROMS\n",
      "copying template file /global/cfs/cdirs/m4746/Users/dafydd/my_c_star/examples/alpha_example/example_case/namelists/ROMS/roms.in_TEMPLATE to editable version /global/cfs/cdirs/m4746/Users/dafydd/my_c_star/examples/alpha_example/example_case/namelists/ROMS/roms.in\n",
      "copying marbl_in to /global/cfs/cdirs/m4746/Users/dafydd/my_c_star/examples/alpha_example/example_case/namelists/ROMS\n",
      "copying marbl_tracer_output_list to /global/cfs/cdirs/m4746/Users/dafydd/my_c_star/examples/alpha_example/example_case/namelists/ROMS\n",
      "copying marbl_diagnostic_output_list to /global/cfs/cdirs/m4746/Users/dafydd/my_c_star/examples/alpha_example/example_case/namelists/ROMS\n",
      "\n",
      "Fetching input datasets...\n",
      "--------------------------\n",
      "Saving roms-tools dataset created from /global/cfs/cdirs/m4746/Users/dafydd/my_c_star/examples/alpha_example/example_case/input_datasets/ROMS/roms_grd.yaml...\n"
     ]
    },
    {
     "name": "stderr",
     "output_type": "stream",
     "text": [
      "Downloading file 'roms_ini.yaml' from 'https://github.com/CWorthy-ocean/cstar_blueprint_roms_marbl_example/raw/cstar_alpha/roms_tools_yaml_files/roms_ini.yaml' to '/global/cfs/cdirs/m4746/Users/dafydd/my_c_star/examples/alpha_example/example_case/input_datasets/ROMS'.\n",
      "INFO - Selected time entry closest to the specified start_time (2012-01-01 12:00:00) within the range [2012-01-01 12:00:00, 2012-01-02 12:00:00]: ['2012-01-01T12:00:00.000000000']\n"
     ]
    },
    {
     "name": "stdout",
     "output_type": "stream",
     "text": [
      "Saving roms-tools dataset created from /global/cfs/cdirs/m4746/Users/dafydd/my_c_star/examples/alpha_example/example_case/input_datasets/ROMS/roms_ini.yaml...\n",
      "[########################################] | 100% Completed | 7.17 sms\n"
     ]
    },
    {
     "name": "stderr",
     "output_type": "stream",
     "text": [
      "Downloading file 'roms_tides.yaml' from 'https://github.com/CWorthy-ocean/cstar_blueprint_roms_marbl_example/raw/cstar_alpha/roms_tools_yaml_files/roms_tides.yaml' to '/global/cfs/cdirs/m4746/Users/dafydd/my_c_star/examples/alpha_example/example_case/input_datasets/ROMS'.\n"
     ]
    },
    {
     "name": "stdout",
     "output_type": "stream",
     "text": [
      "Saving roms-tools dataset created from /global/cfs/cdirs/m4746/Users/dafydd/my_c_star/examples/alpha_example/example_case/input_datasets/ROMS/roms_tides.yaml...\n",
      "[########################################] | 100% Completed | 3.13 sms\n"
     ]
    },
    {
     "name": "stderr",
     "output_type": "stream",
     "text": [
      "Downloading file 'roms_bry.yaml' from 'https://github.com/CWorthy-ocean/cstar_blueprint_roms_marbl_example/raw/cstar_alpha/roms_tools_yaml_files/roms_bry.yaml' to '/global/cfs/cdirs/m4746/Users/dafydd/my_c_star/examples/alpha_example/example_case/input_datasets/ROMS'.\n"
     ]
    },
    {
     "name": "stdout",
     "output_type": "stream",
     "text": [
      "Saving roms-tools dataset created from /global/cfs/cdirs/m4746/Users/dafydd/my_c_star/examples/alpha_example/example_case/input_datasets/ROMS/roms_bry.yaml...\n",
      "[########################################] | 100% Completed | 2.61 sms\n"
     ]
    },
    {
     "name": "stderr",
     "output_type": "stream",
     "text": [
      "Downloading file 'roms_bry_bgc.yaml' from 'https://github.com/CWorthy-ocean/cstar_blueprint_roms_marbl_example/raw/cstar_alpha/roms_tools_yaml_files/roms_bry_bgc.yaml' to '/global/cfs/cdirs/m4746/Users/dafydd/my_c_star/examples/alpha_example/example_case/input_datasets/ROMS'.\n"
     ]
    },
    {
     "name": "stdout",
     "output_type": "stream",
     "text": [
      "Saving roms-tools dataset created from /global/cfs/cdirs/m4746/Users/dafydd/my_c_star/examples/alpha_example/example_case/input_datasets/ROMS/roms_bry_bgc.yaml...\n",
      "[########################################] | 100% Completed | 38.89 s\n"
     ]
    },
    {
     "name": "stderr",
     "output_type": "stream",
     "text": [
      "Downloading file 'roms_frc.yaml' from 'https://github.com/CWorthy-ocean/cstar_blueprint_roms_marbl_example/raw/cstar_alpha/roms_tools_yaml_files/roms_frc.yaml' to '/global/cfs/cdirs/m4746/Users/dafydd/my_c_star/examples/alpha_example/example_case/input_datasets/ROMS'.\n"
     ]
    },
    {
     "name": "stdout",
     "output_type": "stream",
     "text": [
      "Saving roms-tools dataset created from /global/cfs/cdirs/m4746/Users/dafydd/my_c_star/examples/alpha_example/example_case/input_datasets/ROMS/roms_frc.yaml...\n",
      "[########################################] | 100% Completed | 3.06 sms\n"
     ]
    },
    {
     "name": "stderr",
     "output_type": "stream",
     "text": [
      "Downloading file 'roms_frc_bgc.yaml' from 'https://github.com/CWorthy-ocean/cstar_blueprint_roms_marbl_example/raw/cstar_alpha/roms_tools_yaml_files/roms_frc_bgc.yaml' to '/global/cfs/cdirs/m4746/Users/dafydd/my_c_star/examples/alpha_example/example_case/input_datasets/ROMS'.\n"
     ]
    },
    {
     "name": "stdout",
     "output_type": "stream",
     "text": [
      "Saving roms-tools dataset created from /global/cfs/cdirs/m4746/Users/dafydd/my_c_star/examples/alpha_example/example_case/input_datasets/ROMS/roms_frc_bgc.yaml...\n",
      "[########################################] | 100% Completed | 605.56 ms\n"
     ]
    }
   ],
   "source": [
    "example_case_1.setup()"
   ]
  },
  {
   "cell_type": "markdown",
   "id": "22c39c32-edd3-41a8-abfb-c9130790a0f9",
   "metadata": {},
   "source": [
    "If we attempt to run `Case.setup()` again, C-Star identifies that nothing has changed from our previous `setup()` call and we can skip this step:"
   ]
  },
  {
   "cell_type": "code",
   "execution_count": 12,
   "id": "e6f3d81d-ce69-404d-86b0-f1ac08a7c9e3",
   "metadata": {
    "tags": []
   },
   "outputs": [
    {
     "name": "stdout",
     "output_type": "stream",
     "text": [
      "This case appears to have already been set up at /global/cfs/cdirs/m4746/Users/dafydd/my_c_star/examples/alpha_example/example_case\n"
     ]
    }
   ],
   "source": [
    "example_case_1.setup()"
   ]
  },
  {
   "cell_type": "markdown",
   "id": "c61944ce-1fe9-4f5e-92e5-1c95a22a1285",
   "metadata": {},
   "source": [
    "<div class=\"alert alert-info\">\n",
    "\n",
    "Note\n",
    "\n",
    "C-Star currently does not maintain the state of Cases between sessions. This means that, if you run `Case.setup()`, exit your python session, start a new one, and create the Case again from the same blueprint, you will have to run `Case.setup()` again to re-establish the working state of the `Case`, even though this `Case` has already been set up. Most setup steps will be skipped the second time, as C-Star will see they are already complete.\n",
    "</div>"
   ]
  },
  {
   "cell_type": "markdown",
   "id": "ee973fda-d889-48f1-9400-6ebc27f3337e",
   "metadata": {},
   "source": [
    "## Compiling the `Case` and performing pre-processing\n",
    "We have now assembled all the data we need to run this `Case` in one place. Lastly, we need to compile the additional code we've obtained and run some pre-processing steps on the input data:"
   ]
  },
  {
   "cell_type": "code",
   "execution_count": 13,
   "id": "50d7a445-378d-4ecb-9322-d0e181eeec90",
   "metadata": {
    "tags": []
   },
   "outputs": [
    {
     "name": "stdout",
     "output_type": "stream",
     "text": [
      "\n",
      "Compiling MARBLComponent\n",
      "-------------------------\n",
      "No build steps to be completed for MARBLComponent\n",
      "\n",
      "Compiling ROMSComponent\n",
      "------------------------\n",
      "Compiling UCLA-ROMS configuration...\n",
      "UCLA-ROMS compiled at /global/cfs/cdirs/m4746/Users/dafydd/my_c_star/examples/alpha_example/example_case/additional_source_code/ROMS\n"
     ]
    }
   ],
   "source": [
    "#The Case.build() method compiles the code:\n",
    "example_case_1.build()"
   ]
  },
  {
   "cell_type": "code",
   "execution_count": 14,
   "id": "5283a931-a32c-4b3c-8934-f2f5a4097809",
   "metadata": {
    "tags": []
   },
   "outputs": [
    {
     "name": "stdout",
     "output_type": "stream",
     "text": [
      "\n",
      "Completing pre-processing steps for MARBLComponent\n",
      "---------------------------------------------------\n",
      "No pre-processing steps to be completed for MARBLComponent\n",
      "\n",
      "Completing pre-processing steps for ROMSComponent\n",
      "--------------------------------------------------\n",
      "Partitioning /global/cfs/cdirs/m4746/Users/dafydd/my_c_star/examples/alpha_example/example_case/input_datasets/ROMS/roms_grd.nc into (3,3)\n",
      "Partitioning /global/cfs/cdirs/m4746/Users/dafydd/my_c_star/examples/alpha_example/example_case/input_datasets/ROMS/roms_ini.nc into (3,3)\n",
      "Partitioning /global/cfs/cdirs/m4746/Users/dafydd/my_c_star/examples/alpha_example/example_case/input_datasets/ROMS/roms_tides.nc into (3,3)\n",
      "Partitioning /global/cfs/cdirs/m4746/Users/dafydd/my_c_star/examples/alpha_example/example_case/input_datasets/ROMS/roms_bry.nc into (3,3)\n",
      "Partitioning /global/cfs/cdirs/m4746/Users/dafydd/my_c_star/examples/alpha_example/example_case/input_datasets/ROMS/roms_bry_bgc.nc into (3,3)\n",
      "Partitioning /global/cfs/cdirs/m4746/Users/dafydd/my_c_star/examples/alpha_example/example_case/input_datasets/ROMS/roms_frc.nc into (3,3)\n",
      "Partitioning /global/cfs/cdirs/m4746/Users/dafydd/my_c_star/examples/alpha_example/example_case/input_datasets/ROMS/roms_frc_bgc.nc into (3,3)\n"
     ]
    }
   ],
   "source": [
    "# The Case.pre_run() method performs pre-processing:\n",
    "example_case_1.pre_run()"
   ]
  },
  {
   "cell_type": "markdown",
   "id": "bf15b20b-0070-4e18-9cd2-3997e7691da0",
   "metadata": {},
   "source": [
    "## Running the `Case` :"
   ]
  },
  {
   "cell_type": "code",
   "execution_count": 15,
   "id": "31d9f08e-481d-415f-9605-1c46164c5e49",
   "metadata": {
    "tags": []
   },
   "outputs": [
    {
     "name": "stdout",
     "output_type": "stream",
     "text": [
      "\n",
      "Running ROMS: \n",
      "------------\n",
      "Submitted batch job 32843226\n"
     ]
    }
   ],
   "source": [
    "example_case_1.run(account_key=\"m4746\", walltime=\"00:10:00\", queue=\"shared\")"
   ]
  },
  {
   "cell_type": "markdown",
   "id": "a085ad46-d809-4fbf-94a0-09d7cead9e47",
   "metadata": {},
   "source": [
    "<div class=\"alert alert-info\">\n",
    "\n",
    "Note\n",
    "\n",
    "The arguments provided to `Case.run()` here are for use on a supported HPC system. If running on a personal computer, or system without a job scheduler, simply call `Case.run()` with no arguments.\n",
    "\n",
    "</div>"
   ]
  },
  {
   "cell_type": "markdown",
   "id": "a31c38ec-a998-41b0-af82-db43027dd0ef",
   "metadata": {},
   "source": [
    "### C-Star currently doesn't support monitoring of jobs handled by a scheduler, so we can use a bash cell to do this manually:\n",
    "Things can sit in the queue on Perlmutter for a while, so this might be a good time for a break. \n",
    "\n",
    "You should receive an email to let you know when the job starts and ends. **Do not continue until you receive the second email!**"
   ]
  },
  {
   "cell_type": "code",
   "execution_count": 16,
   "id": "8039fa7a-7eb6-4ec6-a42f-c05f67eea6b9",
   "metadata": {
    "tags": []
   },
   "outputs": [
    {
     "name": "stdout",
     "output_type": "stream",
     "text": [
      "             JOBID PARTITION     NAME     USER ST       TIME  NODES NODELIST(REASON)\n",
      "          32843226 shared_mi my_case_   dafydd PD       0:00      1 (Priority)\n",
      "          32837413 urgent_mi  jupyter   dafydd  R    2:59:33      1 nid004290\n"
     ]
    }
   ],
   "source": [
    "%%bash\n",
    "squeue -u $USER"
   ]
  },
  {
   "cell_type": "markdown",
   "id": "d0ba9ca5-37d2-4db8-bbce-9ab5cf31147b",
   "metadata": {
    "tags": []
   },
   "source": [
    "## Post-processing\n",
    "Once the run is complete, we can carry out any post-processing steps.\n",
    "When ROMS runs on multiple CPUs in parallel, it produces one output file per CPU. To work with the output, we thus need to join these files together. This is handled with the `post_run()` method:"
   ]
  },
  {
   "cell_type": "code",
   "execution_count": 17,
   "id": "9de44981-6e2d-4b9c-ab9d-64fe12a73d65",
   "metadata": {
    "tags": []
   },
   "outputs": [
    {
     "name": "stdout",
     "output_type": "stream",
     "text": [
      "\n",
      "Completing post-processing steps for ROMSComponent\n",
      "---------------------------------------------------\n",
      "Joining netCDF files ROMS_MARBL_rst.20120102120000.*.nc...\n",
      "Joining netCDF files ROMS_MARBL_his.20120103120000.*.nc...\n",
      "Joining netCDF files ROMS_MARBL_bgc.20120101120000.*.nc...\n",
      "Joining netCDF files ROMS_MARBL_his.20120102120000.*.nc...\n",
      "Joining netCDF files ROMS_MARBL_bgc_dia.20120101120000.*.nc...\n",
      "Joining netCDF files ROMS_MARBL_rst.20120103120000.*.nc...\n",
      "Joining netCDF files ROMS_MARBL_his.20120101120000.*.nc...\n"
     ]
    }
   ],
   "source": [
    "example_case_1.post_run()"
   ]
  },
  {
   "cell_type": "markdown",
   "id": "b3d096f8-0b19-4a00-a9dc-1222a54abdd3",
   "metadata": {},
   "source": [
    "## A quick look at the output\n",
    "\n",
    "In the above post-processing step, we can see that the ROMS run produced several \"restart\" files (`ROMS_MARBL_rst.*`) that can be used by ROMS to restart the run.\n",
    "On the [next page](https://c-star.readthedocs.io/en/latest/3_restarting_and_continuing_a_case.html), we will use C-Star to restart and continue our Case, and C-Star will find and use these files to do so.\n",
    "\n",
    "For now, let's produce a plot comparing the initial condition we started with with the final restart file (which will serve as the initial condition on the [next page](https://c-star.readthedocs.io/en/latest/3_restarting_and_continuing_a_case.html)).\n",
    "\n",
    "C-Star doesn't currently support plots of model data, so we will have to manually produce these using the model files. Don't worry too much about understanding the model's naming conventions in this code cell (C-Star will usually take care of these things for you) - this is just a visual demonstration!"
   ]
  },
  {
   "cell_type": "code",
   "execution_count": 18,
   "id": "0eeb0d73-1120-4216-b5be-2e909662d853",
   "metadata": {
    "tags": []
   },
   "outputs": [
    {
     "data": {
      "image/png": "[encoded data removed]",
      "text/plain": [
       "<Figure size 1500x900 with 3 Axes>"
      ]
     },
     "metadata": {},
     "output_type": "display_data"
    }
   ],
   "source": [
    "import numpy as np\n",
    "import xarray as xr\n",
    "import matplotlib.pyplot as plt\n",
    "import cartopy.crs as ccrs\n",
    "import cartopy.feature as cfeature\n",
    "\n",
    "grd_ds = xr.open_dataset(example_case_1.caseroot / 'input_datasets/ROMS/roms_grd.nc') # Our ROMS grid file for lat and lon data\n",
    "ini_ds = xr.open_dataset(example_case_1.caseroot / 'input_datasets/ROMS/roms_ini.nc') # Our initial condition file\n",
    "rst_ds = xr.open_dataset(example_case_1.caseroot / 'output/ROMS_MARBL_rst.20120103120000.nc') # Our restart file\n",
    "\n",
    "var=\"temp\"\n",
    "ini_data = ini_ds[var].where(grd_ds.mask_rho).isel(s_rho=-1, ocean_time=0)\n",
    "rst_data = rst_ds[var].where(grd_ds.mask_rho).isel(s_rho=-1, time=0)\n",
    "\n",
    "# Create figure and axes\n",
    "fig, ax = plt.subplots(1,2, subplot_kw={'projection': ccrs.PlateCarree()}, figsize=(15, 9))\n",
    "\n",
    "# Plot the data\n",
    "cmap=plt.get_cmap('Spectral_r')\n",
    "cmap.set_bad('gray')\n",
    "vmin = min(ini_data.where(grd_ds.mask_rho).min(), rst_data.where(grd_ds.mask_rho).min())\n",
    "vmax = max(ini_data.where(grd_ds.mask_rho).max(), rst_data.where(grd_ds.mask_rho).max())\n",
    "kwargs = {\"cmap\": cmap, \"vmin\": vmin, \"vmax\": vmax}\n",
    "p0=ax[0].pcolormesh(grd_ds.lon_rho, grd_ds.lat_rho, ini_data, transform=ccrs.PlateCarree(), **kwargs)\n",
    "p1=ax[1].pcolormesh(grd_ds.lon_rho, grd_ds.lat_rho, rst_data, transform=ccrs.PlateCarree(), **kwargs)\n",
    "\n",
    "# Add coastlines and land mask \n",
    "[a.add_feature(cfeature.COASTLINE, linewidth=1) for a in ax]\n",
    "\n",
    "# Add a colorbar\n",
    "ax[0].set_title(\"Initial condition file\")\n",
    "ax[1].set_title(\"Restart file\")\n",
    "plt.colorbar(p1, ax=ax, orientation='horizontal', pad=0.05,label=\"Sea surface temperature (°C)\")\n",
    "fig.show()\n",
    "grd_ds.close()\n"
   ]
  },
  {
   "cell_type": "markdown",
   "id": "ebec595d-085e-4f9b-8204-6a3924b68eb9",
   "metadata": {},
   "source": [
    "## Summary\n",
    "\n",
    "On this page we:\n",
    "\n",
    "- created a C-Star `Case` from a \"blueprint\" file\n",
    "- Ran the case for 2 days from 2012-01-01 to 2012-01-03 with a 60 second time-step\n",
    "- Produced a basic plot to verify the output"
   ]
  }
 ],
 "metadata": {
  "kernelspec": {
   "display_name": "cstar_env",
   "language": "python",
   "name": "cstar_env"
  },
  "language_info": {
   "codemirror_mode": {
    "name": "ipython",
    "version": 3
   },
   "file_extension": ".py",
   "mimetype": "text/x-python",
   "name": "python",
   "nbconvert_exporter": "python",
   "pygments_lexer": "ipython3",
   "version": "3.13.0"
  }
 },
 "nbformat": 4,
 "nbformat_minor": 5
}
