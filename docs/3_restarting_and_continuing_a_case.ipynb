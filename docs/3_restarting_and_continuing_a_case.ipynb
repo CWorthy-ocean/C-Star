{
 "cells": [
  {
   "cell_type": "code",
   "execution_count": null,
   "id": "0867b336-8a48-4a1f-aa17-3d938b93f8f6",
   "metadata": {
    "jupyter": {
     "source_hidden": true
    },
    "tags": []
   },
   "outputs": [],
   "source": [
    "%load_ext autoreload\n",
    "%autoreload 2\n",
    "\n",
    "from IPython.display import display, HTML, Javascript\n",
    "display(HTML('''<style>.jp-Cell.jp-CodeCell .jp-OutputArea:has(.jp-OutputArea-output) {background-color: #f9f9f9;border: 1px solid #ddd;padding: 10px;border-radius: 5px;margin: 5px 0;}</style><style>.prompt, .jp-InputPrompt {display:none !important;}</style>'''))"
   ]
  },
  {
   "cell_type": "markdown",
   "id": "89d13ed1-eee3-42c8-ae22-e5d589319334",
   "metadata": {},
   "source": [
    "# Restarting & continuing a `Case`\n",
    "In this notebook we will:\n",
    "- Take the Case we ran for two days (2012-01-01 to 2012-01-03) in the [previous notebook](https://c-star.readthedocs.io/en/latest/1_building_and_exporting_a_case.html) and create a new Case that picks up where it ends (`Case.restart()`)\n",
    "- Run this second case with a larger time step for the remainder of the month of January 2012\n",
    "- Produce a basic plot of the output\n"
   ]
  },
  {
   "cell_type": "markdown",
   "id": "51f14323-5234-45dc-8bbe-b4143c458c9f",
   "metadata": {},
   "source": [
    "## Restarting our Case\n",
    "In the previous notebook, we began this run from a set of prescribed initial conditions and ran it for two days with a short time step of 60 seconds. We should now be able to restart the model with a slightly larger time step.\n",
    "To do this, we can use the `Case.restart()` method, which returns a new `Case` whose start date corresponds to the end date of the Case we began with, and whose initial conditions are replaced with a restart file from our previous run."
   ]
  },
  {
   "cell_type": "code",
   "execution_count": 32,
   "id": "665950de-5a88-4c2c-b123-52bd4bd8f1f9",
   "metadata": {
    "tags": []
   },
   "outputs": [],
   "source": [
    "example_case_2=example_case_1.restart(new_end_date=\"2012-01-31 12:00:00\")"
   ]
  },
  {
   "cell_type": "markdown",
   "id": "0a80d64e-e6b4-4342-b01e-913ee0866299",
   "metadata": {},
   "source": [
    "Taking a look at the ROMS component, We can see that the initial conditions have been changed:"
   ]
  },
  {
   "cell_type": "code",
   "execution_count": 33,
   "id": "59780f43-9503-486d-921d-ed601a652162",
   "metadata": {
    "tags": []
   },
   "outputs": [
    {
     "data": {
      "text/plain": [
       "ROMSInitialConditions(\n",
       "location = '/global/cfs/cdirs/m4746/Users/dafydd/my_c_star/examples/alpha_example/example_case/output/ROMS_MARBL_rst.20120103120000.nc',\n",
       "file_hash = None\n",
       ")"
      ]
     },
     "execution_count": 33,
     "metadata": {},
     "output_type": "execute_result"
    }
   ],
   "source": [
    "example_case_2.components[1].initial_conditions"
   ]
  },
  {
   "cell_type": "markdown",
   "id": "0d1fec81-d9d7-411e-ba00-f1801e2db612",
   "metadata": {},
   "source": [
    "## Increasing the time step"
   ]
  },
  {
   "cell_type": "markdown",
   "id": "18fc0b76-0513-4788-9dc8-2407464e88cd",
   "metadata": {},
   "source": [
    "If we want to increase the time step for our second run, we will have to manually change the `time_step` entry under `ROMSComponent.discretization`:"
   ]
  },
  {
   "cell_type": "code",
   "execution_count": 25,
   "id": "97d0b5cd-825a-4f8d-b681-0f9384bd9672",
   "metadata": {
    "tags": []
   },
   "outputs": [
    {
     "data": {
      "text/plain": [
       "ROMSComponent(\n",
       "base_model = <ROMSBaseModel instance>, \n",
       "additional_source_code = <AdditionalCode instance>, \n",
       "\n",
       "namelists = <AdditionalCode instance>, \n",
       "discretization = ROMSDiscretization(time_step = 60, n_procs_x = 3, n_procs_y = 3)\n",
       "model_grid = <ROMSModelGrid instance>\n",
       "initial_conditions = <ROMSInitialConditions instance>\n",
       "tidal_forcing = <ROMSTidalForcing instance>\n",
       "surface_forcing = <list of 2 ROMSSurfaceForcing instances>\n",
       "boundary_forcing = <list of 2 ROMSBoundaryForcing instances>\n",
       ")"
      ]
     },
     "execution_count": 25,
     "metadata": {},
     "output_type": "execute_result"
    }
   ],
   "source": [
    "example_case_2.components[1]"
   ]
  },
  {
   "cell_type": "code",
   "execution_count": 26,
   "id": "bc8c8bb2-4594-43ae-9c00-ef6e8438d8c0",
   "metadata": {
    "tags": []
   },
   "outputs": [],
   "source": [
    "example_case_2.components[1].discretization.time_step = 360"
   ]
  },
  {
   "cell_type": "markdown",
   "id": "65b89dae-cd42-4059-af12-82529a80541d",
   "metadata": {},
   "source": [
    "We can now take a look at our `Case` and see everything is as expected:"
   ]
  },
  {
   "cell_type": "code",
   "execution_count": 50,
   "id": "f1554004-6a34-4882-bfe7-5e8b3007fef2",
   "metadata": {
    "tags": []
   },
   "outputs": [
    {
     "data": {
      "text/plain": [
       "Case(\n",
       "name = roms_tools_example, \n",
       "caseroot = /global/cfs/cdirs/m4746/Users/dafydd/my_c_star/examples/alpha_example/example_case, \n",
       "start_date = 2012-01-03 12:00:00, \n",
       "end_date = 2012-01-31 12:00:00, \n",
       "valid_start_date = 2012-01-01 12:00:00, \n",
       "valid_end_date = 2012-12-31 23:00:00, \n",
       "components = [\n",
       "MARBLComponent(\n",
       "base_model = <MARBLBaseModel instance>, \n",
       "), \n",
       "ROMSComponent(\n",
       "base_model = <ROMSBaseModel instance>, \n",
       "additional_source_code = <AdditionalCode instance>, \n",
       "\n",
       "namelists = <AdditionalCode instance>, \n",
       "discretization = ROMSDiscretization(time_step = 360, n_procs_x = 3, n_procs_y = 3)\n",
       "model_grid = <ROMSModelGrid instance>\n",
       "initial_conditions = <ROMSInitialConditions instance>\n",
       "tidal_forcing = <ROMSTidalForcing instance>\n",
       "surface_forcing = <list of 2 ROMSSurfaceForcing instances>\n",
       "boundary_forcing = <list of 2 ROMSBoundaryForcing instances>\n",
       ")\n",
       "])"
      ]
     },
     "execution_count": 50,
     "metadata": {},
     "output_type": "execute_result"
    }
   ],
   "source": [
    "example_case_2"
   ]
  },
  {
   "cell_type": "markdown",
   "id": "efbb2583-fe71-4f4a-934e-4a3f0965c979",
   "metadata": {},
   "source": [
    "Now we run through the other steps as normal:"
   ]
  },
  {
   "cell_type": "code",
   "execution_count": 27,
   "id": "6e60943a-65ad-4f56-8dab-961d1d911cae",
   "metadata": {
    "tags": []
   },
   "outputs": [
    {
     "name": "stdout",
     "output_type": "stream",
     "text": [
      "\n",
      "Setting up MARBLComponent\n",
      "--------------------------\n",
      "Configuring MARBLComponent\n",
      "--------------------------\n",
      "MARBLBaseModel correctly configured. Nothing to be done\n",
      "\n",
      "Setting up ROMSComponent\n",
      "-------------------------\n",
      "Configuring ROMSComponent\n",
      "-------------------------\n",
      "ROMSBaseModel correctly configured. Nothing to be done\n",
      "\n",
      "Fetching additional source code...\n",
      "----------------------------------\n",
      "Cloned repository https://github.com/CWorthy-ocean/cstar_blueprint_roms_marbl_example.git to /tmp/tmpnavl6z5s\n",
      "Checked out cstar_alpha_testing in git repository /tmp/tmpnavl6z5s\n",
      "copying bgc.opt to /global/cfs/cdirs/m4746/Users/dafydd/my_c_star/examples/alpha_example/example_case/additional_source_code/ROMS\n",
      "copying bulk_frc.opt to /global/cfs/cdirs/m4746/Users/dafydd/my_c_star/examples/alpha_example/example_case/additional_source_code/ROMS\n",
      "copying cppdefs.opt to /global/cfs/cdirs/m4746/Users/dafydd/my_c_star/examples/alpha_example/example_case/additional_source_code/ROMS\n",
      "copying diagnostics.opt to /global/cfs/cdirs/m4746/Users/dafydd/my_c_star/examples/alpha_example/example_case/additional_source_code/ROMS\n",
      "copying ocean_vars.opt to /global/cfs/cdirs/m4746/Users/dafydd/my_c_star/examples/alpha_example/example_case/additional_source_code/ROMS\n",
      "copying param.opt to /global/cfs/cdirs/m4746/Users/dafydd/my_c_star/examples/alpha_example/example_case/additional_source_code/ROMS\n",
      "copying tracers.opt to /global/cfs/cdirs/m4746/Users/dafydd/my_c_star/examples/alpha_example/example_case/additional_source_code/ROMS\n",
      "copying Makefile to /global/cfs/cdirs/m4746/Users/dafydd/my_c_star/examples/alpha_example/example_case/additional_source_code/ROMS\n",
      "copying Make.depend to /global/cfs/cdirs/m4746/Users/dafydd/my_c_star/examples/alpha_example/example_case/additional_source_code/ROMS\n",
      "\n",
      "Fetching namelists... \n",
      "----------------------\n",
      "Cloned repository https://github.com/CWorthy-ocean/cstar_blueprint_roms_marbl_example.git to /tmp/tmpm9kgtbrp\n",
      "Checked out cstar_alpha_testing in git repository /tmp/tmpm9kgtbrp\n",
      "copying roms.in_TEMPLATE to /global/cfs/cdirs/m4746/Users/dafydd/my_c_star/examples/alpha_example/example_case/namelists/ROMS\n",
      "copying template file /global/cfs/cdirs/m4746/Users/dafydd/my_c_star/examples/alpha_example/example_case/namelists/ROMS/roms.in_TEMPLATE to editable version /global/cfs/cdirs/m4746/Users/dafydd/my_c_star/examples/alpha_example/example_case/namelists/ROMS/roms.in\n",
      "copying marbl_in to /global/cfs/cdirs/m4746/Users/dafydd/my_c_star/examples/alpha_example/example_case/namelists/ROMS\n",
      "copying marbl_tracer_output_list to /global/cfs/cdirs/m4746/Users/dafydd/my_c_star/examples/alpha_example/example_case/namelists/ROMS\n",
      "copying marbl_diagnostic_output_list to /global/cfs/cdirs/m4746/Users/dafydd/my_c_star/examples/alpha_example/example_case/namelists/ROMS\n",
      "\n",
      "Fetching input datasets...\n",
      "--------------------------\n",
      "A file by the name of roms_grd.yaml already exists at /global/cfs/cdirs/m4746/Users/dafydd/my_c_star/examples/alpha_example/example_case/input_datasets/ROMS\n",
      "Saving roms-tools dataset created from /global/cfs/cdirs/m4746/Users/dafydd/my_c_star/examples/alpha_example/example_case/input_datasets/ROMS/roms_grd.yaml...\n",
      "A file by the name of roms_tides.yaml already exists at /global/cfs/cdirs/m4746/Users/dafydd/my_c_star/examples/alpha_example/example_case/input_datasets/ROMS\n",
      "Saving roms-tools dataset created from /global/cfs/cdirs/m4746/Users/dafydd/my_c_star/examples/alpha_example/example_case/input_datasets/ROMS/roms_tides.yaml...\n",
      "A file by the name of roms_bry.yaml already exists at /global/cfs/cdirs/m4746/Users/dafydd/my_c_star/examples/alpha_example/example_case/input_datasets/ROMS\n",
      "Saving roms-tools dataset created from /global/cfs/cdirs/m4746/Users/dafydd/my_c_star/examples/alpha_example/example_case/input_datasets/ROMS/roms_bry.yaml...\n",
      "A file by the name of roms_bry_bgc.yaml already exists at /global/cfs/cdirs/m4746/Users/dafydd/my_c_star/examples/alpha_example/example_case/input_datasets/ROMS\n",
      "Saving roms-tools dataset created from /global/cfs/cdirs/m4746/Users/dafydd/my_c_star/examples/alpha_example/example_case/input_datasets/ROMS/roms_bry_bgc.yaml...\n",
      "A file by the name of roms_frc.yaml already exists at /global/cfs/cdirs/m4746/Users/dafydd/my_c_star/examples/alpha_example/example_case/input_datasets/ROMS\n",
      "Saving roms-tools dataset created from /global/cfs/cdirs/m4746/Users/dafydd/my_c_star/examples/alpha_example/example_case/input_datasets/ROMS/roms_frc.yaml...\n",
      "A file by the name of roms_frc_bgc.yaml already exists at /global/cfs/cdirs/m4746/Users/dafydd/my_c_star/examples/alpha_example/example_case/input_datasets/ROMS\n",
      "Saving roms-tools dataset created from /global/cfs/cdirs/m4746/Users/dafydd/my_c_star/examples/alpha_example/example_case/input_datasets/ROMS/roms_frc_bgc.yaml...\n",
      "\n",
      "Compiling MARBLComponent\n",
      "-------------------------\n",
      "No build steps to be completed for MARBLComponent\n",
      "\n",
      "Compiling ROMSComponent\n",
      "------------------------\n",
      "Compiling UCLA-ROMS configuration...\n",
      "UCLA-ROMS compiled at /global/cfs/cdirs/m4746/Users/dafydd/my_c_star/examples/alpha_example/example_case/additional_source_code/ROMS\n",
      "\n",
      "Completing pre-processing steps for MARBLComponent\n",
      "---------------------------------------------------\n",
      "No pre-processing steps to be completed for MARBLComponent\n",
      "\n",
      "Completing pre-processing steps for ROMSComponent\n",
      "--------------------------------------------------\n",
      "Partitioning /global/cfs/cdirs/m4746/Users/dafydd/my_c_star/examples/alpha_example/example_case/input_datasets/ROMS/roms_grd.nc into (3,3)\n",
      "Partitioning /global/cfs/cdirs/m4746/Users/dafydd/my_c_star/examples/alpha_example/example_case/input_datasets/ROMS/ROMS_MARBL_rst.20120103120000.nc into (3,3)\n",
      "Partitioning /global/cfs/cdirs/m4746/Users/dafydd/my_c_star/examples/alpha_example/example_case/input_datasets/ROMS/roms_tides.nc into (3,3)\n",
      "Partitioning /global/cfs/cdirs/m4746/Users/dafydd/my_c_star/examples/alpha_example/example_case/input_datasets/ROMS/roms_bry_201201.nc into (3,3)\n",
      "Partitioning /global/cfs/cdirs/m4746/Users/dafydd/my_c_star/examples/alpha_example/example_case/input_datasets/ROMS/roms_bry_bgc_clim.nc into (3,3)\n",
      "Partitioning /global/cfs/cdirs/m4746/Users/dafydd/my_c_star/examples/alpha_example/example_case/input_datasets/ROMS/roms_frc_201201.nc into (3,3)\n",
      "Partitioning /global/cfs/cdirs/m4746/Users/dafydd/my_c_star/examples/alpha_example/example_case/input_datasets/ROMS/roms_frc_bgc_2012.nc into (3,3)\n"
     ]
    }
   ],
   "source": [
    "example_case_2.setup()\n",
    "example_case_2.build()\n",
    "example_case_2.pre_run()"
   ]
  },
  {
   "cell_type": "code",
   "execution_count": 28,
   "id": "604f6a1a-3ddb-412c-b90f-c545b4342b5a",
   "metadata": {
    "tags": []
   },
   "outputs": [
    {
     "name": "stdout",
     "output_type": "stream",
     "text": [
      "\n",
      "Running ROMS: \n",
      "------------\n",
      "Submitted batch job 31731623\n"
     ]
    }
   ],
   "source": [
    "example_case_2.run(account_key=\"m4746\", walltime=\"00:30:00\", queue=\"shared\")"
   ]
  },
  {
   "cell_type": "code",
   "execution_count": 30,
   "id": "7cb3f1f9-8f4e-48ec-b55f-73b1950d0029",
   "metadata": {
    "tags": []
   },
   "outputs": [
    {
     "name": "stdout",
     "output_type": "stream",
     "text": [
      "             JOBID PARTITION     NAME     USER ST       TIME  NODES NODELIST(REASON)\n",
      "          31731623 shared_mi my_case_   dafydd  R       2:21      1 nid004129\n",
      "          31729796 urgent_mi  jupyter   dafydd  R      54:04      1 nid004179\n"
     ]
    }
   ],
   "source": [
    "%%bash\n",
    "squeue -u $USER"
   ]
  },
  {
   "cell_type": "markdown",
   "id": "9bc87831-f69e-4479-9548-9c43a2f56e7a",
   "metadata": {},
   "source": [
    "Once again, we have to wait for the job to finish before proceeding..."
   ]
  },
  {
   "cell_type": "code",
   "execution_count": null,
   "id": "bdb712de-f061-48ed-9281-9b58a070a83e",
   "metadata": {
    "tags": []
   },
   "outputs": [
    {
     "name": "stdout",
     "output_type": "stream",
     "text": [
      "\n",
      "Completing post-processing steps for ROMSComponent\n",
      "---------------------------------------------------\n",
      "Joining netCDF files ROMS_MARBL_his.20120109120000.*.nc...\n",
      "Joining netCDF files ROMS_MARBL_his.20120126120000.*.nc...\n",
      "Joining netCDF files ROMS_MARBL_rst.20120117120000.*.nc...\n",
      "Joining netCDF files ROMS_MARBL_rst.20120116120000.*.nc...\n",
      "Joining netCDF files ROMS_MARBL_his.20120121120000.*.nc...\n",
      "Joining netCDF files ROMS_MARBL_his.20120125120000.*.nc...\n",
      "Joining netCDF files ROMS_MARBL_his.20120114120000.*.nc...\n",
      "Joining netCDF files ROMS_MARBL_his.20120124120000.*.nc...\n",
      "Joining netCDF files ROMS_MARBL_rst.20120122120000.*.nc...\n",
      "Joining netCDF files ROMS_MARBL_rst.20120130120000.*.nc...\n",
      "Joining netCDF files ROMS_MARBL_his.20120110120000.*.nc...\n",
      "Joining netCDF files ROMS_MARBL_rst.20120125120000.*.nc...\n",
      "Joining netCDF files ROMS_MARBL_his.20120128120000.*.nc...\n",
      "Joining netCDF files ROMS_MARBL_his.20120119120000.*.nc...\n",
      "Joining netCDF files ROMS_MARBL_rst.20120121120000.*.nc...\n",
      "Joining netCDF files ROMS_MARBL_his.20120111120000.*.nc...\n",
      "Joining netCDF files ROMS_MARBL_his.20120115120000.*.nc...\n",
      "Joining netCDF files ROMS_MARBL_rst.20120129120000.*.nc...\n",
      "Joining netCDF files ROMS_MARBL_rst.20120120120000.*.nc...\n",
      "Joining netCDF files ROMS_MARBL_rst.20120107120000.*.nc...\n",
      "Joining netCDF files ROMS_MARBL_rst.20120111120000.*.nc...\n",
      "Joining netCDF files ROMS_MARBL_rst.20120114120000.*.nc...\n",
      "Joining netCDF files ROMS_MARBL_rst.20120110120000.*.nc...\n",
      "Joining netCDF files ROMS_MARBL_rst.20120123120000.*.nc...\n",
      "Joining netCDF files ROMS_MARBL_his.20120104120000.*.nc...\n",
      "Joining netCDF files ROMS_MARBL_his.20120105120000.*.nc...\n",
      "Joining netCDF files ROMS_MARBL_his.20120116120000.*.nc...\n",
      "Joining netCDF files ROMS_MARBL_his.20120112120000.*.nc...\n",
      "Joining netCDF files ROMS_MARBL_his.20120107120000.*.nc...\n",
      "Joining netCDF files ROMS_MARBL_rst.20120131120000.*.nc...\n",
      "Joining netCDF files ROMS_MARBL_rst.20120115120000.*.nc...\n",
      "Joining netCDF files ROMS_MARBL_his.20120103120000.*.nc...\n",
      "Joining netCDF files ROMS_MARBL_his.20120122120000.*.nc...\n",
      "Joining netCDF files ROMS_MARBL_rst.20120109120000.*.nc...\n",
      "Joining netCDF files ROMS_MARBL_rst.20120113120000.*.nc...\n",
      "Joining netCDF files ROMS_MARBL_his.20120106120000.*.nc...\n",
      "Joining netCDF files ROMS_MARBL_his.20120117120000.*.nc...\n",
      "Joining netCDF files ROMS_MARBL_his.20120108120000.*.nc...\n",
      "Joining netCDF files ROMS_MARBL_his.20120130120000.*.nc...\n",
      "Joining netCDF files ROMS_MARBL_rst.20120128120000.*.nc...\n",
      "Joining netCDF files ROMS_MARBL_his.20120123120000.*.nc...\n",
      "Joining netCDF files ROMS_MARBL_his.20120129120000.*.nc...\n",
      "Joining netCDF files ROMS_MARBL_rst.20120127120000.*.nc...\n",
      "Joining netCDF files ROMS_MARBL_rst.20120104120000.*.nc...\n",
      "Joining netCDF files ROMS_MARBL_bgc_dia.20120103120000.*.nc...\n"
     ]
    }
   ],
   "source": [
    "example_case_2.post_run()"
   ]
  },
  {
   "cell_type": "markdown",
   "id": "4b815005-615f-4078-8ae2-92728c988d08",
   "metadata": {},
   "source": [
    "## Some basic analysis of the output\n",
    "Now we've finished running the model, we have a month of output to take a look at:"
   ]
  },
  {
   "cell_type": "code",
   "execution_count": 43,
   "id": "4aa16b86-763e-4375-aa8b-51457d5f6bbe",
   "metadata": {
    "tags": []
   },
   "outputs": [],
   "source": []
  },
  {
   "cell_type": "code",
   "execution_count": 49,
   "id": "26887f43-fa54-4536-9026-212ffd1555cc",
   "metadata": {},
   "outputs": [
    {
     "data": {
      "image/png": "[encoded data removed]",
      "text/plain": [
       "<Figure size 1200x600 with 5 Axes>"
      ]
     },
     "metadata": {},
     "output_type": "display_data"
    }
   ],
   "source": [
    "import numpy as np\n",
    "import xarray as xr\n",
    "import datetime as dt\n",
    "\n",
    "BGC_DS = xr.open_dataset(example_case_2.caseroot / 'output/ROMS_MARBL_bgc.20120103120000.nc')\n",
    "output_time=[dt.datetime(2000,1,1)+dt.timedelta(seconds=t) for t in BGC_DS.ocean_time.values]\n",
    "\n",
    "var = 'DOC'\n",
    "i_idx = 10 \n",
    "j_idx = 15 \n",
    "k_idx = 19\n",
    "t_idx = [0,-1]\n",
    "\n",
    "BGC_DA = BGC_DS[var].isel(s_rho=k_idx)\n",
    "\n",
    "%matplotlib inline\n",
    "import matplotlib.pyplot as plt\n",
    "from matplotlib.gridspec import GridSpec\n",
    "\n",
    "\n",
    "fig = plt.figure()\n",
    "CMAP = plt.colormaps['Spectral_r'].__copy__()\n",
    "CMAP.set_under('k')\n",
    "\n",
    "gs = GridSpec(3, 2, figure=fig, hspace=0.5)\n",
    "\n",
    "# time series\n",
    "ax1 = fig.add_subplot(gs[0, :])\n",
    "#ax1.plot(3 + BGC_DA.time * 3600 * 6 / 86400, BGC_DA[:,15,10])\n",
    "ax1.plot(output_time,BGC_DA[:,j_idx,i_idx])\n",
    "ax1.set_xlim(output_time[0],output_time[-1])\n",
    "ax1.set_xlabel('time')\n",
    "ax1.plot(output_time[t_idx[0]],BGC_DA[t_idx[0],j_idx,i_idx],'kx')\n",
    "ax1.plot(output_time[t_idx[-1]],BGC_DA[t_idx[-1],j_idx,i_idx],'kx')\n",
    "\n",
    "\n",
    "# Maps\n",
    "ax2 = fig.add_subplot(gs[1:, 0])\n",
    "ax3 = fig.add_subplot(gs[1:, 1])\n",
    "\n",
    "VMIN = np.min(BGC_DA.values[BGC_DA.values > 0])\n",
    "VMAX = np.max(BGC_DA.values[BGC_DA.values > 0])\n",
    "\n",
    "p2 = ax2.pcolormesh(BGC_DA.isel(time=0).values, vmin=VMIN, vmax=VMAX, cmap=CMAP)\n",
    "p3 = ax3.pcolormesh(BGC_DA.isel(time=-1).values, vmin=VMIN, vmax=VMAX, cmap=CMAP)\n",
    "[a.set_xticks([]) for a in [ax2, ax3]]\n",
    "[a.set_yticks([]) for a in [ax2, ax3]]\n",
    "ax2.set_title(\"\")\n",
    "ax2.plot(i_idx, j_idx, 'kx')\n",
    "ax3.plot(i_idx, j_idx, 'kx')\n",
    "\n",
    "fig.colorbar(p2, ax=ax2)\n",
    "fig.colorbar(p3, ax=ax3)\n",
    "\n",
    "fig.suptitle(f'Surface {BGC_DS[var].long_name}, ({BGC_DS[var].units})')\n",
    "fig.set_size_inches(12,6)"
   ]
  }
 ],
 "metadata": {
  "kernelspec": {
   "display_name": "cstar_env",
   "language": "python",
   "name": "cstar_env"
  },
  "language_info": {
   "codemirror_mode": {
    "name": "ipython",
    "version": 3
   },
   "file_extension": ".py",
   "mimetype": "text/x-python",
   "name": "python",
   "nbconvert_exporter": "python",
   "pygments_lexer": "ipython3",
   "version": "3.12.7"
  }
 },
 "nbformat": 4,
 "nbformat_minor": 5
}
