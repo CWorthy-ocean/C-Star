{
 "cells": [
  {
   "cell_type": "markdown",
   "id": "67065ea0",
   "metadata": {},
   "source": [
    "> [!Warning] \n",
    "> **This project is still in an early phase of development.**\n",
    ">\n",
    "> The [python API](https://c-star.readthedocs.io/en/latest/api.html) is not yet stable, and some aspects of the schema for the [blueprint](https://c-star.readthedocs.io/en/latest/terminology.html#term-blueprint) will likely evolve. \n",
    "> Therefore whilst you are welcome to try out using the package, we cannot yet guarantee backwards compatibility. \n",
    "We expect to reach a more stable version in Q1 2025.\n",
    ">\n",
    "> To see which systems C-Star has been tested on so far, see [Supported Systems](https://c-star.readthedocs.io/en/latest/machines.html)."
   ]
  },
  {
   "cell_type": "markdown",
   "id": "05b43269",
   "metadata": {},
   "source": [
    "> [!Warning]\n",
    "> \n",
    "> This notebook assumes you are running the NERSC Perlmutter HPC machine.\n",
    "> You will need to change some arguments in order to run this notebook verbatim on any other machine."
   ]
  },
  {
   "cell_type": "markdown",
   "id": "eaf120c2-9169-4056-8310-3b8c34a65d70",
   "metadata": {},
   "source": [
    "# Restarting & continuing a `Case`\n",
    "In this guide we will:\n",
    "\n",
    "- Take the Case we ran for two days (2012-01-01 to 2012-01-03) on the [previous page](https://c-star.readthedocs.io/en/latest/2_importing_and_running_a_case_from_a_blueprint.html) and create a new Case that picks up where it ends (`Case.restart()`)\n",
    "- Run this second case with a larger time step for the remainder of the month of January 2012\n",
    "- Produce a basic plot of the output\n"
   ]
  },
  {
   "cell_type": "markdown",
   "id": "16b3dc7e-1046-415f-bdf1-ce47d689b8f6",
   "metadata": {
    "editable": true,
    "slideshow": {
     "slide_type": ""
    },
    "tags": []
   },
   "source": [
    "## Restarting our Case\n",
    "On the [previous page](https://c-star.readthedocs.io/en/latest/2_importing_and_running_a_case_from_a_blueprint.html), we began this run from a set of prescribed initial conditions and ran it for two days with a short time step of 1 minute. We should now be able to restart the model with a slightly larger time step.\n",
    "To do this, we can use the `Case.restart()` method, which returns a new `Case` whose start date corresponds to the end date of the Case we began with, and whose initial conditions are replaced with a restart file from our previous run. The caseroot of the restart will be a subdirectory of the original caseroot.\n",
    "\n",
    "First, we restore the previously created case:"
   ]
  },
  {
   "cell_type": "code",
   "execution_count": 1,
   "id": "6dd41c06-4235-489a-b490-6f4715139b80",
   "metadata": {
    "tags": []
   },
   "outputs": [],
   "source": [
    "from cstar import Case\n",
    "example_case_1 = Case.restore(caseroot = \"../examples/example_case\")"
   ]
  },
  {
   "cell_type": "markdown",
   "id": "008a9323-12fe-48a0-b338-320ee8fb1a7c",
   "metadata": {},
   "source": [
    "Now, we can create a new Case that picks up where this Case ends:"
   ]
  },
  {
   "cell_type": "code",
   "execution_count": 2,
   "id": "20431ecb-cc52-4f6a-90a6-be9dd0e38051",
   "metadata": {
    "tags": []
   },
   "outputs": [
    {
     "name": "stdout",
     "output_type": "stream",
     "text": [
      "Created new Case to restart case 'roms_marbl_cstar_example' in /global/cfs/cdirs/m4746/Users/dafydd/my_c_star/examples/example_case/RESTART_20120103_120000\n"
     ]
    }
   ],
   "source": [
    "example_case_2 = example_case_1.restart(new_end_date=\"2012-01-31 12:00:00\")"
   ]
  },
  {
   "cell_type": "markdown",
   "id": "e02e2760-f1ce-4183-b45f-c021f1caff35",
   "metadata": {},
   "source": [
    "Taking a look at the ROMS component, We can see that the initial conditions have been changed:"
   ]
  },
  {
   "cell_type": "code",
   "execution_count": 3,
   "id": "dff7dcf6-9488-4b28-8980-27b8071da508",
   "metadata": {
    "tags": []
   },
   "outputs": [
    {
     "data": {
      "text/plain": [
       "ROMSInitialConditions(\n",
       "location = '/global/cfs/cdirs/m4746/Users/dafydd/my_c_star/examples/example_case/output/ROMS_MARBL_rst.20120103120000.nc',\n",
       "file_hash = None,\n",
       "start_date = datetime.datetime(2012, 1, 3, 12, 0),\n",
       ")"
      ]
     },
     "execution_count": 3,
     "metadata": {},
     "output_type": "execute_result"
    }
   ],
   "source": [
    "example_case_2.components[1].initial_conditions"
   ]
  },
  {
   "cell_type": "markdown",
   "id": "fb8237d9-4006-4b9e-8286-7fc62084ad85",
   "metadata": {},
   "source": [
    "## Increasing the time step"
   ]
  },
  {
   "cell_type": "markdown",
   "id": "2f429f27-586b-4a01-8b5b-6dc2f4f153be",
   "metadata": {},
   "source": [
    "If we want to increase the time step for our second run, we will have to manually change the `time_step` entry under `ROMSComponent.discretization`:"
   ]
  },
  {
   "cell_type": "code",
   "execution_count": 4,
   "id": "73914b94-a078-4255-a1f4-041a12225f23",
   "metadata": {
    "tags": []
   },
   "outputs": [
    {
     "data": {
      "text/plain": [
       "ROMSComponent(\n",
       "base_model = <ROMSBaseModel instance>, \n",
       "additional_source_code = <AdditionalCode instance>, \n",
       "\n",
       "namelists = <AdditionalCode instance>, \n",
       "discretization = ROMSDiscretization(time_step = 60, n_procs_x = 3, n_procs_y = 3)\n",
       "model_grid = <ROMSModelGrid instance>\n",
       "initial_conditions = <ROMSInitialConditions instance>\n",
       "tidal_forcing = <ROMSTidalForcing instance>\n",
       "surface_forcing = <list of 2 ROMSSurfaceForcing instances>\n",
       "boundary_forcing = <list of 2 ROMSBoundaryForcing instances>\n",
       ")"
      ]
     },
     "execution_count": 4,
     "metadata": {},
     "output_type": "execute_result"
    }
   ],
   "source": [
    "example_case_2.components[1]"
   ]
  },
  {
   "cell_type": "code",
   "execution_count": 5,
   "id": "880c47a3-acca-4e47-a7c3-9b81d05938df",
   "metadata": {
    "tags": []
   },
   "outputs": [],
   "source": [
    "example_case_2.components[1].discretization.time_step = 360"
   ]
  },
  {
   "cell_type": "markdown",
   "id": "d7066e4a-e421-4308-a1a3-9e8f60960a9b",
   "metadata": {},
   "source": [
    "We can now take a look at our `Case` and see everything is as expected:"
   ]
  },
  {
   "cell_type": "code",
   "execution_count": 13,
   "id": "2ce98d85-1e60-44cb-be9a-9f049cbb3c13",
   "metadata": {
    "editable": true,
    "slideshow": {
     "slide_type": ""
    },
    "tags": []
   },
   "outputs": [
    {
     "data": {
      "text/plain": [
       "Case(\n",
       "name = roms_marbl_cstar_example, \n",
       "caseroot = /global/cfs/cdirs/m4746/Users/dafydd/my_c_star/examples/example_case/RESTART_20120103_120000, \n",
       "start_date = 2012-01-03 12:00:00, \n",
       "end_date = 2012-01-31 12:00:00, \n",
       "valid_start_date = 2012-01-01 12:00:00, \n",
       "valid_end_date = 2012-01-31 12:00:00, \n",
       "components = [\n",
       "MARBLComponent(\n",
       "base_model = <MARBLBaseModel instance>, \n",
       "), \n",
       "ROMSComponent(\n",
       "base_model = <ROMSBaseModel instance>, \n",
       "additional_source_code = <AdditionalCode instance>, \n",
       "\n",
       "namelists = <AdditionalCode instance>, \n",
       "discretization = ROMSDiscretization(time_step = 360, n_procs_x = 3, n_procs_y = 3)\n",
       "model_grid = <ROMSModelGrid instance>\n",
       "initial_conditions = <ROMSInitialConditions instance>\n",
       "tidal_forcing = <ROMSTidalForcing instance>\n",
       "surface_forcing = <list of 2 ROMSSurfaceForcing instances>\n",
       "boundary_forcing = <list of 2 ROMSBoundaryForcing instances>\n",
       ")\n",
       "])"
      ]
     },
     "execution_count": 13,
     "metadata": {},
     "output_type": "execute_result"
    }
   ],
   "source": [
    "example_case_2"
   ]
  },
  {
   "cell_type": "markdown",
   "id": "9797f9f6-4e8c-4ad0-98d4-ff8ea2955341",
   "metadata": {},
   "source": [
    "Now we run through the other steps as normal:"
   ]
  },
  {
   "cell_type": "code",
   "execution_count": 6,
   "id": "e1fcc4df-ccc0-40a9-9346-335281cccfaa",
   "metadata": {
    "tags": []
   },
   "outputs": [
    {
     "name": "stdout",
     "output_type": "stream",
     "text": [
      "\n",
      "Setting up MARBLComponent\n",
      "--------------------------\n",
      "Configuring MARBLComponent\n",
      "--------------------------\n",
      "MARBLBaseModel correctly configured. Nothing to be done\n",
      "\n",
      "Setting up ROMSComponent\n",
      "-------------------------\n",
      "Configuring ROMSComponent\n",
      "-------------------------\n",
      "ROMSBaseModel correctly configured. Nothing to be done\n",
      "\n",
      "Fetching additional source code...\n",
      "----------------------------------\n",
      "Cloned repository https://github.com/CWorthy-ocean/cstar_blueprint_roms_marbl_example.git to /tmp/tmpkj911e3s\n",
      "Checked out main in git repository /tmp/tmpkj911e3s\n",
      "copying bgc.opt to /global/cfs/cdirs/m4746/Users/dafydd/my_c_star/examples/example_case/RESTART_20120103_120000/additional_source_code/ROMS\n",
      "copying bulk_frc.opt to /global/cfs/cdirs/m4746/Users/dafydd/my_c_star/examples/example_case/RESTART_20120103_120000/additional_source_code/ROMS\n",
      "copying cppdefs.opt to /global/cfs/cdirs/m4746/Users/dafydd/my_c_star/examples/example_case/RESTART_20120103_120000/additional_source_code/ROMS\n",
      "copying diagnostics.opt to /global/cfs/cdirs/m4746/Users/dafydd/my_c_star/examples/example_case/RESTART_20120103_120000/additional_source_code/ROMS\n",
      "copying ocean_vars.opt to /global/cfs/cdirs/m4746/Users/dafydd/my_c_star/examples/example_case/RESTART_20120103_120000/additional_source_code/ROMS\n",
      "copying param.opt to /global/cfs/cdirs/m4746/Users/dafydd/my_c_star/examples/example_case/RESTART_20120103_120000/additional_source_code/ROMS\n",
      "copying tracers.opt to /global/cfs/cdirs/m4746/Users/dafydd/my_c_star/examples/example_case/RESTART_20120103_120000/additional_source_code/ROMS\n",
      "copying Makefile to /global/cfs/cdirs/m4746/Users/dafydd/my_c_star/examples/example_case/RESTART_20120103_120000/additional_source_code/ROMS\n",
      "copying Make.depend to /global/cfs/cdirs/m4746/Users/dafydd/my_c_star/examples/example_case/RESTART_20120103_120000/additional_source_code/ROMS\n",
      "\n",
      "Fetching namelists... \n",
      "----------------------\n",
      "Cloned repository https://github.com/CWorthy-ocean/cstar_blueprint_roms_marbl_example.git to /tmp/tmp3ay73yc_\n",
      "Checked out main in git repository /tmp/tmp3ay73yc_\n",
      "copying roms.in_TEMPLATE to /global/cfs/cdirs/m4746/Users/dafydd/my_c_star/examples/example_case/RESTART_20120103_120000/namelists/ROMS\n",
      "copying template file /global/cfs/cdirs/m4746/Users/dafydd/my_c_star/examples/example_case/RESTART_20120103_120000/namelists/ROMS/roms.in_TEMPLATE to editable version /global/cfs/cdirs/m4746/Users/dafydd/my_c_star/examples/example_case/RESTART_20120103_120000/namelists/ROMS/roms.in\n",
      "copying marbl_in to /global/cfs/cdirs/m4746/Users/dafydd/my_c_star/examples/example_case/RESTART_20120103_120000/namelists/ROMS\n",
      "copying marbl_tracer_output_list to /global/cfs/cdirs/m4746/Users/dafydd/my_c_star/examples/example_case/RESTART_20120103_120000/namelists/ROMS\n",
      "copying marbl_diagnostic_output_list to /global/cfs/cdirs/m4746/Users/dafydd/my_c_star/examples/example_case/RESTART_20120103_120000/namelists/ROMS\n",
      "\n",
      "Fetching input datasets...\n",
      "--------------------------\n",
      "Saving roms-tools dataset created from https://github.com/CWorthy-ocean/cstar_blueprint_roms_marbl_example/raw/main/input_datasets_yaml/roms_grd.yaml...\n",
      "Saving roms-tools dataset created from https://github.com/CWorthy-ocean/cstar_blueprint_roms_marbl_example/raw/main/input_datasets_yaml/roms_tides.yaml...\n",
      "[########################################] | 100% Completed | 2.95 sms\n",
      "Saving roms-tools dataset created from https://github.com/CWorthy-ocean/cstar_blueprint_roms_marbl_example/raw/main/input_datasets_yaml/roms_bry.yaml...\n",
      "[########################################] | 100% Completed | 24.51 s\n",
      "Saving roms-tools dataset created from https://github.com/CWorthy-ocean/cstar_blueprint_roms_marbl_example/raw/main/input_datasets_yaml/roms_bry_bgc.yaml...\n",
      "[########################################] | 100% Completed | 37.03 s\n",
      "Saving roms-tools dataset created from https://github.com/CWorthy-ocean/cstar_blueprint_roms_marbl_example/raw/main/input_datasets_yaml/roms_frc.yaml...\n",
      "[########################################] | 100% Completed | 53.01 s\n",
      "Saving roms-tools dataset created from https://github.com/CWorthy-ocean/cstar_blueprint_roms_marbl_example/raw/main/input_datasets_yaml/roms_frc_bgc.yaml...\n",
      "[########################################] | 100% Completed | 606.61 ms\n",
      "\n",
      "Compiling MARBLComponent\n",
      "-------------------------\n",
      "No build steps to be completed for MARBLComponent\n",
      "\n",
      "Compiling ROMSComponent\n",
      "------------------------\n",
      "Compiling UCLA-ROMS configuration...\n",
      "UCLA-ROMS compiled at /global/cfs/cdirs/m4746/Users/dafydd/my_c_star/examples/example_case/RESTART_20120103_120000/additional_source_code/ROMS\n",
      "\n",
      "Completing pre-processing steps for MARBLComponent\n",
      "---------------------------------------------------\n",
      "No pre-processing steps to be completed for MARBLComponent\n",
      "\n",
      "Completing pre-processing steps for ROMSComponent\n",
      "--------------------------------------------------\n",
      "Partitioning /global/cfs/cdirs/m4746/Users/dafydd/my_c_star/examples/example_case/RESTART_20120103_120000/input_datasets/ROMS/roms_grd.nc into (3,3)\n",
      "Partitioning /global/cfs/cdirs/m4746/Users/dafydd/my_c_star/examples/example_case/RESTART_20120103_120000/input_datasets/ROMS/ROMS_MARBL_rst.20120103120000.nc into (3,3)\n",
      "Partitioning /global/cfs/cdirs/m4746/Users/dafydd/my_c_star/examples/example_case/RESTART_20120103_120000/input_datasets/ROMS/roms_tides.nc into (3,3)\n",
      "Partitioning /global/cfs/cdirs/m4746/Users/dafydd/my_c_star/examples/example_case/RESTART_20120103_120000/input_datasets/ROMS/roms_bry.nc into (3,3)\n",
      "Partitioning /global/cfs/cdirs/m4746/Users/dafydd/my_c_star/examples/example_case/RESTART_20120103_120000/input_datasets/ROMS/roms_bry_bgc.nc into (3,3)\n",
      "Partitioning /global/cfs/cdirs/m4746/Users/dafydd/my_c_star/examples/example_case/RESTART_20120103_120000/input_datasets/ROMS/roms_frc.nc into (3,3)\n",
      "Partitioning /global/cfs/cdirs/m4746/Users/dafydd/my_c_star/examples/example_case/RESTART_20120103_120000/input_datasets/ROMS/roms_frc_bgc.nc into (3,3)\n"
     ]
    }
   ],
   "source": [
    "example_case_2.setup()\n",
    "example_case_2.build()\n",
    "example_case_2.pre_run()"
   ]
  },
  {
   "cell_type": "code",
   "execution_count": 7,
   "id": "3bb88089-59a6-4ec8-ab9f-56fd67ecdd17",
   "metadata": {
    "tags": []
   },
   "outputs": [
    {
     "name": "stdout",
     "output_type": "stream",
     "text": [
      "\n",
      "Running ROMS... \n"
     ]
    }
   ],
   "source": [
    "hpc_job=example_case_2.run(account_key=\"m4746\", walltime=\"00:30:00\", queue_name=\"shared\")"
   ]
  },
  {
   "cell_type": "code",
   "execution_count": 9,
   "id": "e77a3f87-159c-49c0-bce8-047afb940a77",
   "metadata": {
    "editable": true,
    "slideshow": {
     "slide_type": ""
    },
    "tags": []
   },
   "outputs": [
    {
     "data": {
      "text/plain": [
       "<ExecutionStatus.PENDING: 2>"
      ]
     },
     "execution_count": 9,
     "metadata": {},
     "output_type": "execute_result"
    }
   ],
   "source": [
    "hpc_job.status"
   ]
  },
  {
   "cell_type": "markdown",
   "id": "4174ddb6-ff33-4f7a-921d-afa63da84f3e",
   "metadata": {
    "editable": true,
    "slideshow": {
     "slide_type": ""
    },
    "tags": []
   },
   "source": [
    "Once again, we have to wait for the job to finish before proceeding..."
   ]
  },
  {
   "cell_type": "code",
   "execution_count": 10,
   "id": "bd65d68f-bbf6-47e0-9fca-fadee6f1aa18",
   "metadata": {
    "editable": true,
    "slideshow": {
     "slide_type": ""
    },
    "tags": []
   },
   "outputs": [
    {
     "name": "stdout",
     "output_type": "stream",
     "text": [
      "\n",
      "Completing post-processing steps for ROMSComponent\n",
      "---------------------------------------------------\n",
      "Joining netCDF files ROMS_MARBL_rst.20120129120000.*.nc...\n",
      "Joining netCDF files ROMS_MARBL_rst.20120107120000.*.nc...\n",
      "Joining netCDF files ROMS_MARBL_rst.20120117120000.*.nc...\n",
      "Joining netCDF files ROMS_MARBL_rst.20120108120000.*.nc...\n",
      "Joining netCDF files ROMS_MARBL_rst.20120112120000.*.nc...\n",
      "Joining netCDF files ROMS_MARBL_rst.20120121120000.*.nc...\n",
      "Joining netCDF files ROMS_MARBL_his.20120103120000.*.nc...\n",
      "Joining netCDF files ROMS_MARBL_rst.20120114120000.*.nc...\n",
      "Joining netCDF files ROMS_MARBL_rst.20120125120000.*.nc...\n",
      "Joining netCDF files ROMS_MARBL_rst.20120104120000.*.nc...\n",
      "Joining netCDF files ROMS_MARBL_rst.20120131120000.*.nc...\n",
      "Joining netCDF files ROMS_MARBL_rst.20120113120000.*.nc...\n",
      "Joining netCDF files ROMS_MARBL_rst.20120126120000.*.nc...\n",
      "Joining netCDF files ROMS_MARBL_rst.20120122120000.*.nc...\n",
      "Joining netCDF files ROMS_MARBL_rst.20120120120000.*.nc...\n",
      "Joining netCDF files ROMS_MARBL_rst.20120124120000.*.nc...\n",
      "Joining netCDF files ROMS_MARBL_rst.20120116120000.*.nc...\n",
      "Joining netCDF files ROMS_MARBL_rst.20120119120000.*.nc...\n",
      "Joining netCDF files ROMS_MARBL_rst.20120109120000.*.nc...\n",
      "Joining netCDF files ROMS_MARBL_rst.20120110120000.*.nc...\n",
      "Joining netCDF files ROMS_MARBL_bgc.20120103120000.*.nc...\n",
      "Joining netCDF files ROMS_MARBL_rst.20120123120000.*.nc...\n",
      "Joining netCDF files ROMS_MARBL_bgc_dia.20120103120000.*.nc...\n",
      "Joining netCDF files ROMS_MARBL_rst.20120105120000.*.nc...\n",
      "Joining netCDF files ROMS_MARBL_rst.20120106120000.*.nc...\n",
      "Joining netCDF files ROMS_MARBL_rst.20120128120000.*.nc...\n",
      "Joining netCDF files ROMS_MARBL_rst.20120130120000.*.nc...\n",
      "Joining netCDF files ROMS_MARBL_rst.20120111120000.*.nc...\n",
      "Joining netCDF files ROMS_MARBL_rst.20120127120000.*.nc...\n",
      "Joining netCDF files ROMS_MARBL_rst.20120118120000.*.nc...\n",
      "Joining netCDF files ROMS_MARBL_rst.20120115120000.*.nc...\n"
     ]
    }
   ],
   "source": [
    "example_case_2.post_run()"
   ]
  },
  {
   "cell_type": "markdown",
   "id": "7aaf4adb-b795-4b53-bcc0-4f09037b03db",
   "metadata": {},
   "source": [
    "## Some basic analysis of the output\n",
    "Now we've finished running the model, we have a month of output to take a look at. \n",
    "\n",
    "C-Star doesn't currently support plots of model data, so we will have to manually produce plots from the model files. Don't worry too much about understanding the model's naming conventions in this code cell (C-Star will usually take care of these things for you) - this is just a visual demonstration!"
   ]
  },
  {
   "cell_type": "code",
   "execution_count": 12,
   "id": "20ff54ae-5756-40df-acc3-39aefbbebe39",
   "metadata": {
    "editable": true,
    "slideshow": {
     "slide_type": ""
    },
    "tags": []
   },
   "outputs": [
    {
     "data": {
      "image/png": "[encoded data removed]",
      "text/plain": [
       "<Figure size 1200x600 with 5 Axes>"
      ]
     },
     "metadata": {},
     "output_type": "display_data"
    }
   ],
   "source": [
    "import numpy as np\n",
    "import xarray as xr\n",
    "import cartopy.crs as ccrs\n",
    "import datetime as dt\n",
    "import cartopy.feature as cfeature\n",
    "\n",
    "bgc_ds = xr.open_dataset(example_case_2.caseroot / 'output/ROMS_MARBL_bgc.20120103120000.nc') # this contains 6-hourly data, with the date in the filename reflecting the first time entry\n",
    "grd_ds = xr.open_dataset(example_case_2.caseroot / 'input_datasets/ROMS/roms_grd.nc')\n",
    "lon,lat=grd_ds.lon_rho,grd_ds.lat_rho\n",
    "output_time=[dt.datetime(2000,1,1)+dt.timedelta(seconds=t) for t in bgc_ds.ocean_time.values]\n",
    "\n",
    "var = 'DOC'\n",
    "i_idx = 10\n",
    "j_idx = 15 \n",
    "k_idx = 19\n",
    "t_idx = [0,-1]\n",
    "\n",
    "plot_data = bgc_ds[var].where(grd_ds.mask_rho).isel(s_rho=k_idx)\n",
    "\n",
    "%matplotlib inline\n",
    "import matplotlib.pyplot as plt\n",
    "from matplotlib.gridspec import GridSpec\n",
    "\n",
    "\n",
    "fig = plt.figure()\n",
    "cmap=plt.get_cmap('Spectral_r')\n",
    "cmap.set_bad('grey')\n",
    "\n",
    "gs = GridSpec(3, 2, figure=fig, hspace=0.5)\n",
    "\n",
    "# time series\n",
    "ax1 = fig.add_subplot(gs[0, :])\n",
    "\n",
    "ax1.plot(output_time,plot_data[:,j_idx,i_idx])\n",
    "ax1.set_xlim(output_time[0],output_time[-1])\n",
    "ax1.set_xlabel('time')\n",
    "ax1.plot(output_time[t_idx[0]],plot_data[t_idx[0],j_idx,i_idx],'kx')\n",
    "ax1.plot(output_time[t_idx[-1]],plot_data[t_idx[-1],j_idx,i_idx],'kx')\n",
    "\n",
    "\n",
    "# Maps\n",
    "ax2 = fig.add_subplot(gs[1:, 0],projection=ccrs.PlateCarree())\n",
    "ax3 = fig.add_subplot(gs[1:, 1],projection=ccrs.PlateCarree())\n",
    "\n",
    "VMIN = np.min(plot_data.values[plot_data.values > 0])\n",
    "VMAX = np.max(plot_data.values[plot_data.values > 0])\n",
    "\n",
    "p2 = ax2.pcolormesh(lon,lat,plot_data.isel(time=0).values, vmin=VMIN, vmax=VMAX, cmap=cmap)\n",
    "p3 = ax3.pcolormesh(lon,lat,plot_data.isel(time=-1).values, vmin=VMIN, vmax=VMAX, cmap=cmap)\n",
    "[a.set_xticks([]) for a in [ax2, ax3]]\n",
    "[a.set_yticks([]) for a in [ax2, ax3]]\n",
    "\n",
    "ax2.set_title(\"\")\n",
    "ax2.plot(lon[j_idx,i_idx].values-360, lat[j_idx,i_idx].values, 'kx')\n",
    "ax3.plot(lon[j_idx,i_idx].values-360, lat[j_idx,i_idx].values, 'kx')\n",
    "\n",
    "[a.add_feature(cfeature.COASTLINE, linewidth=1) for a in [ax3,ax2]]\n",
    "fig.colorbar(p2, ax=ax2)\n",
    "fig.colorbar(p3, ax=ax3)\n",
    "\n",
    "fig.suptitle(f'Surface {bgc_ds[var].long_name}, ({bgc_ds[var].units})')\n",
    "fig.set_size_inches(12,6)\n",
    "grd_ds.close()"
   ]
  }
 ],
 "metadata": {
  "kernelspec": {
   "display_name": "cstar_env",
   "language": "python",
   "name": "cstar_env"
  },
  "language_info": {
   "codemirror_mode": {
    "name": "ipython",
    "version": 3
   },
   "file_extension": ".py",
   "mimetype": "text/x-python",
   "name": "python",
   "nbconvert_exporter": "python",
   "pygments_lexer": "ipython3",
   "version": "3.13.1"
  }
 },
 "nbformat": 4,
 "nbformat_minor": 5
}
