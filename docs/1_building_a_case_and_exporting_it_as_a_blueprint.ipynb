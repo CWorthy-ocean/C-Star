{
 "cells": [
  {
   "cell_type": "markdown",
   "id": "1eca3124",
   "metadata": {},
   "source": [
    "> [!Warning] \n",
    "> **This project is still in an early phase of development.**\n",
    ">\n",
    "> The [python API](https://c-star.readthedocs.io/en/latest/api.html) is not yet stable, and some aspects of the schema for the [blueprint](https://c-star.readthedocs.io/en/latest/terminology.html#term-blueprint) will likely evolve. \n",
    "> Therefore whilst you are welcome to try out using the package, we cannot yet guarantee backwards compatibility. \n",
    "We expect to reach a more stable version in Q1 2025.\n",
    ">\n",
    "> To see which systems C-Star has been tested on so far, see [Supported Systems](https://c-star.readthedocs.io/en/latest/machines.html)."
   ]
  },
  {
   "cell_type": "markdown",
   "id": "b72c7eb3",
   "metadata": {},
   "source": [
    "> [!Warning] \n",
    "> **This project is still in an early phase of development.**\n",
    ">\n",
    "> The [python API](https://c-star.readthedocs.io/en/latest/api.html) is not yet stable, and the schema for the [blueprint](https://c-star.readthedocs.io/en/latest/terminology.html#term-blueprint) will likely evolve. \n",
    "> Therefore whilst you are welcome to try out using the package, we cannot yet guarantee backwards compatibility. \n",
    "> We expect to reach a more stable version in Q1 2025."
   ]
  },
  {
   "cell_type": "markdown",
   "id": "b29d6e47-5fbc-44ea-b5a8-35bbd8a2a596",
   "metadata": {},
   "source": [
    "# Building a `Case` and exporting it as a blueprint\n",
    "In this guide, we will create a ROMS-MARBL [C-Star case](https://c-star.readthedocs.io/en/latest/terminology.html#term-Case), by:\n",
    "\n",
    "* Creating ROMS and MARBL [BaseModel](https://c-star.readthedocs.io/en/latest/terminology.html#term-BaseModel) objects\n",
    "* Creating [AdditionalCode](https://c-star.readthedocs.io/en/latest/terminology.html#term-AdditionalCode) objects to represent namelist and additional source code files for ROMS\n",
    "* Create [InputDataset](https://c-star.readthedocs.io/en/latest/terminology.html#term-InputDataset) objects to tell C-Star where to find spatiotemporal data needed to run ROMS-MARBL\n",
    "* Create a [Discretization](https://c-star.readthedocs.io/en/latest/terminology.html#term-Discretization) object to tell C-Star how to partition the simulation (processor distribution and time step)\n",
    "* Bring these various objects together to make a [ROMSComponent](https://c-star.readthedocs.io/en/latest/terminology.html#term-ROMSComponent) and a [MARBLComponent](https://c-star.readthedocs.io/en/latest/terminology.html#term-MARBLComponent)\n",
    "* Create a `Case` consisting of these two [Components](https://c-star.readthedocs.io/en/latest/terminology.html#term-Component)\n",
    "* Export this `Case` to a [blueprint file](https://c-star.readthedocs.io/en/latest/terminology.html#term-blueprint)\n",
    "\n",
    "On the [the next page](https://c-star.readthedocs.io/en/latest/2_importing_and_running_a_case.html) we will look at how to _run_ a `Case` starting from a blueprint"
   ]
  },
  {
   "cell_type": "code",
   "execution_count": 1,
   "id": "f1d2251a-8687-4feb-bafc-5e1d82460af3",
   "metadata": {
    "tags": []
   },
   "outputs": [],
   "source": [
    "import cstar"
   ]
  },
  {
   "cell_type": "markdown",
   "id": "83ca73fd-d65d-40ca-8466-5bbf02a46feb",
   "metadata": {},
   "source": [
    "## The structure of the Case:\n",
    "[Here](https://c-star.readthedocs.io/en/latest/terminology.html#structure-of-c-star-case) you can get a general overview of a C-Star case. For our `roms_marbl_example` [case](https://github.com/CWorthy-ocean/cstar_blueprint_roms_marbl_example), the case structure breaks down like this:  \n",
    "```\n",
    "Case\n",
    "├── MARBLComponent\n",
    "│   └── base_model (MARBLBaseModel)\n",
    "└── ROMSComponent\n",
    "    ├── base_model (ROMSBaseModel)\n",
    "    ├── namelists (AdditionalCode)\n",
    "    ├── additional_source_code (AdditionalCode)\n",
    "    ├── model_grid (ROMSInputDataset)\n",
    "    ├── initial_conditions (ROMSInputDataset)\n",
    "    ├── tidal_forcing (ROMSInputDataset)\n",
    "    ├── surface_forcing (list of ROMSInputDatasets)\n",
    "    ├── boundary_forcing (list of ROMSInputDatasets)\n",
    "    └── discretization (ROMSDiscretization)\n",
    "\n",
    "```\n",
    "These are all the elements needed to create a unique, reproducible ROMS-MARBL simulation. You will notice that the `Component`, `BaseModel`, `InputDataset`, and `Discretization` objects here are specific to the object they describe (e.g. `ROMSBaseModel`). This is because there may be some unique attributes or operations associated with the `BaseModel` object describing ROMS that may be different to that describing MARBL, which has its own subclass `MARBLBaseModel`.\n",
    "\n",
    "To build this case from the bottom up, we'll need to first build `BaseModel` objects for ROMS and MARBL\n",
    "\n",
    "## Constructing the BaseModel objects\n",
    "To initialize a [base model](https://c-star.readthedocs.io/en/latest/terminology.html#term-BaseModel), we will need:\n",
    "\n",
    "- a `source_repo` (repository URL containing the base model source code) \n",
    "- a `checkout_target` (a point in the repository history we'd like to jump to). \n",
    "\n",
    "For ROMS we'll use the latest commit hash. For MARBL we'll use v0.45, around which the ROMS-MARBL driver was built:"
   ]
  },
  {
   "cell_type": "code",
   "execution_count": 2,
   "id": "c19986ee-6f21-41df-b0bb-8604ba25fdb9",
   "metadata": {
    "tags": []
   },
   "outputs": [],
   "source": [
    "from cstar.roms import ROMSBaseModel\n",
    "from cstar.marbl import MARBLBaseModel"
   ]
  },
  {
   "cell_type": "code",
   "execution_count": 3,
   "id": "fe00d6d5-c203-4174-b02d-52fb5d8d8ce4",
   "metadata": {
    "tags": []
   },
   "outputs": [],
   "source": [
    "roms_base_model = ROMSBaseModel(\n",
    "    source_repo='https://github.com/CESR-lab/ucla-roms.git',\n",
    "    checkout_target='main',\n",
    ")\n",
    "\n",
    "marbl_base_model = MARBLBaseModel(\n",
    "    source_repo='https://github.com/marbl-ecosys/MARBL.git',\n",
    "    checkout_target='marbl0.45.0',\n",
    ")"
   ]
  },
  {
   "cell_type": "code",
   "execution_count": 4,
   "id": "28cb3e6d-78c1-45a6-bae8-aea3fac47835",
   "metadata": {
    "tags": []
   },
   "outputs": [
    {
     "name": "stdout",
     "output_type": "stream",
     "text": [
      "ROMSBaseModel\n",
      "-------------\n",
      "source_repo : https://github.com/CESR-lab/ucla-roms.git (default)\n",
      "checkout_target : main (corresponding to hash 246c11fa537145ba5868f2256dfb4964aeb09a25) (default)\n",
      "local_config_status: 3 (Environment variable ROMS_ROOT is not present and it is assumed the base model is not installed locally)\n"
     ]
    }
   ],
   "source": [
    "print(roms_base_model)"
   ]
  },
  {
   "cell_type": "code",
   "execution_count": 5,
   "id": "5c681aa1-0cdd-4b6a-b1b4-91bce6bd98ec",
   "metadata": {
    "tags": []
   },
   "outputs": [
    {
     "name": "stdout",
     "output_type": "stream",
     "text": [
      "MARBLBaseModel\n",
      "--------------\n",
      "source_repo : https://github.com/marbl-ecosys/MARBL.git (default)\n",
      "checkout_target : marbl0.45.0 (corresponding to hash 6e6b2f7c32ac5427e6cf46de4222973b8bcaa3d9)\n",
      "local_config_status: 3 (Environment variable MARBL_ROOT is not present and it is assumed the base model is not installed locally)\n"
     ]
    }
   ],
   "source": [
    "print(marbl_base_model)"
   ]
  },
  {
   "cell_type": "markdown",
   "id": "4b4eb43e-1129-4e10-8dbf-c0c7c980c149",
   "metadata": {},
   "source": [
    "## Constructing the AdditionalCode objects\n",
    "\n",
    "To construct an `AdditionalCode` object, we need a `location` pointing to a local or remote directory or repository. \n",
    "\n",
    "As we are using additional code hosted in a remote repository for this example, we also need:\n",
    "\n",
    "- a `subdir` (subdirectory relative to the repository top level in which to find the code) \n",
    "- a `checkout_target` argument (branch, tag, or commit hash)\n",
    "\n",
    "We also need to provide a list of filenames corresponding to our `AdditionalCode`.\n",
    "\n",
    "In this example we are using MARBL and ROMS. As ROMS handles all input and output to MARBL, we only need `AdditionalCode` instances for ROMS...\n",
    "\n",
    "... one for run-time files (namelists):"
   ]
  },
  {
   "cell_type": "code",
   "execution_count": 6,
   "id": "c256a2ce-1742-4747-a515-f845073a49a4",
   "metadata": {
    "tags": []
   },
   "outputs": [],
   "source": [
    "from cstar.base import AdditionalCode"
   ]
  },
  {
   "cell_type": "code",
   "execution_count": 7,
   "id": "8ab3bf2f-0066-457f-a484-697ab5b04637",
   "metadata": {
    "tags": []
   },
   "outputs": [
    {
     "name": "stdout",
     "output_type": "stream",
     "text": [
      "AdditionalCode\n",
      "--------------\n",
      "Location: https://github.com/CWorthy-ocean/cstar_blueprint_roms_marbl_example.git\n",
      "subdirectory: additional_code/ROMS/namelists\n",
      "Working path: None\n",
      "Exists locally: False (get with AdditionalCode.get())\n",
      "Files:\n",
      "    roms.in_TEMPLATE      (roms.in will be used by C-Star based on this template)\n",
      "    marbl_in\n",
      "    marbl_tracer_output_list\n",
      "    marbl_diagnostic_output_list\n"
     ]
    }
   ],
   "source": [
    "roms_namelists = AdditionalCode(\n",
    "    location = \"https://github.com/CWorthy-ocean/cstar_blueprint_roms_marbl_example.git\",\n",
    "    subdir = \"additional_code/ROMS/namelists\",\n",
    "    checkout_target = \"cstar_alpha\",\n",
    "    files = [\n",
    "        \"roms.in_TEMPLATE\",\n",
    "        \"marbl_in\",\n",
    "        \"marbl_tracer_output_list\",\n",
    "        \"marbl_diagnostic_output_list\"\n",
    "    ]\n",
    ")\n",
    "print(roms_namelists)"
   ]
  },
  {
   "cell_type": "markdown",
   "id": "5d8d9d7a-0650-44d2-95a7-f4c1544ce164",
   "metadata": {},
   "source": [
    "<div class=\"alert alert-info\">\n",
    "\n",
    "Note\n",
    "\n",
    "For `roms_namelists`, in the first entry under `files`, the namelist file we begin with is a template. C-Star recognises the `_TEMPLATE` suffix and works with a local copy (in this case `roms.in`) that it will modify and use to run ROMS with user choices such as run length)\n",
    "</div>"
   ]
  },
  {
   "cell_type": "markdown",
   "id": "0bd42d49-6ef1-47c4-b43e-963013a7cbd0",
   "metadata": {},
   "source": [
    "... and one for compile-time files (such as ROMS' `.opt` files, which are used to set parameters):"
   ]
  },
  {
   "cell_type": "code",
   "execution_count": 8,
   "id": "360fdd39-0012-4add-b2cb-73dee1c17511",
   "metadata": {
    "tags": []
   },
   "outputs": [
    {
     "name": "stdout",
     "output_type": "stream",
     "text": [
      "AdditionalCode\n",
      "--------------\n",
      "Location: https://github.com/CWorthy-ocean/cstar_blueprint_roms_marbl_example.git\n",
      "subdirectory: additional_code/ROMS/source_mods\n",
      "Working path: None\n",
      "Exists locally: False (get with AdditionalCode.get())\n",
      "Files:\n",
      "    bgc.opt\n",
      "    bulk_frc.opt\n",
      "    cppdefs.opt\n",
      "    diagnostics.opt\n",
      "    ocean_vars.opt\n",
      "    param.opt\n",
      "    tracers.opt\n",
      "    Makefile\n",
      "    Make.depend\n"
     ]
    }
   ],
   "source": [
    "roms_additional_source_code = AdditionalCode(\n",
    "    location = \"https://github.com/CWorthy-ocean/cstar_blueprint_roms_marbl_example.git\",\n",
    "    subdir = \"additional_code/ROMS/source_mods\",\n",
    "    checkout_target = \"cstar_alpha\",\n",
    "    files = [\n",
    "        \"bgc.opt\",\n",
    "         \"bulk_frc.opt\",\n",
    "         \"cppdefs.opt\",\n",
    "         \"diagnostics.opt\",\n",
    "         \"ocean_vars.opt\",\n",
    "         \"param.opt\",\n",
    "         \"tracers.opt\",\n",
    "         \"Makefile\",\n",
    "         \"Make.depend\",\n",
    "    ]\n",
    ")\n",
    "\n",
    "print(roms_additional_source_code)"
   ]
  },
  {
   "cell_type": "markdown",
   "id": "227cc322-0f4d-465f-855f-7729bd43236a",
   "metadata": {},
   "source": [
    "## Constructing the InputDataset objects\n",
    "In addition to a base model and additional code, we need different types of input dataset, each with a specialized subclass of the [InputDataset class](https://c-star.readthedocs.io/en/latest/generated/cstar.base.InputDataset.html):\n",
    "\n",
    "- a grid file supplying information about the domain to ROMS ([ROMSModelGrid](https://c-star.readthedocs.io/en/latest/generated/cstar.roms.ROMSModelGrid.html))\n",
    "- An initial condition file from which to start the run ([ROMSInitialConditions](https://c-star.readthedocs.io/en/latest/generated/cstar.roms.ROMSInitialConditions.html))\n",
    "- boundary forcing files providing information at the edge of the domain ([ROMSBoundaryConditions](https://c-star.readthedocs.io/en/latest/generated/cstar.roms.ROMSInitialConditions.html))\n",
    "- surface forcing files providing information at the upper boundary ([ROMSSurfaceForcing](https://c-star.readthedocs.io/en/latest/generated/cstar.roms.ROMSSurfaceForcing.html))\n",
    "- tidal forcing files providing information on tidal constituents ([ROMSTidalForcing](https://c-star.readthedocs.io/en/latest/generated/cstar.roms.ROMSTidalForcing.html))\n",
    "\n",
    "In our case, all the files associated with our `roms_marbl_example` case are small and [fit in a repository](https://github.com/CWorthy-ocean/input_datasets_roms_marbl_example). "
   ]
  },
  {
   "cell_type": "code",
   "execution_count": 9,
   "id": "4f20a4bc-28cb-46a5-9a29-0b33515be140",
   "metadata": {
    "tags": []
   },
   "outputs": [],
   "source": [
    "from cstar.roms import ROMSModelGrid, ROMSInitialConditions, ROMSTidalForcing, ROMSBoundaryForcing, ROMSSurfaceForcing"
   ]
  },
  {
   "cell_type": "code",
   "execution_count": 10,
   "id": "02c2bf05-15a0-45b5-bd1e-16a0032b5b1e",
   "metadata": {
    "tags": []
   },
   "outputs": [],
   "source": [
    "#Grid\n",
    "roms_model_grid = ROMSModelGrid(\n",
    "    location=\"https://github.com/CWorthy-ocean/input_datasets_roms_marbl_example/raw/cstar_alpha/roms_grd.nc\",\n",
    "    file_hash=\"8ad2469179d9f720da6a0517e9879b4615cc16cc7eb1c93b4d9fef2344c19508\",\n",
    ")\n",
    "# Initial conditions\n",
    "roms_initial_conditions = ROMSInitialConditions(\n",
    "    location=\"https://github.com/CWorthy-ocean/input_datasets_roms_marbl_example/raw/main/roms_ini.nc\",\n",
    "    file_hash=\"6d3df424c906c96dcb72f8fca94a51551e62f1f1e2d6b7bb744b2c4fb078d191\",\n",
    ")\n",
    "# Tides\n",
    "roms_tidal_forcing = ROMSTidalForcing(\n",
    "    location=\"https://github.com/CWorthy-ocean/input_datasets_roms_marbl_example/raw/main/roms_tides.nc\",\n",
    "    file_hash=\"6364aeaec0860d5384e5dfe2fc0964cec338b86d63382d24ef36670cb87e6dcb\",\n",
    ")\n",
    "# Boundary\n",
    "roms_phys_boundary_forcing = ROMSBoundaryForcing(\n",
    "    location=\"https://github.com/CWorthy-ocean/input_datasets_roms_marbl_example/raw/main/roms_bry_201201.nc\",\n",
    "    file_hash=\"9c7ec2915b46f40ea0fd5c548d65da4147304ba081812387721b0e20e5c33165\",\n",
    ")\n",
    "roms_bgc_boundary_forcing = ROMSBoundaryForcing(\n",
    "    location = \"https://github.com/CWorthy-ocean/input_datasets_roms_marbl_example/raw/main/roms_bry_bgc_clim.nc\",\n",
    "    file_hash = \"2ffaa61ba3871922d3f270e2a11af70cca6f7aa2ccced2bac7257c45f35e261c\",\n",
    ")\n",
    "# Surface\n",
    "roms_bgc_surface_forcing = ROMSSurfaceForcing(\n",
    "    location=\"https://github.com/CWorthy-ocean/input_datasets_roms_marbl_example/raw/main/roms_frc_bgc_2012.nc\",\n",
    "    file_hash=\"ad5f8a60cb39068a0afb42f4ebe48473f68d9906bbd0d926c041c00dfe909be2\",\n",
    ")\n",
    "roms_phys_surface_forcing = ROMSSurfaceForcing(\n",
    "    location=\"https://github.com/CWorthy-ocean/input_datasets_roms_marbl_example/raw/main/roms_frc.201201.nc\",\n",
    "    file_hash=\"f85e2ac88abacd6009999c8ffa9a6cd5844f13e09b358705b67335fe1af621d9\",\n",
    ")\n"
   ]
  },
  {
   "cell_type": "markdown",
   "id": "d9f5b217-d777-4e44-b39a-5f148d278143",
   "metadata": {},
   "source": [
    "<div class=\"alert alert-info\">\n",
    "\n",
    "Note\n",
    "\n",
    "1. The `location` attribute can either be a **local path** or a **URL**. If it is set to a URL, the `file_hash` (a 256 bit checksum) must also be provided to verify the download.\n",
    "    \n",
    "2. The file described by location can be either **netCDF** or **yaml** format. When C-Star sees a yaml file instead of a netCDF file for ROMS input data, it assumes the file contains a set of instructions to be passed to the `roms-tools` [package](https://roms-tools.readthedocs.io/en/latest/), which will then generate the netCDF file for us when `InputDataset.get()` is called. This makes it easier to share and save ROMS configurations without the overhead associated with potentially large netCDF files. More information on creating ROMS input datasets (both yaml and netCDF) for C-Star using `roms-tools` can be found on [this page](https://c-star.readthedocs.io/en/latest/4_preparing_roms_input_datasets.html).\n",
    "\n",
    "</div>"
   ]
  },
  {
   "cell_type": "markdown",
   "id": "fc2615c6-054b-46e4-9287-9bbd5fab5bd6",
   "metadata": {},
   "source": [
    "We can query each input dataset to get pertinent information about its state, e.g.:"
   ]
  },
  {
   "cell_type": "code",
   "execution_count": 11,
   "id": "680420f2-2105-4907-ae4a-3e78e11ed336",
   "metadata": {
    "tags": []
   },
   "outputs": [
    {
     "name": "stdout",
     "output_type": "stream",
     "text": [
      "-------------------\n",
      "ROMSBoundaryForcing\n",
      "-------------------\n",
      "Source location: https://github.com/CWorthy-ocean/input_datasets_roms_marbl_example/raw/main/roms_bry_201201.nc\n",
      "file_hash: 9c7ec2915b46f40ea0fd5c548d65da4147304ba081812387721b0e20e5c33165\n",
      "Working path: None ( does not yet exist. Call InputDataset.get() )\n"
     ]
    }
   ],
   "source": [
    "print(roms_phys_boundary_forcing)"
   ]
  },
  {
   "cell_type": "markdown",
   "id": "694a5dca-6352-4658-ac2a-9371c4ba8989",
   "metadata": {},
   "source": [
    "## Constructing the Discretization object\n",
    "Lastly, we need to tell C-Star how we will be discretizing our components. MARBL piggybacks off the discretization of its host model, so we only need to create a `ROMSDiscretization` object. This contains:\n",
    "\n",
    "- the time step (`time_step` , in seconds)\n",
    "- the number of processors following x and y for running in parallel (`n_procs_x`, `n_procs_y`)"
   ]
  },
  {
   "cell_type": "code",
   "execution_count": 12,
   "id": "bd717504-7e5a-4217-8b0c-d689664f04a9",
   "metadata": {
    "tags": []
   },
   "outputs": [
    {
     "name": "stdout",
     "output_type": "stream",
     "text": [
      "ROMSDiscretization\n",
      "------------------\n",
      "time_step: 60s\n",
      "n_procs_x: 3 (Number of x-direction processors)\n",
      "n_procs_y: 3 (Number of y-direction processors)\n"
     ]
    }
   ],
   "source": [
    "from cstar.roms import ROMSDiscretization\n",
    "\n",
    "roms_discretization = ROMSDiscretization(time_step = 60,\n",
    "                                         n_procs_x = 3,\n",
    "                                         n_procs_y = 3)\n",
    "print(roms_discretization)"
   ]
  },
  {
   "cell_type": "markdown",
   "id": "d7d9714b-3a41-426c-8466-c20ffad7de9e",
   "metadata": {},
   "source": [
    "## Putting it all together to build ROMS and MARBL components:\n",
    "We now have everything we need to create the `MARBLComponent` and `ROMSComponent` objects that come together to make our Case."
   ]
  },
  {
   "cell_type": "code",
   "execution_count": 13,
   "id": "30955e95-7c36-4d0d-a2a4-fc30ef1fc91e",
   "metadata": {
    "tags": []
   },
   "outputs": [],
   "source": [
    "from cstar.roms import ROMSComponent\n",
    "from cstar.marbl import MARBLComponent"
   ]
  },
  {
   "cell_type": "markdown",
   "id": "f8dc86a0-20a6-42a0-ae7b-1cb97afba110",
   "metadata": {},
   "source": [
    "### MARBL:\n",
    "For MARBL, we just need the base model - ROMS handles all run-time code and data on MARBL's behalf:"
   ]
  },
  {
   "cell_type": "code",
   "execution_count": 14,
   "id": "b3f01b55-9a80-4b18-a74b-59ffea7f2758",
   "metadata": {
    "tags": []
   },
   "outputs": [
    {
     "name": "stdout",
     "output_type": "stream",
     "text": [
      "MARBLComponent\n",
      "--------------\n",
      "base_model: MARBLBaseModel instance (query using Component.base_model)\n"
     ]
    }
   ],
   "source": [
    "marbl_component = MARBLComponent(\n",
    "    base_model = marbl_base_model\n",
    ")\n",
    "print(marbl_component)"
   ]
  },
  {
   "cell_type": "markdown",
   "id": "c33e0ed5-3209-47ab-a866-66e9ee5e098d",
   "metadata": {},
   "source": [
    "### ROMS\n",
    "Our `ROMSComponent` is a little more involved, containing not just a base model, but also all our `InputDataset`s, `AdditionalCode`, and `Discretization` information:"
   ]
  },
  {
   "cell_type": "code",
   "execution_count": 15,
   "id": "1533dbbf-593b-452d-9d72-120c4eb65a2d",
   "metadata": {
    "tags": []
   },
   "outputs": [
    {
     "name": "stdout",
     "output_type": "stream",
     "text": [
      "ROMSComponent\n",
      "-------------\n",
      "base_model: ROMSBaseModel instance (query using Component.base_model)\n",
      "additional_source_code: AdditionalCode instance with 9 files (query using Component.additional_source_code)\n",
      "namelists: AdditionalCode instance with 4 files (query using Component.namelists)\n",
      "model_grid = <ROMSModelGrid instance>\n",
      "initial_conditions = <ROMSInitialConditions instance>\n",
      "tidal_forcing = <ROMSTidalForcing instance>\n",
      "surface_forcing = <list of 2 ROMSSurfaceForcing instances>\n",
      "boundary_forcing = <list of 2 ROMSBoundaryForcing instances>\n",
      "\n",
      "Discretization:\n",
      "ROMSDiscretization\n",
      "------------------\n",
      "time_step: 60s\n",
      "n_procs_x: 3 (Number of x-direction processors)\n",
      "n_procs_y: 3 (Number of y-direction processors)\n"
     ]
    }
   ],
   "source": [
    "roms_component = ROMSComponent(\n",
    "    base_model = roms_base_model,\n",
    "    namelists = roms_namelists,\n",
    "    additional_source_code = roms_additional_source_code,\n",
    "    discretization = roms_discretization,\n",
    "    model_grid = roms_model_grid,\n",
    "    initial_conditions = roms_initial_conditions,\n",
    "    tidal_forcing = roms_tidal_forcing,\n",
    "    boundary_forcing = [roms_phys_boundary_forcing,roms_bgc_boundary_forcing],\n",
    "    surface_forcing = [roms_phys_surface_forcing, roms_bgc_surface_forcing]\n",
    ")\n",
    "print(roms_component)"
   ]
  },
  {
   "cell_type": "markdown",
   "id": "0df5c20f-7851-4ea0-845c-4e3c3fa29f5b",
   "metadata": {},
   "source": [
    "## And finally, we can build the Case object:\n",
    "This is instantiated using:\n",
    "\n",
    "- a list of components\n",
    "- a name\n",
    "- a `caseroot` (the local path where the case will be run). Additionally we choose a start date and end date for the run. The values below run the case for one model month, which may take several minutes to run (depending on your machine). **If you'd like to run the case more quickly**, modify `end_date` below:\n",
    "- a `valid_start_date` and `valid_end_date`"
   ]
  },
  {
   "cell_type": "markdown",
   "id": "1e4d48e1-2f4c-4f38-8c1c-5b133ceacf37",
   "metadata": {},
   "source": [
    "<div class=\"alert alert-info\">\n",
    "\n",
    "Note\n",
    "    \n",
    "\n",
    "The \"valid\" date range specified by `valid_start_date` and `valid_end_date` corresponds to the range of dates in which this `Case` **can** be run, rather than the date range for which it **will** be run. This can be due to scientific validation of a certain period, or just availability of input data (as in this example, where we only have forcing data for January 2012).\n",
    "\n",
    "A Case should typically also be initialized with `start_date` and `end_date`, which are unique to the `Case` instance, and specify the dates for which the `Case` **will** be run.\n",
    "    \n",
    "As we are building this `Case` to export, not run, we ignore the `start_date` and `end_date` parameters for now, as they are not exported. C-Star will automatically set them to the maximum valid range.\n",
    "    \n",
    "</div>"
   ]
  },
  {
   "cell_type": "code",
   "execution_count": 16,
   "id": "def7ac3e-3de8-4ca9-806d-b5ac385a437c",
   "metadata": {
    "tags": []
   },
   "outputs": [],
   "source": [
    "from cstar import Case"
   ]
  },
  {
   "cell_type": "code",
   "execution_count": 17,
   "id": "1a32ad6f-8701-416f-ae50-598f7650cf5e",
   "metadata": {
    "tags": []
   },
   "outputs": [
    {
     "name": "stdout",
     "output_type": "stream",
     "text": [
      "C-Star Case\n",
      "-----------\n",
      "Name: roms_marbl_example_cstar_case\n",
      "caseroot: /global/cfs/cdirs/m4746/Users/dafydd/my_c_star/examples/roms_marbl_example_cstar_case\n",
      "start_date: 2012-01-01 12:00:00\n",
      "end_date: 2012-12-31 12:00:00\n",
      "Is setup: False\n",
      "Valid date range:\n",
      "valid_start_date: 2012-01-01 12:00:00\n",
      "valid_end_date: 2012-12-31 12:00:00\n",
      "\n",
      "It is built from the following Components (query using Case.components): \n",
      "   <MARBLComponent instance>\n",
      "   <ROMSComponent instance>\n"
     ]
    },
    {
     "name": "stderr",
     "output_type": "stream",
     "text": [
      "/global/cfs/cdirs/m4746/Users/dafydd/my_c_star/cstar/case.py:140: UserWarning: start_date not provided. Defaulting to earliest valid start date: 20120101 12:00:00.\n",
      "  warnings.warn(\n",
      "/global/cfs/cdirs/m4746/Users/dafydd/my_c_star/cstar/case.py:165: UserWarning: end_date not provided.Defaulting to latest valid end date: 20121231 12:00:00\n",
      "  warnings.warn(\n"
     ]
    }
   ],
   "source": [
    "roms_marbl_case = Case(\n",
    "    components=[marbl_component, roms_component],\n",
    "    name='roms_marbl_example_cstar_case',\n",
    "    caseroot = \"../examples/roms_marbl_example_cstar_case\",\n",
    "    valid_start_date = \"20120101 12:00:00\",\n",
    "    valid_end_date = \"20121231 12:00:00\"\n",
    ")\n",
    "print(roms_marbl_case)"
   ]
  },
  {
   "cell_type": "markdown",
   "id": "907a3317-154f-4da3-9854-e428291dc7db",
   "metadata": {},
   "source": [
    "## Visualizing the Case:\n",
    "We can see how the caseroot directory will look once the case is set up using `Case.tree()`:"
   ]
  },
  {
   "cell_type": "code",
   "execution_count": 18,
   "id": "80f5664b-2403-4582-88a1-a85c3bb4a369",
   "metadata": {
    "tags": []
   },
   "outputs": [
    {
     "name": "stdout",
     "output_type": "stream",
     "text": [
      "/global/cfs/cdirs/m4746/Users/dafydd/my_c_star/examples/roms_marbl_example_cstar_case\n",
      "├── input_datasets\n",
      "│   └── ROMS\n",
      "│       ├── roms_grd.nc\n",
      "│       ├── roms_ini.nc\n",
      "│       ├── roms_tides.nc\n",
      "│       ├── roms_bry_201201.nc\n",
      "│       ├── roms_bry_bgc_clim.nc\n",
      "│       ├── roms_frc.201201.nc\n",
      "│       └── roms_frc_bgc_2012.nc\n",
      "├── namelists\n",
      "│   └── ROMS\n",
      "│       ├── roms.in_TEMPLATE\n",
      "│       ├── marbl_in\n",
      "│       ├── marbl_tracer_output_list\n",
      "│       └── marbl_diagnostic_output_list\n",
      "└── additional_source_code\n",
      "    └── ROMS\n",
      "        ├── bgc.opt\n",
      "        ├── bulk_frc.opt\n",
      "        ├── cppdefs.opt\n",
      "        ├── diagnostics.opt\n",
      "        ├── ocean_vars.opt\n",
      "        ├── param.opt\n",
      "        ├── tracers.opt\n",
      "        ├── Makefile\n",
      "        └── Make.depend\n",
      "\n"
     ]
    }
   ],
   "source": [
    "roms_marbl_case.tree()"
   ]
  },
  {
   "cell_type": "markdown",
   "id": "a3129ac9-3d6b-4742-9ee7-86e5deec12f8",
   "metadata": {},
   "source": [
    "## Saving the Case to a blueprint file\n",
    "We can save all the information associated with this case to a YAML file using `Case.persist(filename)`.\n",
    "On the [next page](https://c-star.readthedocs.io/en/latest/2_importing_and_running_a_case.html) we will import and run a `Case` using a blueprint."
   ]
  },
  {
   "cell_type": "code",
   "execution_count": 19,
   "id": "868f69f3-9f34-4105-942d-1926c15f96e5",
   "metadata": {
    "tags": []
   },
   "outputs": [],
   "source": [
    "roms_marbl_case.to_blueprint(\"roms_marbl_example_case.yaml\")"
   ]
  },
  {
   "cell_type": "markdown",
   "id": "af84041f-0ff9-4cb6-a39b-f7f33a16d0a5",
   "metadata": {},
   "source": [
    "Let's take a look at the `blueprint` file. We will see it contains all the information we provided above:"
   ]
  },
  {
   "cell_type": "code",
   "execution_count": 20,
   "id": "4af4a516-aeae-4a4f-90bc-bf2bf62f584e",
   "metadata": {
    "tags": []
   },
   "outputs": [
    {
     "name": "stdout",
     "output_type": "stream",
     "text": [
      "registry_attrs:\n",
      "  name: roms_marbl_example_cstar_case\n",
      "  valid_date_range:\n",
      "    start_date: '2012-01-01 12:00:00'\n",
      "    end_date: '2012-12-31 12:00:00'\n",
      "components:\n",
      "- component:\n",
      "    component_type: MARBL\n",
      "    base_model:\n",
      "      source_repo: https://github.com/marbl-ecosys/MARBL.git\n",
      "      checkout_target: marbl0.45.0\n",
      "- component:\n",
      "    component_type: ROMS\n",
      "    base_model:\n",
      "      source_repo: https://github.com/CESR-lab/ucla-roms.git\n",
      "      checkout_target: main\n",
      "    additional_source_code:\n",
      "      location: https://github.com/CWorthy-ocean/cstar_blueprint_roms_marbl_example.git\n",
      "      subdir: additional_code/ROMS/source_mods\n",
      "      checkout_target: cstar_alpha\n",
      "      files:\n",
      "      - bgc.opt\n",
      "      - bulk_frc.opt\n",
      "      - cppdefs.opt\n",
      "      - diagnostics.opt\n",
      "      - ocean_vars.opt\n",
      "      - param.opt\n",
      "      - tracers.opt\n",
      "      - Makefile\n",
      "      - Make.depend\n",
      "    namelists:\n",
      "      location: https://github.com/CWorthy-ocean/cstar_blueprint_roms_marbl_example.git\n",
      "      subdir: additional_code/ROMS/namelists\n",
      "      checkout_target: cstar_alpha\n",
      "      files:\n",
      "      - roms.in_TEMPLATE\n",
      "      - marbl_in\n",
      "      - marbl_tracer_output_list\n",
      "      - marbl_diagnostic_output_list\n",
      "    discretization:\n",
      "      time_step: 60\n",
      "      n_procs_x: 3\n",
      "      n_procs_y: 3\n",
      "    model_grid:\n",
      "      location: https://github.com/CWorthy-ocean/input_datasets_roms_marbl_example/raw/cstar_alpha/roms_grd.nc\n",
      "      file_hash: 8ad2469179d9f720da6a0517e9879b4615cc16cc7eb1c93b4d9fef2344c19508\n",
      "    initial_conditions:\n",
      "      location: https://github.com/CWorthy-ocean/input_datasets_roms_marbl_example/raw/main/roms_ini.nc\n",
      "      file_hash: 6d3df424c906c96dcb72f8fca94a51551e62f1f1e2d6b7bb744b2c4fb078d191\n",
      "    tidal_forcing:\n",
      "      location: https://github.com/CWorthy-ocean/input_datasets_roms_marbl_example/raw/main/roms_tides.nc\n",
      "      file_hash: 6364aeaec0860d5384e5dfe2fc0964cec338b86d63382d24ef36670cb87e6dcb\n",
      "    surface_forcing:\n",
      "    - location: https://github.com/CWorthy-ocean/input_datasets_roms_marbl_example/raw/main/roms_frc.201201.nc\n",
      "      file_hash: f85e2ac88abacd6009999c8ffa9a6cd5844f13e09b358705b67335fe1af621d9\n",
      "    - location: https://github.com/CWorthy-ocean/input_datasets_roms_marbl_example/raw/main/roms_frc_bgc_2012.nc\n",
      "      file_hash: ad5f8a60cb39068a0afb42f4ebe48473f68d9906bbd0d926c041c00dfe909be2\n",
      "    boundary_forcing:\n",
      "    - location: https://github.com/CWorthy-ocean/input_datasets_roms_marbl_example/raw/main/roms_bry_201201.nc\n",
      "      file_hash: 9c7ec2915b46f40ea0fd5c548d65da4147304ba081812387721b0e20e5c33165\n",
      "    - location: https://github.com/CWorthy-ocean/input_datasets_roms_marbl_example/raw/main/roms_bry_bgc_clim.nc\n",
      "      file_hash: 2ffaa61ba3871922d3f270e2a11af70cca6f7aa2ccced2bac7257c45f35e261c\n",
      "\n"
     ]
    }
   ],
   "source": [
    "from pathlib import Path\n",
    "print(Path(\"roms_marbl_example_case.yaml\").read_text())"
   ]
  }
 ],
 "metadata": {
  "kernelspec": {
   "display_name": "cstar_env",
   "language": "python",
   "name": "cstar_env"
  },
  "language_info": {
   "codemirror_mode": {
    "name": "ipython",
    "version": 3
   },
   "file_extension": ".py",
   "mimetype": "text/x-python",
   "name": "python",
   "nbconvert_exporter": "python",
   "pygments_lexer": "ipython3",
   "version": "3.13.0"
  }
 },
 "nbformat": 4,
 "nbformat_minor": 5
}
