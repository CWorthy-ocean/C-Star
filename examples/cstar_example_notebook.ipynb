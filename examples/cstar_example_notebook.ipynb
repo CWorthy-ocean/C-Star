{
 "cells": [
  {
   "cell_type": "markdown",
   "id": "b9baf6d5",
   "metadata": {},
   "source": [
    "# Installation\n",
    "Full installation instructions can be found [here](https://github.com/dafyddstephenson/C-Star/tree/python_package/cstar_ocean/README.md) (`README.md` in the parent directory)\n"
   ]
  },
  {
   "cell_type": "code",
   "execution_count": 1,
   "id": "f1d2251a-8687-4feb-bafc-5e1d82460af3",
   "metadata": {},
   "outputs": [],
   "source": [
    "import os\n",
    "import cstar"
   ]
  },
  {
   "cell_type": "markdown",
   "id": "83ca73fd-d65d-40ca-8466-5bbf02a46feb",
   "metadata": {},
   "source": [
    "# Introduction to C-Star \"v0\" with the `roms_marbl_example` Case\n",
    "\n",
    "In this notebook we will take a look at the `roms_marbl_example` C-Star case. We can instantiate a C-Star case either from a blueprint (`.yaml` file) or by manually setting it up. Here we'll build a C-Star case from scratch to demonstrate the various structures in C-Star, then we can export the Case to a blueprint-style YAML file to be shared or re-used.\n",
    "\n",
    "\n",
    "## Overview of C-Star structures\n",
    "- A `Case` (`cstar.Case`) is the primary object of C-Star. It contains all the necessary information for a user to run a reproducable Earth system simulation. A Case is built from Components (`cstar.base.Component`), each representing a specific configuration of a model of one part of the overall system being simulated. In this notebook we'll be working with an ocean circulation component and a biogeochemistry component.\n",
    "    - **The `Component` object** itself consists of, at least, a base model (`cstar.base.BaseModel`), and optionally additional code (`cstar.base.AdditionalCode`), input datasets (`cstar.base.InputDataset`), and discretization information (`cstar.base.Discretization`) needed to run the base model in the specific configuration in question. \n",
    "        - **A `BaseModel` object** describes the \"off-the-shelf\" model underlying a Component. It does not contain any information relative to the specific domain, forcing, code modifications, or combination of parameters with which the model will be run in our particular use case. Typically it will simply point (using the `source_repo` attribute) to the repository in which a development team hosts a model (in this case the ROMS and MARBL source code repositories), and features a `checkout_target` attribute instructing C-Star on which version of this source code to use.\n",
    "        - **An `AdditionalCode` object** also describes code associated with the base model, this time containing code that is necessary to run the base model _in a particular configuration_ of interest. This may include runtime namelist files specifying parameter values and paths to input data, or compile-time option files or source-code modifications. This is effectively code that would not normally be included with a model, but may be required in order to run it. \n",
    "        - **An `InputDataset` object** is a descriptor of any non-plaintext file needed to run our base model in a particular configuration. These are typically netCDF files describing the domain, initial conditions, surface and boundary forcing of a particular simulation we'd like to run using the base model.\n",
    "        - **A `Discretization` object** contains any information related to the discretization of a Component, such as time step and CPU distribution.\n",
    "\n",
    "- You can find more information on C-Star `Case`, `Component`, `BaseModel`, `AdditionalCode`, and `InputDataset` objects by querying, e.g., `cstar.base.Component?` in a cell.\n",
    "\n",
    "## The structure of the Case:\n",
    "The `roms_marbl_example` case structure breaks down like this:  \n",
    "```\n",
    "Case\n",
    "├── MARBLComponent\n",
    "│   └── base_model (MARBLBaseModel)\n",
    "└── ROMSComponent\n",
    "    ├── base_model (ROMSBaseModel)\n",
    "    ├── namelists (AdditionalCode)\n",
    "    ├── additional_source_code (AdditionalCode)\n",
    "    ├── model_grid (ROMSInputDataset)\n",
    "    ├── initial_conditions (ROMSInputDataset)\n",
    "    ├── tidal_forcing (ROMSInputDataset)\n",
    "    ├── surface_forcing (list of ROMSInputDatasets)\n",
    "    ├── boundary_forcing (list of ROMSInputDatasets)\n",
    "    └── discretization (ROMSDiscretization)\n",
    "\n",
    "```\n",
    "You will notice that the `Component`, `BaseModel`, `InputDataset`, and `Discretization` objects here are specific to the object they describe (e.g. `ROMSBaseModel`). This is because there may be some unique attributes or operations associated with the `BaseModel` object describing ROMS that may be different to that describing MARBL, which has its own subclass `MARBLBaseModel`.\n",
    "\n",
    "To build this case from the bottom up, we'll need to first build `BaseModel` objects for ROMS and MARBL\n",
    "\n",
    "## Constructing the BaseModel objects\n",
    "To initialize a `BaseModel` object (see `cstar.base.BaseModel?`), we need a `source_repo` (repository URL containing the base model source code) and a `checkout_target` (a point in the repository history we'd like to jump to). For ROMS we'll use the latest commit hash. For MARBL we'll use v0.45, around which the ROMS-MARBL driver was built:"
   ]
  },
  {
   "cell_type": "code",
   "execution_count": 2,
   "id": "c19986ee-6f21-41df-b0bb-8604ba25fdb9",
   "metadata": {},
   "outputs": [],
   "source": [
    "from cstar.roms import ROMSBaseModel\n",
    "from cstar.marbl import MARBLBaseModel"
   ]
  },
  {
   "cell_type": "code",
   "execution_count": 3,
   "id": "fe00d6d5-c203-4174-b02d-52fb5d8d8ce4",
   "metadata": {},
   "outputs": [],
   "source": [
    "roms_base_model = ROMSBaseModel(\n",
    "    source_repo='https://github.com/CESR-lab/ucla-roms.git',\n",
    "    checkout_target='246c11fa537145ba5868f2256dfb4964aeb09a25',\n",
    ")\n",
    "\n",
    "marbl_base_model = MARBLBaseModel(\n",
    "    source_repo='https://github.com/marbl-ecosys/MARBL.git',\n",
    "    checkout_target='marbl0.45.0',\n",
    ")"
   ]
  },
  {
   "cell_type": "code",
   "execution_count": 4,
   "id": "28cb3e6d-78c1-45a6-bae8-aea3fac47835",
   "metadata": {},
   "outputs": [
    {
     "name": "stdout",
     "output_type": "stream",
     "text": [
      "ROMSBaseModel\n",
      "-------------\n",
      "source_repo : https://github.com/CESR-lab/ucla-roms.git (default)\n",
      "checkout_target : 246c11fa537145ba5868f2256dfb4964aeb09a25\n",
      "local_config_status: 0 (Environment variable ROMS_ROOT is present, points to the correct repository remote, and is checked out at the correct hash)\n"
     ]
    }
   ],
   "source": [
    "print(roms_base_model)"
   ]
  },
  {
   "cell_type": "code",
   "execution_count": 5,
   "id": "5c681aa1-0cdd-4b6a-b1b4-91bce6bd98ec",
   "metadata": {},
   "outputs": [
    {
     "name": "stdout",
     "output_type": "stream",
     "text": [
      "MARBLBaseModel\n",
      "--------------\n",
      "source_repo : https://github.com/marbl-ecosys/MARBL.git (default)\n",
      "checkout_target : marbl0.45.0 (corresponding to hash 6e6b2f7c32ac5427e6cf46de4222973b8bcaa3d9)\n",
      "local_config_status: 0 (Environment variable MARBL_ROOT is present, points to the correct repository remote, and is checked out at the correct hash)\n"
     ]
    }
   ],
   "source": [
    "print(marbl_base_model)"
   ]
  },
  {
   "cell_type": "markdown",
   "id": "4b4eb43e-1129-4e10-8dbf-c0c7c980c149",
   "metadata": {},
   "source": [
    "## Constructing the AdditionalCode objects\n",
    "\n",
    "To construct an `AdditionalCode` object, we need a `location` pointing to a local or remote directory or repository.\n",
    "In this example, we will use a remote repository, so we also supply a `subdir` (relative to the repository top level) and `checkout_target` argument to initialise the `AdditionalCode` instance.\n",
    "We also need to provide a list of files pointing to our `AdditionalCode`.\n",
    "\n",
    "In this example we are using MARBL and ROMS. As ROMS handles all input and output to MARBL, we only need `AdditionalCode` instances for ROMS: one for run-time files (namelists) and the other for compile-time files (such as ROMS' `.opt` files, which are used to set model parameters)"
   ]
  },
  {
   "cell_type": "code",
   "execution_count": 6,
   "id": "d078a027-e9aa-4a20-b075-d41099101e29",
   "metadata": {},
   "outputs": [],
   "source": [
    "from cstar.base import AdditionalCode"
   ]
  },
  {
   "cell_type": "code",
   "execution_count": 7,
   "id": "8ab3bf2f-0066-457f-a484-697ab5b04637",
   "metadata": {},
   "outputs": [
    {
     "name": "stdout",
     "output_type": "stream",
     "text": [
      "AdditionalCode\n",
      "--------------\n",
      "Location: https://github.com/CWorthy-ocean/cstar_blueprint_roms_marbl_example.git\n",
      "subdirectory: additional_code/ROMS/namelists\n",
      "Working path: None\n",
      "Exists locally: False (get with AdditionalCode.get())\n",
      "Files:\n",
      "    roms.in_TEMPLATE      (roms.in will be used by C-Star based on this template)\n",
      "    marbl_in\n",
      "    marbl_tracer_output_list\n",
      "    marbl_diagnostic_output_list\n"
     ]
    }
   ],
   "source": [
    "roms_namelists = AdditionalCode(\n",
    "    location = \"https://github.com/CWorthy-ocean/cstar_blueprint_roms_marbl_example.git\",\n",
    "    subdir = \"additional_code/ROMS/namelists\",\n",
    "    checkout_target = \"a9762a46a36c09225423305a1aaa59bdeb984074\",\n",
    "    files = [\n",
    "        \"roms.in_TEMPLATE\",\n",
    "        \"marbl_in\",\n",
    "        \"marbl_tracer_output_list\",\n",
    "        \"marbl_diagnostic_output_list\"\n",
    "    ]\n",
    ")\n",
    "print(roms_namelists)"
   ]
  },
  {
   "cell_type": "code",
   "execution_count": 8,
   "id": "360fdd39-0012-4add-b2cb-73dee1c17511",
   "metadata": {},
   "outputs": [
    {
     "name": "stdout",
     "output_type": "stream",
     "text": [
      "AdditionalCode\n",
      "--------------\n",
      "Location: https://github.com/CWorthy-ocean/cstar_blueprint_roms_marbl_example.git\n",
      "subdirectory: additional_code/ROMS/source_mods\n",
      "Working path: None\n",
      "Exists locally: False (get with AdditionalCode.get())\n",
      "Files:\n",
      "    bgc.opt\n",
      "    bulk_frc.opt\n",
      "    cppdefs.opt\n",
      "    diagnostics.opt\n",
      "    ocean_vars.opt\n",
      "    param.opt\n",
      "    tracers.opt\n",
      "    Makefile\n",
      "    Make.depend\n"
     ]
    }
   ],
   "source": [
    "roms_additional_source_code = AdditionalCode(\n",
    "    location = \"https://github.com/CWorthy-ocean/cstar_blueprint_roms_marbl_example.git\",\n",
    "    subdir = \"additional_code/ROMS/source_mods\",\n",
    "    checkout_target = \"a9762a46a36c09225423305a1aaa59bdeb984074\",\n",
    "    files = [\n",
    "        \"bgc.opt\",\n",
    "         \"bulk_frc.opt\",\n",
    "         \"cppdefs.opt\",\n",
    "         \"diagnostics.opt\",\n",
    "         \"ocean_vars.opt\",\n",
    "         \"param.opt\",\n",
    "         \"tracers.opt\",\n",
    "         \"Makefile\",\n",
    "         \"Make.depend\",\n",
    "    ]\n",
    ")\n",
    "\n",
    "print(roms_additional_source_code)"
   ]
  },
  {
   "cell_type": "markdown",
   "id": "227cc322-0f4d-465f-855f-7729bd43236a",
   "metadata": {},
   "source": [
    "---\n",
    "\n",
    "Note that for `roms_namelists`, in the first entry under `files`, the namelist file we begin with is a template. C-Star recognises the `_TEMPLATE` suffix and works with a local copy (in this case `roms.in`) that it will modify and use to run ROMS with user choices such as run length)\n",
    "\n",
    "## Constructing the InputDataset objects\n",
    "To run this case, we need different types of input dataset, each with a specialized subclass of the `InputDataset` class:\n",
    "- a grid file supplying information about the domain to ROMS (`ROMSModelGrid`)\n",
    "- An initial condition file from which to start the run (`ROMSInitialConditions`)\n",
    "- boundary forcing files providing information at the edge of the domain (`ROMSBoundaryConditions`)\n",
    "- surface forcing files providing information at the upper boundary (`ROMSSurfaceForcing`)\n",
    "- tidal forcing files providing information on tidal constituents (`ROMSTidalForcing`)\n",
    "\n",
    "To construct an `InputDataset` object, we need (see `cstar.InputDataset?`):\n",
    "- a `location` : either a path or URL, pointing to this file.\n",
    "- a `file_hash` : as our location is a URL in this example, we also need a [SHA256 checksum](https://en.wikipedia.org/wiki/Checksum) to verify any downloads\n",
    "\n",
    "In our case, all the files associated with our `roms_marbl_example` case are small and [fit in a repository](https://github.com/CWorthy-ocean/input_datasets_roms_marbl_example). "
   ]
  },
  {
   "cell_type": "code",
   "execution_count": 9,
   "id": "4f20a4bc-28cb-46a5-9a29-0b33515be140",
   "metadata": {},
   "outputs": [],
   "source": [
    "from cstar.roms import ROMSModelGrid, ROMSInitialConditions, ROMSTidalForcing, ROMSBoundaryForcing, ROMSSurfaceForcing"
   ]
  },
  {
   "cell_type": "code",
   "execution_count": 10,
   "id": "02c2bf05-15a0-45b5-bd1e-16a0032b5b1e",
   "metadata": {},
   "outputs": [],
   "source": [
    "#Grid\n",
    "roms_model_grid = ROMSModelGrid(\n",
    "    location=\"https://github.com/CWorthy-ocean/input_datasets_roms_marbl_example/raw/main/roms_grd.nc\",\n",
    "    file_hash=\"fd537ef8159fabb18e38495ec8d44e2fa1b7fb615fcb1417dd4c0e1bb5f4e41d\",\n",
    ")\n",
    "# Initial conditions\n",
    "roms_initial_conditions = ROMSInitialConditions(\n",
    "    location=\"https://github.com/CWorthy-ocean/input_datasets_roms_marbl_example/raw/main/MARBL_rst.20120103120000.nc\",\n",
    "    file_hash=\"fc3bbd039256edc89c898efda0eebc5c53773995598d59310bc6d57f454a6ddd\",\n",
    ")\n",
    "# Tides\n",
    "roms_tidal_forcing = ROMSTidalForcing(\n",
    "    location=\"https://github.com/CWorthy-ocean/input_datasets_roms_marbl_example/raw/main/roms_tides.nc\",\n",
    "    file_hash=\"90db174ab174909f9bf27c13fa19995c03f680bcb80e7d012268505b48590338\",\n",
    ")\n",
    "# Boundary\n",
    "roms_phys_boundary_forcing = ROMSBoundaryForcing(\n",
    "    location=\"https://github.com/CWorthy-ocean/input_datasets_roms_marbl_example/raw/main/roms_bry_2012.nc\",\n",
    "    file_hash=\"c3b0e14aae6dd5a0d54703fa04cf95960c1970e732c0a230427bf8b0fbbd8bf1\",\n",
    ")\n",
    "roms_bgc_boundary_forcing = ROMSBoundaryForcing(\n",
    "    location = \"https://github.com/CWorthy-ocean/input_datasets_roms_marbl_example/raw/main/roms_bry_bgc_MARBL.nc\",\n",
    "    file_hash = \"897a8df8ed45841a98b3906f2dd07750decc5c2b50095ba648a855c869c7d3ee\",\n",
    ")\n",
    "# Surface\n",
    "roms_bgc_surface_forcing = ROMSSurfaceForcing(\n",
    "    location=\"https://github.com/CWorthy-ocean/input_datasets_roms_marbl_example/raw/main/roms_frc_bgc.nc\",\n",
    "    file_hash=\"621dd23691d87aa93c5cc582daf6c5f18333ed062ff934777d50b63346c3f84d\",\n",
    ")\n",
    "roms_phys_surface_forcing = ROMSSurfaceForcing(\n",
    "    location=\"https://github.com/CWorthy-ocean/input_datasets_roms_marbl_example/raw/main/roms_frc.201201.nc\",\n",
    "    file_hash=\"923049a9c2ab9ce77fa4a0211585e6848a12e87bf237e7aa310f693c3ac6abfa\",\n",
    ")\n"
   ]
  },
  {
   "cell_type": "markdown",
   "id": "fc2615c6-054b-46e4-9287-9bbd5fab5bd6",
   "metadata": {},
   "source": [
    "We can query each input dataset to get pertinent information about its state, e.g.:"
   ]
  },
  {
   "cell_type": "code",
   "execution_count": 11,
   "id": "680420f2-2105-4907-ae4a-3e78e11ed336",
   "metadata": {},
   "outputs": [
    {
     "name": "stdout",
     "output_type": "stream",
     "text": [
      "-------------------\n",
      "ROMSBoundaryForcing\n",
      "-------------------\n",
      "Source location: https://github.com/CWorthy-ocean/input_datasets_roms_marbl_example/raw/main/roms_bry_2012.nc\n",
      "file_hash: c3b0e14aae6dd5a0d54703fa04cf95960c1970e732c0a230427bf8b0fbbd8bf1\n",
      "Working path: None ( does not yet exist. Call InputDataset.get() )\n"
     ]
    }
   ],
   "source": [
    "print(roms_phys_boundary_forcing)"
   ]
  },
  {
   "cell_type": "markdown",
   "id": "694a5dca-6352-4658-ac2a-9371c4ba8989",
   "metadata": {},
   "source": [
    "## Constructing the Discretization object\n",
    "Lastly, we need to tell C-Star how we will be discretizing our components. MARBL piggybacks off the discretization of its host model, so we only need to create a `ROMSDiscretization` object. This contains:\n",
    "- the time step (`time_step` , in seconds)\n",
    "- the number of processors following x and y for running in parallel (`n_procs_x`, `n_procs_y`)"
   ]
  },
  {
   "cell_type": "code",
   "execution_count": 12,
   "id": "bd717504-7e5a-4217-8b0c-d689664f04a9",
   "metadata": {},
   "outputs": [
    {
     "name": "stdout",
     "output_type": "stream",
     "text": [
      "ROMSDiscretization\n",
      "------------------\n",
      "time_step: 360s\n",
      "n_procs_x: 3 (Number of x-direction processors)\n",
      "n_procs_y: 3 (Number of y-direction processors)\n"
     ]
    }
   ],
   "source": [
    "from cstar.roms import ROMSDiscretization\n",
    "\n",
    "roms_discretization = ROMSDiscretization(time_step = 360,\n",
    "                                         n_procs_x = 3,\n",
    "                                         n_procs_y = 3)\n",
    "print(roms_discretization)"
   ]
  },
  {
   "cell_type": "markdown",
   "id": "d7d9714b-3a41-426c-8466-c20ffad7de9e",
   "metadata": {},
   "source": [
    "## Putting it all together to build ROMS and MARBL components:\n",
    "We now have everything we need to create the `MARBLComponent` and `ROMSComponent` objects that come together to make our Case."
   ]
  },
  {
   "cell_type": "code",
   "execution_count": 13,
   "id": "30955e95-7c36-4d0d-a2a4-fc30ef1fc91e",
   "metadata": {},
   "outputs": [],
   "source": [
    "from cstar.roms import ROMSComponent\n",
    "from cstar.marbl import MARBLComponent"
   ]
  },
  {
   "cell_type": "markdown",
   "id": "f8dc86a0-20a6-42a0-ae7b-1cb97afba110",
   "metadata": {},
   "source": [
    "### MARBL:"
   ]
  },
  {
   "cell_type": "code",
   "execution_count": 14,
   "id": "b3f01b55-9a80-4b18-a74b-59ffea7f2758",
   "metadata": {},
   "outputs": [
    {
     "name": "stdout",
     "output_type": "stream",
     "text": [
      "MARBLComponent\n",
      "--------------\n",
      "base_model: MARBLBaseModel instance (query using Component.base_model)\n"
     ]
    }
   ],
   "source": [
    "marbl_component = MARBLComponent(\n",
    "    base_model = marbl_base_model\n",
    ")\n",
    "print(marbl_component)"
   ]
  },
  {
   "cell_type": "markdown",
   "id": "c33e0ed5-3209-47ab-a866-66e9ee5e098d",
   "metadata": {},
   "source": [
    "### ROMS\n",
    "a ROMSComponent object (see `cstar.ROMSComponent?`) is a little more involved, not just because there are more objects going into it. Because we will be running this ROMS simulation in parallel, we should also supply information about how to distribute the domain among CPUs:"
   ]
  },
  {
   "cell_type": "code",
   "execution_count": 15,
   "id": "1533dbbf-593b-452d-9d72-120c4eb65a2d",
   "metadata": {},
   "outputs": [
    {
     "name": "stdout",
     "output_type": "stream",
     "text": [
      "ROMSComponent\n",
      "-------------\n",
      "base_model: ROMSBaseModel instance (query using Component.base_model)\n",
      "additional_source_code: AdditionalCode instance with 9 files (query using Component.additional_source_code)\n",
      "namelists: AdditionalCode instance with 4 files (query using Component.namelists)\n",
      "model_grid = <ROMSModelGrid instance>\n",
      "initial_conditions = <ROMSInitialConditions instance>\n",
      "tidal_forcing = <ROMSTidalForcing instance>\n",
      "surface_forcing = <list of 2 ROMSSurfaceForcing instances>\n",
      "boundary_forcing = <list of 2 ROMSBoundaryForcing instances>\n",
      "\n",
      "Discretization:\n",
      "ROMSDiscretization\n",
      "------------------\n",
      "time_step: 360s\n",
      "n_procs_x: 3 (Number of x-direction processors)\n",
      "n_procs_y: 3 (Number of y-direction processors)\n"
     ]
    }
   ],
   "source": [
    "roms_component = ROMSComponent(\n",
    "    base_model = roms_base_model,\n",
    "    namelists = roms_namelists,\n",
    "    additional_source_code = roms_additional_source_code,\n",
    "    discretization = roms_discretization,\n",
    "    model_grid = roms_model_grid,\n",
    "    initial_conditions = roms_initial_conditions,\n",
    "    tidal_forcing = roms_tidal_forcing,\n",
    "    boundary_forcing = [roms_phys_boundary_forcing,roms_bgc_boundary_forcing],\n",
    "    surface_forcing = [roms_phys_surface_forcing, roms_bgc_surface_forcing]\n",
    ")\n",
    "print(roms_component)"
   ]
  },
  {
   "cell_type": "markdown",
   "id": "0df5c20f-7851-4ea0-845c-4e3c3fa29f5b",
   "metadata": {},
   "source": [
    "## And finally, we can build the Case object:\n",
    "This is instantiated using a list of components, a name string, and a \"caseroot\" - the local path where the case will be run. Additionally we choose a start date and end date for the run. The values below run the case for one model month, which may take several minutes to run (depending on your machine). **If you'd like to run the case more quickly**, modify `end_date` below:"
   ]
  },
  {
   "cell_type": "code",
   "execution_count": 16,
   "id": "def7ac3e-3de8-4ca9-806d-b5ac385a437c",
   "metadata": {},
   "outputs": [],
   "source": [
    "from cstar import Case"
   ]
  },
  {
   "cell_type": "code",
   "execution_count": 17,
   "id": "1a32ad6f-8701-416f-ae50-598f7650cf5e",
   "metadata": {},
   "outputs": [
    {
     "name": "stdout",
     "output_type": "stream",
     "text": [
      "C-Star Case\n",
      "-----------\n",
      "Name: roms_marbl_example_cstar_case\n",
      "caseroot: /Users/dafyddstephenson/Code/my_c_star/examples/roms_marbl_example_cstar_case\n",
      "start_date: 2012-01-03 12:00:00\n",
      "end_date: 2012-01-31 12:00:00\n",
      "Is setup: False\n",
      "Valid date range:\n",
      "valid_start_date: None\n",
      "valid_end_date: None\n",
      "\n",
      "It is built from the following Components (query using Case.components): \n",
      "   <ROMSComponent instance>\n",
      "   <MARBLComponent instance>\n"
     ]
    },
    {
     "name": "stderr",
     "output_type": "stream",
     "text": [
      "/Users/dafyddstephenson/Code/my_c_star/cstar/case.py:103: RuntimeWarning: Valid start date not provided. Unable to check if simulation dates are out of range. Case objects should be initialized with valid_start_date and valid_end_date attributes.\n",
      "  warnings.warn(\n",
      "/Users/dafyddstephenson/Code/my_c_star/cstar/case.py:119: RuntimeWarning: Valid end date not provided. Unable to check if simulation dates are out of range. Case objects should be initialized with valid_start_date and valid_end_date attributes.\n",
      "  warnings.warn(\n"
     ]
    }
   ],
   "source": [
    "roms_marbl_case = Case(\n",
    "    components=[roms_component, marbl_component],\n",
    "    name='roms_marbl_example_cstar_case',\n",
    "    caseroot=os.getcwd() + '/roms_marbl_example_cstar_case',\n",
    "    start_date='20120103 12:00:00',\n",
    "    end_date='20120131 12:00:00',\n",
    ")\n",
    "print(roms_marbl_case)"
   ]
  },
  {
   "cell_type": "markdown",
   "id": "907a3317-154f-4da3-9854-e428291dc7db",
   "metadata": {},
   "source": [
    "## Visualizing the Case:\n",
    "We can see how the caseroot directory will look once the case is set up using `Case.tree()`:"
   ]
  },
  {
   "cell_type": "code",
   "execution_count": 18,
   "id": "80f5664b-2403-4582-88a1-a85c3bb4a369",
   "metadata": {},
   "outputs": [
    {
     "name": "stdout",
     "output_type": "stream",
     "text": [
      "/Users/dafyddstephenson/Code/my_c_star/examples/roms_marbl_example_cstar_case\n",
      "├── input_datasets\n",
      "│   └── ROMS\n",
      "│       ├── roms_grd.nc\n",
      "│       ├── MARBL_rst.20120103120000.nc\n",
      "│       ├── roms_tides.nc\n",
      "│       ├── roms_bry_2012.nc\n",
      "│       ├── roms_bry_bgc_MARBL.nc\n",
      "│       ├── roms_frc.201201.nc\n",
      "│       └── roms_frc_bgc.nc\n",
      "├── namelists\n",
      "│   └── ROMS\n",
      "│       ├── roms.in_TEMPLATE\n",
      "│       ├── marbl_in\n",
      "│       ├── marbl_tracer_output_list\n",
      "│       └── marbl_diagnostic_output_list\n",
      "└── additional_source_code\n",
      "    └── ROMS\n",
      "        ├── bgc.opt\n",
      "        ├── bulk_frc.opt\n",
      "        ├── cppdefs.opt\n",
      "        ├── diagnostics.opt\n",
      "        ├── ocean_vars.opt\n",
      "        ├── param.opt\n",
      "        ├── tracers.opt\n",
      "        ├── Makefile\n",
      "        └── Make.depend\n",
      "\n"
     ]
    }
   ],
   "source": [
    "roms_marbl_case.tree()"
   ]
  },
  {
   "cell_type": "markdown",
   "id": "811610f6-c589-484f-abbc-afa764f37ba1",
   "metadata": {},
   "source": [
    "## Setting the Case up\n",
    "We can see from querying the `roms_marbl_case` object above (`Is setup: False`) that the case has not yet been set up locally. \n",
    "\n",
    "To set the case up, we run `roms_marbl_case.setup()`, which performs a series of actions:\n",
    "- check the base model has been installed and, if not, ask the user if they would like to:\n",
    "  - download ROMS and compile its dependencies\n",
    "  - download and compile MARBL\n",
    "- retrieve any additional code using `AdditionalCode.get()`\n",
    "- retrieve any input datasets using `InputDataset.get()`\n",
    "\n",
    "When the base models are installed, a file `cstar_local_config.py` will be created (or appended to) defining the user's environment such that these base models are available on your machine next time you import C-Star."
   ]
  },
  {
   "cell_type": "code",
   "execution_count": 19,
   "id": "8074ca7c-e795-468a-8c2f-784837a24dfc",
   "metadata": {
    "scrolled": true
   },
   "outputs": [
    {
     "name": "stdout",
     "output_type": "stream",
     "text": [
      "\n",
      "Setting up ROMSComponent\n",
      "-------------------------\n",
      "Configuring ROMSComponent\n",
      "-------------------------\n",
      "ROMSBaseModel correctly configured. Nothing to be done\n",
      "\n",
      "Fetching additional source code...\n",
      "----------------------------------\n",
      "Cloned repository https://github.com/CWorthy-ocean/cstar_blueprint_roms_marbl_example.git to /var/folders/1s/xjsjyqrj2rdft8014664qczc0000gn/T/tmpjqpchuel\n",
      "Checked out a9762a46a36c09225423305a1aaa59bdeb984074 in git repository /var/folders/1s/xjsjyqrj2rdft8014664qczc0000gn/T/tmpjqpchuel\n",
      "copying bgc.opt to /Users/dafyddstephenson/Code/my_c_star/examples/roms_marbl_example_cstar_case/additional_source_code/ROMS\n",
      "copying bulk_frc.opt to /Users/dafyddstephenson/Code/my_c_star/examples/roms_marbl_example_cstar_case/additional_source_code/ROMS\n",
      "copying cppdefs.opt to /Users/dafyddstephenson/Code/my_c_star/examples/roms_marbl_example_cstar_case/additional_source_code/ROMS\n",
      "copying diagnostics.opt to /Users/dafyddstephenson/Code/my_c_star/examples/roms_marbl_example_cstar_case/additional_source_code/ROMS\n",
      "copying ocean_vars.opt to /Users/dafyddstephenson/Code/my_c_star/examples/roms_marbl_example_cstar_case/additional_source_code/ROMS\n",
      "copying param.opt to /Users/dafyddstephenson/Code/my_c_star/examples/roms_marbl_example_cstar_case/additional_source_code/ROMS\n",
      "copying tracers.opt to /Users/dafyddstephenson/Code/my_c_star/examples/roms_marbl_example_cstar_case/additional_source_code/ROMS\n",
      "copying Makefile to /Users/dafyddstephenson/Code/my_c_star/examples/roms_marbl_example_cstar_case/additional_source_code/ROMS\n",
      "copying Make.depend to /Users/dafyddstephenson/Code/my_c_star/examples/roms_marbl_example_cstar_case/additional_source_code/ROMS\n",
      "\n",
      "Fetching namelists... \n",
      "----------------------\n"
     ]
    },
    {
     "name": "stderr",
     "output_type": "stream",
     "text": [
      "Downloading file 'roms_grd.nc' from 'https://github.com/CWorthy-ocean/input_datasets_roms_marbl_example/raw/main/roms_grd.nc' to '/Users/dafyddstephenson/Code/my_c_star/examples/roms_marbl_example_cstar_case/input_datasets/ROMS'.\n"
     ]
    },
    {
     "name": "stdout",
     "output_type": "stream",
     "text": [
      "Cloned repository https://github.com/CWorthy-ocean/cstar_blueprint_roms_marbl_example.git to /var/folders/1s/xjsjyqrj2rdft8014664qczc0000gn/T/tmpu244_sq0\n",
      "Checked out a9762a46a36c09225423305a1aaa59bdeb984074 in git repository /var/folders/1s/xjsjyqrj2rdft8014664qczc0000gn/T/tmpu244_sq0\n",
      "copying roms.in_TEMPLATE to /Users/dafyddstephenson/Code/my_c_star/examples/roms_marbl_example_cstar_case/namelists/ROMS\n",
      "copying template file /Users/dafyddstephenson/Code/my_c_star/examples/roms_marbl_example_cstar_case/namelists/ROMS/roms.in_TEMPLATE to editable version /Users/dafyddstephenson/Code/my_c_star/examples/roms_marbl_example_cstar_case/namelists/ROMS/roms.in\n",
      "copying marbl_in to /Users/dafyddstephenson/Code/my_c_star/examples/roms_marbl_example_cstar_case/namelists/ROMS\n",
      "copying marbl_tracer_output_list to /Users/dafyddstephenson/Code/my_c_star/examples/roms_marbl_example_cstar_case/namelists/ROMS\n",
      "copying marbl_diagnostic_output_list to /Users/dafyddstephenson/Code/my_c_star/examples/roms_marbl_example_cstar_case/namelists/ROMS\n",
      "\n",
      "Fetching input datasets...\n",
      "--------------------------\n"
     ]
    },
    {
     "name": "stderr",
     "output_type": "stream",
     "text": [
      "Downloading file 'MARBL_rst.20120103120000.nc' from 'https://github.com/CWorthy-ocean/input_datasets_roms_marbl_example/raw/main/MARBL_rst.20120103120000.nc' to '/Users/dafyddstephenson/Code/my_c_star/examples/roms_marbl_example_cstar_case/input_datasets/ROMS'.\n",
      "Downloading file 'roms_tides.nc' from 'https://github.com/CWorthy-ocean/input_datasets_roms_marbl_example/raw/main/roms_tides.nc' to '/Users/dafyddstephenson/Code/my_c_star/examples/roms_marbl_example_cstar_case/input_datasets/ROMS'.\n",
      "Downloading file 'roms_bry_2012.nc' from 'https://github.com/CWorthy-ocean/input_datasets_roms_marbl_example/raw/main/roms_bry_2012.nc' to '/Users/dafyddstephenson/Code/my_c_star/examples/roms_marbl_example_cstar_case/input_datasets/ROMS'.\n",
      "Downloading file 'roms_bry_bgc_MARBL.nc' from 'https://github.com/CWorthy-ocean/input_datasets_roms_marbl_example/raw/main/roms_bry_bgc_MARBL.nc' to '/Users/dafyddstephenson/Code/my_c_star/examples/roms_marbl_example_cstar_case/input_datasets/ROMS'.\n",
      "Downloading file 'roms_frc.201201.nc' from 'https://github.com/CWorthy-ocean/input_datasets_roms_marbl_example/raw/main/roms_frc.201201.nc' to '/Users/dafyddstephenson/Code/my_c_star/examples/roms_marbl_example_cstar_case/input_datasets/ROMS'.\n",
      "Downloading file 'roms_frc_bgc.nc' from 'https://github.com/CWorthy-ocean/input_datasets_roms_marbl_example/raw/main/roms_frc_bgc.nc' to '/Users/dafyddstephenson/Code/my_c_star/examples/roms_marbl_example_cstar_case/input_datasets/ROMS'.\n"
     ]
    },
    {
     "name": "stdout",
     "output_type": "stream",
     "text": [
      "\n",
      "Setting up MARBLComponent\n",
      "--------------------------\n",
      "Configuring MARBLComponent\n",
      "--------------------------\n",
      "MARBLBaseModel correctly configured. Nothing to be done\n"
     ]
    }
   ],
   "source": [
    "roms_marbl_case.setup()"
   ]
  },
  {
   "cell_type": "markdown",
   "id": "a3129ac9-3d6b-4742-9ee7-86e5deec12f8",
   "metadata": {},
   "source": [
    "## Saving the Case to a YAML file\n",
    "We can save all the information associated with this case to a YAML file using `Case.persist(filename)`\n",
    "If we want to run this exact Case again, we can use the `Case.from_blueprint(filename)` method:"
   ]
  },
  {
   "cell_type": "code",
   "execution_count": 20,
   "id": "868f69f3-9f34-4105-942d-1926c15f96e5",
   "metadata": {},
   "outputs": [],
   "source": [
    "roms_marbl_case.persist(roms_marbl_case.caseroot / 'roms_marbl_case.yaml')"
   ]
  },
  {
   "cell_type": "code",
   "execution_count": 21,
   "id": "4af4a516-aeae-4a4f-90bc-bf2bf62f584e",
   "metadata": {},
   "outputs": [
    {
     "name": "stdout",
     "output_type": "stream",
     "text": [
      "registry_attrs:\n",
      "  name: roms_marbl_example_cstar_case\n",
      "components:\n",
      "- component:\n",
      "    component_type: ROMS\n",
      "    base_model:\n",
      "      source_repo: https://github.com/CESR-lab/ucla-roms.git\n",
      "      checkout_target: 246c11fa537145ba5868f2256dfb4964aeb09a25\n",
      "    additional_source_code:\n",
      "      location: https://github.com/CWorthy-ocean/cstar_blueprint_roms_marbl_example.git\n",
      "      subdir: additional_code/ROMS/source_mods\n",
      "      checkout_target: a9762a46a36c09225423305a1aaa59bdeb984074\n",
      "      files:\n",
      "      - bgc.opt\n",
      "      - bulk_frc.opt\n",
      "      - cppdefs.opt\n",
      "      - diagnostics.opt\n",
      "      - ocean_vars.opt\n",
      "      - param.opt\n",
      "      - tracers.opt\n",
      "      - Makefile\n",
      "      - Make.depend\n",
      "    namelists:\n",
      "      location: https://github.com/CWorthy-ocean/cstar_blueprint_roms_marbl_example.git\n",
      "      subdir: additional_code/ROMS/namelists\n",
      "      checkout_target: a9762a46a36c09225423305a1aaa59bdeb984074\n",
      "      files:\n",
      "      - roms.in_TEMPLATE\n",
      "      - marbl_in\n",
      "      - marbl_tracer_output_list\n",
      "      - marbl_diagnostic_output_list\n",
      "    discretization:\n",
      "      time_step: 360\n",
      "      n_procs_x: 3\n",
      "      n_procs_y: 3\n",
      "    model_grid:\n",
      "      location: https://github.com/CWorthy-ocean/input_datasets_roms_marbl_example/raw/main/roms_grd.nc\n",
      "      file_hash: fd537ef8159fabb18e38495ec8d44e2fa1b7fb615fcb1417dd4c0e1bb5f4e41d\n",
      "    initial_conditions:\n",
      "      location: https://github.com/CWorthy-ocean/input_datasets_roms_marbl_example/raw/main/MARBL_rst.20120103120000.nc\n",
      "      file_hash: fc3bbd039256edc89c898efda0eebc5c53773995598d59310bc6d57f454a6ddd\n",
      "    tidal_forcing:\n",
      "      location: https://github.com/CWorthy-ocean/input_datasets_roms_marbl_example/raw/main/roms_tides.nc\n",
      "      file_hash: 90db174ab174909f9bf27c13fa19995c03f680bcb80e7d012268505b48590338\n",
      "    surface_forcing:\n",
      "    - location: https://github.com/CWorthy-ocean/input_datasets_roms_marbl_example/raw/main/roms_frc.201201.nc\n",
      "      file_hash: 923049a9c2ab9ce77fa4a0211585e6848a12e87bf237e7aa310f693c3ac6abfa\n",
      "    - location: https://github.com/CWorthy-ocean/input_datasets_roms_marbl_example/raw/main/roms_frc_bgc.nc\n",
      "      file_hash: 621dd23691d87aa93c5cc582daf6c5f18333ed062ff934777d50b63346c3f84d\n",
      "    boundary_forcing:\n",
      "    - location: https://github.com/CWorthy-ocean/input_datasets_roms_marbl_example/raw/main/roms_bry_2012.nc\n",
      "      file_hash: c3b0e14aae6dd5a0d54703fa04cf95960c1970e732c0a230427bf8b0fbbd8bf1\n",
      "    - location: https://github.com/CWorthy-ocean/input_datasets_roms_marbl_example/raw/main/roms_bry_bgc_MARBL.nc\n",
      "      file_hash: 897a8df8ed45841a98b3906f2dd07750decc5c2b50095ba648a855c869c7d3ee\n",
      "- component:\n",
      "    component_type: MARBL\n",
      "    base_model:\n",
      "      source_repo: https://github.com/marbl-ecosys/MARBL.git\n",
      "      checkout_target: marbl0.45.0\n",
      "\n"
     ]
    }
   ],
   "source": [
    "print((roms_marbl_case.caseroot/\"roms_marbl_case.yaml\").read_text())"
   ]
  },
  {
   "cell_type": "markdown",
   "id": "e3f43799-dddf-4cc1-9a6e-1703a0bf65d1",
   "metadata": {},
   "source": [
    "## Compiling the Case\n",
    "Now we have all of the necessary code and data to run the case, we can compile it using `roms_marbl_case.build()`"
   ]
  },
  {
   "cell_type": "code",
   "execution_count": 22,
   "id": "a6149e10-bcd2-4138-aa9a-9ead141336a4",
   "metadata": {
    "scrolled": true
   },
   "outputs": [
    {
     "name": "stdout",
     "output_type": "stream",
     "text": [
      "\n",
      "Compiling ROMSComponent\n",
      "------------------------\n",
      "Compiling UCLA-ROMS configuration...\n",
      "UCLA-ROMS compiled at /Users/dafyddstephenson/Code/my_c_star/examples/roms_marbl_example_cstar_case/additional_source_code/ROMS\n",
      "\n",
      "Compiling MARBLComponent\n",
      "-------------------------\n",
      "No build steps to be completed for MARBLComponent\n"
     ]
    }
   ],
   "source": [
    "roms_marbl_case.build()"
   ]
  },
  {
   "cell_type": "markdown",
   "id": "5359c0d4-2df7-4e9b-8c79-e8697ab4a8e8",
   "metadata": {},
   "source": [
    "## Running the Case\n",
    "There are three stages to this:\n",
    "- `roms_marbl_case.pre_run()` performs pre-processing steps such as partitioning input datasets and modifying namelists to set runtime parameters used by the model (such as the time step)\n",
    "- `roms_marbl_case.run()` calls the executable that we created with `roms_marbl_case.build()`\n",
    "- `roms_marbl_case.post_run()` performs post-processing steps such as joining output datasets (which are output in tiles, one per processor)"
   ]
  },
  {
   "cell_type": "code",
   "execution_count": 23,
   "id": "7f180c3c-58b7-43ca-a87e-7e5f2fe8b243",
   "metadata": {
    "scrolled": true
   },
   "outputs": [
    {
     "name": "stdout",
     "output_type": "stream",
     "text": [
      "\n",
      "Completing pre-processing steps for ROMSComponent\n",
      "--------------------------------------------------\n",
      "Partitioning /Users/dafyddstephenson/Code/my_c_star/examples/roms_marbl_example_cstar_case/input_datasets/ROMS/roms_grd.nc into (3,3)\n",
      "Partitioning /Users/dafyddstephenson/Code/my_c_star/examples/roms_marbl_example_cstar_case/input_datasets/ROMS/MARBL_rst.20120103120000.nc into (3,3)\n",
      "Partitioning /Users/dafyddstephenson/Code/my_c_star/examples/roms_marbl_example_cstar_case/input_datasets/ROMS/roms_tides.nc into (3,3)\n",
      "Partitioning /Users/dafyddstephenson/Code/my_c_star/examples/roms_marbl_example_cstar_case/input_datasets/ROMS/roms_bry_2012.nc into (3,3)\n",
      "Partitioning /Users/dafyddstephenson/Code/my_c_star/examples/roms_marbl_example_cstar_case/input_datasets/ROMS/roms_bry_bgc_MARBL.nc into (3,3)\n",
      "Partitioning /Users/dafyddstephenson/Code/my_c_star/examples/roms_marbl_example_cstar_case/input_datasets/ROMS/roms_frc.201201.nc into (3,3)\n",
      "Partitioning /Users/dafyddstephenson/Code/my_c_star/examples/roms_marbl_example_cstar_case/input_datasets/ROMS/roms_frc_bgc.nc into (3,3)\n",
      "\n",
      "Completing pre-processing steps for MARBLComponent\n",
      "---------------------------------------------------\n",
      "No pre-processing steps to be completed for MARBLComponent\n"
     ]
    }
   ],
   "source": [
    "roms_marbl_case.pre_run()\n"
   ]
  },
  {
   "cell_type": "code",
   "execution_count": 24,
   "id": "93e65e2d-e016-494c-9c20-f828f8063ae9",
   "metadata": {
    "scrolled": true
   },
   "outputs": [
    {
     "name": "stdout",
     "output_type": "stream",
     "text": [
      "\n",
      "Running ROMS: \n",
      "------------\n",
      "Running ROMS: Initializing run...\n",
      "Running ROMS: time-step 135 of 6720 (16.3s elapsed; ETA 794.8s)\n",
      "Running ROMS: time-step 270 of 6720 (32.6s elapsed; ETA 779.9s)\n",
      "Running ROMS: time-step 405 of 6720 (49.0s elapsed; ETA 764.8s)\n",
      "Running ROMS: time-step 540 of 6720 (65.6s elapsed; ETA 750.2s)\n",
      "Running ROMS: time-step 675 of 6720 (81.9s elapsed; ETA 733.8s)\n",
      "Running ROMS: time-step 810 of 6720 (98.3s elapsed; ETA 717.4s)\n",
      "Running ROMS: time-step 945 of 6720 (114.6s elapsed; ETA 700.3s)\n",
      "Running ROMS: time-step 1080 of 6720 (131.2s elapsed; ETA 685.1s)\n",
      "Running ROMS: time-step 1215 of 6720 (147.5s elapsed; ETA 668.4s)\n",
      "Running ROMS: time-step 1350 of 6720 (163.9s elapsed; ETA 652.0s)\n",
      "Running ROMS: time-step 1485 of 6720 (180.3s elapsed; ETA 635.7s)\n",
      "Running ROMS: time-step 1620 of 6720 (196.8s elapsed; ETA 619.6s)\n",
      "Running ROMS: time-step 1755 of 6720 (213.2s elapsed; ETA 603.1s)\n",
      "Running ROMS: time-step 1890 of 6720 (229.7s elapsed; ETA 587.1s)\n",
      "Running ROMS: time-step 2025 of 6720 (246.3s elapsed; ETA 571.0s)\n",
      "Running ROMS: time-step 2160 of 6720 (263.0s elapsed; ETA 555.2s)\n",
      "Running ROMS: time-step 2295 of 6720 (279.5s elapsed; ETA 538.9s)\n",
      "Running ROMS: time-step 2430 of 6720 (296.0s elapsed; ETA 522.5s)\n",
      "Running ROMS: time-step 2565 of 6720 (312.6s elapsed; ETA 506.3s)\n",
      "Running ROMS: time-step 2700 of 6720 (329.1s elapsed; ETA 490.0s)\n",
      "Running ROMS: time-step 2835 of 6720 (345.5s elapsed; ETA 473.5s)\n",
      "Running ROMS: time-step 2970 of 6720 (362.0s elapsed; ETA 457.1s)\n",
      "Running ROMS: time-step 3105 of 6720 (378.4s elapsed; ETA 440.5s)\n",
      "Running ROMS: time-step 3240 of 6720 (395.1s elapsed; ETA 424.4s)\n",
      "Running ROMS: time-step 3375 of 6720 (411.5s elapsed; ETA 407.9s)\n",
      "Running ROMS: time-step 3510 of 6720 (428.1s elapsed; ETA 391.5s)\n",
      "Running ROMS: time-step 3645 of 6720 (444.6s elapsed; ETA 375.1s)\n",
      "Running ROMS: time-step 3780 of 6720 (461.1s elapsed; ETA 358.6s)\n",
      "Running ROMS: time-step 3915 of 6720 (477.6s elapsed; ETA 342.2s)\n",
      "Running ROMS: time-step 4050 of 6720 (494.1s elapsed; ETA 325.7s)\n",
      "Running ROMS: time-step 4185 of 6720 (510.6s elapsed; ETA 309.3s)\n",
      "Running ROMS: time-step 4320 of 6720 (527.5s elapsed; ETA 293.0s)\n",
      "Running ROMS: time-step 4455 of 6720 (543.9s elapsed; ETA 276.5s)\n",
      "Running ROMS: time-step 4590 of 6720 (560.4s elapsed; ETA 260.0s)\n",
      "Running ROMS: time-step 4725 of 6720 (576.8s elapsed; ETA 243.5s)\n",
      "Running ROMS: time-step 4860 of 6720 (593.5s elapsed; ETA 227.1s)\n",
      "Running ROMS: time-step 4995 of 6720 (610.0s elapsed; ETA 210.7s)\n",
      "Running ROMS: time-step 5130 of 6720 (626.5s elapsed; ETA 194.2s)\n",
      "Running ROMS: time-step 5265 of 6720 (643.1s elapsed; ETA 177.7s)\n",
      "Running ROMS: time-step 5400 of 6720 (659.9s elapsed; ETA 161.3s)\n",
      "Running ROMS: time-step 5535 of 6720 (676.4s elapsed; ETA 144.8s)\n",
      "Running ROMS: time-step 5670 of 6720 (692.9s elapsed; ETA 128.3s)\n",
      "Running ROMS: time-step 5805 of 6720 (709.4s elapsed; ETA 111.8s)\n",
      "Running ROMS: time-step 5940 of 6720 (726.0s elapsed; ETA 95.3s)\n",
      "Running ROMS: time-step 6075 of 6720 (742.5s elapsed; ETA 78.8s)\n",
      "Running ROMS: time-step 6210 of 6720 (759.0s elapsed; ETA 62.3s)\n",
      "Running ROMS: time-step 6345 of 6720 (775.6s elapsed; ETA 45.8s)\n",
      "Running ROMS: time-step 6480 of 6720 (792.4s elapsed; ETA 29.3s)\n",
      "Running ROMS: time-step 6615 of 6720 (809.0s elapsed; ETA 12.8s)\n"
     ]
    }
   ],
   "source": [
    "roms_marbl_case.run()"
   ]
  },
  {
   "cell_type": "code",
   "execution_count": 25,
   "id": "c2ed7080-53cb-404b-abb4-60707260678e",
   "metadata": {
    "scrolled": true
   },
   "outputs": [
    {
     "name": "stdout",
     "output_type": "stream",
     "text": [
      "\n",
      "Completing post-processing steps for ROMSComponent\n",
      "---------------------------------------------------\n",
      "Joining netCDF files ROMS_MARBL_rst.20120117120000.*.nc...\n",
      "Joining netCDF files ROMS_MARBL_rst.20120120120000.*.nc...\n",
      "Joining netCDF files ROMS_MARBL_his.20120105120000.*.nc...\n",
      "Joining netCDF files ROMS_MARBL_his.20120119120000.*.nc...\n",
      "Joining netCDF files ROMS_MARBL_his.20120108120000.*.nc...\n",
      "Joining netCDF files ROMS_MARBL_his.20120114120000.*.nc...\n",
      "Joining netCDF files ROMS_MARBL_his.20120123120000.*.nc...\n",
      "Joining netCDF files ROMS_MARBL_rst.20120131120000.*.nc...\n",
      "Joining netCDF files ROMS_MARBL_rst.20120106120000.*.nc...\n",
      "Joining netCDF files ROMS_MARBL_rst.20120128120000.*.nc...\n",
      "Joining netCDF files ROMS_MARBL_his.20120126120000.*.nc...\n",
      "Joining netCDF files ROMS_MARBL_his.20120111120000.*.nc...\n",
      "Joining netCDF files ROMS_MARBL_rst.20120125120000.*.nc...\n",
      "Joining netCDF files ROMS_MARBL_rst.20120112120000.*.nc...\n",
      "Joining netCDF files ROMS_MARBL_rst.20120109120000.*.nc...\n",
      "Joining netCDF files ROMS_MARBL_rst.20120122120000.*.nc...\n",
      "Joining netCDF files ROMS_MARBL_rst.20120115120000.*.nc...\n",
      "Joining netCDF files ROMS_MARBL_his.20120107120000.*.nc...\n",
      "Joining netCDF files ROMS_MARBL_his.20120130120000.*.nc...\n",
      "Joining netCDF files ROMS_MARBL_his.20120121120000.*.nc...\n",
      "Joining netCDF files ROMS_MARBL_his.20120116120000.*.nc...\n",
      "Joining netCDF files ROMS_MARBL_rst.20120104120000.*.nc...\n",
      "Joining netCDF files ROMS_MARBL_rst.20120118120000.*.nc...\n",
      "Joining netCDF files ROMS_MARBL_his.20120113120000.*.nc...\n",
      "Joining netCDF files ROMS_MARBL_his.20120124120000.*.nc...\n",
      "Joining netCDF files ROMS_MARBL_his.20120129120000.*.nc...\n",
      "Joining netCDF files ROMS_MARBL_rst.20120110120000.*.nc...\n",
      "Joining netCDF files ROMS_MARBL_rst.20120127120000.*.nc...\n",
      "Joining netCDF files ROMS_MARBL_rst.20120129120000.*.nc...\n",
      "Joining netCDF files ROMS_MARBL_his.20120127120000.*.nc...\n",
      "Joining netCDF files ROMS_MARBL_his.20120110120000.*.nc...\n",
      "Joining netCDF files ROMS_MARBL_rst.20120124120000.*.nc...\n",
      "Joining netCDF files ROMS_MARBL_rst.20120113120000.*.nc...\n",
      "Joining netCDF files ROMS_MARBL_his.20120104120000.*.nc...\n",
      "Joining netCDF files ROMS_MARBL_rst.20120116120000.*.nc...\n",
      "Joining netCDF files ROMS_MARBL_rst.20120121120000.*.nc...\n",
      "Joining netCDF files ROMS_MARBL_his.20120118120000.*.nc...\n",
      "Joining netCDF files ROMS_MARBL_bgc.20120103120000.*.nc...\n",
      "Joining netCDF files ROMS_MARBL_his.20120109120000.*.nc...\n",
      "Joining netCDF files ROMS_MARBL_rst.20120130120000.*.nc...\n",
      "Joining netCDF files ROMS_MARBL_rst.20120107120000.*.nc...\n",
      "Joining netCDF files ROMS_MARBL_his.20120115120000.*.nc...\n",
      "Joining netCDF files ROMS_MARBL_his.20120122120000.*.nc...\n",
      "Joining netCDF files ROMS_MARBL_his.20120112120000.*.nc...\n",
      "Joining netCDF files ROMS_MARBL_his.20120125120000.*.nc...\n",
      "Joining netCDF files ROMS_MARBL_his.20120128120000.*.nc...\n",
      "Joining netCDF files ROMS_MARBL_rst.20120111120000.*.nc...\n",
      "Joining netCDF files ROMS_MARBL_rst.20120126120000.*.nc...\n",
      "Joining netCDF files ROMS_MARBL_his.20120103120000.*.nc...\n",
      "Joining netCDF files ROMS_MARBL_rst.20120108120000.*.nc...\n",
      "Joining netCDF files ROMS_MARBL_his.20120106120000.*.nc...\n",
      "Joining netCDF files ROMS_MARBL_his.20120131120000.*.nc...\n",
      "Joining netCDF files ROMS_MARBL_rst.20120123120000.*.nc...\n",
      "Joining netCDF files ROMS_MARBL_rst.20120114120000.*.nc...\n",
      "Joining netCDF files ROMS_MARBL_bgc_dia.20120103120000.*.nc...\n",
      "Joining netCDF files ROMS_MARBL_rst.20120105120000.*.nc...\n",
      "Joining netCDF files ROMS_MARBL_his.20120120120000.*.nc...\n",
      "Joining netCDF files ROMS_MARBL_his.20120117120000.*.nc...\n",
      "Joining netCDF files ROMS_MARBL_rst.20120119120000.*.nc...\n"
     ]
    }
   ],
   "source": [
    "roms_marbl_case.post_run()\n"
   ]
  },
  {
   "cell_type": "markdown",
   "id": "11ec3479-f025-4d90-8687-a6bd5c436476",
   "metadata": {},
   "source": [
    "## A quick look at the output\n",
    "The output of the case consists of 4 file types:\n",
    "- `ROMS_MARBL_bgc.20120103120000.nc` contains the 32 BGC tracers\n",
    "- `ROMS_MARBL_bgc_dia.20120103120000.nc` contains 343 BGC diagnostics\n",
    "- `ROMS_MARBL_his.201201??120000.nc` contains ocean physics variables\n",
    "- `ROMS_MARBL_rst.201201??120000.nc` are restart files"
   ]
  },
  {
   "cell_type": "code",
   "execution_count": 26,
   "id": "dde01e3d-352c-40b7-91f6-a9bbb38a859c",
   "metadata": {},
   "outputs": [
    {
     "name": "stdout",
     "output_type": "stream",
     "text": [
      "\u001b[34mPARTITIONED\u001b[m\u001b[m/                          ROMS_MARBL_his.20120130120000.nc\n",
      "ROMS_MARBL_bgc.20120103120000.nc      ROMS_MARBL_his.20120131120000.nc\n",
      "ROMS_MARBL_bgc_dia.20120103120000.nc  ROMS_MARBL_rst.20120104120000.nc\n",
      "ROMS_MARBL_his.20120103120000.nc      ROMS_MARBL_rst.20120105120000.nc\n",
      "ROMS_MARBL_his.20120104120000.nc      ROMS_MARBL_rst.20120106120000.nc\n",
      "ROMS_MARBL_his.20120105120000.nc      ROMS_MARBL_rst.20120107120000.nc\n",
      "ROMS_MARBL_his.20120106120000.nc      ROMS_MARBL_rst.20120108120000.nc\n",
      "ROMS_MARBL_his.20120107120000.nc      ROMS_MARBL_rst.20120109120000.nc\n",
      "ROMS_MARBL_his.20120108120000.nc      ROMS_MARBL_rst.20120110120000.nc\n",
      "ROMS_MARBL_his.20120109120000.nc      ROMS_MARBL_rst.20120111120000.nc\n",
      "ROMS_MARBL_his.20120110120000.nc      ROMS_MARBL_rst.20120112120000.nc\n",
      "ROMS_MARBL_his.20120111120000.nc      ROMS_MARBL_rst.20120113120000.nc\n",
      "ROMS_MARBL_his.20120112120000.nc      ROMS_MARBL_rst.20120114120000.nc\n",
      "ROMS_MARBL_his.20120113120000.nc      ROMS_MARBL_rst.20120115120000.nc\n",
      "ROMS_MARBL_his.20120114120000.nc      ROMS_MARBL_rst.20120116120000.nc\n",
      "ROMS_MARBL_his.20120115120000.nc      ROMS_MARBL_rst.20120117120000.nc\n",
      "ROMS_MARBL_his.20120116120000.nc      ROMS_MARBL_rst.20120118120000.nc\n",
      "ROMS_MARBL_his.20120117120000.nc      ROMS_MARBL_rst.20120119120000.nc\n",
      "ROMS_MARBL_his.20120118120000.nc      ROMS_MARBL_rst.20120120120000.nc\n",
      "ROMS_MARBL_his.20120119120000.nc      ROMS_MARBL_rst.20120121120000.nc\n",
      "ROMS_MARBL_his.20120120120000.nc      ROMS_MARBL_rst.20120122120000.nc\n",
      "ROMS_MARBL_his.20120121120000.nc      ROMS_MARBL_rst.20120123120000.nc\n",
      "ROMS_MARBL_his.20120122120000.nc      ROMS_MARBL_rst.20120124120000.nc\n",
      "ROMS_MARBL_his.20120123120000.nc      ROMS_MARBL_rst.20120125120000.nc\n",
      "ROMS_MARBL_his.20120124120000.nc      ROMS_MARBL_rst.20120126120000.nc\n",
      "ROMS_MARBL_his.20120125120000.nc      ROMS_MARBL_rst.20120127120000.nc\n",
      "ROMS_MARBL_his.20120126120000.nc      ROMS_MARBL_rst.20120128120000.nc\n",
      "ROMS_MARBL_his.20120127120000.nc      ROMS_MARBL_rst.20120129120000.nc\n",
      "ROMS_MARBL_his.20120128120000.nc      ROMS_MARBL_rst.20120130120000.nc\n",
      "ROMS_MARBL_his.20120129120000.nc      ROMS_MARBL_rst.20120131120000.nc\n"
     ]
    }
   ],
   "source": [
    "ls {roms_marbl_case.caseroot}/output/"
   ]
  },
  {
   "cell_type": "code",
   "execution_count": 26,
   "id": "d28e94db-0722-4b63-9c82-91ff3c5d289a",
   "metadata": {},
   "outputs": [],
   "source": [
    "import numpy as np\n",
    "import xarray as xr"
   ]
  },
  {
   "cell_type": "code",
   "execution_count": 27,
   "id": "39ace729-e553-412c-a0b6-4a50a86e5ae7",
   "metadata": {},
   "outputs": [],
   "source": [
    "BGC_DS = xr.open_dataset(roms_marbl_case.caseroot + '/output/ROMS_MARBL_bgc.20120103120000.nc')\n",
    "var = 'DOC'\n",
    "BGC_DA = BGC_DS[var].isel(s_rho=99)"
   ]
  },
  {
   "cell_type": "code",
   "execution_count": 28,
   "id": "6e52ba38-986d-4943-8301-33e0a682ca23",
   "metadata": {},
   "outputs": [
    {
     "data": {
      "image/png": "[encoded data removed]",
      "text/plain": [
       "<Figure size 1200x600 with 5 Axes>"
      ]
     },
     "metadata": {},
     "output_type": "display_data"
    }
   ],
   "source": [
    "%matplotlib inline\n",
    "import matplotlib.pyplot as plt\n",
    "from matplotlib.gridspec import GridSpec\n",
    "\n",
    "fig = plt.figure()\n",
    "CMAP = plt.colormaps['Spectral_r'].__copy__()\n",
    "CMAP.set_under('k')\n",
    "\n",
    "gs = GridSpec(3, 2, figure=fig, hspace=0.5)\n",
    "ax1 = fig.add_subplot(gs[0, :])\n",
    "\n",
    "ax2 = fig.add_subplot(gs[1:, 0])\n",
    "ax3 = fig.add_subplot(gs[1:, 1])\n",
    "\n",
    "VMIN = np.min(BGC_DA.values[BGC_DA.values > 0])\n",
    "VMAX = np.max(BGC_DA.values[BGC_DA.values > 0])\n",
    "\n",
    "p2 = ax2.pcolormesh(BGC_DA.isel(time=0).values, vmin=VMIN, vmax=VMAX, cmap=CMAP)\n",
    "p3 = ax3.pcolormesh(BGC_DA.isel(time=-1).values, vmin=VMIN, vmax=VMAX, cmap=CMAP)\n",
    "[a.set_xticks([]) for a in [ax2, ax3]]\n",
    "[a.set_yticks([]) for a in [ax2, ax3]]\n",
    "ax2.plot(10, 15, 'kx')\n",
    "ax3.plot(10, 15, 'kx')\n",
    "\n",
    "ax1.plot(3 + BGC_DA.time * 3600 * 6 / 86400, BGC_DA[:,15,10])\n",
    "ax1.set_xlim(3, 31)\n",
    "ax1.set_xlabel('Date (January)')\n",
    "#ax1.set_ylim(VMIN, VMAX)\n",
    "ax1.plot(3 + BGC_DA.time[0] * 3600 * 6 / 86400, BGC_DA[0,15,10],'kx')\n",
    "ax1.plot(3 + BGC_DA.time[-1] * 3600 * 6 / 86400, BGC_DA[-1,15,10],'kx')\n",
    "fig.colorbar(p2, ax=ax2)\n",
    "fig.colorbar(p3, ax=ax3)\n",
    "\n",
    "fig.suptitle(f'Surface {BGC_DS[var].long_name}, ({BGC_DS[var].units})')\n",
    "fig.set_size_inches(12,6)"
   ]
  },
  {
   "cell_type": "markdown",
   "id": "53e8de35-ae10-4d85-9702-74ae9f8ef3b6",
   "metadata": {},
   "source": [
    "The \"X\" in this plot highlights the point whose time series is plotted in the top panel. The lower left panel represents the first snapshot (January 3rd) and the lower right panel represents the final snapshot (January 31st)"
   ]
  }
 ],
 "metadata": {
  "kernelspec": {
   "display_name": "Python 3 (ipykernel)",
   "language": "python",
   "name": "python3"
  },
  "language_info": {
   "codemirror_mode": {
    "name": "ipython",
    "version": 3
   },
   "file_extension": ".py",
   "mimetype": "text/x-python",
   "name": "python",
   "nbconvert_exporter": "python",
   "pygments_lexer": "ipython3",
   "version": "3.10.13"
  }
 },
 "nbformat": 4,
 "nbformat_minor": 5
}
